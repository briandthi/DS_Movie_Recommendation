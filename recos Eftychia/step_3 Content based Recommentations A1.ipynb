{
 "cells": [
  {
   "cell_type": "code",
   "execution_count": 2,
   "metadata": {},
   "outputs": [],
   "source": [
    "import pandas as pd\n",
    "import matplotlib.pyplot as plt\n",
    "import seaborn as sns\n",
    "\n",
    "def read_file(nom_fichier):\n",
    "    \"\"\"\n",
    "    nom_fichier (str): path du fichier\n",
    "    exemple: read_file('./data/ratings.csv')\n",
    "    \"\"\"\n",
    "    if nom_fichier.endswith('.csv'):\n",
    "        df = pd.read_csv(nom_fichier)\n",
    "    elif nom_fichier.endswith('.tsv.gz'):\n",
    "        df = pd.read_csv(nom_fichier, compression='gzip', sep='\\t')\n",
    "    else:\n",
    "        print(\"Format de fichier non supporté.\")\n",
    "        return\n",
    "    return df\n"
   ]
  },
  {
   "cell_type": "code",
   "execution_count": 3,
   "metadata": {},
   "outputs": [],
   "source": [
    "import numpy as np"
   ]
  },
  {
   "cell_type": "code",
   "execution_count": 3,
   "metadata": {},
   "outputs": [],
   "source": [
    "#Using reduced Movie only database, as basis for our Corpus, extracted in file movies_df.csv "
   ]
  },
  {
   "cell_type": "code",
   "execution_count": 4,
   "metadata": {},
   "outputs": [],
   "source": [
    "#df_movieB = pd.read_csv(\"./data/\"movie_df.csv)\n",
    "df_movieB = pd.read_csv(\"./data/movie_df.csv\")"
   ]
  },
  {
   "cell_type": "code",
   "execution_count": 5,
   "metadata": {},
   "outputs": [
    {
     "data": {
      "application/vnd.microsoft.datawrangler.viewer.v0+json": {
       "columns": [
        {
         "name": "index",
         "rawType": "int64",
         "type": "integer"
        },
        {
         "name": "movieId",
         "rawType": "int64",
         "type": "integer"
        },
        {
         "name": "tconst",
         "rawType": "object",
         "type": "string"
        },
        {
         "name": "primaryTitle",
         "rawType": "object",
         "type": "string"
        },
        {
         "name": "originalTitle",
         "rawType": "object",
         "type": "string"
        },
        {
         "name": "startYear",
         "rawType": "int64",
         "type": "integer"
        },
        {
         "name": "runtimeMinutes",
         "rawType": "int64",
         "type": "integer"
        },
        {
         "name": "genres",
         "rawType": "object",
         "type": "string"
        },
        {
         "name": "directors",
         "rawType": "object",
         "type": "string"
        },
        {
         "name": "writers",
         "rawType": "object",
         "type": "string"
        },
        {
         "name": "averageRating",
         "rawType": "float64",
         "type": "float"
        },
        {
         "name": "numVotes",
         "rawType": "int64",
         "type": "integer"
        },
        {
         "name": "actor1",
         "rawType": "object",
         "type": "string"
        },
        {
         "name": "actor2",
         "rawType": "object",
         "type": "string"
        },
        {
         "name": "tags_list",
         "rawType": "object",
         "type": "string"
        },
        {
         "name": "runtimeCat",
         "rawType": "object",
         "type": "string"
        },
        {
         "name": "wRating",
         "rawType": "float64",
         "type": "float"
        },
        {
         "name": "original_language",
         "rawType": "object",
         "type": "string"
        },
        {
         "name": "overview",
         "rawType": "object",
         "type": "string"
        }
       ],
       "ref": "7a76a745-aad6-43e4-ad76-a07ae87c4bd6",
       "rows": [
        [
         "0",
         "1",
         "tt0114709",
         "Toy Story",
         "Toy Story",
         "1995",
         "81",
         "Adventure,Animation,Comedy",
         "nm0005124",
         "nm0005124,nm0230032,nm0004056,nm0710020,nm0923736,nm0169505,nm0812513",
         "8.3",
         "1097902",
         "nm0000158",
         "nm0000741",
         "1036,244,786,589,64,588,785,204,186,536",
         "short",
         "8.298229850198817",
         "en",
         "Led by Woody, Andy's toys live happily in his room until Andy's birthday brings Buzz Lightyear onto the scene. Afraid of losing his place in Andy's heart, Woody plots against Buzz. But when circumstances separate Buzz and Woody from their owner, the duo eventually learns to put aside their differences."
        ],
        [
         "1",
         "2",
         "tt0113497",
         "Jumanji",
         "Jumanji",
         "1995",
         "104",
         "Adventure,Comedy,Family",
         "nm0002653",
         "nm0378144,nm0852430,nm0833164,nm0885575",
         "7.1",
         "387736",
         "nm0000245",
         "nm0000379",
         "29,584,204,588,951,377,62,415,203,374",
         "average",
         "7.098082963356055",
         "en",
         "When siblings Judy and Peter discover an enchanted board game that opens the door to a magical world, they unwittingly invite Alan -- an adult who's been trapped inside the game for 26 years -- into their living room. Alan's only hope for freedom is to finish the game, which proves risky as all three find themselves running from giant rhinoceroses, evil monkeys and other terrifying creatures."
        ],
        [
         "2",
         "3",
         "tt0113228",
         "Grumpier Old Men",
         "Grumpier Old Men",
         "1995",
         "101",
         "Comedy,Romance",
         "nm0222043",
         "nm0425756",
         "6.7",
         "30240",
         "nm0000527",
         "nm0000493",
         "451,901,902,230,742,264,299,464,863,397",
         "average",
         "6.688949386785522",
         "en",
         "A family wedding reignites the ancient feud between next-door neighbors and fishing buddies John and Max. Meanwhile, a sultry Italian divorcée opens a restaurant at the local bait shop, alarming the locals who worry she'll scare the fish away. But she's less interested in seafood than she is in cooking up a hot time with Max."
        ],
        [
         "3",
         "4",
         "tt0114885",
         "Waiting to Exhale",
         "Waiting to Exhale",
         "1995",
         "124",
         "Comedy,Drama,Romance",
         "nm0001845",
         "nm0573334,nm0060103",
         "6.0",
         "12579",
         "nm0001365",
         "nm0000291",
         "1116,201,439,864,1062,742,846,1003,388,967",
         "average",
         "6.026127022842603",
         "en",
         "Cheated on, mistreated and stepped on, the women are holding their breath, waiting for the elusive \"good man\" to break a string of less-than-stellar lovers. Friends and confidants Vannah, Bernie, Glo and Robin talk it all out, determined to find a better way to breathe."
        ],
        [
         "4",
         "5",
         "tt0113041",
         "Father of the Bride Part II",
         "Father of the Bride Part II",
         "1995",
         "106",
         "Comedy,Family,Romance",
         "nm0796124",
         "nm0352443,nm0329304,nm0583600,nm0796124",
         "6.1",
         "42542",
         "nm0000188",
         "nm0000473",
         "451,383,902,901,230,808,374,1102,768,417",
         "average",
         "6.105851335335532",
         "en",
         "Just when George Banks has recovered from his daughter's wedding, he receives the news that she's pregnant ... and that George's wife, Nina, is expecting too. He was planning on selling their home, but that's a plan that -- like George -- will have to change with the arrival of both a grandchild and a kid of his own."
        ]
       ],
       "shape": {
        "columns": 18,
        "rows": 5
       }
      },
      "text/html": [
       "<div>\n",
       "<style scoped>\n",
       "    .dataframe tbody tr th:only-of-type {\n",
       "        vertical-align: middle;\n",
       "    }\n",
       "\n",
       "    .dataframe tbody tr th {\n",
       "        vertical-align: top;\n",
       "    }\n",
       "\n",
       "    .dataframe thead th {\n",
       "        text-align: right;\n",
       "    }\n",
       "</style>\n",
       "<table border=\"1\" class=\"dataframe\">\n",
       "  <thead>\n",
       "    <tr style=\"text-align: right;\">\n",
       "      <th></th>\n",
       "      <th>movieId</th>\n",
       "      <th>tconst</th>\n",
       "      <th>primaryTitle</th>\n",
       "      <th>originalTitle</th>\n",
       "      <th>startYear</th>\n",
       "      <th>runtimeMinutes</th>\n",
       "      <th>genres</th>\n",
       "      <th>directors</th>\n",
       "      <th>writers</th>\n",
       "      <th>averageRating</th>\n",
       "      <th>numVotes</th>\n",
       "      <th>actor1</th>\n",
       "      <th>actor2</th>\n",
       "      <th>tags_list</th>\n",
       "      <th>runtimeCat</th>\n",
       "      <th>wRating</th>\n",
       "      <th>original_language</th>\n",
       "      <th>overview</th>\n",
       "    </tr>\n",
       "  </thead>\n",
       "  <tbody>\n",
       "    <tr>\n",
       "      <th>0</th>\n",
       "      <td>1</td>\n",
       "      <td>tt0114709</td>\n",
       "      <td>Toy Story</td>\n",
       "      <td>Toy Story</td>\n",
       "      <td>1995</td>\n",
       "      <td>81</td>\n",
       "      <td>Adventure,Animation,Comedy</td>\n",
       "      <td>nm0005124</td>\n",
       "      <td>nm0005124,nm0230032,nm0004056,nm0710020,nm0923...</td>\n",
       "      <td>8.3</td>\n",
       "      <td>1097902</td>\n",
       "      <td>nm0000158</td>\n",
       "      <td>nm0000741</td>\n",
       "      <td>1036,244,786,589,64,588,785,204,186,536</td>\n",
       "      <td>short</td>\n",
       "      <td>8.298230</td>\n",
       "      <td>en</td>\n",
       "      <td>Led by Woody, Andy's toys live happily in his ...</td>\n",
       "    </tr>\n",
       "    <tr>\n",
       "      <th>1</th>\n",
       "      <td>2</td>\n",
       "      <td>tt0113497</td>\n",
       "      <td>Jumanji</td>\n",
       "      <td>Jumanji</td>\n",
       "      <td>1995</td>\n",
       "      <td>104</td>\n",
       "      <td>Adventure,Comedy,Family</td>\n",
       "      <td>nm0002653</td>\n",
       "      <td>nm0378144,nm0852430,nm0833164,nm0885575</td>\n",
       "      <td>7.1</td>\n",
       "      <td>387736</td>\n",
       "      <td>nm0000245</td>\n",
       "      <td>nm0000379</td>\n",
       "      <td>29,584,204,588,951,377,62,415,203,374</td>\n",
       "      <td>average</td>\n",
       "      <td>7.098083</td>\n",
       "      <td>en</td>\n",
       "      <td>When siblings Judy and Peter discover an encha...</td>\n",
       "    </tr>\n",
       "    <tr>\n",
       "      <th>2</th>\n",
       "      <td>3</td>\n",
       "      <td>tt0113228</td>\n",
       "      <td>Grumpier Old Men</td>\n",
       "      <td>Grumpier Old Men</td>\n",
       "      <td>1995</td>\n",
       "      <td>101</td>\n",
       "      <td>Comedy,Romance</td>\n",
       "      <td>nm0222043</td>\n",
       "      <td>nm0425756</td>\n",
       "      <td>6.7</td>\n",
       "      <td>30240</td>\n",
       "      <td>nm0000527</td>\n",
       "      <td>nm0000493</td>\n",
       "      <td>451,901,902,230,742,264,299,464,863,397</td>\n",
       "      <td>average</td>\n",
       "      <td>6.688949</td>\n",
       "      <td>en</td>\n",
       "      <td>A family wedding reignites the ancient feud be...</td>\n",
       "    </tr>\n",
       "    <tr>\n",
       "      <th>3</th>\n",
       "      <td>4</td>\n",
       "      <td>tt0114885</td>\n",
       "      <td>Waiting to Exhale</td>\n",
       "      <td>Waiting to Exhale</td>\n",
       "      <td>1995</td>\n",
       "      <td>124</td>\n",
       "      <td>Comedy,Drama,Romance</td>\n",
       "      <td>nm0001845</td>\n",
       "      <td>nm0573334,nm0060103</td>\n",
       "      <td>6.0</td>\n",
       "      <td>12579</td>\n",
       "      <td>nm0001365</td>\n",
       "      <td>nm0000291</td>\n",
       "      <td>1116,201,439,864,1062,742,846,1003,388,967</td>\n",
       "      <td>average</td>\n",
       "      <td>6.026127</td>\n",
       "      <td>en</td>\n",
       "      <td>Cheated on, mistreated and stepped on, the wom...</td>\n",
       "    </tr>\n",
       "    <tr>\n",
       "      <th>4</th>\n",
       "      <td>5</td>\n",
       "      <td>tt0113041</td>\n",
       "      <td>Father of the Bride Part II</td>\n",
       "      <td>Father of the Bride Part II</td>\n",
       "      <td>1995</td>\n",
       "      <td>106</td>\n",
       "      <td>Comedy,Family,Romance</td>\n",
       "      <td>nm0796124</td>\n",
       "      <td>nm0352443,nm0329304,nm0583600,nm0796124</td>\n",
       "      <td>6.1</td>\n",
       "      <td>42542</td>\n",
       "      <td>nm0000188</td>\n",
       "      <td>nm0000473</td>\n",
       "      <td>451,383,902,901,230,808,374,1102,768,417</td>\n",
       "      <td>average</td>\n",
       "      <td>6.105851</td>\n",
       "      <td>en</td>\n",
       "      <td>Just when George Banks has recovered from his ...</td>\n",
       "    </tr>\n",
       "  </tbody>\n",
       "</table>\n",
       "</div>"
      ],
      "text/plain": [
       "   movieId     tconst                 primaryTitle  \\\n",
       "0        1  tt0114709                    Toy Story   \n",
       "1        2  tt0113497                      Jumanji   \n",
       "2        3  tt0113228             Grumpier Old Men   \n",
       "3        4  tt0114885            Waiting to Exhale   \n",
       "4        5  tt0113041  Father of the Bride Part II   \n",
       "\n",
       "                 originalTitle  startYear  runtimeMinutes  \\\n",
       "0                    Toy Story       1995              81   \n",
       "1                      Jumanji       1995             104   \n",
       "2             Grumpier Old Men       1995             101   \n",
       "3            Waiting to Exhale       1995             124   \n",
       "4  Father of the Bride Part II       1995             106   \n",
       "\n",
       "                       genres  directors  \\\n",
       "0  Adventure,Animation,Comedy  nm0005124   \n",
       "1     Adventure,Comedy,Family  nm0002653   \n",
       "2              Comedy,Romance  nm0222043   \n",
       "3        Comedy,Drama,Romance  nm0001845   \n",
       "4       Comedy,Family,Romance  nm0796124   \n",
       "\n",
       "                                             writers  averageRating  numVotes  \\\n",
       "0  nm0005124,nm0230032,nm0004056,nm0710020,nm0923...            8.3   1097902   \n",
       "1            nm0378144,nm0852430,nm0833164,nm0885575            7.1    387736   \n",
       "2                                          nm0425756            6.7     30240   \n",
       "3                                nm0573334,nm0060103            6.0     12579   \n",
       "4            nm0352443,nm0329304,nm0583600,nm0796124            6.1     42542   \n",
       "\n",
       "      actor1     actor2                                   tags_list  \\\n",
       "0  nm0000158  nm0000741     1036,244,786,589,64,588,785,204,186,536   \n",
       "1  nm0000245  nm0000379       29,584,204,588,951,377,62,415,203,374   \n",
       "2  nm0000527  nm0000493     451,901,902,230,742,264,299,464,863,397   \n",
       "3  nm0001365  nm0000291  1116,201,439,864,1062,742,846,1003,388,967   \n",
       "4  nm0000188  nm0000473    451,383,902,901,230,808,374,1102,768,417   \n",
       "\n",
       "  runtimeCat   wRating original_language  \\\n",
       "0      short  8.298230                en   \n",
       "1    average  7.098083                en   \n",
       "2    average  6.688949                en   \n",
       "3    average  6.026127                en   \n",
       "4    average  6.105851                en   \n",
       "\n",
       "                                            overview  \n",
       "0  Led by Woody, Andy's toys live happily in his ...  \n",
       "1  When siblings Judy and Peter discover an encha...  \n",
       "2  A family wedding reignites the ancient feud be...  \n",
       "3  Cheated on, mistreated and stepped on, the wom...  \n",
       "4  Just when George Banks has recovered from his ...  "
      ]
     },
     "execution_count": 5,
     "metadata": {},
     "output_type": "execute_result"
    }
   ],
   "source": [
    "df_movieB.head()"
   ]
  },
  {
   "cell_type": "code",
   "execution_count": 6,
   "metadata": {},
   "outputs": [],
   "source": [
    "#la colonne movieId est  extraire de MovieLens\n",
    "#la colonne tconst est le imdbId"
   ]
  },
  {
   "cell_type": "code",
   "execution_count": 7,
   "metadata": {},
   "outputs": [],
   "source": [
    "# 1 start with context based filtering based on genre descriptions as provided by IMBD in column genres in movie_df.csv"
   ]
  },
  {
   "cell_type": "code",
   "execution_count": 6,
   "metadata": {},
   "outputs": [],
   "source": [
    "from sklearn.preprocessing import MultiLabelBinarizer"
   ]
  },
  {
   "cell_type": "code",
   "execution_count": 7,
   "metadata": {},
   "outputs": [],
   "source": [
    "# Convert genres to list\n",
    "df_movieB['genres_list'] = df_movieB['genres'].str.split(',')"
   ]
  },
  {
   "cell_type": "code",
   "execution_count": 8,
   "metadata": {},
   "outputs": [],
   "source": [
    "# Create and fit MultiLabelBinarizer\n",
    "mlb = MultiLabelBinarizer()\n",
    "genres_encoded = pd.DataFrame(\n",
    "    mlb.fit_transform(df_movieB['genres_list']),\n",
    "    columns=mlb.classes_,\n",
    "    index=df_movieB.index\n",
    ")"
   ]
  },
  {
   "cell_type": "code",
   "execution_count": 9,
   "metadata": {},
   "outputs": [],
   "source": [
    "# Combine with original dataframe\n",
    "df_movieB = pd.concat([df_movieB, genres_encoded], axis=1)"
   ]
  },
  {
   "cell_type": "code",
   "execution_count": 10,
   "metadata": {},
   "outputs": [
    {
     "data": {
      "application/vnd.microsoft.datawrangler.viewer.v0+json": {
       "columns": [
        {
         "name": "index",
         "rawType": "int64",
         "type": "integer"
        },
        {
         "name": "movieId",
         "rawType": "int64",
         "type": "integer"
        },
        {
         "name": "tconst",
         "rawType": "object",
         "type": "string"
        },
        {
         "name": "primaryTitle",
         "rawType": "object",
         "type": "string"
        },
        {
         "name": "originalTitle",
         "rawType": "object",
         "type": "string"
        },
        {
         "name": "startYear",
         "rawType": "int64",
         "type": "integer"
        },
        {
         "name": "runtimeMinutes",
         "rawType": "int64",
         "type": "integer"
        },
        {
         "name": "genres",
         "rawType": "object",
         "type": "string"
        },
        {
         "name": "directors",
         "rawType": "object",
         "type": "string"
        },
        {
         "name": "writers",
         "rawType": "object",
         "type": "string"
        },
        {
         "name": "averageRating",
         "rawType": "float64",
         "type": "float"
        },
        {
         "name": "numVotes",
         "rawType": "int64",
         "type": "integer"
        },
        {
         "name": "actor1",
         "rawType": "object",
         "type": "string"
        },
        {
         "name": "actor2",
         "rawType": "object",
         "type": "string"
        },
        {
         "name": "tags_list",
         "rawType": "object",
         "type": "string"
        },
        {
         "name": "runtimeCat",
         "rawType": "object",
         "type": "string"
        },
        {
         "name": "wRating",
         "rawType": "float64",
         "type": "float"
        },
        {
         "name": "original_language",
         "rawType": "object",
         "type": "string"
        },
        {
         "name": "overview",
         "rawType": "object",
         "type": "string"
        },
        {
         "name": "genres_list",
         "rawType": "object",
         "type": "unknown"
        },
        {
         "name": "Action",
         "rawType": "int64",
         "type": "integer"
        },
        {
         "name": "Adult",
         "rawType": "int64",
         "type": "integer"
        },
        {
         "name": "Adventure",
         "rawType": "int64",
         "type": "integer"
        },
        {
         "name": "Animation",
         "rawType": "int64",
         "type": "integer"
        },
        {
         "name": "Biography",
         "rawType": "int64",
         "type": "integer"
        },
        {
         "name": "Comedy",
         "rawType": "int64",
         "type": "integer"
        },
        {
         "name": "Crime",
         "rawType": "int64",
         "type": "integer"
        },
        {
         "name": "Documentary",
         "rawType": "int64",
         "type": "integer"
        },
        {
         "name": "Drama",
         "rawType": "int64",
         "type": "integer"
        },
        {
         "name": "Family",
         "rawType": "int64",
         "type": "integer"
        },
        {
         "name": "Fantasy",
         "rawType": "int64",
         "type": "integer"
        },
        {
         "name": "Film-Noir",
         "rawType": "int64",
         "type": "integer"
        },
        {
         "name": "History",
         "rawType": "int64",
         "type": "integer"
        },
        {
         "name": "Horror",
         "rawType": "int64",
         "type": "integer"
        },
        {
         "name": "Music",
         "rawType": "int64",
         "type": "integer"
        },
        {
         "name": "Musical",
         "rawType": "int64",
         "type": "integer"
        },
        {
         "name": "Mystery",
         "rawType": "int64",
         "type": "integer"
        },
        {
         "name": "News",
         "rawType": "int64",
         "type": "integer"
        },
        {
         "name": "Romance",
         "rawType": "int64",
         "type": "integer"
        },
        {
         "name": "Sci-Fi",
         "rawType": "int64",
         "type": "integer"
        },
        {
         "name": "Sport",
         "rawType": "int64",
         "type": "integer"
        },
        {
         "name": "Thriller",
         "rawType": "int64",
         "type": "integer"
        },
        {
         "name": "War",
         "rawType": "int64",
         "type": "integer"
        },
        {
         "name": "Western",
         "rawType": "int64",
         "type": "integer"
        },
        {
         "name": "\\N",
         "rawType": "int64",
         "type": "integer"
        }
       ],
       "ref": "2e1b7552-8f1d-4d04-96a6-1fbcc5f9afe8",
       "rows": [
        [
         "0",
         "1",
         "tt0114709",
         "Toy Story",
         "Toy Story",
         "1995",
         "81",
         "Adventure,Animation,Comedy",
         "nm0005124",
         "nm0005124,nm0230032,nm0004056,nm0710020,nm0923736,nm0169505,nm0812513",
         "8.3",
         "1097902",
         "nm0000158",
         "nm0000741",
         "1036,244,786,589,64,588,785,204,186,536",
         "short",
         "8.298229850198817",
         "en",
         "Led by Woody, Andy's toys live happily in his room until Andy's birthday brings Buzz Lightyear onto the scene. Afraid of losing his place in Andy's heart, Woody plots against Buzz. But when circumstances separate Buzz and Woody from their owner, the duo eventually learns to put aside their differences.",
         "['Adventure', 'Animation', 'Comedy']",
         "0",
         "0",
         "1",
         "1",
         "0",
         "1",
         "0",
         "0",
         "0",
         "0",
         "0",
         "0",
         "0",
         "0",
         "0",
         "0",
         "0",
         "0",
         "0",
         "0",
         "0",
         "0",
         "0",
         "0",
         "0"
        ],
        [
         "1",
         "2",
         "tt0113497",
         "Jumanji",
         "Jumanji",
         "1995",
         "104",
         "Adventure,Comedy,Family",
         "nm0002653",
         "nm0378144,nm0852430,nm0833164,nm0885575",
         "7.1",
         "387736",
         "nm0000245",
         "nm0000379",
         "29,584,204,588,951,377,62,415,203,374",
         "average",
         "7.098082963356055",
         "en",
         "When siblings Judy and Peter discover an enchanted board game that opens the door to a magical world, they unwittingly invite Alan -- an adult who's been trapped inside the game for 26 years -- into their living room. Alan's only hope for freedom is to finish the game, which proves risky as all three find themselves running from giant rhinoceroses, evil monkeys and other terrifying creatures.",
         "['Adventure', 'Comedy', 'Family']",
         "0",
         "0",
         "1",
         "0",
         "0",
         "1",
         "0",
         "0",
         "0",
         "1",
         "0",
         "0",
         "0",
         "0",
         "0",
         "0",
         "0",
         "0",
         "0",
         "0",
         "0",
         "0",
         "0",
         "0",
         "0"
        ],
        [
         "2",
         "3",
         "tt0113228",
         "Grumpier Old Men",
         "Grumpier Old Men",
         "1995",
         "101",
         "Comedy,Romance",
         "nm0222043",
         "nm0425756",
         "6.7",
         "30240",
         "nm0000527",
         "nm0000493",
         "451,901,902,230,742,264,299,464,863,397",
         "average",
         "6.688949386785522",
         "en",
         "A family wedding reignites the ancient feud between next-door neighbors and fishing buddies John and Max. Meanwhile, a sultry Italian divorcée opens a restaurant at the local bait shop, alarming the locals who worry she'll scare the fish away. But she's less interested in seafood than she is in cooking up a hot time with Max.",
         "['Comedy', 'Romance']",
         "0",
         "0",
         "0",
         "0",
         "0",
         "1",
         "0",
         "0",
         "0",
         "0",
         "0",
         "0",
         "0",
         "0",
         "0",
         "0",
         "0",
         "0",
         "1",
         "0",
         "0",
         "0",
         "0",
         "0",
         "0"
        ],
        [
         "3",
         "4",
         "tt0114885",
         "Waiting to Exhale",
         "Waiting to Exhale",
         "1995",
         "124",
         "Comedy,Drama,Romance",
         "nm0001845",
         "nm0573334,nm0060103",
         "6.0",
         "12579",
         "nm0001365",
         "nm0000291",
         "1116,201,439,864,1062,742,846,1003,388,967",
         "average",
         "6.026127022842603",
         "en",
         "Cheated on, mistreated and stepped on, the women are holding their breath, waiting for the elusive \"good man\" to break a string of less-than-stellar lovers. Friends and confidants Vannah, Bernie, Glo and Robin talk it all out, determined to find a better way to breathe.",
         "['Comedy', 'Drama', 'Romance']",
         "0",
         "0",
         "0",
         "0",
         "0",
         "1",
         "0",
         "0",
         "1",
         "0",
         "0",
         "0",
         "0",
         "0",
         "0",
         "0",
         "0",
         "0",
         "1",
         "0",
         "0",
         "0",
         "0",
         "0",
         "0"
        ],
        [
         "4",
         "5",
         "tt0113041",
         "Father of the Bride Part II",
         "Father of the Bride Part II",
         "1995",
         "106",
         "Comedy,Family,Romance",
         "nm0796124",
         "nm0352443,nm0329304,nm0583600,nm0796124",
         "6.1",
         "42542",
         "nm0000188",
         "nm0000473",
         "451,383,902,901,230,808,374,1102,768,417",
         "average",
         "6.105851335335532",
         "en",
         "Just when George Banks has recovered from his daughter's wedding, he receives the news that she's pregnant ... and that George's wife, Nina, is expecting too. He was planning on selling their home, but that's a plan that -- like George -- will have to change with the arrival of both a grandchild and a kid of his own.",
         "['Comedy', 'Family', 'Romance']",
         "0",
         "0",
         "0",
         "0",
         "0",
         "1",
         "0",
         "0",
         "0",
         "1",
         "0",
         "0",
         "0",
         "0",
         "0",
         "0",
         "0",
         "0",
         "1",
         "0",
         "0",
         "0",
         "0",
         "0",
         "0"
        ]
       ],
       "shape": {
        "columns": 44,
        "rows": 5
       }
      },
      "text/html": [
       "<div>\n",
       "<style scoped>\n",
       "    .dataframe tbody tr th:only-of-type {\n",
       "        vertical-align: middle;\n",
       "    }\n",
       "\n",
       "    .dataframe tbody tr th {\n",
       "        vertical-align: top;\n",
       "    }\n",
       "\n",
       "    .dataframe thead th {\n",
       "        text-align: right;\n",
       "    }\n",
       "</style>\n",
       "<table border=\"1\" class=\"dataframe\">\n",
       "  <thead>\n",
       "    <tr style=\"text-align: right;\">\n",
       "      <th></th>\n",
       "      <th>movieId</th>\n",
       "      <th>tconst</th>\n",
       "      <th>primaryTitle</th>\n",
       "      <th>originalTitle</th>\n",
       "      <th>startYear</th>\n",
       "      <th>runtimeMinutes</th>\n",
       "      <th>genres</th>\n",
       "      <th>directors</th>\n",
       "      <th>writers</th>\n",
       "      <th>averageRating</th>\n",
       "      <th>...</th>\n",
       "      <th>Musical</th>\n",
       "      <th>Mystery</th>\n",
       "      <th>News</th>\n",
       "      <th>Romance</th>\n",
       "      <th>Sci-Fi</th>\n",
       "      <th>Sport</th>\n",
       "      <th>Thriller</th>\n",
       "      <th>War</th>\n",
       "      <th>Western</th>\n",
       "      <th>\\N</th>\n",
       "    </tr>\n",
       "  </thead>\n",
       "  <tbody>\n",
       "    <tr>\n",
       "      <th>0</th>\n",
       "      <td>1</td>\n",
       "      <td>tt0114709</td>\n",
       "      <td>Toy Story</td>\n",
       "      <td>Toy Story</td>\n",
       "      <td>1995</td>\n",
       "      <td>81</td>\n",
       "      <td>Adventure,Animation,Comedy</td>\n",
       "      <td>nm0005124</td>\n",
       "      <td>nm0005124,nm0230032,nm0004056,nm0710020,nm0923...</td>\n",
       "      <td>8.3</td>\n",
       "      <td>...</td>\n",
       "      <td>0</td>\n",
       "      <td>0</td>\n",
       "      <td>0</td>\n",
       "      <td>0</td>\n",
       "      <td>0</td>\n",
       "      <td>0</td>\n",
       "      <td>0</td>\n",
       "      <td>0</td>\n",
       "      <td>0</td>\n",
       "      <td>0</td>\n",
       "    </tr>\n",
       "    <tr>\n",
       "      <th>1</th>\n",
       "      <td>2</td>\n",
       "      <td>tt0113497</td>\n",
       "      <td>Jumanji</td>\n",
       "      <td>Jumanji</td>\n",
       "      <td>1995</td>\n",
       "      <td>104</td>\n",
       "      <td>Adventure,Comedy,Family</td>\n",
       "      <td>nm0002653</td>\n",
       "      <td>nm0378144,nm0852430,nm0833164,nm0885575</td>\n",
       "      <td>7.1</td>\n",
       "      <td>...</td>\n",
       "      <td>0</td>\n",
       "      <td>0</td>\n",
       "      <td>0</td>\n",
       "      <td>0</td>\n",
       "      <td>0</td>\n",
       "      <td>0</td>\n",
       "      <td>0</td>\n",
       "      <td>0</td>\n",
       "      <td>0</td>\n",
       "      <td>0</td>\n",
       "    </tr>\n",
       "    <tr>\n",
       "      <th>2</th>\n",
       "      <td>3</td>\n",
       "      <td>tt0113228</td>\n",
       "      <td>Grumpier Old Men</td>\n",
       "      <td>Grumpier Old Men</td>\n",
       "      <td>1995</td>\n",
       "      <td>101</td>\n",
       "      <td>Comedy,Romance</td>\n",
       "      <td>nm0222043</td>\n",
       "      <td>nm0425756</td>\n",
       "      <td>6.7</td>\n",
       "      <td>...</td>\n",
       "      <td>0</td>\n",
       "      <td>0</td>\n",
       "      <td>0</td>\n",
       "      <td>1</td>\n",
       "      <td>0</td>\n",
       "      <td>0</td>\n",
       "      <td>0</td>\n",
       "      <td>0</td>\n",
       "      <td>0</td>\n",
       "      <td>0</td>\n",
       "    </tr>\n",
       "    <tr>\n",
       "      <th>3</th>\n",
       "      <td>4</td>\n",
       "      <td>tt0114885</td>\n",
       "      <td>Waiting to Exhale</td>\n",
       "      <td>Waiting to Exhale</td>\n",
       "      <td>1995</td>\n",
       "      <td>124</td>\n",
       "      <td>Comedy,Drama,Romance</td>\n",
       "      <td>nm0001845</td>\n",
       "      <td>nm0573334,nm0060103</td>\n",
       "      <td>6.0</td>\n",
       "      <td>...</td>\n",
       "      <td>0</td>\n",
       "      <td>0</td>\n",
       "      <td>0</td>\n",
       "      <td>1</td>\n",
       "      <td>0</td>\n",
       "      <td>0</td>\n",
       "      <td>0</td>\n",
       "      <td>0</td>\n",
       "      <td>0</td>\n",
       "      <td>0</td>\n",
       "    </tr>\n",
       "    <tr>\n",
       "      <th>4</th>\n",
       "      <td>5</td>\n",
       "      <td>tt0113041</td>\n",
       "      <td>Father of the Bride Part II</td>\n",
       "      <td>Father of the Bride Part II</td>\n",
       "      <td>1995</td>\n",
       "      <td>106</td>\n",
       "      <td>Comedy,Family,Romance</td>\n",
       "      <td>nm0796124</td>\n",
       "      <td>nm0352443,nm0329304,nm0583600,nm0796124</td>\n",
       "      <td>6.1</td>\n",
       "      <td>...</td>\n",
       "      <td>0</td>\n",
       "      <td>0</td>\n",
       "      <td>0</td>\n",
       "      <td>1</td>\n",
       "      <td>0</td>\n",
       "      <td>0</td>\n",
       "      <td>0</td>\n",
       "      <td>0</td>\n",
       "      <td>0</td>\n",
       "      <td>0</td>\n",
       "    </tr>\n",
       "  </tbody>\n",
       "</table>\n",
       "<p>5 rows × 44 columns</p>\n",
       "</div>"
      ],
      "text/plain": [
       "   movieId     tconst                 primaryTitle  \\\n",
       "0        1  tt0114709                    Toy Story   \n",
       "1        2  tt0113497                      Jumanji   \n",
       "2        3  tt0113228             Grumpier Old Men   \n",
       "3        4  tt0114885            Waiting to Exhale   \n",
       "4        5  tt0113041  Father of the Bride Part II   \n",
       "\n",
       "                 originalTitle  startYear  runtimeMinutes  \\\n",
       "0                    Toy Story       1995              81   \n",
       "1                      Jumanji       1995             104   \n",
       "2             Grumpier Old Men       1995             101   \n",
       "3            Waiting to Exhale       1995             124   \n",
       "4  Father of the Bride Part II       1995             106   \n",
       "\n",
       "                       genres  directors  \\\n",
       "0  Adventure,Animation,Comedy  nm0005124   \n",
       "1     Adventure,Comedy,Family  nm0002653   \n",
       "2              Comedy,Romance  nm0222043   \n",
       "3        Comedy,Drama,Romance  nm0001845   \n",
       "4       Comedy,Family,Romance  nm0796124   \n",
       "\n",
       "                                             writers  averageRating  ...  \\\n",
       "0  nm0005124,nm0230032,nm0004056,nm0710020,nm0923...            8.3  ...   \n",
       "1            nm0378144,nm0852430,nm0833164,nm0885575            7.1  ...   \n",
       "2                                          nm0425756            6.7  ...   \n",
       "3                                nm0573334,nm0060103            6.0  ...   \n",
       "4            nm0352443,nm0329304,nm0583600,nm0796124            6.1  ...   \n",
       "\n",
       "   Musical Mystery News Romance Sci-Fi  Sport Thriller War Western  \\N  \n",
       "0        0       0    0       0      0      0        0   0       0   0  \n",
       "1        0       0    0       0      0      0        0   0       0   0  \n",
       "2        0       0    0       1      0      0        0   0       0   0  \n",
       "3        0       0    0       1      0      0        0   0       0   0  \n",
       "4        0       0    0       1      0      0        0   0       0   0  \n",
       "\n",
       "[5 rows x 44 columns]"
      ]
     },
     "execution_count": 10,
     "metadata": {},
     "output_type": "execute_result"
    }
   ],
   "source": [
    "df_movieB.head()"
   ]
  },
  {
   "cell_type": "code",
   "execution_count": 11,
   "metadata": {},
   "outputs": [],
   "source": [
    "mv_ratings = pd.read_csv(\"./data/ratings.csv\")\n",
    "#df_user_ratings = pd.read_csv(\"./data/ratings.csv\")\n",
    "#mv_ratings = pd.read_csv('ratings.csv')"
   ]
  },
  {
   "cell_type": "code",
   "execution_count": null,
   "metadata": {},
   "outputs": [],
   "source": []
  },
  {
   "cell_type": "code",
   "execution_count": null,
   "metadata": {},
   "outputs": [],
   "source": []
  },
  {
   "cell_type": "code",
   "execution_count": null,
   "metadata": {},
   "outputs": [],
   "source": []
  },
  {
   "cell_type": "code",
   "execution_count": 12,
   "metadata": {},
   "outputs": [
    {
     "data": {
      "application/vnd.microsoft.datawrangler.viewer.v0+json": {
       "columns": [
        {
         "name": "index",
         "rawType": "int64",
         "type": "integer"
        },
        {
         "name": "userId",
         "rawType": "int64",
         "type": "integer"
        },
        {
         "name": "movieId",
         "rawType": "int64",
         "type": "integer"
        },
        {
         "name": "rating",
         "rawType": "float64",
         "type": "float"
        },
        {
         "name": "timestamp",
         "rawType": "int64",
         "type": "integer"
        }
       ],
       "ref": "db095889-7470-4e01-909e-8bb0d56fa53f",
       "rows": [
        [
         "0",
         "1",
         "2",
         "3.5",
         "1112486027"
        ],
        [
         "1",
         "1",
         "29",
         "3.5",
         "1112484676"
        ],
        [
         "2",
         "1",
         "32",
         "3.5",
         "1112484819"
        ],
        [
         "3",
         "1",
         "47",
         "3.5",
         "1112484727"
        ],
        [
         "4",
         "1",
         "50",
         "3.5",
         "1112484580"
        ]
       ],
       "shape": {
        "columns": 4,
        "rows": 5
       }
      },
      "text/html": [
       "<div>\n",
       "<style scoped>\n",
       "    .dataframe tbody tr th:only-of-type {\n",
       "        vertical-align: middle;\n",
       "    }\n",
       "\n",
       "    .dataframe tbody tr th {\n",
       "        vertical-align: top;\n",
       "    }\n",
       "\n",
       "    .dataframe thead th {\n",
       "        text-align: right;\n",
       "    }\n",
       "</style>\n",
       "<table border=\"1\" class=\"dataframe\">\n",
       "  <thead>\n",
       "    <tr style=\"text-align: right;\">\n",
       "      <th></th>\n",
       "      <th>userId</th>\n",
       "      <th>movieId</th>\n",
       "      <th>rating</th>\n",
       "      <th>timestamp</th>\n",
       "    </tr>\n",
       "  </thead>\n",
       "  <tbody>\n",
       "    <tr>\n",
       "      <th>0</th>\n",
       "      <td>1</td>\n",
       "      <td>2</td>\n",
       "      <td>3.5</td>\n",
       "      <td>1112486027</td>\n",
       "    </tr>\n",
       "    <tr>\n",
       "      <th>1</th>\n",
       "      <td>1</td>\n",
       "      <td>29</td>\n",
       "      <td>3.5</td>\n",
       "      <td>1112484676</td>\n",
       "    </tr>\n",
       "    <tr>\n",
       "      <th>2</th>\n",
       "      <td>1</td>\n",
       "      <td>32</td>\n",
       "      <td>3.5</td>\n",
       "      <td>1112484819</td>\n",
       "    </tr>\n",
       "    <tr>\n",
       "      <th>3</th>\n",
       "      <td>1</td>\n",
       "      <td>47</td>\n",
       "      <td>3.5</td>\n",
       "      <td>1112484727</td>\n",
       "    </tr>\n",
       "    <tr>\n",
       "      <th>4</th>\n",
       "      <td>1</td>\n",
       "      <td>50</td>\n",
       "      <td>3.5</td>\n",
       "      <td>1112484580</td>\n",
       "    </tr>\n",
       "  </tbody>\n",
       "</table>\n",
       "</div>"
      ],
      "text/plain": [
       "   userId  movieId  rating   timestamp\n",
       "0       1        2     3.5  1112486027\n",
       "1       1       29     3.5  1112484676\n",
       "2       1       32     3.5  1112484819\n",
       "3       1       47     3.5  1112484727\n",
       "4       1       50     3.5  1112484580"
      ]
     },
     "execution_count": 12,
     "metadata": {},
     "output_type": "execute_result"
    }
   ],
   "source": [
    "mv_ratings.head()"
   ]
  },
  {
   "cell_type": "code",
   "execution_count": 13,
   "metadata": {},
   "outputs": [
    {
     "data": {
      "text/plain": [
       "138493"
      ]
     },
     "execution_count": 13,
     "metadata": {},
     "output_type": "execute_result"
    }
   ],
   "source": [
    "mv_ratings['userId'].nunique()"
   ]
  },
  {
   "cell_type": "code",
   "execution_count": 14,
   "metadata": {},
   "outputs": [],
   "source": [
    "mv_user1 = mv_ratings.loc[mv_ratings['userId']==1]"
   ]
  },
  {
   "cell_type": "code",
   "execution_count": null,
   "metadata": {},
   "outputs": [],
   "source": []
  },
  {
   "cell_type": "code",
   "execution_count": 15,
   "metadata": {},
   "outputs": [
    {
     "data": {
      "application/vnd.microsoft.datawrangler.viewer.v0+json": {
       "columns": [
        {
         "name": "index",
         "rawType": "int64",
         "type": "integer"
        },
        {
         "name": "userId",
         "rawType": "int64",
         "type": "integer"
        },
        {
         "name": "movieId",
         "rawType": "int64",
         "type": "integer"
        },
        {
         "name": "rating",
         "rawType": "float64",
         "type": "float"
        },
        {
         "name": "timestamp",
         "rawType": "int64",
         "type": "integer"
        }
       ],
       "ref": "c8f222fa-23b5-45c0-a38e-8be235694a9b",
       "rows": [
        [
         "0",
         "1",
         "2",
         "3.5",
         "1112486027"
        ],
        [
         "1",
         "1",
         "29",
         "3.5",
         "1112484676"
        ],
        [
         "2",
         "1",
         "32",
         "3.5",
         "1112484819"
        ],
        [
         "3",
         "1",
         "47",
         "3.5",
         "1112484727"
        ],
        [
         "4",
         "1",
         "50",
         "3.5",
         "1112484580"
        ],
        [
         "5",
         "1",
         "112",
         "3.5",
         "1094785740"
        ],
        [
         "6",
         "1",
         "151",
         "4.0",
         "1094785734"
        ],
        [
         "7",
         "1",
         "223",
         "4.0",
         "1112485573"
        ],
        [
         "8",
         "1",
         "253",
         "4.0",
         "1112484940"
        ],
        [
         "9",
         "1",
         "260",
         "4.0",
         "1112484826"
        ],
        [
         "10",
         "1",
         "293",
         "4.0",
         "1112484703"
        ],
        [
         "11",
         "1",
         "296",
         "4.0",
         "1112484767"
        ],
        [
         "12",
         "1",
         "318",
         "4.0",
         "1112484798"
        ],
        [
         "13",
         "1",
         "337",
         "3.5",
         "1094785709"
        ],
        [
         "14",
         "1",
         "367",
         "3.5",
         "1112485980"
        ],
        [
         "15",
         "1",
         "541",
         "4.0",
         "1112484603"
        ],
        [
         "16",
         "1",
         "589",
         "3.5",
         "1112485557"
        ],
        [
         "17",
         "1",
         "593",
         "3.5",
         "1112484661"
        ],
        [
         "18",
         "1",
         "653",
         "3.0",
         "1094785691"
        ],
        [
         "19",
         "1",
         "919",
         "3.5",
         "1094785621"
        ],
        [
         "20",
         "1",
         "924",
         "3.5",
         "1094785598"
        ],
        [
         "21",
         "1",
         "1009",
         "3.5",
         "1112486013"
        ],
        [
         "22",
         "1",
         "1036",
         "4.0",
         "1112485480"
        ],
        [
         "23",
         "1",
         "1079",
         "4.0",
         "1094785665"
        ],
        [
         "24",
         "1",
         "1080",
         "3.5",
         "1112485375"
        ],
        [
         "25",
         "1",
         "1089",
         "3.5",
         "1112484669"
        ],
        [
         "26",
         "1",
         "1090",
         "4.0",
         "1112485453"
        ],
        [
         "27",
         "1",
         "1097",
         "4.0",
         "1112485701"
        ],
        [
         "28",
         "1",
         "1136",
         "3.5",
         "1112484609"
        ],
        [
         "29",
         "1",
         "1193",
         "3.5",
         "1112484690"
        ],
        [
         "30",
         "1",
         "1196",
         "4.5",
         "1112484742"
        ],
        [
         "31",
         "1",
         "1198",
         "4.5",
         "1112484624"
        ],
        [
         "32",
         "1",
         "1200",
         "4.0",
         "1112484560"
        ],
        [
         "33",
         "1",
         "1201",
         "3.0",
         "1112484642"
        ],
        [
         "34",
         "1",
         "1208",
         "3.5",
         "1112484815"
        ],
        [
         "35",
         "1",
         "1214",
         "4.0",
         "1094785977"
        ],
        [
         "36",
         "1",
         "1215",
         "4.0",
         "1094786082"
        ],
        [
         "37",
         "1",
         "1217",
         "3.5",
         "1112484810"
        ],
        [
         "38",
         "1",
         "1219",
         "4.0",
         "1094785994"
        ],
        [
         "39",
         "1",
         "1222",
         "3.5",
         "1112484637"
        ],
        [
         "40",
         "1",
         "1240",
         "4.0",
         "1112485401"
        ],
        [
         "41",
         "1",
         "1243",
         "3.0",
         "1112485567"
        ],
        [
         "42",
         "1",
         "1246",
         "3.5",
         "1094785759"
        ],
        [
         "43",
         "1",
         "1249",
         "4.0",
         "1112485382"
        ],
        [
         "44",
         "1",
         "1258",
         "4.0",
         "1094785994"
        ],
        [
         "45",
         "1",
         "1259",
         "4.0",
         "1112485440"
        ],
        [
         "46",
         "1",
         "1261",
         "3.5",
         "1094786113"
        ],
        [
         "47",
         "1",
         "1262",
         "3.5",
         "1112484735"
        ],
        [
         "48",
         "1",
         "1266",
         "4.0",
         "1112485371"
        ],
        [
         "49",
         "1",
         "1278",
         "4.0",
         "1094785986"
        ]
       ],
       "shape": {
        "columns": 4,
        "rows": 175
       }
      },
      "text/html": [
       "<div>\n",
       "<style scoped>\n",
       "    .dataframe tbody tr th:only-of-type {\n",
       "        vertical-align: middle;\n",
       "    }\n",
       "\n",
       "    .dataframe tbody tr th {\n",
       "        vertical-align: top;\n",
       "    }\n",
       "\n",
       "    .dataframe thead th {\n",
       "        text-align: right;\n",
       "    }\n",
       "</style>\n",
       "<table border=\"1\" class=\"dataframe\">\n",
       "  <thead>\n",
       "    <tr style=\"text-align: right;\">\n",
       "      <th></th>\n",
       "      <th>userId</th>\n",
       "      <th>movieId</th>\n",
       "      <th>rating</th>\n",
       "      <th>timestamp</th>\n",
       "    </tr>\n",
       "  </thead>\n",
       "  <tbody>\n",
       "    <tr>\n",
       "      <th>0</th>\n",
       "      <td>1</td>\n",
       "      <td>2</td>\n",
       "      <td>3.5</td>\n",
       "      <td>1112486027</td>\n",
       "    </tr>\n",
       "    <tr>\n",
       "      <th>1</th>\n",
       "      <td>1</td>\n",
       "      <td>29</td>\n",
       "      <td>3.5</td>\n",
       "      <td>1112484676</td>\n",
       "    </tr>\n",
       "    <tr>\n",
       "      <th>2</th>\n",
       "      <td>1</td>\n",
       "      <td>32</td>\n",
       "      <td>3.5</td>\n",
       "      <td>1112484819</td>\n",
       "    </tr>\n",
       "    <tr>\n",
       "      <th>3</th>\n",
       "      <td>1</td>\n",
       "      <td>47</td>\n",
       "      <td>3.5</td>\n",
       "      <td>1112484727</td>\n",
       "    </tr>\n",
       "    <tr>\n",
       "      <th>4</th>\n",
       "      <td>1</td>\n",
       "      <td>50</td>\n",
       "      <td>3.5</td>\n",
       "      <td>1112484580</td>\n",
       "    </tr>\n",
       "    <tr>\n",
       "      <th>...</th>\n",
       "      <td>...</td>\n",
       "      <td>...</td>\n",
       "      <td>...</td>\n",
       "      <td>...</td>\n",
       "    </tr>\n",
       "    <tr>\n",
       "      <th>170</th>\n",
       "      <td>1</td>\n",
       "      <td>8507</td>\n",
       "      <td>5.0</td>\n",
       "      <td>1094786027</td>\n",
       "    </tr>\n",
       "    <tr>\n",
       "      <th>171</th>\n",
       "      <td>1</td>\n",
       "      <td>8636</td>\n",
       "      <td>4.5</td>\n",
       "      <td>1112485493</td>\n",
       "    </tr>\n",
       "    <tr>\n",
       "      <th>172</th>\n",
       "      <td>1</td>\n",
       "      <td>8690</td>\n",
       "      <td>3.5</td>\n",
       "      <td>1112484795</td>\n",
       "    </tr>\n",
       "    <tr>\n",
       "      <th>173</th>\n",
       "      <td>1</td>\n",
       "      <td>8961</td>\n",
       "      <td>4.0</td>\n",
       "      <td>1112485629</td>\n",
       "    </tr>\n",
       "    <tr>\n",
       "      <th>174</th>\n",
       "      <td>1</td>\n",
       "      <td>31696</td>\n",
       "      <td>4.0</td>\n",
       "      <td>1112485748</td>\n",
       "    </tr>\n",
       "  </tbody>\n",
       "</table>\n",
       "<p>175 rows × 4 columns</p>\n",
       "</div>"
      ],
      "text/plain": [
       "     userId  movieId  rating   timestamp\n",
       "0         1        2     3.5  1112486027\n",
       "1         1       29     3.5  1112484676\n",
       "2         1       32     3.5  1112484819\n",
       "3         1       47     3.5  1112484727\n",
       "4         1       50     3.5  1112484580\n",
       "..      ...      ...     ...         ...\n",
       "170       1     8507     5.0  1094786027\n",
       "171       1     8636     4.5  1112485493\n",
       "172       1     8690     3.5  1112484795\n",
       "173       1     8961     4.0  1112485629\n",
       "174       1    31696     4.0  1112485748\n",
       "\n",
       "[175 rows x 4 columns]"
      ]
     },
     "execution_count": 15,
     "metadata": {},
     "output_type": "execute_result"
    }
   ],
   "source": [
    "mv_user1"
   ]
  },
  {
   "cell_type": "code",
   "execution_count": 16,
   "metadata": {},
   "outputs": [
    {
     "name": "stdout",
     "output_type": "stream",
     "text": [
      "<class 'pandas.core.frame.DataFrame'>\n",
      "Index: 175 entries, 0 to 174\n",
      "Data columns (total 4 columns):\n",
      " #   Column     Non-Null Count  Dtype  \n",
      "---  ------     --------------  -----  \n",
      " 0   userId     175 non-null    int64  \n",
      " 1   movieId    175 non-null    int64  \n",
      " 2   rating     175 non-null    float64\n",
      " 3   timestamp  175 non-null    int64  \n",
      "dtypes: float64(1), int64(3)\n",
      "memory usage: 6.8 KB\n"
     ]
    }
   ],
   "source": [
    "mv_user1.info()"
   ]
  },
  {
   "cell_type": "code",
   "execution_count": 17,
   "metadata": {},
   "outputs": [
    {
     "data": {
      "application/vnd.microsoft.datawrangler.viewer.v0+json": {
       "columns": [
        {
         "name": "index",
         "rawType": "object",
         "type": "string"
        },
        {
         "name": "userId",
         "rawType": "float64",
         "type": "float"
        },
        {
         "name": "movieId",
         "rawType": "float64",
         "type": "float"
        },
        {
         "name": "rating",
         "rawType": "float64",
         "type": "float"
        },
        {
         "name": "timestamp",
         "rawType": "float64",
         "type": "float"
        }
       ],
       "ref": "de47a778-9a88-4dc8-8a73-22468d62fcce",
       "rows": [
        [
         "count",
         "175.0",
         "175.0",
         "175.0",
         "175.0"
        ],
        [
         "mean",
         "1.0",
         "3428.537142857143",
         "3.742857142857143",
         "1107833006.1714287"
        ],
        [
         "std",
         "0.0",
         "3207.4480487891688",
         "0.382284207242115",
         "7813424.098441656"
        ],
        [
         "min",
         "1.0",
         "2.0",
         "3.0",
         "1094785598.0"
        ],
        [
         "25%",
         "1.0",
         "1253.5",
         "3.5",
         "1094786159.5"
        ],
        [
         "50%",
         "1.0",
         "2692.0",
         "4.0",
         "1112484994.0"
        ],
        [
         "75%",
         "1.0",
         "4986.5",
         "4.0",
         "1112485823.5"
        ],
        [
         "max",
         "1.0",
         "31696.0",
         "5.0",
         "1112486201.0"
        ]
       ],
       "shape": {
        "columns": 4,
        "rows": 8
       }
      },
      "text/html": [
       "<div>\n",
       "<style scoped>\n",
       "    .dataframe tbody tr th:only-of-type {\n",
       "        vertical-align: middle;\n",
       "    }\n",
       "\n",
       "    .dataframe tbody tr th {\n",
       "        vertical-align: top;\n",
       "    }\n",
       "\n",
       "    .dataframe thead th {\n",
       "        text-align: right;\n",
       "    }\n",
       "</style>\n",
       "<table border=\"1\" class=\"dataframe\">\n",
       "  <thead>\n",
       "    <tr style=\"text-align: right;\">\n",
       "      <th></th>\n",
       "      <th>userId</th>\n",
       "      <th>movieId</th>\n",
       "      <th>rating</th>\n",
       "      <th>timestamp</th>\n",
       "    </tr>\n",
       "  </thead>\n",
       "  <tbody>\n",
       "    <tr>\n",
       "      <th>count</th>\n",
       "      <td>175.0</td>\n",
       "      <td>175.000000</td>\n",
       "      <td>175.000000</td>\n",
       "      <td>1.750000e+02</td>\n",
       "    </tr>\n",
       "    <tr>\n",
       "      <th>mean</th>\n",
       "      <td>1.0</td>\n",
       "      <td>3428.537143</td>\n",
       "      <td>3.742857</td>\n",
       "      <td>1.107833e+09</td>\n",
       "    </tr>\n",
       "    <tr>\n",
       "      <th>std</th>\n",
       "      <td>0.0</td>\n",
       "      <td>3207.448049</td>\n",
       "      <td>0.382284</td>\n",
       "      <td>7.813424e+06</td>\n",
       "    </tr>\n",
       "    <tr>\n",
       "      <th>min</th>\n",
       "      <td>1.0</td>\n",
       "      <td>2.000000</td>\n",
       "      <td>3.000000</td>\n",
       "      <td>1.094786e+09</td>\n",
       "    </tr>\n",
       "    <tr>\n",
       "      <th>25%</th>\n",
       "      <td>1.0</td>\n",
       "      <td>1253.500000</td>\n",
       "      <td>3.500000</td>\n",
       "      <td>1.094786e+09</td>\n",
       "    </tr>\n",
       "    <tr>\n",
       "      <th>50%</th>\n",
       "      <td>1.0</td>\n",
       "      <td>2692.000000</td>\n",
       "      <td>4.000000</td>\n",
       "      <td>1.112485e+09</td>\n",
       "    </tr>\n",
       "    <tr>\n",
       "      <th>75%</th>\n",
       "      <td>1.0</td>\n",
       "      <td>4986.500000</td>\n",
       "      <td>4.000000</td>\n",
       "      <td>1.112486e+09</td>\n",
       "    </tr>\n",
       "    <tr>\n",
       "      <th>max</th>\n",
       "      <td>1.0</td>\n",
       "      <td>31696.000000</td>\n",
       "      <td>5.000000</td>\n",
       "      <td>1.112486e+09</td>\n",
       "    </tr>\n",
       "  </tbody>\n",
       "</table>\n",
       "</div>"
      ],
      "text/plain": [
       "       userId       movieId      rating     timestamp\n",
       "count   175.0    175.000000  175.000000  1.750000e+02\n",
       "mean      1.0   3428.537143    3.742857  1.107833e+09\n",
       "std       0.0   3207.448049    0.382284  7.813424e+06\n",
       "min       1.0      2.000000    3.000000  1.094786e+09\n",
       "25%       1.0   1253.500000    3.500000  1.094786e+09\n",
       "50%       1.0   2692.000000    4.000000  1.112485e+09\n",
       "75%       1.0   4986.500000    4.000000  1.112486e+09\n",
       "max       1.0  31696.000000    5.000000  1.112486e+09"
      ]
     },
     "execution_count": 17,
     "metadata": {},
     "output_type": "execute_result"
    }
   ],
   "source": [
    "mv_user1.describe()"
   ]
  },
  {
   "cell_type": "code",
   "execution_count": 20,
   "metadata": {},
   "outputs": [],
   "source": [
    "#content-based movie recommender system that considers movie genre similarities between films to propose new films for a certain user to watch"
   ]
  },
  {
   "cell_type": "code",
   "execution_count": 18,
   "metadata": {},
   "outputs": [],
   "source": [
    "from sklearn.metrics.pairwise import cosine_similarity"
   ]
  },
  {
   "cell_type": "code",
   "execution_count": 19,
   "metadata": {},
   "outputs": [],
   "source": [
    "#Attn:! input dataframe df_movie for the following recommendation function get_recommendations should contain as columns the movieId column and the remaining are the ones to be tested for similarity!!"
   ]
  },
  {
   "cell_type": "code",
   "execution_count": 20,
   "metadata": {},
   "outputs": [],
   "source": [
    "def get_recommendations(user_id, df_user, df_movie, n_recommendations=10):\n",
    "    \"\"\"Get movie recommendations for user using vectorized operations\"\"\"\n",
    "    \n",
    "    # Get genre columns (all except movieId)\n",
    "    genre_cols = df_movie.columns[df_movie.columns != 'movieId']\n",
    "    \n",
    "    # Get user's rated movies and merge with features\n",
    "    user_ratings = df_user[df_user['userId'] == user_id]\n",
    "    user_movies = user_ratings.merge(df_movie, on='movieId')\n",
    "    \n",
    "    # Calculate similarities matrix for all movies at once\n",
    "    all_movies_features = df_movie[genre_cols].values\n",
    "    user_movies_features = user_movies[genre_cols].values\n",
    "    \n",
    "    # Calculate similarity matrix (user_movies x all_movies)\n",
    "    similarities = cosine_similarity(user_movies_features, all_movies_features)\n",
    "    \n",
    "    # Weight similarities by ratings\n",
    "    weighted_similarities = similarities * user_ratings['rating'].values.reshape(-1, 1)\n",
    "    \n",
    "    # Calculate mean similarity for each movie\n",
    "    mean_similarities = weighted_similarities.mean(axis=0)\n",
    "    \n",
    "    # Create recommendations dataframe\n",
    "    recommendations = pd.DataFrame({\n",
    "        'movieId': df_movie['movieId'],\n",
    "        'similarity_score': mean_similarities\n",
    "    })\n",
    "    \n",
    "    # Filter out already rated movies\n",
    "    rated_movies = user_ratings['movieId']\n",
    "    recommendations = recommendations[~recommendations['movieId'].isin(rated_movies)]\n",
    "    \n",
    "    # Sort and get top recommendations\n",
    "    return recommendations.nlargest(n_recommendations, 'similarity_score')['movieId']"
   ]
  },
  {
   "cell_type": "code",
   "execution_count": 21,
   "metadata": {},
   "outputs": [],
   "source": [
    "# Alternative using Euclidean distance\n",
    "from sklearn.metrics.pairwise import euclidean_distances\n",
    "\n",
    "def get_recommendations_euclidean(user_id, df_user, df_movie, n_recommendations=10):\n",
    "    \"\"\"Get recommendations using Euclidean distance\"\"\"\n",
    "    \n",
    "    genre_cols = df_movie.columns[df_movie.columns != 'movieId']\n",
    "    \n",
    "    user_ratings = df_user[df_user['userId'] == user_id]\n",
    "    user_movies = user_ratings.merge(df_movie, on='movieId')\n",
    "    \n",
    "    all_movies_features = df_movie[genre_cols].values\n",
    "    user_movies_features = user_movies[genre_cols].values\n",
    "    \n",
    "    # Calculate distances and convert to similarities\n",
    "    distances = euclidean_distances(user_movies_features, all_movies_features)\n",
    "    similarities = 1 / (1 + distances)\n",
    "    \n",
    "    weighted_similarities = similarities * user_ratings['rating'].values.reshape(-1, 1)\n",
    "    mean_similarities = weighted_similarities.mean(axis=0)\n",
    "    \n",
    "    recommendations = pd.DataFrame({\n",
    "        'movieId': df_movie['movieId'],\n",
    "        'similarity_score': mean_similarities\n",
    "    })\n",
    "    \n",
    "    rated_movies = user_ratings['movieId']\n",
    "    recommendations = recommendations[~recommendations['movieId'].isin(rated_movies)]\n",
    "    \n",
    "    return recommendations.nlargest(n_recommendations, 'similarity_score')['movieId']"
   ]
  },
  {
   "cell_type": "code",
   "execution_count": 22,
   "metadata": {},
   "outputs": [],
   "source": [
    "# Alternative using Euclidean distance\n",
    "from sklearn.metrics.pairwise import euclidean_distances\n",
    "\n",
    "def get_recommendations_euclidean(user_id, df_user, df_movie, n_recommendations=10):\n",
    "    \"\"\"Get recommendations using Euclidean distance\"\"\"\n",
    "    \n",
    "    genre_cols = df_movie.columns[df_movie.columns != 'movieId']\n",
    "    \n",
    "    user_ratings = df_user[df_user['userId'] == user_id]\n",
    "    user_movies = user_ratings.merge(df_movie, on='movieId')\n",
    "    \n",
    "    all_movies_features = df_movie[genre_cols].values\n",
    "    user_movies_features = user_movies[genre_cols].values\n",
    "    \n",
    "    # Calculate distances and convert to similarities\n",
    "    distances = euclidean_distances(user_movies_features, all_movies_features)\n",
    "    similarities = 1 / (1 + distances)\n",
    "    \n",
    "    weighted_similarities = similarities * user_ratings['rating'].values.reshape(-1, 1)\n",
    "    mean_similarities = weighted_similarities.mean(axis=0)\n",
    "    \n",
    "    recommendations = pd.DataFrame({\n",
    "        'movieId': df_movie['movieId'],\n",
    "        'similarity_score': mean_similarities\n",
    "    })\n",
    "    \n",
    "    rated_movies = user_ratings['movieId']\n",
    "    recommendations = recommendations[~recommendations['movieId'].isin(rated_movies)]\n",
    "    \n",
    "    return recommendations.nlargest(n_recommendations, 'similarity_score')"
   ]
  },
  {
   "cell_type": "code",
   "execution_count": 26,
   "metadata": {},
   "outputs": [],
   "source": [
    "#testing genres only"
   ]
  },
  {
   "cell_type": "code",
   "execution_count": 23,
   "metadata": {},
   "outputs": [
    {
     "data": {
      "text/plain": [
       "Index(['movieId', 'tconst', 'primaryTitle', 'originalTitle', 'startYear',\n",
       "       'runtimeMinutes', 'genres', 'directors', 'writers', 'averageRating',\n",
       "       'numVotes', 'actor1', 'actor2', 'tags_list', 'runtimeCat', 'wRating',\n",
       "       'original_language', 'overview', 'genres_list', 'Action', 'Adult',\n",
       "       'Adventure', 'Animation', 'Biography', 'Comedy', 'Crime', 'Documentary',\n",
       "       'Drama', 'Family', 'Fantasy', 'Film-Noir', 'History', 'Horror', 'Music',\n",
       "       'Musical', 'Mystery', 'News', 'Romance', 'Sci-Fi', 'Sport', 'Thriller',\n",
       "       'War', 'Western', '\\N'],\n",
       "      dtype='object')"
      ]
     },
     "execution_count": 23,
     "metadata": {},
     "output_type": "execute_result"
    }
   ],
   "source": [
    "df_movieB.columns"
   ]
  },
  {
   "cell_type": "code",
   "execution_count": 24,
   "metadata": {},
   "outputs": [
    {
     "data": {
      "application/vnd.microsoft.datawrangler.viewer.v0+json": {
       "columns": [
        {
         "name": "index",
         "rawType": "int64",
         "type": "integer"
        },
        {
         "name": "movieId",
         "rawType": "int64",
         "type": "integer"
        },
        {
         "name": "tconst",
         "rawType": "object",
         "type": "string"
        },
        {
         "name": "primaryTitle",
         "rawType": "object",
         "type": "string"
        },
        {
         "name": "originalTitle",
         "rawType": "object",
         "type": "string"
        },
        {
         "name": "startYear",
         "rawType": "int64",
         "type": "integer"
        },
        {
         "name": "runtimeMinutes",
         "rawType": "int64",
         "type": "integer"
        },
        {
         "name": "genres",
         "rawType": "object",
         "type": "string"
        },
        {
         "name": "directors",
         "rawType": "object",
         "type": "string"
        },
        {
         "name": "writers",
         "rawType": "object",
         "type": "string"
        },
        {
         "name": "averageRating",
         "rawType": "float64",
         "type": "float"
        },
        {
         "name": "numVotes",
         "rawType": "int64",
         "type": "integer"
        },
        {
         "name": "actor1",
         "rawType": "object",
         "type": "string"
        },
        {
         "name": "actor2",
         "rawType": "object",
         "type": "string"
        },
        {
         "name": "tags_list",
         "rawType": "object",
         "type": "string"
        },
        {
         "name": "runtimeCat",
         "rawType": "object",
         "type": "string"
        },
        {
         "name": "wRating",
         "rawType": "float64",
         "type": "float"
        },
        {
         "name": "original_language",
         "rawType": "object",
         "type": "string"
        },
        {
         "name": "overview",
         "rawType": "object",
         "type": "string"
        },
        {
         "name": "genres_list",
         "rawType": "object",
         "type": "unknown"
        },
        {
         "name": "Action",
         "rawType": "int64",
         "type": "integer"
        },
        {
         "name": "Adult",
         "rawType": "int64",
         "type": "integer"
        },
        {
         "name": "Adventure",
         "rawType": "int64",
         "type": "integer"
        },
        {
         "name": "Animation",
         "rawType": "int64",
         "type": "integer"
        },
        {
         "name": "Biography",
         "rawType": "int64",
         "type": "integer"
        },
        {
         "name": "Comedy",
         "rawType": "int64",
         "type": "integer"
        },
        {
         "name": "Crime",
         "rawType": "int64",
         "type": "integer"
        },
        {
         "name": "Documentary",
         "rawType": "int64",
         "type": "integer"
        },
        {
         "name": "Drama",
         "rawType": "int64",
         "type": "integer"
        },
        {
         "name": "Family",
         "rawType": "int64",
         "type": "integer"
        },
        {
         "name": "Fantasy",
         "rawType": "int64",
         "type": "integer"
        },
        {
         "name": "Film-Noir",
         "rawType": "int64",
         "type": "integer"
        },
        {
         "name": "History",
         "rawType": "int64",
         "type": "integer"
        },
        {
         "name": "Horror",
         "rawType": "int64",
         "type": "integer"
        },
        {
         "name": "Music",
         "rawType": "int64",
         "type": "integer"
        },
        {
         "name": "Musical",
         "rawType": "int64",
         "type": "integer"
        },
        {
         "name": "Mystery",
         "rawType": "int64",
         "type": "integer"
        },
        {
         "name": "News",
         "rawType": "int64",
         "type": "integer"
        },
        {
         "name": "Romance",
         "rawType": "int64",
         "type": "integer"
        },
        {
         "name": "Sci-Fi",
         "rawType": "int64",
         "type": "integer"
        },
        {
         "name": "Sport",
         "rawType": "int64",
         "type": "integer"
        },
        {
         "name": "Thriller",
         "rawType": "int64",
         "type": "integer"
        },
        {
         "name": "War",
         "rawType": "int64",
         "type": "integer"
        },
        {
         "name": "Western",
         "rawType": "int64",
         "type": "integer"
        },
        {
         "name": "\\N",
         "rawType": "int64",
         "type": "integer"
        }
       ],
       "ref": "abc900ca-5bab-4ab1-a094-a3b89f1ba277",
       "rows": [
        [
         "0",
         "1",
         "tt0114709",
         "Toy Story",
         "Toy Story",
         "1995",
         "81",
         "Adventure,Animation,Comedy",
         "nm0005124",
         "nm0005124,nm0230032,nm0004056,nm0710020,nm0923736,nm0169505,nm0812513",
         "8.3",
         "1097902",
         "nm0000158",
         "nm0000741",
         "1036,244,786,589,64,588,785,204,186,536",
         "short",
         "8.298229850198817",
         "en",
         "Led by Woody, Andy's toys live happily in his room until Andy's birthday brings Buzz Lightyear onto the scene. Afraid of losing his place in Andy's heart, Woody plots against Buzz. But when circumstances separate Buzz and Woody from their owner, the duo eventually learns to put aside their differences.",
         "['Adventure', 'Animation', 'Comedy']",
         "0",
         "0",
         "1",
         "1",
         "0",
         "1",
         "0",
         "0",
         "0",
         "0",
         "0",
         "0",
         "0",
         "0",
         "0",
         "0",
         "0",
         "0",
         "0",
         "0",
         "0",
         "0",
         "0",
         "0",
         "0"
        ],
        [
         "1",
         "2",
         "tt0113497",
         "Jumanji",
         "Jumanji",
         "1995",
         "104",
         "Adventure,Comedy,Family",
         "nm0002653",
         "nm0378144,nm0852430,nm0833164,nm0885575",
         "7.1",
         "387736",
         "nm0000245",
         "nm0000379",
         "29,584,204,588,951,377,62,415,203,374",
         "average",
         "7.098082963356055",
         "en",
         "When siblings Judy and Peter discover an enchanted board game that opens the door to a magical world, they unwittingly invite Alan -- an adult who's been trapped inside the game for 26 years -- into their living room. Alan's only hope for freedom is to finish the game, which proves risky as all three find themselves running from giant rhinoceroses, evil monkeys and other terrifying creatures.",
         "['Adventure', 'Comedy', 'Family']",
         "0",
         "0",
         "1",
         "0",
         "0",
         "1",
         "0",
         "0",
         "0",
         "1",
         "0",
         "0",
         "0",
         "0",
         "0",
         "0",
         "0",
         "0",
         "0",
         "0",
         "0",
         "0",
         "0",
         "0",
         "0"
        ],
        [
         "2",
         "3",
         "tt0113228",
         "Grumpier Old Men",
         "Grumpier Old Men",
         "1995",
         "101",
         "Comedy,Romance",
         "nm0222043",
         "nm0425756",
         "6.7",
         "30240",
         "nm0000527",
         "nm0000493",
         "451,901,902,230,742,264,299,464,863,397",
         "average",
         "6.688949386785522",
         "en",
         "A family wedding reignites the ancient feud between next-door neighbors and fishing buddies John and Max. Meanwhile, a sultry Italian divorcée opens a restaurant at the local bait shop, alarming the locals who worry she'll scare the fish away. But she's less interested in seafood than she is in cooking up a hot time with Max.",
         "['Comedy', 'Romance']",
         "0",
         "0",
         "0",
         "0",
         "0",
         "1",
         "0",
         "0",
         "0",
         "0",
         "0",
         "0",
         "0",
         "0",
         "0",
         "0",
         "0",
         "0",
         "1",
         "0",
         "0",
         "0",
         "0",
         "0",
         "0"
        ],
        [
         "3",
         "4",
         "tt0114885",
         "Waiting to Exhale",
         "Waiting to Exhale",
         "1995",
         "124",
         "Comedy,Drama,Romance",
         "nm0001845",
         "nm0573334,nm0060103",
         "6.0",
         "12579",
         "nm0001365",
         "nm0000291",
         "1116,201,439,864,1062,742,846,1003,388,967",
         "average",
         "6.026127022842603",
         "en",
         "Cheated on, mistreated and stepped on, the women are holding their breath, waiting for the elusive \"good man\" to break a string of less-than-stellar lovers. Friends and confidants Vannah, Bernie, Glo and Robin talk it all out, determined to find a better way to breathe.",
         "['Comedy', 'Drama', 'Romance']",
         "0",
         "0",
         "0",
         "0",
         "0",
         "1",
         "0",
         "0",
         "1",
         "0",
         "0",
         "0",
         "0",
         "0",
         "0",
         "0",
         "0",
         "0",
         "1",
         "0",
         "0",
         "0",
         "0",
         "0",
         "0"
        ],
        [
         "4",
         "5",
         "tt0113041",
         "Father of the Bride Part II",
         "Father of the Bride Part II",
         "1995",
         "106",
         "Comedy,Family,Romance",
         "nm0796124",
         "nm0352443,nm0329304,nm0583600,nm0796124",
         "6.1",
         "42542",
         "nm0000188",
         "nm0000473",
         "451,383,902,901,230,808,374,1102,768,417",
         "average",
         "6.105851335335532",
         "en",
         "Just when George Banks has recovered from his daughter's wedding, he receives the news that she's pregnant ... and that George's wife, Nina, is expecting too. He was planning on selling their home, but that's a plan that -- like George -- will have to change with the arrival of both a grandchild and a kid of his own.",
         "['Comedy', 'Family', 'Romance']",
         "0",
         "0",
         "0",
         "0",
         "0",
         "1",
         "0",
         "0",
         "0",
         "1",
         "0",
         "0",
         "0",
         "0",
         "0",
         "0",
         "0",
         "0",
         "1",
         "0",
         "0",
         "0",
         "0",
         "0",
         "0"
        ]
       ],
       "shape": {
        "columns": 44,
        "rows": 5
       }
      },
      "text/html": [
       "<div>\n",
       "<style scoped>\n",
       "    .dataframe tbody tr th:only-of-type {\n",
       "        vertical-align: middle;\n",
       "    }\n",
       "\n",
       "    .dataframe tbody tr th {\n",
       "        vertical-align: top;\n",
       "    }\n",
       "\n",
       "    .dataframe thead th {\n",
       "        text-align: right;\n",
       "    }\n",
       "</style>\n",
       "<table border=\"1\" class=\"dataframe\">\n",
       "  <thead>\n",
       "    <tr style=\"text-align: right;\">\n",
       "      <th></th>\n",
       "      <th>movieId</th>\n",
       "      <th>tconst</th>\n",
       "      <th>primaryTitle</th>\n",
       "      <th>originalTitle</th>\n",
       "      <th>startYear</th>\n",
       "      <th>runtimeMinutes</th>\n",
       "      <th>genres</th>\n",
       "      <th>directors</th>\n",
       "      <th>writers</th>\n",
       "      <th>averageRating</th>\n",
       "      <th>...</th>\n",
       "      <th>Musical</th>\n",
       "      <th>Mystery</th>\n",
       "      <th>News</th>\n",
       "      <th>Romance</th>\n",
       "      <th>Sci-Fi</th>\n",
       "      <th>Sport</th>\n",
       "      <th>Thriller</th>\n",
       "      <th>War</th>\n",
       "      <th>Western</th>\n",
       "      <th>\\N</th>\n",
       "    </tr>\n",
       "  </thead>\n",
       "  <tbody>\n",
       "    <tr>\n",
       "      <th>0</th>\n",
       "      <td>1</td>\n",
       "      <td>tt0114709</td>\n",
       "      <td>Toy Story</td>\n",
       "      <td>Toy Story</td>\n",
       "      <td>1995</td>\n",
       "      <td>81</td>\n",
       "      <td>Adventure,Animation,Comedy</td>\n",
       "      <td>nm0005124</td>\n",
       "      <td>nm0005124,nm0230032,nm0004056,nm0710020,nm0923...</td>\n",
       "      <td>8.3</td>\n",
       "      <td>...</td>\n",
       "      <td>0</td>\n",
       "      <td>0</td>\n",
       "      <td>0</td>\n",
       "      <td>0</td>\n",
       "      <td>0</td>\n",
       "      <td>0</td>\n",
       "      <td>0</td>\n",
       "      <td>0</td>\n",
       "      <td>0</td>\n",
       "      <td>0</td>\n",
       "    </tr>\n",
       "    <tr>\n",
       "      <th>1</th>\n",
       "      <td>2</td>\n",
       "      <td>tt0113497</td>\n",
       "      <td>Jumanji</td>\n",
       "      <td>Jumanji</td>\n",
       "      <td>1995</td>\n",
       "      <td>104</td>\n",
       "      <td>Adventure,Comedy,Family</td>\n",
       "      <td>nm0002653</td>\n",
       "      <td>nm0378144,nm0852430,nm0833164,nm0885575</td>\n",
       "      <td>7.1</td>\n",
       "      <td>...</td>\n",
       "      <td>0</td>\n",
       "      <td>0</td>\n",
       "      <td>0</td>\n",
       "      <td>0</td>\n",
       "      <td>0</td>\n",
       "      <td>0</td>\n",
       "      <td>0</td>\n",
       "      <td>0</td>\n",
       "      <td>0</td>\n",
       "      <td>0</td>\n",
       "    </tr>\n",
       "    <tr>\n",
       "      <th>2</th>\n",
       "      <td>3</td>\n",
       "      <td>tt0113228</td>\n",
       "      <td>Grumpier Old Men</td>\n",
       "      <td>Grumpier Old Men</td>\n",
       "      <td>1995</td>\n",
       "      <td>101</td>\n",
       "      <td>Comedy,Romance</td>\n",
       "      <td>nm0222043</td>\n",
       "      <td>nm0425756</td>\n",
       "      <td>6.7</td>\n",
       "      <td>...</td>\n",
       "      <td>0</td>\n",
       "      <td>0</td>\n",
       "      <td>0</td>\n",
       "      <td>1</td>\n",
       "      <td>0</td>\n",
       "      <td>0</td>\n",
       "      <td>0</td>\n",
       "      <td>0</td>\n",
       "      <td>0</td>\n",
       "      <td>0</td>\n",
       "    </tr>\n",
       "    <tr>\n",
       "      <th>3</th>\n",
       "      <td>4</td>\n",
       "      <td>tt0114885</td>\n",
       "      <td>Waiting to Exhale</td>\n",
       "      <td>Waiting to Exhale</td>\n",
       "      <td>1995</td>\n",
       "      <td>124</td>\n",
       "      <td>Comedy,Drama,Romance</td>\n",
       "      <td>nm0001845</td>\n",
       "      <td>nm0573334,nm0060103</td>\n",
       "      <td>6.0</td>\n",
       "      <td>...</td>\n",
       "      <td>0</td>\n",
       "      <td>0</td>\n",
       "      <td>0</td>\n",
       "      <td>1</td>\n",
       "      <td>0</td>\n",
       "      <td>0</td>\n",
       "      <td>0</td>\n",
       "      <td>0</td>\n",
       "      <td>0</td>\n",
       "      <td>0</td>\n",
       "    </tr>\n",
       "    <tr>\n",
       "      <th>4</th>\n",
       "      <td>5</td>\n",
       "      <td>tt0113041</td>\n",
       "      <td>Father of the Bride Part II</td>\n",
       "      <td>Father of the Bride Part II</td>\n",
       "      <td>1995</td>\n",
       "      <td>106</td>\n",
       "      <td>Comedy,Family,Romance</td>\n",
       "      <td>nm0796124</td>\n",
       "      <td>nm0352443,nm0329304,nm0583600,nm0796124</td>\n",
       "      <td>6.1</td>\n",
       "      <td>...</td>\n",
       "      <td>0</td>\n",
       "      <td>0</td>\n",
       "      <td>0</td>\n",
       "      <td>1</td>\n",
       "      <td>0</td>\n",
       "      <td>0</td>\n",
       "      <td>0</td>\n",
       "      <td>0</td>\n",
       "      <td>0</td>\n",
       "      <td>0</td>\n",
       "    </tr>\n",
       "  </tbody>\n",
       "</table>\n",
       "<p>5 rows × 44 columns</p>\n",
       "</div>"
      ],
      "text/plain": [
       "   movieId     tconst                 primaryTitle  \\\n",
       "0        1  tt0114709                    Toy Story   \n",
       "1        2  tt0113497                      Jumanji   \n",
       "2        3  tt0113228             Grumpier Old Men   \n",
       "3        4  tt0114885            Waiting to Exhale   \n",
       "4        5  tt0113041  Father of the Bride Part II   \n",
       "\n",
       "                 originalTitle  startYear  runtimeMinutes  \\\n",
       "0                    Toy Story       1995              81   \n",
       "1                      Jumanji       1995             104   \n",
       "2             Grumpier Old Men       1995             101   \n",
       "3            Waiting to Exhale       1995             124   \n",
       "4  Father of the Bride Part II       1995             106   \n",
       "\n",
       "                       genres  directors  \\\n",
       "0  Adventure,Animation,Comedy  nm0005124   \n",
       "1     Adventure,Comedy,Family  nm0002653   \n",
       "2              Comedy,Romance  nm0222043   \n",
       "3        Comedy,Drama,Romance  nm0001845   \n",
       "4       Comedy,Family,Romance  nm0796124   \n",
       "\n",
       "                                             writers  averageRating  ...  \\\n",
       "0  nm0005124,nm0230032,nm0004056,nm0710020,nm0923...            8.3  ...   \n",
       "1            nm0378144,nm0852430,nm0833164,nm0885575            7.1  ...   \n",
       "2                                          nm0425756            6.7  ...   \n",
       "3                                nm0573334,nm0060103            6.0  ...   \n",
       "4            nm0352443,nm0329304,nm0583600,nm0796124            6.1  ...   \n",
       "\n",
       "   Musical Mystery News Romance Sci-Fi  Sport Thriller War Western  \\N  \n",
       "0        0       0    0       0      0      0        0   0       0   0  \n",
       "1        0       0    0       0      0      0        0   0       0   0  \n",
       "2        0       0    0       1      0      0        0   0       0   0  \n",
       "3        0       0    0       1      0      0        0   0       0   0  \n",
       "4        0       0    0       1      0      0        0   0       0   0  \n",
       "\n",
       "[5 rows x 44 columns]"
      ]
     },
     "execution_count": 24,
     "metadata": {},
     "output_type": "execute_result"
    }
   ],
   "source": [
    "df_movieB.head()"
   ]
  },
  {
   "cell_type": "code",
   "execution_count": 25,
   "metadata": {},
   "outputs": [],
   "source": [
    "#select from dataframe df_movieB the column 'movieId' and then all the columns that come after the column named 'genres_list'.\n",
    "df_movie_genres = df_movieB[['movieId'] + list(df_movieB.columns[df_movieB.columns.get_loc('genres_list')+1:])]"
   ]
  },
  {
   "cell_type": "code",
   "execution_count": 26,
   "metadata": {},
   "outputs": [
    {
     "data": {
      "application/vnd.microsoft.datawrangler.viewer.v0+json": {
       "columns": [
        {
         "name": "index",
         "rawType": "int64",
         "type": "integer"
        },
        {
         "name": "movieId",
         "rawType": "int64",
         "type": "integer"
        },
        {
         "name": "Action",
         "rawType": "int64",
         "type": "integer"
        },
        {
         "name": "Adult",
         "rawType": "int64",
         "type": "integer"
        },
        {
         "name": "Adventure",
         "rawType": "int64",
         "type": "integer"
        },
        {
         "name": "Animation",
         "rawType": "int64",
         "type": "integer"
        },
        {
         "name": "Biography",
         "rawType": "int64",
         "type": "integer"
        },
        {
         "name": "Comedy",
         "rawType": "int64",
         "type": "integer"
        },
        {
         "name": "Crime",
         "rawType": "int64",
         "type": "integer"
        },
        {
         "name": "Documentary",
         "rawType": "int64",
         "type": "integer"
        },
        {
         "name": "Drama",
         "rawType": "int64",
         "type": "integer"
        },
        {
         "name": "Family",
         "rawType": "int64",
         "type": "integer"
        },
        {
         "name": "Fantasy",
         "rawType": "int64",
         "type": "integer"
        },
        {
         "name": "Film-Noir",
         "rawType": "int64",
         "type": "integer"
        },
        {
         "name": "History",
         "rawType": "int64",
         "type": "integer"
        },
        {
         "name": "Horror",
         "rawType": "int64",
         "type": "integer"
        },
        {
         "name": "Music",
         "rawType": "int64",
         "type": "integer"
        },
        {
         "name": "Musical",
         "rawType": "int64",
         "type": "integer"
        },
        {
         "name": "Mystery",
         "rawType": "int64",
         "type": "integer"
        },
        {
         "name": "News",
         "rawType": "int64",
         "type": "integer"
        },
        {
         "name": "Romance",
         "rawType": "int64",
         "type": "integer"
        },
        {
         "name": "Sci-Fi",
         "rawType": "int64",
         "type": "integer"
        },
        {
         "name": "Sport",
         "rawType": "int64",
         "type": "integer"
        },
        {
         "name": "Thriller",
         "rawType": "int64",
         "type": "integer"
        },
        {
         "name": "War",
         "rawType": "int64",
         "type": "integer"
        },
        {
         "name": "Western",
         "rawType": "int64",
         "type": "integer"
        },
        {
         "name": "\\N",
         "rawType": "int64",
         "type": "integer"
        }
       ],
       "ref": "334921df-1bc0-4368-ba10-1ab7e43f2708",
       "rows": [
        [
         "22640",
         "131254",
         "0",
         "0",
         "0",
         "0",
         "0",
         "1",
         "0",
         "0",
         "0",
         "0",
         "0",
         "0",
         "0",
         "0",
         "0",
         "0",
         "0",
         "0",
         "0",
         "0",
         "0",
         "0",
         "0",
         "0",
         "0"
        ],
        [
         "22641",
         "131256",
         "0",
         "0",
         "0",
         "0",
         "0",
         "1",
         "0",
         "0",
         "0",
         "0",
         "0",
         "0",
         "0",
         "0",
         "0",
         "0",
         "0",
         "0",
         "0",
         "0",
         "0",
         "0",
         "0",
         "0",
         "0"
        ],
        [
         "22642",
         "131258",
         "1",
         "0",
         "1",
         "0",
         "0",
         "1",
         "0",
         "0",
         "0",
         "0",
         "0",
         "0",
         "0",
         "0",
         "0",
         "0",
         "0",
         "0",
         "0",
         "0",
         "0",
         "0",
         "0",
         "0",
         "0"
        ],
        [
         "22643",
         "131260",
         "0",
         "0",
         "0",
         "0",
         "1",
         "0",
         "0",
         "0",
         "1",
         "0",
         "0",
         "0",
         "0",
         "0",
         "1",
         "0",
         "0",
         "0",
         "0",
         "0",
         "0",
         "0",
         "0",
         "0",
         "0"
        ],
        [
         "22644",
         "131262",
         "0",
         "0",
         "0",
         "0",
         "0",
         "0",
         "0",
         "0",
         "0",
         "0",
         "1",
         "0",
         "0",
         "1",
         "0",
         "0",
         "1",
         "0",
         "0",
         "0",
         "0",
         "0",
         "0",
         "0",
         "0"
        ]
       ],
       "shape": {
        "columns": 26,
        "rows": 5
       }
      },
      "text/html": [
       "<div>\n",
       "<style scoped>\n",
       "    .dataframe tbody tr th:only-of-type {\n",
       "        vertical-align: middle;\n",
       "    }\n",
       "\n",
       "    .dataframe tbody tr th {\n",
       "        vertical-align: top;\n",
       "    }\n",
       "\n",
       "    .dataframe thead th {\n",
       "        text-align: right;\n",
       "    }\n",
       "</style>\n",
       "<table border=\"1\" class=\"dataframe\">\n",
       "  <thead>\n",
       "    <tr style=\"text-align: right;\">\n",
       "      <th></th>\n",
       "      <th>movieId</th>\n",
       "      <th>Action</th>\n",
       "      <th>Adult</th>\n",
       "      <th>Adventure</th>\n",
       "      <th>Animation</th>\n",
       "      <th>Biography</th>\n",
       "      <th>Comedy</th>\n",
       "      <th>Crime</th>\n",
       "      <th>Documentary</th>\n",
       "      <th>Drama</th>\n",
       "      <th>...</th>\n",
       "      <th>Musical</th>\n",
       "      <th>Mystery</th>\n",
       "      <th>News</th>\n",
       "      <th>Romance</th>\n",
       "      <th>Sci-Fi</th>\n",
       "      <th>Sport</th>\n",
       "      <th>Thriller</th>\n",
       "      <th>War</th>\n",
       "      <th>Western</th>\n",
       "      <th>\\N</th>\n",
       "    </tr>\n",
       "  </thead>\n",
       "  <tbody>\n",
       "    <tr>\n",
       "      <th>22640</th>\n",
       "      <td>131254</td>\n",
       "      <td>0</td>\n",
       "      <td>0</td>\n",
       "      <td>0</td>\n",
       "      <td>0</td>\n",
       "      <td>0</td>\n",
       "      <td>1</td>\n",
       "      <td>0</td>\n",
       "      <td>0</td>\n",
       "      <td>0</td>\n",
       "      <td>...</td>\n",
       "      <td>0</td>\n",
       "      <td>0</td>\n",
       "      <td>0</td>\n",
       "      <td>0</td>\n",
       "      <td>0</td>\n",
       "      <td>0</td>\n",
       "      <td>0</td>\n",
       "      <td>0</td>\n",
       "      <td>0</td>\n",
       "      <td>0</td>\n",
       "    </tr>\n",
       "    <tr>\n",
       "      <th>22641</th>\n",
       "      <td>131256</td>\n",
       "      <td>0</td>\n",
       "      <td>0</td>\n",
       "      <td>0</td>\n",
       "      <td>0</td>\n",
       "      <td>0</td>\n",
       "      <td>1</td>\n",
       "      <td>0</td>\n",
       "      <td>0</td>\n",
       "      <td>0</td>\n",
       "      <td>...</td>\n",
       "      <td>0</td>\n",
       "      <td>0</td>\n",
       "      <td>0</td>\n",
       "      <td>0</td>\n",
       "      <td>0</td>\n",
       "      <td>0</td>\n",
       "      <td>0</td>\n",
       "      <td>0</td>\n",
       "      <td>0</td>\n",
       "      <td>0</td>\n",
       "    </tr>\n",
       "    <tr>\n",
       "      <th>22642</th>\n",
       "      <td>131258</td>\n",
       "      <td>1</td>\n",
       "      <td>0</td>\n",
       "      <td>1</td>\n",
       "      <td>0</td>\n",
       "      <td>0</td>\n",
       "      <td>1</td>\n",
       "      <td>0</td>\n",
       "      <td>0</td>\n",
       "      <td>0</td>\n",
       "      <td>...</td>\n",
       "      <td>0</td>\n",
       "      <td>0</td>\n",
       "      <td>0</td>\n",
       "      <td>0</td>\n",
       "      <td>0</td>\n",
       "      <td>0</td>\n",
       "      <td>0</td>\n",
       "      <td>0</td>\n",
       "      <td>0</td>\n",
       "      <td>0</td>\n",
       "    </tr>\n",
       "    <tr>\n",
       "      <th>22643</th>\n",
       "      <td>131260</td>\n",
       "      <td>0</td>\n",
       "      <td>0</td>\n",
       "      <td>0</td>\n",
       "      <td>0</td>\n",
       "      <td>1</td>\n",
       "      <td>0</td>\n",
       "      <td>0</td>\n",
       "      <td>0</td>\n",
       "      <td>1</td>\n",
       "      <td>...</td>\n",
       "      <td>0</td>\n",
       "      <td>0</td>\n",
       "      <td>0</td>\n",
       "      <td>0</td>\n",
       "      <td>0</td>\n",
       "      <td>0</td>\n",
       "      <td>0</td>\n",
       "      <td>0</td>\n",
       "      <td>0</td>\n",
       "      <td>0</td>\n",
       "    </tr>\n",
       "    <tr>\n",
       "      <th>22644</th>\n",
       "      <td>131262</td>\n",
       "      <td>0</td>\n",
       "      <td>0</td>\n",
       "      <td>0</td>\n",
       "      <td>0</td>\n",
       "      <td>0</td>\n",
       "      <td>0</td>\n",
       "      <td>0</td>\n",
       "      <td>0</td>\n",
       "      <td>0</td>\n",
       "      <td>...</td>\n",
       "      <td>0</td>\n",
       "      <td>1</td>\n",
       "      <td>0</td>\n",
       "      <td>0</td>\n",
       "      <td>0</td>\n",
       "      <td>0</td>\n",
       "      <td>0</td>\n",
       "      <td>0</td>\n",
       "      <td>0</td>\n",
       "      <td>0</td>\n",
       "    </tr>\n",
       "  </tbody>\n",
       "</table>\n",
       "<p>5 rows × 26 columns</p>\n",
       "</div>"
      ],
      "text/plain": [
       "       movieId  Action  Adult  Adventure  Animation  Biography  Comedy  Crime  \\\n",
       "22640   131254       0      0          0          0          0       1      0   \n",
       "22641   131256       0      0          0          0          0       1      0   \n",
       "22642   131258       1      0          1          0          0       1      0   \n",
       "22643   131260       0      0          0          0          1       0      0   \n",
       "22644   131262       0      0          0          0          0       0      0   \n",
       "\n",
       "       Documentary  Drama  ...  Musical  Mystery  News  Romance  Sci-Fi  \\\n",
       "22640            0      0  ...        0        0     0        0       0   \n",
       "22641            0      0  ...        0        0     0        0       0   \n",
       "22642            0      0  ...        0        0     0        0       0   \n",
       "22643            0      1  ...        0        0     0        0       0   \n",
       "22644            0      0  ...        0        1     0        0       0   \n",
       "\n",
       "       Sport  Thriller  War  Western  \\N  \n",
       "22640      0         0    0        0   0  \n",
       "22641      0         0    0        0   0  \n",
       "22642      0         0    0        0   0  \n",
       "22643      0         0    0        0   0  \n",
       "22644      0         0    0        0   0  \n",
       "\n",
       "[5 rows x 26 columns]"
      ]
     },
     "execution_count": 26,
     "metadata": {},
     "output_type": "execute_result"
    }
   ],
   "source": [
    "df_movie_genres.tail()"
   ]
  },
  {
   "cell_type": "code",
   "execution_count": 27,
   "metadata": {},
   "outputs": [],
   "source": [
    "df_movie_genres = df_movie_genres.reset_index(drop=True) # maybe not necessary?"
   ]
  },
  {
   "cell_type": "code",
   "execution_count": 28,
   "metadata": {},
   "outputs": [
    {
     "data": {
      "application/vnd.microsoft.datawrangler.viewer.v0+json": {
       "columns": [
        {
         "name": "index",
         "rawType": "int64",
         "type": "integer"
        },
        {
         "name": "movieId",
         "rawType": "int64",
         "type": "integer"
        },
        {
         "name": "Action",
         "rawType": "int64",
         "type": "integer"
        },
        {
         "name": "Adult",
         "rawType": "int64",
         "type": "integer"
        },
        {
         "name": "Adventure",
         "rawType": "int64",
         "type": "integer"
        },
        {
         "name": "Animation",
         "rawType": "int64",
         "type": "integer"
        },
        {
         "name": "Biography",
         "rawType": "int64",
         "type": "integer"
        },
        {
         "name": "Comedy",
         "rawType": "int64",
         "type": "integer"
        },
        {
         "name": "Crime",
         "rawType": "int64",
         "type": "integer"
        },
        {
         "name": "Documentary",
         "rawType": "int64",
         "type": "integer"
        },
        {
         "name": "Drama",
         "rawType": "int64",
         "type": "integer"
        },
        {
         "name": "Family",
         "rawType": "int64",
         "type": "integer"
        },
        {
         "name": "Fantasy",
         "rawType": "int64",
         "type": "integer"
        },
        {
         "name": "Film-Noir",
         "rawType": "int64",
         "type": "integer"
        },
        {
         "name": "History",
         "rawType": "int64",
         "type": "integer"
        },
        {
         "name": "Horror",
         "rawType": "int64",
         "type": "integer"
        },
        {
         "name": "Music",
         "rawType": "int64",
         "type": "integer"
        },
        {
         "name": "Musical",
         "rawType": "int64",
         "type": "integer"
        },
        {
         "name": "Mystery",
         "rawType": "int64",
         "type": "integer"
        },
        {
         "name": "News",
         "rawType": "int64",
         "type": "integer"
        },
        {
         "name": "Romance",
         "rawType": "int64",
         "type": "integer"
        },
        {
         "name": "Sci-Fi",
         "rawType": "int64",
         "type": "integer"
        },
        {
         "name": "Sport",
         "rawType": "int64",
         "type": "integer"
        },
        {
         "name": "Thriller",
         "rawType": "int64",
         "type": "integer"
        },
        {
         "name": "War",
         "rawType": "int64",
         "type": "integer"
        },
        {
         "name": "Western",
         "rawType": "int64",
         "type": "integer"
        },
        {
         "name": "\\N",
         "rawType": "int64",
         "type": "integer"
        }
       ],
       "ref": "aeeca8b7-baa8-4c40-8a7c-63b0299d9bf2",
       "rows": [
        [
         "0",
         "1",
         "0",
         "0",
         "1",
         "1",
         "0",
         "1",
         "0",
         "0",
         "0",
         "0",
         "0",
         "0",
         "0",
         "0",
         "0",
         "0",
         "0",
         "0",
         "0",
         "0",
         "0",
         "0",
         "0",
         "0",
         "0"
        ],
        [
         "1",
         "2",
         "0",
         "0",
         "1",
         "0",
         "0",
         "1",
         "0",
         "0",
         "0",
         "1",
         "0",
         "0",
         "0",
         "0",
         "0",
         "0",
         "0",
         "0",
         "0",
         "0",
         "0",
         "0",
         "0",
         "0",
         "0"
        ],
        [
         "2",
         "3",
         "0",
         "0",
         "0",
         "0",
         "0",
         "1",
         "0",
         "0",
         "0",
         "0",
         "0",
         "0",
         "0",
         "0",
         "0",
         "0",
         "0",
         "0",
         "1",
         "0",
         "0",
         "0",
         "0",
         "0",
         "0"
        ],
        [
         "3",
         "4",
         "0",
         "0",
         "0",
         "0",
         "0",
         "1",
         "0",
         "0",
         "1",
         "0",
         "0",
         "0",
         "0",
         "0",
         "0",
         "0",
         "0",
         "0",
         "1",
         "0",
         "0",
         "0",
         "0",
         "0",
         "0"
        ],
        [
         "4",
         "5",
         "0",
         "0",
         "0",
         "0",
         "0",
         "1",
         "0",
         "0",
         "0",
         "1",
         "0",
         "0",
         "0",
         "0",
         "0",
         "0",
         "0",
         "0",
         "1",
         "0",
         "0",
         "0",
         "0",
         "0",
         "0"
        ]
       ],
       "shape": {
        "columns": 26,
        "rows": 5
       }
      },
      "text/html": [
       "<div>\n",
       "<style scoped>\n",
       "    .dataframe tbody tr th:only-of-type {\n",
       "        vertical-align: middle;\n",
       "    }\n",
       "\n",
       "    .dataframe tbody tr th {\n",
       "        vertical-align: top;\n",
       "    }\n",
       "\n",
       "    .dataframe thead th {\n",
       "        text-align: right;\n",
       "    }\n",
       "</style>\n",
       "<table border=\"1\" class=\"dataframe\">\n",
       "  <thead>\n",
       "    <tr style=\"text-align: right;\">\n",
       "      <th></th>\n",
       "      <th>movieId</th>\n",
       "      <th>Action</th>\n",
       "      <th>Adult</th>\n",
       "      <th>Adventure</th>\n",
       "      <th>Animation</th>\n",
       "      <th>Biography</th>\n",
       "      <th>Comedy</th>\n",
       "      <th>Crime</th>\n",
       "      <th>Documentary</th>\n",
       "      <th>Drama</th>\n",
       "      <th>...</th>\n",
       "      <th>Musical</th>\n",
       "      <th>Mystery</th>\n",
       "      <th>News</th>\n",
       "      <th>Romance</th>\n",
       "      <th>Sci-Fi</th>\n",
       "      <th>Sport</th>\n",
       "      <th>Thriller</th>\n",
       "      <th>War</th>\n",
       "      <th>Western</th>\n",
       "      <th>\\N</th>\n",
       "    </tr>\n",
       "  </thead>\n",
       "  <tbody>\n",
       "    <tr>\n",
       "      <th>0</th>\n",
       "      <td>1</td>\n",
       "      <td>0</td>\n",
       "      <td>0</td>\n",
       "      <td>1</td>\n",
       "      <td>1</td>\n",
       "      <td>0</td>\n",
       "      <td>1</td>\n",
       "      <td>0</td>\n",
       "      <td>0</td>\n",
       "      <td>0</td>\n",
       "      <td>...</td>\n",
       "      <td>0</td>\n",
       "      <td>0</td>\n",
       "      <td>0</td>\n",
       "      <td>0</td>\n",
       "      <td>0</td>\n",
       "      <td>0</td>\n",
       "      <td>0</td>\n",
       "      <td>0</td>\n",
       "      <td>0</td>\n",
       "      <td>0</td>\n",
       "    </tr>\n",
       "    <tr>\n",
       "      <th>1</th>\n",
       "      <td>2</td>\n",
       "      <td>0</td>\n",
       "      <td>0</td>\n",
       "      <td>1</td>\n",
       "      <td>0</td>\n",
       "      <td>0</td>\n",
       "      <td>1</td>\n",
       "      <td>0</td>\n",
       "      <td>0</td>\n",
       "      <td>0</td>\n",
       "      <td>...</td>\n",
       "      <td>0</td>\n",
       "      <td>0</td>\n",
       "      <td>0</td>\n",
       "      <td>0</td>\n",
       "      <td>0</td>\n",
       "      <td>0</td>\n",
       "      <td>0</td>\n",
       "      <td>0</td>\n",
       "      <td>0</td>\n",
       "      <td>0</td>\n",
       "    </tr>\n",
       "    <tr>\n",
       "      <th>2</th>\n",
       "      <td>3</td>\n",
       "      <td>0</td>\n",
       "      <td>0</td>\n",
       "      <td>0</td>\n",
       "      <td>0</td>\n",
       "      <td>0</td>\n",
       "      <td>1</td>\n",
       "      <td>0</td>\n",
       "      <td>0</td>\n",
       "      <td>0</td>\n",
       "      <td>...</td>\n",
       "      <td>0</td>\n",
       "      <td>0</td>\n",
       "      <td>0</td>\n",
       "      <td>1</td>\n",
       "      <td>0</td>\n",
       "      <td>0</td>\n",
       "      <td>0</td>\n",
       "      <td>0</td>\n",
       "      <td>0</td>\n",
       "      <td>0</td>\n",
       "    </tr>\n",
       "    <tr>\n",
       "      <th>3</th>\n",
       "      <td>4</td>\n",
       "      <td>0</td>\n",
       "      <td>0</td>\n",
       "      <td>0</td>\n",
       "      <td>0</td>\n",
       "      <td>0</td>\n",
       "      <td>1</td>\n",
       "      <td>0</td>\n",
       "      <td>0</td>\n",
       "      <td>1</td>\n",
       "      <td>...</td>\n",
       "      <td>0</td>\n",
       "      <td>0</td>\n",
       "      <td>0</td>\n",
       "      <td>1</td>\n",
       "      <td>0</td>\n",
       "      <td>0</td>\n",
       "      <td>0</td>\n",
       "      <td>0</td>\n",
       "      <td>0</td>\n",
       "      <td>0</td>\n",
       "    </tr>\n",
       "    <tr>\n",
       "      <th>4</th>\n",
       "      <td>5</td>\n",
       "      <td>0</td>\n",
       "      <td>0</td>\n",
       "      <td>0</td>\n",
       "      <td>0</td>\n",
       "      <td>0</td>\n",
       "      <td>1</td>\n",
       "      <td>0</td>\n",
       "      <td>0</td>\n",
       "      <td>0</td>\n",
       "      <td>...</td>\n",
       "      <td>0</td>\n",
       "      <td>0</td>\n",
       "      <td>0</td>\n",
       "      <td>1</td>\n",
       "      <td>0</td>\n",
       "      <td>0</td>\n",
       "      <td>0</td>\n",
       "      <td>0</td>\n",
       "      <td>0</td>\n",
       "      <td>0</td>\n",
       "    </tr>\n",
       "  </tbody>\n",
       "</table>\n",
       "<p>5 rows × 26 columns</p>\n",
       "</div>"
      ],
      "text/plain": [
       "   movieId  Action  Adult  Adventure  Animation  Biography  Comedy  Crime  \\\n",
       "0        1       0      0          1          1          0       1      0   \n",
       "1        2       0      0          1          0          0       1      0   \n",
       "2        3       0      0          0          0          0       1      0   \n",
       "3        4       0      0          0          0          0       1      0   \n",
       "4        5       0      0          0          0          0       1      0   \n",
       "\n",
       "   Documentary  Drama  ...  Musical  Mystery  News  Romance  Sci-Fi  Sport  \\\n",
       "0            0      0  ...        0        0     0        0       0      0   \n",
       "1            0      0  ...        0        0     0        0       0      0   \n",
       "2            0      0  ...        0        0     0        1       0      0   \n",
       "3            0      1  ...        0        0     0        1       0      0   \n",
       "4            0      0  ...        0        0     0        1       0      0   \n",
       "\n",
       "   Thriller  War  Western  \\N  \n",
       "0         0    0        0   0  \n",
       "1         0    0        0   0  \n",
       "2         0    0        0   0  \n",
       "3         0    0        0   0  \n",
       "4         0    0        0   0  \n",
       "\n",
       "[5 rows x 26 columns]"
      ]
     },
     "execution_count": 28,
     "metadata": {},
     "output_type": "execute_result"
    }
   ],
   "source": [
    "df_movie_genres.head()"
   ]
  },
  {
   "cell_type": "code",
   "execution_count": 29,
   "metadata": {},
   "outputs": [],
   "source": [
    "user_id = 1"
   ]
  },
  {
   "cell_type": "code",
   "execution_count": 31,
   "metadata": {},
   "outputs": [],
   "source": [
    "recommended_movies = get_recommendations(user_id, mv_user1, df_movie_genres)"
   ]
  },
  {
   "cell_type": "code",
   "execution_count": 32,
   "metadata": {},
   "outputs": [
    {
     "data": {
      "application/vnd.microsoft.datawrangler.viewer.v0+json": {
       "columns": [
        {
         "name": "index",
         "rawType": "int64",
         "type": "integer"
        },
        {
         "name": "movieId",
         "rawType": "int64",
         "type": "integer"
        }
       ],
       "ref": "87f6bd2b-721b-4c4b-b591-08ad833c1114",
       "rows": [
        [
         "144",
         "155"
        ],
        [
         "156",
         "168"
        ],
        [
         "389",
         "416"
        ],
        [
         "566",
         "599"
        ],
        [
         "660",
         "704"
        ],
        [
         "741",
         "798"
        ],
        [
         "904",
         "967"
        ],
        [
         "961",
         "1027"
        ],
        [
         "1255",
         "1356"
        ],
        [
         "1303",
         "1408"
        ]
       ],
       "shape": {
        "columns": 1,
        "rows": 10
       }
      },
      "text/plain": [
       "144      155\n",
       "156      168\n",
       "389      416\n",
       "566      599\n",
       "660      704\n",
       "741      798\n",
       "904      967\n",
       "961     1027\n",
       "1255    1356\n",
       "1303    1408\n",
       "Name: movieId, dtype: int64"
      ]
     },
     "execution_count": 32,
     "metadata": {},
     "output_type": "execute_result"
    }
   ],
   "source": [
    "recommended_movies"
   ]
  },
  {
   "cell_type": "code",
   "execution_count": 33,
   "metadata": {},
   "outputs": [],
   "source": [
    "def get_recommendationsB(user_id, df_user, df_movie, n_recommendations=10):\n",
    "    \"\"\"Get movie recommendations for user using vectorized operations\"\"\"\n",
    "    \n",
    "    # Get genre columns (all except movieId)\n",
    "    genre_cols = df_movie.columns[df_movie.columns != 'movieId']\n",
    "    \n",
    "    # Get user's rated movies and merge with features\n",
    "    user_ratings = df_user[df_user['userId'] == user_id]\n",
    "    user_movies = user_ratings.merge(df_movie, on='movieId')\n",
    "    \n",
    "    # Calculate similarities matrix for all movies at once\n",
    "    all_movies_features = df_movie[genre_cols].values\n",
    "    user_movies_features = user_movies[genre_cols].values\n",
    "    \n",
    "    # Calculate similarity matrix (user_movies x all_movies)\n",
    "    similarities = cosine_similarity(user_movies_features, all_movies_features)\n",
    "    \n",
    "    # Weight similarities by ratings\n",
    "    weighted_similarities = similarities * user_ratings['rating'].values.reshape(-1, 1)\n",
    "    \n",
    "    # Calculate mean similarity for each movie\n",
    "    mean_similarities = weighted_similarities.mean(axis=0)\n",
    "    \n",
    "    # Create recommendations dataframe\n",
    "    recommendations = pd.DataFrame({\n",
    "        'movieId': df_movie['movieId'],\n",
    "        'similarity_score': mean_similarities\n",
    "    })\n",
    "    \n",
    "    # Filter out already rated movies\n",
    "    rated_movies = user_ratings['movieId']\n",
    "    recommendations = recommendations[~recommendations['movieId'].isin(rated_movies)]\n",
    "    \n",
    "    # Sort and get top recommendations\n",
    "    return recommendations.nlargest(n_recommendations, 'similarity_score')"
   ]
  },
  {
   "cell_type": "code",
   "execution_count": 34,
   "metadata": {},
   "outputs": [],
   "source": [
    "recommended_moviesB = get_recommendationsB(user_id, mv_user1, df_movie_genres)"
   ]
  },
  {
   "cell_type": "code",
   "execution_count": 35,
   "metadata": {},
   "outputs": [
    {
     "data": {
      "application/vnd.microsoft.datawrangler.viewer.v0+json": {
       "columns": [
        {
         "name": "index",
         "rawType": "int64",
         "type": "integer"
        },
        {
         "name": "movieId",
         "rawType": "int64",
         "type": "integer"
        },
        {
         "name": "similarity_score",
         "rawType": "float64",
         "type": "float"
        }
       ],
       "ref": "1e6d356d-8970-4e36-9393-d03d68dff7ae",
       "rows": [
        [
         "144",
         "155",
         "1.5052014760655081"
        ],
        [
         "156",
         "168",
         "1.5052014760655081"
        ],
        [
         "389",
         "416",
         "1.5052014760655081"
        ],
        [
         "566",
         "599",
         "1.5052014760655081"
        ],
        [
         "660",
         "704",
         "1.5052014760655081"
        ],
        [
         "741",
         "798",
         "1.5052014760655081"
        ],
        [
         "904",
         "967",
         "1.5052014760655081"
        ],
        [
         "961",
         "1027",
         "1.5052014760655081"
        ],
        [
         "1255",
         "1356",
         "1.5052014760655081"
        ],
        [
         "1303",
         "1408",
         "1.5052014760655081"
        ]
       ],
       "shape": {
        "columns": 2,
        "rows": 10
       }
      },
      "text/html": [
       "<div>\n",
       "<style scoped>\n",
       "    .dataframe tbody tr th:only-of-type {\n",
       "        vertical-align: middle;\n",
       "    }\n",
       "\n",
       "    .dataframe tbody tr th {\n",
       "        vertical-align: top;\n",
       "    }\n",
       "\n",
       "    .dataframe thead th {\n",
       "        text-align: right;\n",
       "    }\n",
       "</style>\n",
       "<table border=\"1\" class=\"dataframe\">\n",
       "  <thead>\n",
       "    <tr style=\"text-align: right;\">\n",
       "      <th></th>\n",
       "      <th>movieId</th>\n",
       "      <th>similarity_score</th>\n",
       "    </tr>\n",
       "  </thead>\n",
       "  <tbody>\n",
       "    <tr>\n",
       "      <th>144</th>\n",
       "      <td>155</td>\n",
       "      <td>1.505201</td>\n",
       "    </tr>\n",
       "    <tr>\n",
       "      <th>156</th>\n",
       "      <td>168</td>\n",
       "      <td>1.505201</td>\n",
       "    </tr>\n",
       "    <tr>\n",
       "      <th>389</th>\n",
       "      <td>416</td>\n",
       "      <td>1.505201</td>\n",
       "    </tr>\n",
       "    <tr>\n",
       "      <th>566</th>\n",
       "      <td>599</td>\n",
       "      <td>1.505201</td>\n",
       "    </tr>\n",
       "    <tr>\n",
       "      <th>660</th>\n",
       "      <td>704</td>\n",
       "      <td>1.505201</td>\n",
       "    </tr>\n",
       "    <tr>\n",
       "      <th>741</th>\n",
       "      <td>798</td>\n",
       "      <td>1.505201</td>\n",
       "    </tr>\n",
       "    <tr>\n",
       "      <th>904</th>\n",
       "      <td>967</td>\n",
       "      <td>1.505201</td>\n",
       "    </tr>\n",
       "    <tr>\n",
       "      <th>961</th>\n",
       "      <td>1027</td>\n",
       "      <td>1.505201</td>\n",
       "    </tr>\n",
       "    <tr>\n",
       "      <th>1255</th>\n",
       "      <td>1356</td>\n",
       "      <td>1.505201</td>\n",
       "    </tr>\n",
       "    <tr>\n",
       "      <th>1303</th>\n",
       "      <td>1408</td>\n",
       "      <td>1.505201</td>\n",
       "    </tr>\n",
       "  </tbody>\n",
       "</table>\n",
       "</div>"
      ],
      "text/plain": [
       "      movieId  similarity_score\n",
       "144       155          1.505201\n",
       "156       168          1.505201\n",
       "389       416          1.505201\n",
       "566       599          1.505201\n",
       "660       704          1.505201\n",
       "741       798          1.505201\n",
       "904       967          1.505201\n",
       "961      1027          1.505201\n",
       "1255     1356          1.505201\n",
       "1303     1408          1.505201"
      ]
     },
     "execution_count": 35,
     "metadata": {},
     "output_type": "execute_result"
    }
   ],
   "source": [
    "recommended_moviesB"
   ]
  },
  {
   "cell_type": "code",
   "execution_count": 36,
   "metadata": {},
   "outputs": [],
   "source": [
    "#introduce Bayesian average \n",
    "def calculate_bayesian_weights(ratings):\n",
    "    \"\"\"Calculate Bayesian weights for ratings\"\"\"\n",
    "    C = ratings['movieId'].value_counts().mean()  # mean number of ratings\n",
    "    M = ratings['rating'].mean()  # mean rating across all items\n",
    "    \n",
    "    # Group by movie and calculate stats\n",
    "    movie_stats = ratings.groupby('movieId').agg({\n",
    "        'rating': ['count', 'mean']\n",
    "    }).droplevel(0, axis=1)\n",
    "    \n",
    "    # Calculate Bayesian average\n",
    "    movie_stats['bayesian_avg'] = (\n",
    "        (C * M + movie_stats['count'] * movie_stats['mean']) / \n",
    "        (C + movie_stats['count'])\n",
    "    )\n",
    "    \n",
    "    return movie_stats['bayesian_avg']"
   ]
  },
  {
   "cell_type": "code",
   "execution_count": 37,
   "metadata": {},
   "outputs": [],
   "source": [
    "# Calculate Bayesian weights once\n",
    "bayesian_weights = calculate_bayesian_weights(mv_ratings)"
   ]
  },
  {
   "cell_type": "code",
   "execution_count": 38,
   "metadata": {},
   "outputs": [
    {
     "data": {
      "application/vnd.microsoft.datawrangler.viewer.v0+json": {
       "columns": [
        {
         "name": "movieId",
         "rawType": "int64",
         "type": "integer"
        },
        {
         "name": "bayesian_avg",
         "rawType": "float64",
         "type": "float"
        }
       ],
       "ref": "d1de4374-9874-48a1-9e2a-e5233813399d",
       "rows": [
        [
         "1",
         "3.9153729418017673"
        ],
        [
         "2",
         "3.2221759458229546"
        ],
        [
         "3",
         "3.171811849642607"
        ],
        [
         "4",
         "3.003142799982759"
        ],
        [
         "5",
         "3.0912949396905804"
        ],
        [
         "6",
         "3.82554237965343"
        ],
        [
         "7",
         "3.3751602214648195"
        ],
        [
         "8",
         "3.2746442470684842"
        ],
        [
         "9",
         "3.087622300970427"
        ],
        [
         "10",
         "3.432429690278248"
        ],
        [
         "11",
         "3.6620897441826217"
        ],
        [
         "12",
         "2.7672490514055563"
        ],
        [
         "13",
         "3.358111710026707"
        ],
        [
         "14",
         "3.4424050457460624"
        ],
        [
         "15",
         "2.886274959966135"
        ],
        [
         "16",
         "3.7766583212863742"
        ],
        [
         "17",
         "3.9531012513405557"
        ],
        [
         "18",
         "3.3927195876048333"
        ],
        [
         "19",
         "2.639073804714477"
        ],
        [
         "20",
         "2.9805481749542277"
        ],
        [
         "21",
         "3.57999935731334"
        ],
        [
         "22",
         "3.3338389763090825"
        ],
        [
         "23",
         "3.2046907547869363"
        ],
        [
         "24",
         "3.227783927215674"
        ],
        [
         "25",
         "3.684010606932827"
        ],
        [
         "26",
         "3.606796539448561"
        ],
        [
         "27",
         "3.448570351139989"
        ],
        [
         "28",
         "3.9555775732670435"
        ],
        [
         "29",
         "3.917798628473431"
        ],
        [
         "30",
         "3.5939409735030443"
        ],
        [
         "31",
         "3.270554341217534"
        ],
        [
         "32",
         "3.8919623334478874"
        ],
        [
         "33",
         "3.484119049306849"
        ],
        [
         "34",
         "3.6404300706382657"
        ],
        [
         "35",
         "3.5096353596765377"
        ],
        [
         "36",
         "3.9282441595882482"
        ],
        [
         "37",
         "3.4736940345665435"
        ],
        [
         "38",
         "3.2419617799421006"
        ],
        [
         "39",
         "3.4167312821545264"
        ],
        [
         "40",
         "3.591252024495825"
        ],
        [
         "41",
         "3.807180451358188"
        ],
        [
         "42",
         "3.1645530374727007"
        ],
        [
         "43",
         "3.4813904101724638"
        ],
        [
         "44",
         "2.710831448637827"
        ],
        [
         "45",
         "3.395266467356302"
        ],
        [
         "46",
         "3.322302827788995"
        ],
        [
         "47",
         "4.044518440382857"
        ],
        [
         "48",
         "2.9775270625920176"
        ],
        [
         "49",
         "3.539733356613088"
        ],
        [
         "50",
         "4.321705445828563"
        ]
       ],
       "shape": {
        "columns": 1,
        "rows": 26744
       }
      },
      "text/plain": [
       "movieId\n",
       "1         3.915373\n",
       "2         3.222176\n",
       "3         3.171812\n",
       "4         3.003143\n",
       "5         3.091295\n",
       "            ...   \n",
       "131254    3.526162\n",
       "131256    3.526162\n",
       "131258    3.524159\n",
       "131260    3.524827\n",
       "131262    3.526162\n",
       "Name: bayesian_avg, Length: 26744, dtype: float64"
      ]
     },
     "execution_count": 38,
     "metadata": {},
     "output_type": "execute_result"
    }
   ],
   "source": [
    "bayesian_weights"
   ]
  },
  {
   "cell_type": "code",
   "execution_count": 39,
   "metadata": {},
   "outputs": [],
   "source": [
    "def get_recommendations_bayesian(user_id, df_user, df_movie, bayesian_weights, n_recommendations=5):\n",
    "    \"\"\"Get recommendations using pre-calculated Bayesian weights\"\"\"\n",
    "    \n",
    "    genre_cols = df_movie.columns[df_movie.columns != 'movieId']\n",
    "    user_ratings = df_user[df_user['userId'] == user_id]\n",
    "    user_movies = user_ratings.merge(df_movie, on='movieId')\n",
    "    \n",
    "    # Create weights DataFrame aligned with df_movie\n",
    "    weights_df = pd.DataFrame(index=df_movie['movieId'])\n",
    "    weights_df['bayesian_weight'] = bayesian_weights\n",
    "    weights_df = weights_df.fillna(weights_df['bayesian_weight'].mean())\n",
    "    \n",
    "    # Ensure exact same movies are used\n",
    "    all_movies_features = df_movie[genre_cols].values\n",
    "    user_movies_features = user_movies[genre_cols].values\n",
    "    similarities = cosine_similarity(user_movies_features, all_movies_features)\n",
    "    \n",
    "    # Make sure weights align exactly with df_movie\n",
    "    bayesian_weights_aligned = weights_df.reindex(df_movie['movieId'])['bayesian_weight'].values\n",
    "    \n",
    "    weighted_similarities = (\n",
    "        similarities * \n",
    "        user_ratings['rating'].values.reshape(-1, 1) *\n",
    "        bayesian_weights_aligned.reshape(1, -1)\n",
    "    )\n",
    "    \n",
    "    mean_similarities = weighted_similarities.mean(axis=0)\n",
    "    \n",
    "    recommendations = pd.DataFrame({\n",
    "        'movieId': df_movie['movieId'],\n",
    "        'similarity_score': mean_similarities\n",
    "    })\n",
    "    \n",
    "    rated_movies = user_ratings['movieId']\n",
    "    recommendations = recommendations[~recommendations['movieId'].isin(rated_movies)]\n",
    "    \n",
    "    return recommendations.nlargest(n_recommendations, 'similarity_score')['movieId']"
   ]
  },
  {
   "cell_type": "code",
   "execution_count": 40,
   "metadata": {},
   "outputs": [],
   "source": [
    "recommended_moviesB_Bayesian = get_recommendations_bayesian(user_id, mv_ratings, df_movie_genres, bayesian_weights)"
   ]
  },
  {
   "cell_type": "code",
   "execution_count": 41,
   "metadata": {},
   "outputs": [
    {
     "data": {
      "application/vnd.microsoft.datawrangler.viewer.v0+json": {
       "columns": [
        {
         "name": "index",
         "rawType": "int64",
         "type": "integer"
        },
        {
         "name": "movieId",
         "rawType": "int64",
         "type": "integer"
        }
       ],
       "ref": "41cf161e-ffa5-4480-a25a-8b8028a09fe6",
       "rows": [
        [
         "3337",
         "3578"
        ],
        [
         "566",
         "599"
        ],
        [
         "6662",
         "7090"
        ],
        [
         "4044",
         "4327"
        ],
        [
         "3384",
         "3629"
        ]
       ],
       "shape": {
        "columns": 1,
        "rows": 5
       }
      },
      "text/plain": [
       "3337    3578\n",
       "566      599\n",
       "6662    7090\n",
       "4044    4327\n",
       "3384    3629\n",
       "Name: movieId, dtype: int64"
      ]
     },
     "execution_count": 41,
     "metadata": {},
     "output_type": "execute_result"
    }
   ],
   "source": [
    "recommended_moviesB_Bayesian"
   ]
  },
  {
   "cell_type": "code",
   "execution_count": 42,
   "metadata": {},
   "outputs": [],
   "source": [
    "def get_recommendations_bayesian(user_id, df_user, df_movie, bayesian_weights, n_recommendations=10):\n",
    "    \"\"\"Get recommendations using pre-calculated Bayesian weights\"\"\"\n",
    "    \n",
    "    genre_cols = df_movie.columns[df_movie.columns != 'movieId']\n",
    "    user_ratings = df_user[df_user['userId'] == user_id]\n",
    "    user_movies = user_ratings.merge(df_movie, on='movieId')\n",
    "    \n",
    "    # Create weights DataFrame aligned with df_movie\n",
    "    weights_df = pd.DataFrame(index=df_movie['movieId'])\n",
    "    weights_df['bayesian_weight'] = bayesian_weights\n",
    "    weights_df = weights_df.fillna(weights_df['bayesian_weight'].mean())\n",
    "    \n",
    "    # Ensure exact same movies are used\n",
    "    all_movies_features = df_movie[genre_cols].values\n",
    "    user_movies_features = user_movies[genre_cols].values\n",
    "    similarities = cosine_similarity(user_movies_features, all_movies_features)\n",
    "    \n",
    "    # Make sure weights align exactly with df_movie\n",
    "    bayesian_weights_aligned = weights_df.reindex(df_movie['movieId'])['bayesian_weight'].values\n",
    "    \n",
    "    weighted_similarities = (\n",
    "        similarities * \n",
    "        user_ratings['rating'].values.reshape(-1, 1) *\n",
    "        bayesian_weights_aligned.reshape(1, -1)\n",
    "    )\n",
    "    \n",
    "    mean_similarities = weighted_similarities.mean(axis=0)\n",
    "    \n",
    "    recommendations = pd.DataFrame({\n",
    "        'movieId': df_movie['movieId'],\n",
    "        'similarity_score': mean_similarities\n",
    "    })\n",
    "    \n",
    "    rated_movies = user_ratings['movieId']\n",
    "    recommendations = recommendations[~recommendations['movieId'].isin(rated_movies)]\n",
    "    \n",
    "    return recommendations.nlargest(n_recommendations, 'similarity_score')"
   ]
  },
  {
   "cell_type": "code",
   "execution_count": 43,
   "metadata": {},
   "outputs": [],
   "source": [
    "recommended_moviesB_Bayesian = get_recommendations_bayesian(user_id, mv_ratings, df_movie_genres, bayesian_weights)"
   ]
  },
  {
   "cell_type": "code",
   "execution_count": 44,
   "metadata": {},
   "outputs": [
    {
     "data": {
      "application/vnd.microsoft.datawrangler.viewer.v0+json": {
       "columns": [
        {
         "name": "index",
         "rawType": "int64",
         "type": "integer"
        },
        {
         "name": "movieId",
         "rawType": "int64",
         "type": "integer"
        },
        {
         "name": "similarity_score",
         "rawType": "float64",
         "type": "float"
        }
       ],
       "ref": "11bbd682-1091-4d3c-ae95-1509fdca3888",
       "rows": [
        [
         "3337",
         "3578",
         "5.93464431741"
        ],
        [
         "566",
         "599",
         "5.890379536957777"
        ],
        [
         "6662",
         "7090",
         "5.849844445154533"
        ],
        [
         "4044",
         "4327",
         "5.823710123019783"
        ],
        [
         "3384",
         "3629",
         "5.711284951304682"
        ],
        [
         "11717",
         "59387",
         "5.675528947569829"
        ],
        [
         "10753",
         "50068",
         "5.665969465416718"
        ],
        [
         "3409",
         "3654",
         "5.664151943430343"
        ],
        [
         "4745",
         "5064",
         "5.658570949775279"
        ],
        [
         "6712",
         "7147",
         "5.643997961986613"
        ]
       ],
       "shape": {
        "columns": 2,
        "rows": 10
       }
      },
      "text/html": [
       "<div>\n",
       "<style scoped>\n",
       "    .dataframe tbody tr th:only-of-type {\n",
       "        vertical-align: middle;\n",
       "    }\n",
       "\n",
       "    .dataframe tbody tr th {\n",
       "        vertical-align: top;\n",
       "    }\n",
       "\n",
       "    .dataframe thead th {\n",
       "        text-align: right;\n",
       "    }\n",
       "</style>\n",
       "<table border=\"1\" class=\"dataframe\">\n",
       "  <thead>\n",
       "    <tr style=\"text-align: right;\">\n",
       "      <th></th>\n",
       "      <th>movieId</th>\n",
       "      <th>similarity_score</th>\n",
       "    </tr>\n",
       "  </thead>\n",
       "  <tbody>\n",
       "    <tr>\n",
       "      <th>3337</th>\n",
       "      <td>3578</td>\n",
       "      <td>5.934644</td>\n",
       "    </tr>\n",
       "    <tr>\n",
       "      <th>566</th>\n",
       "      <td>599</td>\n",
       "      <td>5.890380</td>\n",
       "    </tr>\n",
       "    <tr>\n",
       "      <th>6662</th>\n",
       "      <td>7090</td>\n",
       "      <td>5.849844</td>\n",
       "    </tr>\n",
       "    <tr>\n",
       "      <th>4044</th>\n",
       "      <td>4327</td>\n",
       "      <td>5.823710</td>\n",
       "    </tr>\n",
       "    <tr>\n",
       "      <th>3384</th>\n",
       "      <td>3629</td>\n",
       "      <td>5.711285</td>\n",
       "    </tr>\n",
       "    <tr>\n",
       "      <th>11717</th>\n",
       "      <td>59387</td>\n",
       "      <td>5.675529</td>\n",
       "    </tr>\n",
       "    <tr>\n",
       "      <th>10753</th>\n",
       "      <td>50068</td>\n",
       "      <td>5.665969</td>\n",
       "    </tr>\n",
       "    <tr>\n",
       "      <th>3409</th>\n",
       "      <td>3654</td>\n",
       "      <td>5.664152</td>\n",
       "    </tr>\n",
       "    <tr>\n",
       "      <th>4745</th>\n",
       "      <td>5064</td>\n",
       "      <td>5.658571</td>\n",
       "    </tr>\n",
       "    <tr>\n",
       "      <th>6712</th>\n",
       "      <td>7147</td>\n",
       "      <td>5.643998</td>\n",
       "    </tr>\n",
       "  </tbody>\n",
       "</table>\n",
       "</div>"
      ],
      "text/plain": [
       "       movieId  similarity_score\n",
       "3337      3578          5.934644\n",
       "566        599          5.890380\n",
       "6662      7090          5.849844\n",
       "4044      4327          5.823710\n",
       "3384      3629          5.711285\n",
       "11717    59387          5.675529\n",
       "10753    50068          5.665969\n",
       "3409      3654          5.664152\n",
       "4745      5064          5.658571\n",
       "6712      7147          5.643998"
      ]
     },
     "execution_count": 44,
     "metadata": {},
     "output_type": "execute_result"
    }
   ],
   "source": [
    "recommended_moviesB_Bayesian"
   ]
  },
  {
   "cell_type": "code",
   "execution_count": null,
   "metadata": {},
   "outputs": [],
   "source": []
  },
  {
   "cell_type": "code",
   "execution_count": null,
   "metadata": {},
   "outputs": [],
   "source": []
  },
  {
   "cell_type": "code",
   "execution_count": 45,
   "metadata": {},
   "outputs": [],
   "source": [
    "def add_columns(dA, dB, columns_to_add):\n",
    "    \"\"\"\n",
    "    Add specified columns from dB to dA based on movieId\n",
    "    \"\"\"\n",
    "    # Validate inputs\n",
    "    if 'movieId' not in dA.columns or 'movieId' not in dB.columns:\n",
    "        raise ValueError(\"Both dataframes must contain 'movieId' column\")\n",
    "    \n",
    "    # Check if specified columns exist in dB\n",
    "    missing_cols = [col for col in columns_to_add if col not in dB.columns]\n",
    "    if missing_cols:\n",
    "        raise ValueError(f\"Columns {missing_cols} not found in second dataframe\")\n",
    "    \n",
    "    # Merge dataframes\n",
    "    merge_columns = ['movieId'] + columns_to_add\n",
    "    result = dA.merge(\n",
    "        dB[merge_columns],\n",
    "        on='movieId',\n",
    "        how='left'\n",
    "    )\n",
    "    \n",
    "    return result.reset_index(drop=True)"
   ]
  },
  {
   "cell_type": "code",
   "execution_count": 46,
   "metadata": {},
   "outputs": [],
   "source": [
    "columns_to_add = ['originalTitle', 'genres', 'startYear']"
   ]
  },
  {
   "cell_type": "code",
   "execution_count": 47,
   "metadata": {},
   "outputs": [],
   "source": [
    "reco_Bayesian_user1 = add_columns(recommended_moviesB_Bayesian, df_movieB, columns_to_add)"
   ]
  },
  {
   "cell_type": "code",
   "execution_count": 48,
   "metadata": {},
   "outputs": [
    {
     "data": {
      "application/vnd.microsoft.datawrangler.viewer.v0+json": {
       "columns": [
        {
         "name": "index",
         "rawType": "int64",
         "type": "integer"
        },
        {
         "name": "movieId",
         "rawType": "int64",
         "type": "integer"
        },
        {
         "name": "similarity_score",
         "rawType": "float64",
         "type": "float"
        },
        {
         "name": "originalTitle",
         "rawType": "object",
         "type": "string"
        },
        {
         "name": "genres",
         "rawType": "object",
         "type": "string"
        },
        {
         "name": "startYear",
         "rawType": "int64",
         "type": "integer"
        }
       ],
       "ref": "aaeb4416-3a4a-4d76-8f38-7051e2269ead",
       "rows": [
        [
         "0",
         "3578",
         "5.93464431741",
         "Gladiator",
         "Action,Adventure,Drama",
         "2000"
        ],
        [
         "1",
         "599",
         "5.890379536957777",
         "The Wild Bunch",
         "Action,Adventure,Drama",
         "1969"
        ],
        [
         "2",
         "7090",
         "5.849844445154533",
         "Ying xiong",
         "Action,Adventure,Drama",
         "2002"
        ],
        [
         "3",
         "4327",
         "5.823710123019783",
         "The Magnificent Seven",
         "Action,Adventure,Drama",
         "1960"
        ],
        [
         "4",
         "3629",
         "5.711284951304682",
         "The Gold Rush",
         "Adventure,Comedy,Drama",
         "1925"
        ],
        [
         "5",
         "59387",
         "5.675528947569829",
         "The Fall",
         "Adventure,Drama,Fantasy",
         "2006"
        ],
        [
         "6",
         "50068",
         "5.665969465416718",
         "Letters from Iwo Jima",
         "Action,Adventure,Drama",
         "2006"
        ],
        [
         "7",
         "3654",
         "5.664151943430343",
         "The Guns of Navarone",
         "Action,Adventure,Drama",
         "1961"
        ],
        [
         "8",
         "5064",
         "5.658570949775279",
         "The Count of Monte Cristo",
         "Action,Adventure,Drama",
         "2002"
        ],
        [
         "9",
         "7147",
         "5.643997961986613",
         "Big Fish",
         "Adventure,Drama,Fantasy",
         "2003"
        ]
       ],
       "shape": {
        "columns": 5,
        "rows": 10
       }
      },
      "text/html": [
       "<div>\n",
       "<style scoped>\n",
       "    .dataframe tbody tr th:only-of-type {\n",
       "        vertical-align: middle;\n",
       "    }\n",
       "\n",
       "    .dataframe tbody tr th {\n",
       "        vertical-align: top;\n",
       "    }\n",
       "\n",
       "    .dataframe thead th {\n",
       "        text-align: right;\n",
       "    }\n",
       "</style>\n",
       "<table border=\"1\" class=\"dataframe\">\n",
       "  <thead>\n",
       "    <tr style=\"text-align: right;\">\n",
       "      <th></th>\n",
       "      <th>movieId</th>\n",
       "      <th>similarity_score</th>\n",
       "      <th>originalTitle</th>\n",
       "      <th>genres</th>\n",
       "      <th>startYear</th>\n",
       "    </tr>\n",
       "  </thead>\n",
       "  <tbody>\n",
       "    <tr>\n",
       "      <th>0</th>\n",
       "      <td>3578</td>\n",
       "      <td>5.934644</td>\n",
       "      <td>Gladiator</td>\n",
       "      <td>Action,Adventure,Drama</td>\n",
       "      <td>2000</td>\n",
       "    </tr>\n",
       "    <tr>\n",
       "      <th>1</th>\n",
       "      <td>599</td>\n",
       "      <td>5.890380</td>\n",
       "      <td>The Wild Bunch</td>\n",
       "      <td>Action,Adventure,Drama</td>\n",
       "      <td>1969</td>\n",
       "    </tr>\n",
       "    <tr>\n",
       "      <th>2</th>\n",
       "      <td>7090</td>\n",
       "      <td>5.849844</td>\n",
       "      <td>Ying xiong</td>\n",
       "      <td>Action,Adventure,Drama</td>\n",
       "      <td>2002</td>\n",
       "    </tr>\n",
       "    <tr>\n",
       "      <th>3</th>\n",
       "      <td>4327</td>\n",
       "      <td>5.823710</td>\n",
       "      <td>The Magnificent Seven</td>\n",
       "      <td>Action,Adventure,Drama</td>\n",
       "      <td>1960</td>\n",
       "    </tr>\n",
       "    <tr>\n",
       "      <th>4</th>\n",
       "      <td>3629</td>\n",
       "      <td>5.711285</td>\n",
       "      <td>The Gold Rush</td>\n",
       "      <td>Adventure,Comedy,Drama</td>\n",
       "      <td>1925</td>\n",
       "    </tr>\n",
       "    <tr>\n",
       "      <th>5</th>\n",
       "      <td>59387</td>\n",
       "      <td>5.675529</td>\n",
       "      <td>The Fall</td>\n",
       "      <td>Adventure,Drama,Fantasy</td>\n",
       "      <td>2006</td>\n",
       "    </tr>\n",
       "    <tr>\n",
       "      <th>6</th>\n",
       "      <td>50068</td>\n",
       "      <td>5.665969</td>\n",
       "      <td>Letters from Iwo Jima</td>\n",
       "      <td>Action,Adventure,Drama</td>\n",
       "      <td>2006</td>\n",
       "    </tr>\n",
       "    <tr>\n",
       "      <th>7</th>\n",
       "      <td>3654</td>\n",
       "      <td>5.664152</td>\n",
       "      <td>The Guns of Navarone</td>\n",
       "      <td>Action,Adventure,Drama</td>\n",
       "      <td>1961</td>\n",
       "    </tr>\n",
       "    <tr>\n",
       "      <th>8</th>\n",
       "      <td>5064</td>\n",
       "      <td>5.658571</td>\n",
       "      <td>The Count of Monte Cristo</td>\n",
       "      <td>Action,Adventure,Drama</td>\n",
       "      <td>2002</td>\n",
       "    </tr>\n",
       "    <tr>\n",
       "      <th>9</th>\n",
       "      <td>7147</td>\n",
       "      <td>5.643998</td>\n",
       "      <td>Big Fish</td>\n",
       "      <td>Adventure,Drama,Fantasy</td>\n",
       "      <td>2003</td>\n",
       "    </tr>\n",
       "  </tbody>\n",
       "</table>\n",
       "</div>"
      ],
      "text/plain": [
       "   movieId  similarity_score              originalTitle  \\\n",
       "0     3578          5.934644                  Gladiator   \n",
       "1      599          5.890380             The Wild Bunch   \n",
       "2     7090          5.849844                 Ying xiong   \n",
       "3     4327          5.823710      The Magnificent Seven   \n",
       "4     3629          5.711285              The Gold Rush   \n",
       "5    59387          5.675529                   The Fall   \n",
       "6    50068          5.665969      Letters from Iwo Jima   \n",
       "7     3654          5.664152       The Guns of Navarone   \n",
       "8     5064          5.658571  The Count of Monte Cristo   \n",
       "9     7147          5.643998                   Big Fish   \n",
       "\n",
       "                    genres  startYear  \n",
       "0   Action,Adventure,Drama       2000  \n",
       "1   Action,Adventure,Drama       1969  \n",
       "2   Action,Adventure,Drama       2002  \n",
       "3   Action,Adventure,Drama       1960  \n",
       "4   Adventure,Comedy,Drama       1925  \n",
       "5  Adventure,Drama,Fantasy       2006  \n",
       "6   Action,Adventure,Drama       2006  \n",
       "7   Action,Adventure,Drama       1961  \n",
       "8   Action,Adventure,Drama       2002  \n",
       "9  Adventure,Drama,Fantasy       2003  "
      ]
     },
     "execution_count": 48,
     "metadata": {},
     "output_type": "execute_result"
    }
   ],
   "source": [
    "reco_Bayesian_user1"
   ]
  },
  {
   "cell_type": "code",
   "execution_count": 50,
   "metadata": {},
   "outputs": [],
   "source": [
    "#initial films seen by user 1\n",
    "films_user1 = add_columns(mv_user1, df_movieB, columns_to_add)"
   ]
  },
  {
   "cell_type": "code",
   "execution_count": 51,
   "metadata": {},
   "outputs": [
    {
     "data": {
      "application/vnd.microsoft.datawrangler.viewer.v0+json": {
       "columns": [
        {
         "name": "index",
         "rawType": "int64",
         "type": "integer"
        },
        {
         "name": "userId",
         "rawType": "int64",
         "type": "integer"
        },
        {
         "name": "movieId",
         "rawType": "int64",
         "type": "integer"
        },
        {
         "name": "rating",
         "rawType": "float64",
         "type": "float"
        },
        {
         "name": "timestamp",
         "rawType": "int64",
         "type": "integer"
        },
        {
         "name": "originalTitle",
         "rawType": "object",
         "type": "string"
        },
        {
         "name": "genres",
         "rawType": "object",
         "type": "string"
        },
        {
         "name": "startYear",
         "rawType": "int64",
         "type": "integer"
        }
       ],
       "ref": "a9a88a4e-0eb3-4b5d-bb93-0bab1df63a7d",
       "rows": [
        [
         "0",
         "1",
         "2",
         "3.5",
         "1112486027",
         "Jumanji",
         "Adventure,Comedy,Family",
         "1995"
        ],
        [
         "1",
         "1",
         "29",
         "3.5",
         "1112484676",
         "La cité des enfants perdus",
         "Adventure,Drama,Fantasy",
         "1995"
        ],
        [
         "2",
         "1",
         "32",
         "3.5",
         "1112484819",
         "Twelve Monkeys",
         "Mystery,Sci-Fi,Thriller",
         "1995"
        ],
        [
         "3",
         "1",
         "47",
         "3.5",
         "1112484727",
         "Se7en",
         "Crime,Drama,Mystery",
         "1995"
        ],
        [
         "4",
         "1",
         "50",
         "3.5",
         "1112484580",
         "The Usual Suspects",
         "Crime,Drama,Mystery",
         "1995"
        ],
        [
         "5",
         "1",
         "112",
         "3.5",
         "1094785740",
         "Hung fan kui",
         "Action,Comedy,Crime",
         "1995"
        ],
        [
         "6",
         "1",
         "151",
         "4.0",
         "1094785734",
         "Rob Roy",
         "Adventure,Biography,Drama",
         "1995"
        ],
        [
         "7",
         "1",
         "223",
         "4.0",
         "1112485573",
         "Clerks",
         "Comedy",
         "1994"
        ],
        [
         "8",
         "1",
         "253",
         "4.0",
         "1112484940",
         "Interview with the Vampire: The Vampire Chronicles",
         "Drama,Fantasy,Horror",
         "1994"
        ],
        [
         "9",
         "1",
         "260",
         "4.0",
         "1112484826",
         "Star Wars",
         "Action,Adventure,Fantasy",
         "1977"
        ],
        [
         "10",
         "1",
         "293",
         "4.0",
         "1112484703",
         "Léon",
         "Action,Crime,Drama",
         "1994"
        ],
        [
         "11",
         "1",
         "296",
         "4.0",
         "1112484767",
         "Pulp Fiction",
         "Crime,Drama",
         "1994"
        ],
        [
         "12",
         "1",
         "318",
         "4.0",
         "1112484798",
         "The Shawshank Redemption",
         "Drama",
         "1994"
        ],
        [
         "13",
         "1",
         "337",
         "3.5",
         "1094785709",
         "What's Eating Gilbert Grape",
         "Drama",
         "1993"
        ],
        [
         "14",
         "1",
         "367",
         "3.5",
         "1112485980",
         "The Mask",
         "Comedy,Crime,Fantasy",
         "1994"
        ],
        [
         "15",
         "1",
         "541",
         "4.0",
         "1112484603",
         "Blade Runner",
         "Action,Drama,Sci-Fi",
         "1982"
        ],
        [
         "16",
         "1",
         "589",
         "3.5",
         "1112485557",
         "Terminator 2: Judgment Day",
         "Action,Adventure,Sci-Fi",
         "1991"
        ],
        [
         "17",
         "1",
         "593",
         "3.5",
         "1112484661",
         "The Silence of the Lambs",
         "Crime,Drama,Thriller",
         "1991"
        ],
        [
         "18",
         "1",
         "653",
         "3.0",
         "1094785691",
         "DragonHeart",
         "Action,Adventure,Fantasy",
         "1996"
        ],
        [
         "19",
         "1",
         "919",
         "3.5",
         "1094785621",
         "The Wizard of Oz",
         "Adventure,Family,Fantasy",
         "1939"
        ],
        [
         "20",
         "1",
         "924",
         "3.5",
         "1094785598",
         "2001: A Space Odyssey",
         "Adventure,Sci-Fi",
         "1968"
        ],
        [
         "21",
         "1",
         "1009",
         "3.5",
         "1112486013",
         "Escape to Witch Mountain",
         "Adventure,Family,Fantasy",
         "1975"
        ],
        [
         "22",
         "1",
         "1036",
         "4.0",
         "1112485480",
         "Die Hard",
         "Action,Thriller",
         "1988"
        ],
        [
         "23",
         "1",
         "1079",
         "4.0",
         "1094785665",
         "A Fish Called Wanda",
         "Comedy,Crime",
         "1988"
        ],
        [
         "24",
         "1",
         "1080",
         "3.5",
         "1112485375",
         "Life of Brian",
         "Comedy",
         "1979"
        ],
        [
         "25",
         "1",
         "1089",
         "3.5",
         "1112484669",
         "Reservoir Dogs",
         "Crime,Thriller",
         "1992"
        ],
        [
         "26",
         "1",
         "1090",
         "4.0",
         "1112485453",
         "Platoon",
         "Drama,War",
         "1986"
        ],
        [
         "27",
         "1",
         "1097",
         "4.0",
         "1112485701",
         "E.T. the Extra-Terrestrial",
         "Adventure,Family,Sci-Fi",
         "1982"
        ],
        [
         "28",
         "1",
         "1136",
         "3.5",
         "1112484609",
         "Monty Python and the Holy Grail",
         "Adventure,Comedy,Fantasy",
         "1975"
        ],
        [
         "29",
         "1",
         "1193",
         "3.5",
         "1112484690",
         "One Flew Over the Cuckoo's Nest",
         "Drama",
         "1975"
        ],
        [
         "30",
         "1",
         "1196",
         "4.5",
         "1112484742",
         "Star Wars: Episode V - The Empire Strikes Back",
         "Action,Adventure,Fantasy",
         "1980"
        ],
        [
         "31",
         "1",
         "1198",
         "4.5",
         "1112484624",
         "Raiders of the Lost Ark",
         "Action,Adventure",
         "1981"
        ],
        [
         "32",
         "1",
         "1200",
         "4.0",
         "1112484560",
         "Aliens",
         "Action,Adventure,Sci-Fi",
         "1986"
        ],
        [
         "33",
         "1",
         "1201",
         "3.0",
         "1112484642",
         "Il buono, il brutto, il cattivo",
         "Adventure,Drama,Western",
         "1966"
        ],
        [
         "34",
         "1",
         "1208",
         "3.5",
         "1112484815",
         "Apocalypse Now",
         "Drama,Mystery,War",
         "1979"
        ],
        [
         "35",
         "1",
         "1214",
         "4.0",
         "1094785977",
         "Alien",
         "Horror,Sci-Fi",
         "1979"
        ],
        [
         "36",
         "1",
         "1215",
         "4.0",
         "1094786082",
         "Army of Darkness",
         "Comedy,Horror",
         "1992"
        ],
        [
         "37",
         "1",
         "1217",
         "3.5",
         "1112484810",
         "Ran",
         "Action,Drama,War",
         "1985"
        ],
        [
         "38",
         "1",
         "1219",
         "4.0",
         "1094785994",
         "Psycho",
         "Horror,Mystery,Thriller",
         "1960"
        ],
        [
         "39",
         "1",
         "1222",
         "3.5",
         "1112484637",
         "Full Metal Jacket",
         "Drama,War",
         "1987"
        ],
        [
         "40",
         "1",
         "1240",
         "4.0",
         "1112485401",
         "The Terminator",
         "Action,Adventure,Sci-Fi",
         "1984"
        ],
        [
         "41",
         "1",
         "1243",
         "3.0",
         "1112485567",
         "Rosencrantz & Guildenstern Are Dead",
         "Comedy,Drama",
         "1990"
        ],
        [
         "42",
         "1",
         "1246",
         "3.5",
         "1094785759",
         "Dead Poets Society",
         "Comedy,Drama",
         "1989"
        ],
        [
         "43",
         "1",
         "1249",
         "4.0",
         "1112485382",
         "Nikita",
         "Action,Crime,Drama",
         "1990"
        ],
        [
         "44",
         "1",
         "1258",
         "4.0",
         "1094785994",
         "The Shining",
         "Drama,Horror",
         "1980"
        ],
        [
         "45",
         "1",
         "1259",
         "4.0",
         "1112485440",
         "Stand by Me",
         "Adventure,Comedy,Drama",
         "1986"
        ],
        [
         "46",
         "1",
         "1261",
         "3.5",
         "1094786113",
         "Evil Dead II",
         "Comedy,Horror",
         "1987"
        ],
        [
         "47",
         "1",
         "1262",
         "3.5",
         "1112484735",
         "The Great Escape",
         "Adventure,Drama,Thriller",
         "1963"
        ],
        [
         "48",
         "1",
         "1266",
         "4.0",
         "1112485371",
         "Unforgiven",
         "Drama,Western",
         "1992"
        ],
        [
         "49",
         "1",
         "1278",
         "4.0",
         "1094785986",
         "Young Frankenstein",
         "Comedy",
         "1974"
        ]
       ],
       "shape": {
        "columns": 7,
        "rows": 175
       }
      },
      "text/html": [
       "<div>\n",
       "<style scoped>\n",
       "    .dataframe tbody tr th:only-of-type {\n",
       "        vertical-align: middle;\n",
       "    }\n",
       "\n",
       "    .dataframe tbody tr th {\n",
       "        vertical-align: top;\n",
       "    }\n",
       "\n",
       "    .dataframe thead th {\n",
       "        text-align: right;\n",
       "    }\n",
       "</style>\n",
       "<table border=\"1\" class=\"dataframe\">\n",
       "  <thead>\n",
       "    <tr style=\"text-align: right;\">\n",
       "      <th></th>\n",
       "      <th>userId</th>\n",
       "      <th>movieId</th>\n",
       "      <th>rating</th>\n",
       "      <th>timestamp</th>\n",
       "      <th>originalTitle</th>\n",
       "      <th>genres</th>\n",
       "      <th>startYear</th>\n",
       "    </tr>\n",
       "  </thead>\n",
       "  <tbody>\n",
       "    <tr>\n",
       "      <th>0</th>\n",
       "      <td>1</td>\n",
       "      <td>2</td>\n",
       "      <td>3.5</td>\n",
       "      <td>1112486027</td>\n",
       "      <td>Jumanji</td>\n",
       "      <td>Adventure,Comedy,Family</td>\n",
       "      <td>1995</td>\n",
       "    </tr>\n",
       "    <tr>\n",
       "      <th>1</th>\n",
       "      <td>1</td>\n",
       "      <td>29</td>\n",
       "      <td>3.5</td>\n",
       "      <td>1112484676</td>\n",
       "      <td>La cité des enfants perdus</td>\n",
       "      <td>Adventure,Drama,Fantasy</td>\n",
       "      <td>1995</td>\n",
       "    </tr>\n",
       "    <tr>\n",
       "      <th>2</th>\n",
       "      <td>1</td>\n",
       "      <td>32</td>\n",
       "      <td>3.5</td>\n",
       "      <td>1112484819</td>\n",
       "      <td>Twelve Monkeys</td>\n",
       "      <td>Mystery,Sci-Fi,Thriller</td>\n",
       "      <td>1995</td>\n",
       "    </tr>\n",
       "    <tr>\n",
       "      <th>3</th>\n",
       "      <td>1</td>\n",
       "      <td>47</td>\n",
       "      <td>3.5</td>\n",
       "      <td>1112484727</td>\n",
       "      <td>Se7en</td>\n",
       "      <td>Crime,Drama,Mystery</td>\n",
       "      <td>1995</td>\n",
       "    </tr>\n",
       "    <tr>\n",
       "      <th>4</th>\n",
       "      <td>1</td>\n",
       "      <td>50</td>\n",
       "      <td>3.5</td>\n",
       "      <td>1112484580</td>\n",
       "      <td>The Usual Suspects</td>\n",
       "      <td>Crime,Drama,Mystery</td>\n",
       "      <td>1995</td>\n",
       "    </tr>\n",
       "    <tr>\n",
       "      <th>...</th>\n",
       "      <td>...</td>\n",
       "      <td>...</td>\n",
       "      <td>...</td>\n",
       "      <td>...</td>\n",
       "      <td>...</td>\n",
       "      <td>...</td>\n",
       "      <td>...</td>\n",
       "    </tr>\n",
       "    <tr>\n",
       "      <th>170</th>\n",
       "      <td>1</td>\n",
       "      <td>8507</td>\n",
       "      <td>5.0</td>\n",
       "      <td>1094786027</td>\n",
       "      <td>Freaks</td>\n",
       "      <td>Drama,Horror</td>\n",
       "      <td>1932</td>\n",
       "    </tr>\n",
       "    <tr>\n",
       "      <th>171</th>\n",
       "      <td>1</td>\n",
       "      <td>8636</td>\n",
       "      <td>4.5</td>\n",
       "      <td>1112485493</td>\n",
       "      <td>Spider-Man 2</td>\n",
       "      <td>Action,Adventure,Sci-Fi</td>\n",
       "      <td>2004</td>\n",
       "    </tr>\n",
       "    <tr>\n",
       "      <th>172</th>\n",
       "      <td>1</td>\n",
       "      <td>8690</td>\n",
       "      <td>3.5</td>\n",
       "      <td>1112484795</td>\n",
       "      <td>Slaughterhouse-Five</td>\n",
       "      <td>Comedy,Drama,Sci-Fi</td>\n",
       "      <td>1972</td>\n",
       "    </tr>\n",
       "    <tr>\n",
       "      <th>173</th>\n",
       "      <td>1</td>\n",
       "      <td>8961</td>\n",
       "      <td>4.0</td>\n",
       "      <td>1112485629</td>\n",
       "      <td>The Incredibles</td>\n",
       "      <td>Action,Adventure,Animation</td>\n",
       "      <td>2004</td>\n",
       "    </tr>\n",
       "    <tr>\n",
       "      <th>174</th>\n",
       "      <td>1</td>\n",
       "      <td>31696</td>\n",
       "      <td>4.0</td>\n",
       "      <td>1112485748</td>\n",
       "      <td>Constantine</td>\n",
       "      <td>Action,Fantasy,Horror</td>\n",
       "      <td>2005</td>\n",
       "    </tr>\n",
       "  </tbody>\n",
       "</table>\n",
       "<p>175 rows × 7 columns</p>\n",
       "</div>"
      ],
      "text/plain": [
       "     userId  movieId  rating   timestamp               originalTitle  \\\n",
       "0         1        2     3.5  1112486027                     Jumanji   \n",
       "1         1       29     3.5  1112484676  La cité des enfants perdus   \n",
       "2         1       32     3.5  1112484819              Twelve Monkeys   \n",
       "3         1       47     3.5  1112484727                       Se7en   \n",
       "4         1       50     3.5  1112484580          The Usual Suspects   \n",
       "..      ...      ...     ...         ...                         ...   \n",
       "170       1     8507     5.0  1094786027                      Freaks   \n",
       "171       1     8636     4.5  1112485493                Spider-Man 2   \n",
       "172       1     8690     3.5  1112484795         Slaughterhouse-Five   \n",
       "173       1     8961     4.0  1112485629             The Incredibles   \n",
       "174       1    31696     4.0  1112485748                 Constantine   \n",
       "\n",
       "                         genres  startYear  \n",
       "0       Adventure,Comedy,Family       1995  \n",
       "1       Adventure,Drama,Fantasy       1995  \n",
       "2       Mystery,Sci-Fi,Thriller       1995  \n",
       "3           Crime,Drama,Mystery       1995  \n",
       "4           Crime,Drama,Mystery       1995  \n",
       "..                          ...        ...  \n",
       "170                Drama,Horror       1932  \n",
       "171     Action,Adventure,Sci-Fi       2004  \n",
       "172         Comedy,Drama,Sci-Fi       1972  \n",
       "173  Action,Adventure,Animation       2004  \n",
       "174       Action,Fantasy,Horror       2005  \n",
       "\n",
       "[175 rows x 7 columns]"
      ]
     },
     "execution_count": 51,
     "metadata": {},
     "output_type": "execute_result"
    }
   ],
   "source": [
    "films_user1"
   ]
  },
  {
   "cell_type": "code",
   "execution_count": 52,
   "metadata": {},
   "outputs": [],
   "source": [
    "films_user1.sort_values('rating', ascending=False, inplace=True) #to get highest ratings on top"
   ]
  },
  {
   "cell_type": "markdown",
   "metadata": {},
   "source": []
  },
  {
   "cell_type": "code",
   "execution_count": 53,
   "metadata": {},
   "outputs": [
    {
     "data": {
      "application/vnd.microsoft.datawrangler.viewer.v0+json": {
       "columns": [
        {
         "name": "index",
         "rawType": "int64",
         "type": "integer"
        },
        {
         "name": "userId",
         "rawType": "int64",
         "type": "integer"
        },
        {
         "name": "movieId",
         "rawType": "int64",
         "type": "integer"
        },
        {
         "name": "rating",
         "rawType": "float64",
         "type": "float"
        },
        {
         "name": "timestamp",
         "rawType": "int64",
         "type": "integer"
        },
        {
         "name": "originalTitle",
         "rawType": "object",
         "type": "string"
        },
        {
         "name": "genres",
         "rawType": "object",
         "type": "string"
        },
        {
         "name": "startYear",
         "rawType": "int64",
         "type": "integer"
        }
       ],
       "ref": "4a902106-0689-4877-b758-c808c0f08bd2",
       "rows": [
        [
         "131",
         "1",
         "4993",
         "5.0",
         "1112484682",
         "The Lord of the Rings: The Fellowship of the Ring",
         "Adventure,Drama,Fantasy",
         "2001"
        ],
        [
         "170",
         "1",
         "8507",
         "5.0",
         "1094786027",
         "Freaks",
         "Drama,Horror",
         "1932"
        ],
        [
         "158",
         "1",
         "7153",
         "5.0",
         "1112484633",
         "The Lord of the Rings: The Return of the King",
         "Adventure,Drama,Fantasy",
         "2003"
        ],
        [
         "142",
         "1",
         "5952",
         "5.0",
         "1112484619",
         "The Lord of the Rings: The Two Towers",
         "Adventure,Drama,Fantasy",
         "2002"
        ],
        [
         "30",
         "1",
         "1196",
         "4.5",
         "1112484742",
         "Star Wars: Episode V - The Empire Strikes Back",
         "Action,Adventure,Fantasy",
         "1980"
        ],
        [
         "31",
         "1",
         "1198",
         "4.5",
         "1112484624",
         "Raiders of the Lost Ark",
         "Action,Adventure",
         "1981"
        ],
        [
         "171",
         "1",
         "8636",
         "4.5",
         "1112485493",
         "Spider-Man 2",
         "Action,Adventure,Sci-Fi",
         "2004"
        ],
        [
         "22",
         "1",
         "1036",
         "4.0",
         "1112485480",
         "Die Hard",
         "Action,Thriller",
         "1988"
        ],
        [
         "32",
         "1",
         "1200",
         "4.0",
         "1112484560",
         "Aliens",
         "Action,Adventure,Sci-Fi",
         "1986"
        ],
        [
         "27",
         "1",
         "1097",
         "4.0",
         "1112485701",
         "E.T. the Extra-Terrestrial",
         "Adventure,Family,Sci-Fi",
         "1982"
        ],
        [
         "6",
         "1",
         "151",
         "4.0",
         "1094785734",
         "Rob Roy",
         "Adventure,Biography,Drama",
         "1995"
        ],
        [
         "10",
         "1",
         "293",
         "4.0",
         "1112484703",
         "Léon",
         "Action,Crime,Drama",
         "1994"
        ],
        [
         "9",
         "1",
         "260",
         "4.0",
         "1112484826",
         "Star Wars",
         "Action,Adventure,Fantasy",
         "1977"
        ],
        [
         "12",
         "1",
         "318",
         "4.0",
         "1112484798",
         "The Shawshank Redemption",
         "Drama",
         "1994"
        ],
        [
         "11",
         "1",
         "296",
         "4.0",
         "1112484767",
         "Pulp Fiction",
         "Crime,Drama",
         "1994"
        ],
        [
         "40",
         "1",
         "1240",
         "4.0",
         "1112485401",
         "The Terminator",
         "Action,Adventure,Sci-Fi",
         "1984"
        ],
        [
         "45",
         "1",
         "1259",
         "4.0",
         "1112485440",
         "Stand by Me",
         "Adventure,Comedy,Drama",
         "1986"
        ],
        [
         "44",
         "1",
         "1258",
         "4.0",
         "1094785994",
         "The Shining",
         "Drama,Horror",
         "1980"
        ],
        [
         "38",
         "1",
         "1219",
         "4.0",
         "1094785994",
         "Psycho",
         "Horror,Mystery,Thriller",
         "1960"
        ],
        [
         "35",
         "1",
         "1214",
         "4.0",
         "1094785977",
         "Alien",
         "Horror,Sci-Fi",
         "1979"
        ],
        [
         "36",
         "1",
         "1215",
         "4.0",
         "1094786082",
         "Army of Darkness",
         "Comedy,Horror",
         "1992"
        ],
        [
         "43",
         "1",
         "1249",
         "4.0",
         "1112485382",
         "Nikita",
         "Action,Crime,Drama",
         "1990"
        ],
        [
         "96",
         "1",
         "2959",
         "4.0",
         "1094785698",
         "Fight Club",
         "Drama",
         "1999"
        ],
        [
         "106",
         "1",
         "3479",
         "4.0",
         "1112485734",
         "Ladyhawke",
         "Adventure,Comedy,Drama",
         "1985"
        ],
        [
         "109",
         "1",
         "3889",
         "4.0",
         "1112486138",
         "Highlander: Endgame",
         "Action,Adventure,Fantasy",
         "2000"
        ],
        [
         "108",
         "1",
         "3499",
         "4.0",
         "1112484918",
         "Misery",
         "Drama,Thriller",
         "1990"
        ],
        [
         "107",
         "1",
         "3489",
         "4.0",
         "1112486024",
         "Hook",
         "Adventure,Comedy,Family",
         "1991"
        ],
        [
         "102",
         "1",
         "3153",
         "4.0",
         "1112485816",
         "The 7th Voyage of Sinbad",
         "Action,Adventure,Family",
         "1958"
        ],
        [
         "101",
         "1",
         "3081",
         "4.0",
         "1094786143",
         "Sleepy Hollow",
         "Fantasy,Horror,Mystery",
         "1999"
        ],
        [
         "97",
         "1",
         "2968",
         "4.0",
         "1112485825",
         "Time Bandits",
         "Adventure,Comedy,Fantasy",
         "1981"
        ],
        [
         "76",
         "1",
         "2193",
         "4.0",
         "1112485753",
         "Willow",
         "Action,Adventure,Drama",
         "1988"
        ],
        [
         "75",
         "1",
         "2174",
         "4.0",
         "1112485843",
         "Beetlejuice",
         "Comedy,Fantasy",
         "1988"
        ],
        [
         "56",
         "1",
         "1358",
         "4.0",
         "1112485419",
         "Sling Blade",
         "Drama",
         "1996"
        ],
        [
         "59",
         "1",
         "1387",
         "4.0",
         "1112484913",
         "Jaws",
         "Adventure,Drama,Thriller",
         "1975"
        ],
        [
         "58",
         "1",
         "1374",
         "4.0",
         "1094785746",
         "Star Trek II: The Wrath of Khan",
         "Action,Adventure,Sci-Fi",
         "1982"
        ],
        [
         "52",
         "1",
         "1321",
         "4.0",
         "1094786062",
         "An American Werewolf in London",
         "Comedy,Horror",
         "1981"
        ],
        [
         "73",
         "1",
         "2143",
         "4.0",
         "1112485951",
         "Legend",
         "Adventure,Fantasy,Romance",
         "1985"
        ],
        [
         "72",
         "1",
         "2140",
         "4.0",
         "1112485705",
         "The Dark Crystal",
         "Adventure,Family,Fantasy",
         "1982"
        ],
        [
         "71",
         "1",
         "2138",
         "4.0",
         "1112485789",
         "Watership Down",
         "Adventure,Animation,Drama",
         "1978"
        ],
        [
         "49",
         "1",
         "1278",
         "4.0",
         "1094785986",
         "Young Frankenstein",
         "Comedy",
         "1974"
        ],
        [
         "53",
         "1",
         "1333",
         "4.0",
         "1112484990",
         "The Birds",
         "Drama,Horror,Mystery",
         "1963"
        ],
        [
         "48",
         "1",
         "1266",
         "4.0",
         "1112485371",
         "Unforgiven",
         "Drama,Western",
         "1992"
        ],
        [
         "26",
         "1",
         "1090",
         "4.0",
         "1112485453",
         "Platoon",
         "Drama,War",
         "1986"
        ],
        [
         "15",
         "1",
         "541",
         "4.0",
         "1112484603",
         "Blade Runner",
         "Action,Drama,Sci-Fi",
         "1982"
        ],
        [
         "23",
         "1",
         "1079",
         "4.0",
         "1094785665",
         "A Fish Called Wanda",
         "Comedy,Crime",
         "1988"
        ],
        [
         "8",
         "1",
         "253",
         "4.0",
         "1112484940",
         "Interview with the Vampire: The Vampire Chronicles",
         "Drama,Fantasy,Horror",
         "1994"
        ],
        [
         "7",
         "1",
         "223",
         "4.0",
         "1112485573",
         "Clerks",
         "Comedy",
         "1994"
        ],
        [
         "148",
         "1",
         "6539",
         "4.0",
         "1112485508",
         "Pirates of the Caribbean: The Curse of the Black Pearl",
         "Action,Adventure,Fantasy",
         "2003"
        ],
        [
         "173",
         "1",
         "8961",
         "4.0",
         "1112485629",
         "The Incredibles",
         "Action,Adventure,Animation",
         "2004"
        ],
        [
         "132",
         "1",
         "5026",
         "4.0",
         "1112485858",
         "Le pacte des loups",
         "Action,Adventure,Drama",
         "2001"
        ]
       ],
       "shape": {
        "columns": 7,
        "rows": 175
       }
      },
      "text/html": [
       "<div>\n",
       "<style scoped>\n",
       "    .dataframe tbody tr th:only-of-type {\n",
       "        vertical-align: middle;\n",
       "    }\n",
       "\n",
       "    .dataframe tbody tr th {\n",
       "        vertical-align: top;\n",
       "    }\n",
       "\n",
       "    .dataframe thead th {\n",
       "        text-align: right;\n",
       "    }\n",
       "</style>\n",
       "<table border=\"1\" class=\"dataframe\">\n",
       "  <thead>\n",
       "    <tr style=\"text-align: right;\">\n",
       "      <th></th>\n",
       "      <th>userId</th>\n",
       "      <th>movieId</th>\n",
       "      <th>rating</th>\n",
       "      <th>timestamp</th>\n",
       "      <th>originalTitle</th>\n",
       "      <th>genres</th>\n",
       "      <th>startYear</th>\n",
       "    </tr>\n",
       "  </thead>\n",
       "  <tbody>\n",
       "    <tr>\n",
       "      <th>131</th>\n",
       "      <td>1</td>\n",
       "      <td>4993</td>\n",
       "      <td>5.0</td>\n",
       "      <td>1112484682</td>\n",
       "      <td>The Lord of the Rings: The Fellowship of the Ring</td>\n",
       "      <td>Adventure,Drama,Fantasy</td>\n",
       "      <td>2001</td>\n",
       "    </tr>\n",
       "    <tr>\n",
       "      <th>170</th>\n",
       "      <td>1</td>\n",
       "      <td>8507</td>\n",
       "      <td>5.0</td>\n",
       "      <td>1094786027</td>\n",
       "      <td>Freaks</td>\n",
       "      <td>Drama,Horror</td>\n",
       "      <td>1932</td>\n",
       "    </tr>\n",
       "    <tr>\n",
       "      <th>158</th>\n",
       "      <td>1</td>\n",
       "      <td>7153</td>\n",
       "      <td>5.0</td>\n",
       "      <td>1112484633</td>\n",
       "      <td>The Lord of the Rings: The Return of the King</td>\n",
       "      <td>Adventure,Drama,Fantasy</td>\n",
       "      <td>2003</td>\n",
       "    </tr>\n",
       "    <tr>\n",
       "      <th>142</th>\n",
       "      <td>1</td>\n",
       "      <td>5952</td>\n",
       "      <td>5.0</td>\n",
       "      <td>1112484619</td>\n",
       "      <td>The Lord of the Rings: The Two Towers</td>\n",
       "      <td>Adventure,Drama,Fantasy</td>\n",
       "      <td>2002</td>\n",
       "    </tr>\n",
       "    <tr>\n",
       "      <th>30</th>\n",
       "      <td>1</td>\n",
       "      <td>1196</td>\n",
       "      <td>4.5</td>\n",
       "      <td>1112484742</td>\n",
       "      <td>Star Wars: Episode V - The Empire Strikes Back</td>\n",
       "      <td>Action,Adventure,Fantasy</td>\n",
       "      <td>1980</td>\n",
       "    </tr>\n",
       "    <tr>\n",
       "      <th>...</th>\n",
       "      <td>...</td>\n",
       "      <td>...</td>\n",
       "      <td>...</td>\n",
       "      <td>...</td>\n",
       "      <td>...</td>\n",
       "      <td>...</td>\n",
       "      <td>...</td>\n",
       "    </tr>\n",
       "    <tr>\n",
       "      <th>117</th>\n",
       "      <td>1</td>\n",
       "      <td>4133</td>\n",
       "      <td>3.0</td>\n",
       "      <td>1112486169</td>\n",
       "      <td>Masters of the Universe</td>\n",
       "      <td>Action,Adventure,Fantasy</td>\n",
       "      <td>1987</td>\n",
       "    </tr>\n",
       "    <tr>\n",
       "      <th>128</th>\n",
       "      <td>1</td>\n",
       "      <td>4915</td>\n",
       "      <td>3.0</td>\n",
       "      <td>1112486076</td>\n",
       "      <td>The Beastmaster</td>\n",
       "      <td>Action,Adventure,Fantasy</td>\n",
       "      <td>1982</td>\n",
       "    </tr>\n",
       "    <tr>\n",
       "      <th>134</th>\n",
       "      <td>1</td>\n",
       "      <td>5040</td>\n",
       "      <td>3.0</td>\n",
       "      <td>1112486086</td>\n",
       "      <td>Conan the Destroyer</td>\n",
       "      <td>Action,Adventure,Fantasy</td>\n",
       "      <td>1984</td>\n",
       "    </tr>\n",
       "    <tr>\n",
       "      <th>154</th>\n",
       "      <td>1</td>\n",
       "      <td>6888</td>\n",
       "      <td>3.0</td>\n",
       "      <td>1112486127</td>\n",
       "      <td>Scary Movie 3</td>\n",
       "      <td>Comedy</td>\n",
       "      <td>2003</td>\n",
       "    </tr>\n",
       "    <tr>\n",
       "      <th>166</th>\n",
       "      <td>1</td>\n",
       "      <td>7482</td>\n",
       "      <td>3.0</td>\n",
       "      <td>1112484575</td>\n",
       "      <td>Enter the Dragon</td>\n",
       "      <td>Action,Crime,Thriller</td>\n",
       "      <td>1973</td>\n",
       "    </tr>\n",
       "  </tbody>\n",
       "</table>\n",
       "<p>175 rows × 7 columns</p>\n",
       "</div>"
      ],
      "text/plain": [
       "     userId  movieId  rating   timestamp  \\\n",
       "131       1     4993     5.0  1112484682   \n",
       "170       1     8507     5.0  1094786027   \n",
       "158       1     7153     5.0  1112484633   \n",
       "142       1     5952     5.0  1112484619   \n",
       "30        1     1196     4.5  1112484742   \n",
       "..      ...      ...     ...         ...   \n",
       "117       1     4133     3.0  1112486169   \n",
       "128       1     4915     3.0  1112486076   \n",
       "134       1     5040     3.0  1112486086   \n",
       "154       1     6888     3.0  1112486127   \n",
       "166       1     7482     3.0  1112484575   \n",
       "\n",
       "                                         originalTitle  \\\n",
       "131  The Lord of the Rings: The Fellowship of the Ring   \n",
       "170                                             Freaks   \n",
       "158      The Lord of the Rings: The Return of the King   \n",
       "142              The Lord of the Rings: The Two Towers   \n",
       "30      Star Wars: Episode V - The Empire Strikes Back   \n",
       "..                                                 ...   \n",
       "117                            Masters of the Universe   \n",
       "128                                    The Beastmaster   \n",
       "134                                Conan the Destroyer   \n",
       "154                                      Scary Movie 3   \n",
       "166                                   Enter the Dragon   \n",
       "\n",
       "                       genres  startYear  \n",
       "131   Adventure,Drama,Fantasy       2001  \n",
       "170              Drama,Horror       1932  \n",
       "158   Adventure,Drama,Fantasy       2003  \n",
       "142   Adventure,Drama,Fantasy       2002  \n",
       "30   Action,Adventure,Fantasy       1980  \n",
       "..                        ...        ...  \n",
       "117  Action,Adventure,Fantasy       1987  \n",
       "128  Action,Adventure,Fantasy       1982  \n",
       "134  Action,Adventure,Fantasy       1984  \n",
       "154                    Comedy       2003  \n",
       "166     Action,Crime,Thriller       1973  \n",
       "\n",
       "[175 rows x 7 columns]"
      ]
     },
     "execution_count": 53,
     "metadata": {},
     "output_type": "execute_result"
    }
   ],
   "source": [
    "films_user1"
   ]
  },
  {
   "cell_type": "code",
   "execution_count": 54,
   "metadata": {},
   "outputs": [
    {
     "data": {
      "application/vnd.microsoft.datawrangler.viewer.v0+json": {
       "columns": [
        {
         "name": "index",
         "rawType": "object",
         "type": "string"
        },
        {
         "name": "userId",
         "rawType": "float64",
         "type": "float"
        },
        {
         "name": "movieId",
         "rawType": "float64",
         "type": "float"
        },
        {
         "name": "rating",
         "rawType": "float64",
         "type": "float"
        },
        {
         "name": "timestamp",
         "rawType": "float64",
         "type": "float"
        },
        {
         "name": "startYear",
         "rawType": "float64",
         "type": "float"
        }
       ],
       "ref": "58973274-7465-4a7c-a903-6a80a39238af",
       "rows": [
        [
         "count",
         "175.0",
         "175.0",
         "175.0",
         "175.0",
         "175.0"
        ],
        [
         "mean",
         "1.0",
         "3428.537142857143",
         "3.742857142857143",
         "1107833006.1714287",
         "1985.8971428571429"
        ],
        [
         "std",
         "0.0",
         "3207.448048789169",
         "0.382284207242115",
         "7813424.098441656",
         "15.576682501958846"
        ],
        [
         "min",
         "1.0",
         "2.0",
         "3.0",
         "1094785598.0",
         "1922.0"
        ],
        [
         "25%",
         "1.0",
         "1253.5",
         "3.5",
         "1094786159.5",
         "1981.0"
        ],
        [
         "50%",
         "1.0",
         "2692.0",
         "4.0",
         "1112484994.0",
         "1988.0"
        ],
        [
         "75%",
         "1.0",
         "4986.5",
         "4.0",
         "1112485823.5",
         "1997.5"
        ],
        [
         "max",
         "1.0",
         "31696.0",
         "5.0",
         "1112486201.0",
         "2005.0"
        ]
       ],
       "shape": {
        "columns": 5,
        "rows": 8
       }
      },
      "text/html": [
       "<div>\n",
       "<style scoped>\n",
       "    .dataframe tbody tr th:only-of-type {\n",
       "        vertical-align: middle;\n",
       "    }\n",
       "\n",
       "    .dataframe tbody tr th {\n",
       "        vertical-align: top;\n",
       "    }\n",
       "\n",
       "    .dataframe thead th {\n",
       "        text-align: right;\n",
       "    }\n",
       "</style>\n",
       "<table border=\"1\" class=\"dataframe\">\n",
       "  <thead>\n",
       "    <tr style=\"text-align: right;\">\n",
       "      <th></th>\n",
       "      <th>userId</th>\n",
       "      <th>movieId</th>\n",
       "      <th>rating</th>\n",
       "      <th>timestamp</th>\n",
       "      <th>startYear</th>\n",
       "    </tr>\n",
       "  </thead>\n",
       "  <tbody>\n",
       "    <tr>\n",
       "      <th>count</th>\n",
       "      <td>175.0</td>\n",
       "      <td>175.000000</td>\n",
       "      <td>175.000000</td>\n",
       "      <td>1.750000e+02</td>\n",
       "      <td>175.000000</td>\n",
       "    </tr>\n",
       "    <tr>\n",
       "      <th>mean</th>\n",
       "      <td>1.0</td>\n",
       "      <td>3428.537143</td>\n",
       "      <td>3.742857</td>\n",
       "      <td>1.107833e+09</td>\n",
       "      <td>1985.897143</td>\n",
       "    </tr>\n",
       "    <tr>\n",
       "      <th>std</th>\n",
       "      <td>0.0</td>\n",
       "      <td>3207.448049</td>\n",
       "      <td>0.382284</td>\n",
       "      <td>7.813424e+06</td>\n",
       "      <td>15.576683</td>\n",
       "    </tr>\n",
       "    <tr>\n",
       "      <th>min</th>\n",
       "      <td>1.0</td>\n",
       "      <td>2.000000</td>\n",
       "      <td>3.000000</td>\n",
       "      <td>1.094786e+09</td>\n",
       "      <td>1922.000000</td>\n",
       "    </tr>\n",
       "    <tr>\n",
       "      <th>25%</th>\n",
       "      <td>1.0</td>\n",
       "      <td>1253.500000</td>\n",
       "      <td>3.500000</td>\n",
       "      <td>1.094786e+09</td>\n",
       "      <td>1981.000000</td>\n",
       "    </tr>\n",
       "    <tr>\n",
       "      <th>50%</th>\n",
       "      <td>1.0</td>\n",
       "      <td>2692.000000</td>\n",
       "      <td>4.000000</td>\n",
       "      <td>1.112485e+09</td>\n",
       "      <td>1988.000000</td>\n",
       "    </tr>\n",
       "    <tr>\n",
       "      <th>75%</th>\n",
       "      <td>1.0</td>\n",
       "      <td>4986.500000</td>\n",
       "      <td>4.000000</td>\n",
       "      <td>1.112486e+09</td>\n",
       "      <td>1997.500000</td>\n",
       "    </tr>\n",
       "    <tr>\n",
       "      <th>max</th>\n",
       "      <td>1.0</td>\n",
       "      <td>31696.000000</td>\n",
       "      <td>5.000000</td>\n",
       "      <td>1.112486e+09</td>\n",
       "      <td>2005.000000</td>\n",
       "    </tr>\n",
       "  </tbody>\n",
       "</table>\n",
       "</div>"
      ],
      "text/plain": [
       "       userId       movieId      rating     timestamp    startYear\n",
       "count   175.0    175.000000  175.000000  1.750000e+02   175.000000\n",
       "mean      1.0   3428.537143    3.742857  1.107833e+09  1985.897143\n",
       "std       0.0   3207.448049    0.382284  7.813424e+06    15.576683\n",
       "min       1.0      2.000000    3.000000  1.094786e+09  1922.000000\n",
       "25%       1.0   1253.500000    3.500000  1.094786e+09  1981.000000\n",
       "50%       1.0   2692.000000    4.000000  1.112485e+09  1988.000000\n",
       "75%       1.0   4986.500000    4.000000  1.112486e+09  1997.500000\n",
       "max       1.0  31696.000000    5.000000  1.112486e+09  2005.000000"
      ]
     },
     "execution_count": 54,
     "metadata": {},
     "output_type": "execute_result"
    }
   ],
   "source": [
    "films_user1.describe()"
   ]
  },
  {
   "cell_type": "code",
   "execution_count": 55,
   "metadata": {},
   "outputs": [],
   "source": [
    "#check previous recommendations without Bayesian av\n",
    "film_recos_user1_noBayesianAv = add_columns(recommended_moviesB, df_movieB, columns_to_add)"
   ]
  },
  {
   "cell_type": "code",
   "execution_count": 58,
   "metadata": {},
   "outputs": [
    {
     "data": {
      "application/vnd.microsoft.datawrangler.viewer.v0+json": {
       "columns": [
        {
         "name": "index",
         "rawType": "int64",
         "type": "integer"
        },
        {
         "name": "movieId",
         "rawType": "int64",
         "type": "integer"
        },
        {
         "name": "similarity_score",
         "rawType": "float64",
         "type": "float"
        },
        {
         "name": "originalTitle",
         "rawType": "object",
         "type": "string"
        },
        {
         "name": "genres",
         "rawType": "object",
         "type": "string"
        },
        {
         "name": "startYear",
         "rawType": "int64",
         "type": "integer"
        }
       ],
       "conversionMethod": "pd.DataFrame",
       "ref": "2542c13a-6b21-44ff-b75d-806a1b23051f",
       "rows": [
        [
         "0",
         "155",
         "1.5052014760655081",
         "Beyond Rangoon",
         "Action,Adventure,Drama",
         "1995"
        ],
        [
         "1",
         "168",
         "1.5052014760655081",
         "First Knight",
         "Action,Adventure,Drama",
         "1995"
        ],
        [
         "2",
         "416",
         "1.5052014760655081",
         "Bad Girls",
         "Action,Adventure,Drama",
         "1994"
        ],
        [
         "3",
         "599",
         "1.5052014760655081",
         "The Wild Bunch",
         "Action,Adventure,Drama",
         "1969"
        ],
        [
         "4",
         "704",
         "1.5052014760655081",
         "The Quest",
         "Action,Adventure,Drama",
         "1996"
        ],
        [
         "5",
         "798",
         "1.5052014760655081",
         "Daylight",
         "Action,Adventure,Drama",
         "1996"
        ],
        [
         "6",
         "967",
         "1.5052014760655081",
         "The Outlaw",
         "Action,Adventure,Drama",
         "1943"
        ],
        [
         "7",
         "1027",
         "1.5052014760655081",
         "Robin Hood: Prince of Thieves",
         "Action,Adventure,Drama",
         "1991"
        ],
        [
         "8",
         "1356",
         "1.5052014760655081",
         "Star Trek: First Contact",
         "Action,Adventure,Drama",
         "1996"
        ],
        [
         "9",
         "1408",
         "1.5052014760655081",
         "The Last of the Mohicans",
         "Action,Adventure,Drama",
         "1992"
        ]
       ],
       "shape": {
        "columns": 5,
        "rows": 10
       }
      },
      "text/html": [
       "<div>\n",
       "<style scoped>\n",
       "    .dataframe tbody tr th:only-of-type {\n",
       "        vertical-align: middle;\n",
       "    }\n",
       "\n",
       "    .dataframe tbody tr th {\n",
       "        vertical-align: top;\n",
       "    }\n",
       "\n",
       "    .dataframe thead th {\n",
       "        text-align: right;\n",
       "    }\n",
       "</style>\n",
       "<table border=\"1\" class=\"dataframe\">\n",
       "  <thead>\n",
       "    <tr style=\"text-align: right;\">\n",
       "      <th></th>\n",
       "      <th>movieId</th>\n",
       "      <th>similarity_score</th>\n",
       "      <th>originalTitle</th>\n",
       "      <th>genres</th>\n",
       "      <th>startYear</th>\n",
       "    </tr>\n",
       "  </thead>\n",
       "  <tbody>\n",
       "    <tr>\n",
       "      <th>0</th>\n",
       "      <td>155</td>\n",
       "      <td>1.505201</td>\n",
       "      <td>Beyond Rangoon</td>\n",
       "      <td>Action,Adventure,Drama</td>\n",
       "      <td>1995</td>\n",
       "    </tr>\n",
       "    <tr>\n",
       "      <th>1</th>\n",
       "      <td>168</td>\n",
       "      <td>1.505201</td>\n",
       "      <td>First Knight</td>\n",
       "      <td>Action,Adventure,Drama</td>\n",
       "      <td>1995</td>\n",
       "    </tr>\n",
       "    <tr>\n",
       "      <th>2</th>\n",
       "      <td>416</td>\n",
       "      <td>1.505201</td>\n",
       "      <td>Bad Girls</td>\n",
       "      <td>Action,Adventure,Drama</td>\n",
       "      <td>1994</td>\n",
       "    </tr>\n",
       "    <tr>\n",
       "      <th>3</th>\n",
       "      <td>599</td>\n",
       "      <td>1.505201</td>\n",
       "      <td>The Wild Bunch</td>\n",
       "      <td>Action,Adventure,Drama</td>\n",
       "      <td>1969</td>\n",
       "    </tr>\n",
       "    <tr>\n",
       "      <th>4</th>\n",
       "      <td>704</td>\n",
       "      <td>1.505201</td>\n",
       "      <td>The Quest</td>\n",
       "      <td>Action,Adventure,Drama</td>\n",
       "      <td>1996</td>\n",
       "    </tr>\n",
       "    <tr>\n",
       "      <th>5</th>\n",
       "      <td>798</td>\n",
       "      <td>1.505201</td>\n",
       "      <td>Daylight</td>\n",
       "      <td>Action,Adventure,Drama</td>\n",
       "      <td>1996</td>\n",
       "    </tr>\n",
       "    <tr>\n",
       "      <th>6</th>\n",
       "      <td>967</td>\n",
       "      <td>1.505201</td>\n",
       "      <td>The Outlaw</td>\n",
       "      <td>Action,Adventure,Drama</td>\n",
       "      <td>1943</td>\n",
       "    </tr>\n",
       "    <tr>\n",
       "      <th>7</th>\n",
       "      <td>1027</td>\n",
       "      <td>1.505201</td>\n",
       "      <td>Robin Hood: Prince of Thieves</td>\n",
       "      <td>Action,Adventure,Drama</td>\n",
       "      <td>1991</td>\n",
       "    </tr>\n",
       "    <tr>\n",
       "      <th>8</th>\n",
       "      <td>1356</td>\n",
       "      <td>1.505201</td>\n",
       "      <td>Star Trek: First Contact</td>\n",
       "      <td>Action,Adventure,Drama</td>\n",
       "      <td>1996</td>\n",
       "    </tr>\n",
       "    <tr>\n",
       "      <th>9</th>\n",
       "      <td>1408</td>\n",
       "      <td>1.505201</td>\n",
       "      <td>The Last of the Mohicans</td>\n",
       "      <td>Action,Adventure,Drama</td>\n",
       "      <td>1992</td>\n",
       "    </tr>\n",
       "  </tbody>\n",
       "</table>\n",
       "</div>"
      ],
      "text/plain": [
       "   movieId  similarity_score                  originalTitle  \\\n",
       "0      155          1.505201                 Beyond Rangoon   \n",
       "1      168          1.505201                   First Knight   \n",
       "2      416          1.505201                      Bad Girls   \n",
       "3      599          1.505201                 The Wild Bunch   \n",
       "4      704          1.505201                      The Quest   \n",
       "5      798          1.505201                       Daylight   \n",
       "6      967          1.505201                     The Outlaw   \n",
       "7     1027          1.505201  Robin Hood: Prince of Thieves   \n",
       "8     1356          1.505201       Star Trek: First Contact   \n",
       "9     1408          1.505201       The Last of the Mohicans   \n",
       "\n",
       "                   genres  startYear  \n",
       "0  Action,Adventure,Drama       1995  \n",
       "1  Action,Adventure,Drama       1995  \n",
       "2  Action,Adventure,Drama       1994  \n",
       "3  Action,Adventure,Drama       1969  \n",
       "4  Action,Adventure,Drama       1996  \n",
       "5  Action,Adventure,Drama       1996  \n",
       "6  Action,Adventure,Drama       1943  \n",
       "7  Action,Adventure,Drama       1991  \n",
       "8  Action,Adventure,Drama       1996  \n",
       "9  Action,Adventure,Drama       1992  "
      ]
     },
     "execution_count": 58,
     "metadata": {},
     "output_type": "execute_result"
    }
   ],
   "source": [
    "film_recos_user1_noBayesianAv"
   ]
  },
  {
   "cell_type": "code",
   "execution_count": 56,
   "metadata": {},
   "outputs": [
    {
     "data": {
      "application/vnd.microsoft.datawrangler.viewer.v0+json": {
       "columns": [
        {
         "name": "index",
         "rawType": "int64",
         "type": "integer"
        },
        {
         "name": "movieId",
         "rawType": "int64",
         "type": "integer"
        },
        {
         "name": "similarity_score",
         "rawType": "float64",
         "type": "float"
        },
        {
         "name": "originalTitle",
         "rawType": "object",
         "type": "string"
        },
        {
         "name": "genres",
         "rawType": "object",
         "type": "string"
        },
        {
         "name": "startYear",
         "rawType": "int64",
         "type": "integer"
        }
       ],
       "ref": "854bd794-d221-49f4-928a-d84c74130970",
       "rows": [
        [
         "0",
         "3578",
         "5.93464431741",
         "Gladiator",
         "Action,Adventure,Drama",
         "2000"
        ],
        [
         "1",
         "599",
         "5.890379536957777",
         "The Wild Bunch",
         "Action,Adventure,Drama",
         "1969"
        ],
        [
         "2",
         "7090",
         "5.849844445154533",
         "Ying xiong",
         "Action,Adventure,Drama",
         "2002"
        ],
        [
         "3",
         "4327",
         "5.823710123019783",
         "The Magnificent Seven",
         "Action,Adventure,Drama",
         "1960"
        ],
        [
         "4",
         "3629",
         "5.711284951304682",
         "The Gold Rush",
         "Adventure,Comedy,Drama",
         "1925"
        ],
        [
         "5",
         "59387",
         "5.675528947569829",
         "The Fall",
         "Adventure,Drama,Fantasy",
         "2006"
        ],
        [
         "6",
         "50068",
         "5.665969465416718",
         "Letters from Iwo Jima",
         "Action,Adventure,Drama",
         "2006"
        ],
        [
         "7",
         "3654",
         "5.664151943430343",
         "The Guns of Navarone",
         "Action,Adventure,Drama",
         "1961"
        ],
        [
         "8",
         "5064",
         "5.658570949775279",
         "The Count of Monte Cristo",
         "Action,Adventure,Drama",
         "2002"
        ],
        [
         "9",
         "7147",
         "5.643997961986613",
         "Big Fish",
         "Adventure,Drama,Fantasy",
         "2003"
        ]
       ],
       "shape": {
        "columns": 5,
        "rows": 10
       }
      },
      "text/html": [
       "<div>\n",
       "<style scoped>\n",
       "    .dataframe tbody tr th:only-of-type {\n",
       "        vertical-align: middle;\n",
       "    }\n",
       "\n",
       "    .dataframe tbody tr th {\n",
       "        vertical-align: top;\n",
       "    }\n",
       "\n",
       "    .dataframe thead th {\n",
       "        text-align: right;\n",
       "    }\n",
       "</style>\n",
       "<table border=\"1\" class=\"dataframe\">\n",
       "  <thead>\n",
       "    <tr style=\"text-align: right;\">\n",
       "      <th></th>\n",
       "      <th>movieId</th>\n",
       "      <th>similarity_score</th>\n",
       "      <th>originalTitle</th>\n",
       "      <th>genres</th>\n",
       "      <th>startYear</th>\n",
       "    </tr>\n",
       "  </thead>\n",
       "  <tbody>\n",
       "    <tr>\n",
       "      <th>0</th>\n",
       "      <td>3578</td>\n",
       "      <td>5.934644</td>\n",
       "      <td>Gladiator</td>\n",
       "      <td>Action,Adventure,Drama</td>\n",
       "      <td>2000</td>\n",
       "    </tr>\n",
       "    <tr>\n",
       "      <th>1</th>\n",
       "      <td>599</td>\n",
       "      <td>5.890380</td>\n",
       "      <td>The Wild Bunch</td>\n",
       "      <td>Action,Adventure,Drama</td>\n",
       "      <td>1969</td>\n",
       "    </tr>\n",
       "    <tr>\n",
       "      <th>2</th>\n",
       "      <td>7090</td>\n",
       "      <td>5.849844</td>\n",
       "      <td>Ying xiong</td>\n",
       "      <td>Action,Adventure,Drama</td>\n",
       "      <td>2002</td>\n",
       "    </tr>\n",
       "    <tr>\n",
       "      <th>3</th>\n",
       "      <td>4327</td>\n",
       "      <td>5.823710</td>\n",
       "      <td>The Magnificent Seven</td>\n",
       "      <td>Action,Adventure,Drama</td>\n",
       "      <td>1960</td>\n",
       "    </tr>\n",
       "    <tr>\n",
       "      <th>4</th>\n",
       "      <td>3629</td>\n",
       "      <td>5.711285</td>\n",
       "      <td>The Gold Rush</td>\n",
       "      <td>Adventure,Comedy,Drama</td>\n",
       "      <td>1925</td>\n",
       "    </tr>\n",
       "    <tr>\n",
       "      <th>5</th>\n",
       "      <td>59387</td>\n",
       "      <td>5.675529</td>\n",
       "      <td>The Fall</td>\n",
       "      <td>Adventure,Drama,Fantasy</td>\n",
       "      <td>2006</td>\n",
       "    </tr>\n",
       "    <tr>\n",
       "      <th>6</th>\n",
       "      <td>50068</td>\n",
       "      <td>5.665969</td>\n",
       "      <td>Letters from Iwo Jima</td>\n",
       "      <td>Action,Adventure,Drama</td>\n",
       "      <td>2006</td>\n",
       "    </tr>\n",
       "    <tr>\n",
       "      <th>7</th>\n",
       "      <td>3654</td>\n",
       "      <td>5.664152</td>\n",
       "      <td>The Guns of Navarone</td>\n",
       "      <td>Action,Adventure,Drama</td>\n",
       "      <td>1961</td>\n",
       "    </tr>\n",
       "    <tr>\n",
       "      <th>8</th>\n",
       "      <td>5064</td>\n",
       "      <td>5.658571</td>\n",
       "      <td>The Count of Monte Cristo</td>\n",
       "      <td>Action,Adventure,Drama</td>\n",
       "      <td>2002</td>\n",
       "    </tr>\n",
       "    <tr>\n",
       "      <th>9</th>\n",
       "      <td>7147</td>\n",
       "      <td>5.643998</td>\n",
       "      <td>Big Fish</td>\n",
       "      <td>Adventure,Drama,Fantasy</td>\n",
       "      <td>2003</td>\n",
       "    </tr>\n",
       "  </tbody>\n",
       "</table>\n",
       "</div>"
      ],
      "text/plain": [
       "   movieId  similarity_score              originalTitle  \\\n",
       "0     3578          5.934644                  Gladiator   \n",
       "1      599          5.890380             The Wild Bunch   \n",
       "2     7090          5.849844                 Ying xiong   \n",
       "3     4327          5.823710      The Magnificent Seven   \n",
       "4     3629          5.711285              The Gold Rush   \n",
       "5    59387          5.675529                   The Fall   \n",
       "6    50068          5.665969      Letters from Iwo Jima   \n",
       "7     3654          5.664152       The Guns of Navarone   \n",
       "8     5064          5.658571  The Count of Monte Cristo   \n",
       "9     7147          5.643998                   Big Fish   \n",
       "\n",
       "                    genres  startYear  \n",
       "0   Action,Adventure,Drama       2000  \n",
       "1   Action,Adventure,Drama       1969  \n",
       "2   Action,Adventure,Drama       2002  \n",
       "3   Action,Adventure,Drama       1960  \n",
       "4   Adventure,Comedy,Drama       1925  \n",
       "5  Adventure,Drama,Fantasy       2006  \n",
       "6   Action,Adventure,Drama       2006  \n",
       "7   Action,Adventure,Drama       1961  \n",
       "8   Action,Adventure,Drama       2002  \n",
       "9  Adventure,Drama,Fantasy       2003  "
      ]
     },
     "execution_count": 56,
     "metadata": {},
     "output_type": "execute_result"
    }
   ],
   "source": [
    "reco_Bayesian_user1"
   ]
  },
  {
   "cell_type": "code",
   "execution_count": 60,
   "metadata": {},
   "outputs": [],
   "source": [
    "###Check recommednations with euclidean distance"
   ]
  },
  {
   "cell_type": "code",
   "execution_count": 58,
   "metadata": {},
   "outputs": [],
   "source": [
    "def get_recommendations_euclidean_bayesian(user_id, df_user, df_movie, bayesian_weights, n_recommendations=10):\n",
    "    \"\"\"Get recommendations using pre-calculated Bayesian weights\"\"\"\n",
    "    \n",
    "    genre_cols = df_movie.columns[df_movie.columns != 'movieId']\n",
    "    user_ratings = df_user[df_user['userId'] == user_id]\n",
    "    user_movies = user_ratings.merge(df_movie, on='movieId')\n",
    "    \n",
    "    # Create weights DataFrame aligned with df_movie\n",
    "    weights_df = pd.DataFrame(index=df_movie['movieId'])\n",
    "    weights_df['bayesian_weight'] = bayesian_weights\n",
    "    weights_df = weights_df.fillna(weights_df['bayesian_weight'].mean())\n",
    "    \n",
    "    # Ensure exact same movies are used\n",
    "    all_movies_features = df_movie[genre_cols].values\n",
    "    user_movies_features = user_movies[genre_cols].values\n",
    "    \n",
    "    # Calculate distances and convert to similarities\n",
    "    distances = euclidean_distances(user_movies_features, all_movies_features)\n",
    "    similarities = 1 / (1 + distances)\n",
    "    \n",
    "    \n",
    "    # Make sure weights align exactly with df_movie\n",
    "    bayesian_weights_aligned = weights_df.reindex(df_movie['movieId'])['bayesian_weight'].values\n",
    "    \n",
    "    weighted_similarities = (\n",
    "        similarities * \n",
    "        user_ratings['rating'].values.reshape(-1, 1) *\n",
    "        bayesian_weights_aligned.reshape(1, -1)\n",
    "    )\n",
    "    \n",
    "    mean_similarities = weighted_similarities.mean(axis=0)\n",
    "    \n",
    "    recommendations = pd.DataFrame({\n",
    "        'movieId': df_movie['movieId'],\n",
    "        'similarity_score': mean_similarities\n",
    "    })\n",
    "    \n",
    "    rated_movies = user_ratings['movieId']\n",
    "    recommendations = recommendations[~recommendations['movieId'].isin(rated_movies)]\n",
    "    \n",
    "    return recommendations.nlargest(n_recommendations, 'similarity_score')"
   ]
  },
  {
   "cell_type": "code",
   "execution_count": 59,
   "metadata": {},
   "outputs": [],
   "source": [
    "recommended_moviesB_Bayesian_euclidean = get_recommendations_euclidean_bayesian(user_id, mv_ratings, df_movie_genres, bayesian_weights)"
   ]
  },
  {
   "cell_type": "code",
   "execution_count": 60,
   "metadata": {},
   "outputs": [
    {
     "data": {
      "application/vnd.microsoft.datawrangler.viewer.v0+json": {
       "columns": [
        {
         "name": "index",
         "rawType": "int64",
         "type": "integer"
        },
        {
         "name": "movieId",
         "rawType": "int64",
         "type": "integer"
        },
        {
         "name": "similarity_score",
         "rawType": "float64",
         "type": "float"
        }
       ],
       "ref": "0b51b233-4e93-49c6-a36f-23dd3fbe0dfb",
       "rows": [
        [
         "1840",
         "2019",
         "6.208966594265923"
        ],
        [
         "2649",
         "2858",
         "6.086732673955713"
        ],
        [
         "1123",
         "1210",
         "6.069314806348243"
        ],
        [
         "863",
         "926",
         "6.038916615750505"
        ],
        [
         "2871",
         "3089",
         "5.911240423981576"
        ],
        [
         "3682",
         "3949",
         "5.885682998607134"
        ],
        [
         "723",
         "778",
         "5.86750119588407"
        ],
        [
         "2167",
         "2360",
         "5.837985836067406"
        ],
        [
         "1056",
         "1132",
         "5.8334643653503155"
        ],
        [
         "2164",
         "2357",
         "5.821296290291822"
        ]
       ],
       "shape": {
        "columns": 2,
        "rows": 10
       }
      },
      "text/html": [
       "<div>\n",
       "<style scoped>\n",
       "    .dataframe tbody tr th:only-of-type {\n",
       "        vertical-align: middle;\n",
       "    }\n",
       "\n",
       "    .dataframe tbody tr th {\n",
       "        vertical-align: top;\n",
       "    }\n",
       "\n",
       "    .dataframe thead th {\n",
       "        text-align: right;\n",
       "    }\n",
       "</style>\n",
       "<table border=\"1\" class=\"dataframe\">\n",
       "  <thead>\n",
       "    <tr style=\"text-align: right;\">\n",
       "      <th></th>\n",
       "      <th>movieId</th>\n",
       "      <th>similarity_score</th>\n",
       "    </tr>\n",
       "  </thead>\n",
       "  <tbody>\n",
       "    <tr>\n",
       "      <th>1840</th>\n",
       "      <td>2019</td>\n",
       "      <td>6.208967</td>\n",
       "    </tr>\n",
       "    <tr>\n",
       "      <th>2649</th>\n",
       "      <td>2858</td>\n",
       "      <td>6.086733</td>\n",
       "    </tr>\n",
       "    <tr>\n",
       "      <th>1123</th>\n",
       "      <td>1210</td>\n",
       "      <td>6.069315</td>\n",
       "    </tr>\n",
       "    <tr>\n",
       "      <th>863</th>\n",
       "      <td>926</td>\n",
       "      <td>6.038917</td>\n",
       "    </tr>\n",
       "    <tr>\n",
       "      <th>2871</th>\n",
       "      <td>3089</td>\n",
       "      <td>5.911240</td>\n",
       "    </tr>\n",
       "    <tr>\n",
       "      <th>3682</th>\n",
       "      <td>3949</td>\n",
       "      <td>5.885683</td>\n",
       "    </tr>\n",
       "    <tr>\n",
       "      <th>723</th>\n",
       "      <td>778</td>\n",
       "      <td>5.867501</td>\n",
       "    </tr>\n",
       "    <tr>\n",
       "      <th>2167</th>\n",
       "      <td>2360</td>\n",
       "      <td>5.837986</td>\n",
       "    </tr>\n",
       "    <tr>\n",
       "      <th>1056</th>\n",
       "      <td>1132</td>\n",
       "      <td>5.833464</td>\n",
       "    </tr>\n",
       "    <tr>\n",
       "      <th>2164</th>\n",
       "      <td>2357</td>\n",
       "      <td>5.821296</td>\n",
       "    </tr>\n",
       "  </tbody>\n",
       "</table>\n",
       "</div>"
      ],
      "text/plain": [
       "      movieId  similarity_score\n",
       "1840     2019          6.208967\n",
       "2649     2858          6.086733\n",
       "1123     1210          6.069315\n",
       "863       926          6.038917\n",
       "2871     3089          5.911240\n",
       "3682     3949          5.885683\n",
       "723       778          5.867501\n",
       "2167     2360          5.837986\n",
       "1056     1132          5.833464\n",
       "2164     2357          5.821296"
      ]
     },
     "execution_count": 60,
     "metadata": {},
     "output_type": "execute_result"
    }
   ],
   "source": [
    "recommended_moviesB_Bayesian_euclidean"
   ]
  },
  {
   "cell_type": "code",
   "execution_count": 61,
   "metadata": {},
   "outputs": [],
   "source": [
    "recommended_moviesB_Bayesian_euclidean = add_columns(recommended_moviesB_Bayesian_euclidean, df_movieB, columns_to_add)"
   ]
  },
  {
   "cell_type": "code",
   "execution_count": 62,
   "metadata": {},
   "outputs": [
    {
     "data": {
      "application/vnd.microsoft.datawrangler.viewer.v0+json": {
       "columns": [
        {
         "name": "index",
         "rawType": "int64",
         "type": "integer"
        },
        {
         "name": "movieId",
         "rawType": "int64",
         "type": "integer"
        },
        {
         "name": "similarity_score",
         "rawType": "float64",
         "type": "float"
        },
        {
         "name": "originalTitle",
         "rawType": "object",
         "type": "string"
        },
        {
         "name": "genres",
         "rawType": "object",
         "type": "string"
        },
        {
         "name": "startYear",
         "rawType": "int64",
         "type": "integer"
        }
       ],
       "ref": "445c936e-1069-4f73-855b-e0bde9048620",
       "rows": [
        [
         "0",
         "2019",
         "6.208966594265923",
         "Shichinin no samurai",
         "Drama",
         "1954"
        ],
        [
         "1",
         "2858",
         "6.086732673955713",
         "American Beauty",
         "Drama",
         "1999"
        ],
        [
         "2",
         "1210",
         "6.069314806348243",
         "Star Wars: Episode VI - Return of the Jedi",
         "Action,Adventure,Fantasy",
         "1983"
        ],
        [
         "3",
         "926",
         "6.038916615750505",
         "All About Eve",
         "Drama",
         "1950"
        ],
        [
         "4",
         "3089",
         "5.911240423981576",
         "Ladri di biciclette",
         "Drama",
         "1948"
        ],
        [
         "5",
         "3949",
         "5.885682998607134",
         "Requiem for a Dream",
         "Drama",
         "2000"
        ],
        [
         "6",
         "778",
         "5.86750119588407",
         "Trainspotting",
         "Drama",
         "1996"
        ],
        [
         "7",
         "2360",
         "5.837985836067406",
         "Festen",
         "Drama",
         "1998"
        ],
        [
         "8",
         "1132",
         "5.8334643653503155",
         "Manon des sources",
         "Drama",
         "1986"
        ],
        [
         "9",
         "2357",
         "5.821296290291822",
         "Central do Brasil",
         "Drama",
         "1998"
        ]
       ],
       "shape": {
        "columns": 5,
        "rows": 10
       }
      },
      "text/html": [
       "<div>\n",
       "<style scoped>\n",
       "    .dataframe tbody tr th:only-of-type {\n",
       "        vertical-align: middle;\n",
       "    }\n",
       "\n",
       "    .dataframe tbody tr th {\n",
       "        vertical-align: top;\n",
       "    }\n",
       "\n",
       "    .dataframe thead th {\n",
       "        text-align: right;\n",
       "    }\n",
       "</style>\n",
       "<table border=\"1\" class=\"dataframe\">\n",
       "  <thead>\n",
       "    <tr style=\"text-align: right;\">\n",
       "      <th></th>\n",
       "      <th>movieId</th>\n",
       "      <th>similarity_score</th>\n",
       "      <th>originalTitle</th>\n",
       "      <th>genres</th>\n",
       "      <th>startYear</th>\n",
       "    </tr>\n",
       "  </thead>\n",
       "  <tbody>\n",
       "    <tr>\n",
       "      <th>0</th>\n",
       "      <td>2019</td>\n",
       "      <td>6.208967</td>\n",
       "      <td>Shichinin no samurai</td>\n",
       "      <td>Drama</td>\n",
       "      <td>1954</td>\n",
       "    </tr>\n",
       "    <tr>\n",
       "      <th>1</th>\n",
       "      <td>2858</td>\n",
       "      <td>6.086733</td>\n",
       "      <td>American Beauty</td>\n",
       "      <td>Drama</td>\n",
       "      <td>1999</td>\n",
       "    </tr>\n",
       "    <tr>\n",
       "      <th>2</th>\n",
       "      <td>1210</td>\n",
       "      <td>6.069315</td>\n",
       "      <td>Star Wars: Episode VI - Return of the Jedi</td>\n",
       "      <td>Action,Adventure,Fantasy</td>\n",
       "      <td>1983</td>\n",
       "    </tr>\n",
       "    <tr>\n",
       "      <th>3</th>\n",
       "      <td>926</td>\n",
       "      <td>6.038917</td>\n",
       "      <td>All About Eve</td>\n",
       "      <td>Drama</td>\n",
       "      <td>1950</td>\n",
       "    </tr>\n",
       "    <tr>\n",
       "      <th>4</th>\n",
       "      <td>3089</td>\n",
       "      <td>5.911240</td>\n",
       "      <td>Ladri di biciclette</td>\n",
       "      <td>Drama</td>\n",
       "      <td>1948</td>\n",
       "    </tr>\n",
       "    <tr>\n",
       "      <th>5</th>\n",
       "      <td>3949</td>\n",
       "      <td>5.885683</td>\n",
       "      <td>Requiem for a Dream</td>\n",
       "      <td>Drama</td>\n",
       "      <td>2000</td>\n",
       "    </tr>\n",
       "    <tr>\n",
       "      <th>6</th>\n",
       "      <td>778</td>\n",
       "      <td>5.867501</td>\n",
       "      <td>Trainspotting</td>\n",
       "      <td>Drama</td>\n",
       "      <td>1996</td>\n",
       "    </tr>\n",
       "    <tr>\n",
       "      <th>7</th>\n",
       "      <td>2360</td>\n",
       "      <td>5.837986</td>\n",
       "      <td>Festen</td>\n",
       "      <td>Drama</td>\n",
       "      <td>1998</td>\n",
       "    </tr>\n",
       "    <tr>\n",
       "      <th>8</th>\n",
       "      <td>1132</td>\n",
       "      <td>5.833464</td>\n",
       "      <td>Manon des sources</td>\n",
       "      <td>Drama</td>\n",
       "      <td>1986</td>\n",
       "    </tr>\n",
       "    <tr>\n",
       "      <th>9</th>\n",
       "      <td>2357</td>\n",
       "      <td>5.821296</td>\n",
       "      <td>Central do Brasil</td>\n",
       "      <td>Drama</td>\n",
       "      <td>1998</td>\n",
       "    </tr>\n",
       "  </tbody>\n",
       "</table>\n",
       "</div>"
      ],
      "text/plain": [
       "   movieId  similarity_score                               originalTitle  \\\n",
       "0     2019          6.208967                        Shichinin no samurai   \n",
       "1     2858          6.086733                             American Beauty   \n",
       "2     1210          6.069315  Star Wars: Episode VI - Return of the Jedi   \n",
       "3      926          6.038917                               All About Eve   \n",
       "4     3089          5.911240                         Ladri di biciclette   \n",
       "5     3949          5.885683                         Requiem for a Dream   \n",
       "6      778          5.867501                               Trainspotting   \n",
       "7     2360          5.837986                                      Festen   \n",
       "8     1132          5.833464                           Manon des sources   \n",
       "9     2357          5.821296                           Central do Brasil   \n",
       "\n",
       "                     genres  startYear  \n",
       "0                     Drama       1954  \n",
       "1                     Drama       1999  \n",
       "2  Action,Adventure,Fantasy       1983  \n",
       "3                     Drama       1950  \n",
       "4                     Drama       1948  \n",
       "5                     Drama       2000  \n",
       "6                     Drama       1996  \n",
       "7                     Drama       1998  \n",
       "8                     Drama       1986  \n",
       "9                     Drama       1998  "
      ]
     },
     "execution_count": 62,
     "metadata": {},
     "output_type": "execute_result"
    }
   ],
   "source": [
    "recommended_moviesB_Bayesian_euclidean"
   ]
  },
  {
   "cell_type": "code",
   "execution_count": 63,
   "metadata": {},
   "outputs": [],
   "source": [
    "recommended_moviesB_euclidean = get_recommendations_euclidean(user_id, mv_ratings, df_movie_genres)"
   ]
  },
  {
   "cell_type": "code",
   "execution_count": 64,
   "metadata": {},
   "outputs": [
    {
     "data": {
      "application/vnd.microsoft.datawrangler.viewer.v0+json": {
       "columns": [
        {
         "name": "index",
         "rawType": "int64",
         "type": "integer"
        },
        {
         "name": "movieId",
         "rawType": "int64",
         "type": "integer"
        },
        {
         "name": "similarity_score",
         "rawType": "float64",
         "type": "float"
        }
       ],
       "ref": "0e052494-e2b1-4f3c-9641-3039b5b27355",
       "rows": [
        [
         "42",
         "44",
         "1.5184321767357758"
        ],
        [
         "636",
         "674",
         "1.5184321767357758"
        ],
        [
         "1123",
         "1210",
         "1.5184321767357758"
        ],
        [
         "1185",
         "1275",
         "1.5184321767357758"
        ],
        [
         "1270",
         "1373",
         "1.5184321767357758"
        ],
        [
         "1474",
         "1606",
         "1.5184321767357758"
        ],
        [
         "1541",
         "1681",
         "1.5184321767357758"
        ],
        [
         "2180",
         "2373",
         "1.5184321767357758"
        ],
        [
         "2417",
         "2617",
         "1.5184321767357758"
        ],
        [
         "2754",
         "2965",
         "1.5184321767357758"
        ]
       ],
       "shape": {
        "columns": 2,
        "rows": 10
       }
      },
      "text/html": [
       "<div>\n",
       "<style scoped>\n",
       "    .dataframe tbody tr th:only-of-type {\n",
       "        vertical-align: middle;\n",
       "    }\n",
       "\n",
       "    .dataframe tbody tr th {\n",
       "        vertical-align: top;\n",
       "    }\n",
       "\n",
       "    .dataframe thead th {\n",
       "        text-align: right;\n",
       "    }\n",
       "</style>\n",
       "<table border=\"1\" class=\"dataframe\">\n",
       "  <thead>\n",
       "    <tr style=\"text-align: right;\">\n",
       "      <th></th>\n",
       "      <th>movieId</th>\n",
       "      <th>similarity_score</th>\n",
       "    </tr>\n",
       "  </thead>\n",
       "  <tbody>\n",
       "    <tr>\n",
       "      <th>42</th>\n",
       "      <td>44</td>\n",
       "      <td>1.518432</td>\n",
       "    </tr>\n",
       "    <tr>\n",
       "      <th>636</th>\n",
       "      <td>674</td>\n",
       "      <td>1.518432</td>\n",
       "    </tr>\n",
       "    <tr>\n",
       "      <th>1123</th>\n",
       "      <td>1210</td>\n",
       "      <td>1.518432</td>\n",
       "    </tr>\n",
       "    <tr>\n",
       "      <th>1185</th>\n",
       "      <td>1275</td>\n",
       "      <td>1.518432</td>\n",
       "    </tr>\n",
       "    <tr>\n",
       "      <th>1270</th>\n",
       "      <td>1373</td>\n",
       "      <td>1.518432</td>\n",
       "    </tr>\n",
       "    <tr>\n",
       "      <th>1474</th>\n",
       "      <td>1606</td>\n",
       "      <td>1.518432</td>\n",
       "    </tr>\n",
       "    <tr>\n",
       "      <th>1541</th>\n",
       "      <td>1681</td>\n",
       "      <td>1.518432</td>\n",
       "    </tr>\n",
       "    <tr>\n",
       "      <th>2180</th>\n",
       "      <td>2373</td>\n",
       "      <td>1.518432</td>\n",
       "    </tr>\n",
       "    <tr>\n",
       "      <th>2417</th>\n",
       "      <td>2617</td>\n",
       "      <td>1.518432</td>\n",
       "    </tr>\n",
       "    <tr>\n",
       "      <th>2754</th>\n",
       "      <td>2965</td>\n",
       "      <td>1.518432</td>\n",
       "    </tr>\n",
       "  </tbody>\n",
       "</table>\n",
       "</div>"
      ],
      "text/plain": [
       "      movieId  similarity_score\n",
       "42         44          1.518432\n",
       "636       674          1.518432\n",
       "1123     1210          1.518432\n",
       "1185     1275          1.518432\n",
       "1270     1373          1.518432\n",
       "1474     1606          1.518432\n",
       "1541     1681          1.518432\n",
       "2180     2373          1.518432\n",
       "2417     2617          1.518432\n",
       "2754     2965          1.518432"
      ]
     },
     "execution_count": 64,
     "metadata": {},
     "output_type": "execute_result"
    }
   ],
   "source": [
    "recommended_moviesB_euclidean"
   ]
  },
  {
   "cell_type": "code",
   "execution_count": 65,
   "metadata": {},
   "outputs": [],
   "source": [
    "recommended_moviesB_euclidean = add_columns(recommended_moviesB_euclidean, df_movieB, columns_to_add)"
   ]
  },
  {
   "cell_type": "code",
   "execution_count": 66,
   "metadata": {},
   "outputs": [
    {
     "data": {
      "application/vnd.microsoft.datawrangler.viewer.v0+json": {
       "columns": [
        {
         "name": "index",
         "rawType": "int64",
         "type": "integer"
        },
        {
         "name": "movieId",
         "rawType": "int64",
         "type": "integer"
        },
        {
         "name": "similarity_score",
         "rawType": "float64",
         "type": "float"
        },
        {
         "name": "originalTitle",
         "rawType": "object",
         "type": "string"
        },
        {
         "name": "genres",
         "rawType": "object",
         "type": "string"
        },
        {
         "name": "startYear",
         "rawType": "int64",
         "type": "integer"
        }
       ],
       "ref": "49625af0-5df0-4756-b888-c8dd365d9376",
       "rows": [
        [
         "0",
         "44",
         "1.5184321767357758",
         "Mortal Kombat",
         "Action,Adventure,Fantasy",
         "1995"
        ],
        [
         "1",
         "674",
         "1.5184321767357758",
         "Barbarella",
         "Action,Adventure,Fantasy",
         "1968"
        ],
        [
         "2",
         "1210",
         "1.5184321767357758",
         "Star Wars: Episode VI - Return of the Jedi",
         "Action,Adventure,Fantasy",
         "1983"
        ],
        [
         "3",
         "1275",
         "1.5184321767357758",
         "Highlander",
         "Action,Adventure,Fantasy",
         "1986"
        ],
        [
         "4",
         "1373",
         "1.5184321767357758",
         "Star Trek V: The Final Frontier",
         "Action,Adventure,Fantasy",
         "1989"
        ],
        [
         "5",
         "1606",
         "1.5184321767357758",
         "Kull the Conqueror",
         "Action,Adventure,Fantasy",
         "1997"
        ],
        [
         "6",
         "1681",
         "1.5184321767357758",
         "Mortal Kombat: Annihilation",
         "Action,Adventure,Fantasy",
         "1997"
        ],
        [
         "7",
         "2373",
         "1.5184321767357758",
         "Red Sonja",
         "Action,Adventure,Fantasy",
         "1985"
        ],
        [
         "8",
         "2617",
         "1.5184321767357758",
         "The Mummy",
         "Action,Adventure,Fantasy",
         "1999"
        ],
        [
         "9",
         "2965",
         "1.5184321767357758",
         "The Omega Code",
         "Action,Adventure,Fantasy",
         "1999"
        ]
       ],
       "shape": {
        "columns": 5,
        "rows": 10
       }
      },
      "text/html": [
       "<div>\n",
       "<style scoped>\n",
       "    .dataframe tbody tr th:only-of-type {\n",
       "        vertical-align: middle;\n",
       "    }\n",
       "\n",
       "    .dataframe tbody tr th {\n",
       "        vertical-align: top;\n",
       "    }\n",
       "\n",
       "    .dataframe thead th {\n",
       "        text-align: right;\n",
       "    }\n",
       "</style>\n",
       "<table border=\"1\" class=\"dataframe\">\n",
       "  <thead>\n",
       "    <tr style=\"text-align: right;\">\n",
       "      <th></th>\n",
       "      <th>movieId</th>\n",
       "      <th>similarity_score</th>\n",
       "      <th>originalTitle</th>\n",
       "      <th>genres</th>\n",
       "      <th>startYear</th>\n",
       "    </tr>\n",
       "  </thead>\n",
       "  <tbody>\n",
       "    <tr>\n",
       "      <th>0</th>\n",
       "      <td>44</td>\n",
       "      <td>1.518432</td>\n",
       "      <td>Mortal Kombat</td>\n",
       "      <td>Action,Adventure,Fantasy</td>\n",
       "      <td>1995</td>\n",
       "    </tr>\n",
       "    <tr>\n",
       "      <th>1</th>\n",
       "      <td>674</td>\n",
       "      <td>1.518432</td>\n",
       "      <td>Barbarella</td>\n",
       "      <td>Action,Adventure,Fantasy</td>\n",
       "      <td>1968</td>\n",
       "    </tr>\n",
       "    <tr>\n",
       "      <th>2</th>\n",
       "      <td>1210</td>\n",
       "      <td>1.518432</td>\n",
       "      <td>Star Wars: Episode VI - Return of the Jedi</td>\n",
       "      <td>Action,Adventure,Fantasy</td>\n",
       "      <td>1983</td>\n",
       "    </tr>\n",
       "    <tr>\n",
       "      <th>3</th>\n",
       "      <td>1275</td>\n",
       "      <td>1.518432</td>\n",
       "      <td>Highlander</td>\n",
       "      <td>Action,Adventure,Fantasy</td>\n",
       "      <td>1986</td>\n",
       "    </tr>\n",
       "    <tr>\n",
       "      <th>4</th>\n",
       "      <td>1373</td>\n",
       "      <td>1.518432</td>\n",
       "      <td>Star Trek V: The Final Frontier</td>\n",
       "      <td>Action,Adventure,Fantasy</td>\n",
       "      <td>1989</td>\n",
       "    </tr>\n",
       "    <tr>\n",
       "      <th>5</th>\n",
       "      <td>1606</td>\n",
       "      <td>1.518432</td>\n",
       "      <td>Kull the Conqueror</td>\n",
       "      <td>Action,Adventure,Fantasy</td>\n",
       "      <td>1997</td>\n",
       "    </tr>\n",
       "    <tr>\n",
       "      <th>6</th>\n",
       "      <td>1681</td>\n",
       "      <td>1.518432</td>\n",
       "      <td>Mortal Kombat: Annihilation</td>\n",
       "      <td>Action,Adventure,Fantasy</td>\n",
       "      <td>1997</td>\n",
       "    </tr>\n",
       "    <tr>\n",
       "      <th>7</th>\n",
       "      <td>2373</td>\n",
       "      <td>1.518432</td>\n",
       "      <td>Red Sonja</td>\n",
       "      <td>Action,Adventure,Fantasy</td>\n",
       "      <td>1985</td>\n",
       "    </tr>\n",
       "    <tr>\n",
       "      <th>8</th>\n",
       "      <td>2617</td>\n",
       "      <td>1.518432</td>\n",
       "      <td>The Mummy</td>\n",
       "      <td>Action,Adventure,Fantasy</td>\n",
       "      <td>1999</td>\n",
       "    </tr>\n",
       "    <tr>\n",
       "      <th>9</th>\n",
       "      <td>2965</td>\n",
       "      <td>1.518432</td>\n",
       "      <td>The Omega Code</td>\n",
       "      <td>Action,Adventure,Fantasy</td>\n",
       "      <td>1999</td>\n",
       "    </tr>\n",
       "  </tbody>\n",
       "</table>\n",
       "</div>"
      ],
      "text/plain": [
       "   movieId  similarity_score                               originalTitle  \\\n",
       "0       44          1.518432                               Mortal Kombat   \n",
       "1      674          1.518432                                  Barbarella   \n",
       "2     1210          1.518432  Star Wars: Episode VI - Return of the Jedi   \n",
       "3     1275          1.518432                                  Highlander   \n",
       "4     1373          1.518432             Star Trek V: The Final Frontier   \n",
       "5     1606          1.518432                          Kull the Conqueror   \n",
       "6     1681          1.518432                 Mortal Kombat: Annihilation   \n",
       "7     2373          1.518432                                   Red Sonja   \n",
       "8     2617          1.518432                                   The Mummy   \n",
       "9     2965          1.518432                              The Omega Code   \n",
       "\n",
       "                     genres  startYear  \n",
       "0  Action,Adventure,Fantasy       1995  \n",
       "1  Action,Adventure,Fantasy       1968  \n",
       "2  Action,Adventure,Fantasy       1983  \n",
       "3  Action,Adventure,Fantasy       1986  \n",
       "4  Action,Adventure,Fantasy       1989  \n",
       "5  Action,Adventure,Fantasy       1997  \n",
       "6  Action,Adventure,Fantasy       1997  \n",
       "7  Action,Adventure,Fantasy       1985  \n",
       "8  Action,Adventure,Fantasy       1999  \n",
       "9  Action,Adventure,Fantasy       1999  "
      ]
     },
     "execution_count": 66,
     "metadata": {},
     "output_type": "execute_result"
    }
   ],
   "source": [
    "recommended_moviesB_euclidean"
   ]
  },
  {
   "cell_type": "code",
   "execution_count": 70,
   "metadata": {},
   "outputs": [],
   "source": [
    "#checking with Jaccard distance (ctypical use for Binary/categorical data)"
   ]
  },
  {
   "cell_type": "code",
   "execution_count": 67,
   "metadata": {},
   "outputs": [],
   "source": [
    "from scipy.spatial.distance import jaccard\n",
    "\n",
    "from sklearn.metrics.pairwise import pairwise_distances\n",
    "\n",
    "def get_recommendations_bayesian_jaccard(user_id, df_user, df_movie, bayesian_weights, n_recommendations=10):\n",
    "    \"\"\"Get recommendations using Jaccard similarity and Bayesian weights\"\"\"\n",
    "    \n",
    "    genre_cols = df_movie.columns[df_movie.columns != 'movieId']\n",
    "    user_ratings = df_user[df_user['userId'] == user_id]\n",
    "    user_movies = user_ratings.merge(df_movie, on='movieId')\n",
    "    \n",
    "    # Create weights DataFrame\n",
    "    weights_df = pd.DataFrame(index=df_movie['movieId'])\n",
    "    weights_df['bayesian_weight'] = bayesian_weights\n",
    "    weights_df = weights_df.fillna(weights_df['bayesian_weight'].mean())\n",
    "    \n",
    "    # Calculate Jaccard similarities (more efficient)\n",
    "    all_movies_features = df_movie[genre_cols].values\n",
    "    user_movies_features = user_movies[genre_cols].values\n",
    "    \n",
    "    # Convert distances to similarities (1 - distance)\n",
    "    similarities = 1 - pairwise_distances(\n",
    "        user_movies_features, \n",
    "        all_movies_features, \n",
    "        metric='jaccard'\n",
    "    )\n",
    "    \n",
    "    # Ensure proper shape for broadcasting\n",
    "    bayesian_weights_aligned = weights_df.reindex(df_movie['movieId'])['bayesian_weight'].values\n",
    "    \n",
    "    weighted_similarities = (\n",
    "        similarities * \n",
    "        user_ratings['rating'].values.reshape(-1, 1) *\n",
    "        bayesian_weights_aligned.reshape(1, -1)\n",
    "    )\n",
    "    \n",
    "    mean_similarities = weighted_similarities.mean(axis=0)\n",
    "    \n",
    "    recommendations = pd.DataFrame({\n",
    "        'movieId': df_movie['movieId'],\n",
    "        'similarity_score': mean_similarities\n",
    "    })\n",
    "    \n",
    "    rated_movies = user_ratings['movieId']\n",
    "    recommendations = recommendations[~recommendations['movieId'].isin(rated_movies)]\n",
    "    \n",
    "    return recommendations.nlargest(n_recommendations, 'similarity_score')"
   ]
  },
  {
   "cell_type": "code",
   "execution_count": 68,
   "metadata": {},
   "outputs": [
    {
     "name": "stderr",
     "output_type": "stream",
     "text": [
      "c:\\Users\\EFCA7255\\AppData\\Local\\Programs\\Python\\Python312\\Lib\\site-packages\\sklearn\\metrics\\pairwise.py:2361: DataConversionWarning: Data was converted to boolean for metric jaccard\n",
      "  warnings.warn(msg, DataConversionWarning)\n"
     ]
    }
   ],
   "source": [
    "reco_Bayesian_user1_Jaccard = get_recommendations_bayesian_jaccard(user_id, mv_user1, df_movie_genres, bayesian_weights)"
   ]
  },
  {
   "cell_type": "code",
   "execution_count": 69,
   "metadata": {},
   "outputs": [],
   "source": [
    "reco_Bayesian_user1_Jaccard = add_columns(reco_Bayesian_user1_Jaccard, df_movieB, columns_to_add)"
   ]
  },
  {
   "cell_type": "code",
   "execution_count": 70,
   "metadata": {},
   "outputs": [
    {
     "data": {
      "application/vnd.microsoft.datawrangler.viewer.v0+json": {
       "columns": [
        {
         "name": "index",
         "rawType": "int64",
         "type": "integer"
        },
        {
         "name": "movieId",
         "rawType": "int64",
         "type": "integer"
        },
        {
         "name": "similarity_score",
         "rawType": "float64",
         "type": "float"
        },
        {
         "name": "originalTitle",
         "rawType": "object",
         "type": "string"
        },
        {
         "name": "genres",
         "rawType": "object",
         "type": "string"
        },
        {
         "name": "startYear",
         "rawType": "int64",
         "type": "integer"
        }
       ],
       "ref": "9020ea88-5bd1-443e-b3da-bb8289cb7c80",
       "rows": [
        [
         "0",
         "1210",
         "4.33018421299876",
         "Star Wars: Episode VI - Return of the Jedi",
         "Action,Adventure,Fantasy",
         "1983"
        ],
        [
         "1",
         "3578",
         "4.2129301990744175",
         "Gladiator",
         "Action,Adventure,Drama",
         "2000"
        ],
        [
         "2",
         "599",
         "4.181507181897885",
         "The Wild Bunch",
         "Action,Adventure,Drama",
         "1969"
        ],
        [
         "3",
         "7090",
         "4.152731824311724",
         "Ying xiong",
         "Action,Adventure,Drama",
         "2002"
        ],
        [
         "4",
         "4327",
         "4.134179394028603",
         "The Magnificent Seven",
         "Action,Adventure,Drama",
         "1960"
        ],
        [
         "5",
         "72998",
         "4.071927446240773",
         "Avatar",
         "Action,Adventure,Fantasy",
         "2009"
        ],
        [
         "6",
         "59387",
         "4.036790929476917",
         "The Fall",
         "Adventure,Drama,Fantasy",
         "2006"
        ],
        [
         "7",
         "50068",
         "4.022201262822285",
         "Letters from Iwo Jima",
         "Action,Adventure,Drama",
         "2006"
        ],
        [
         "8",
         "3654",
         "4.020911026566435",
         "The Guns of Navarone",
         "Action,Adventure,Drama",
         "1961"
        ],
        [
         "9",
         "5064",
         "4.016949148574639",
         "The Count of Monte Cristo",
         "Action,Adventure,Drama",
         "2002"
        ]
       ],
       "shape": {
        "columns": 5,
        "rows": 10
       }
      },
      "text/html": [
       "<div>\n",
       "<style scoped>\n",
       "    .dataframe tbody tr th:only-of-type {\n",
       "        vertical-align: middle;\n",
       "    }\n",
       "\n",
       "    .dataframe tbody tr th {\n",
       "        vertical-align: top;\n",
       "    }\n",
       "\n",
       "    .dataframe thead th {\n",
       "        text-align: right;\n",
       "    }\n",
       "</style>\n",
       "<table border=\"1\" class=\"dataframe\">\n",
       "  <thead>\n",
       "    <tr style=\"text-align: right;\">\n",
       "      <th></th>\n",
       "      <th>movieId</th>\n",
       "      <th>similarity_score</th>\n",
       "      <th>originalTitle</th>\n",
       "      <th>genres</th>\n",
       "      <th>startYear</th>\n",
       "    </tr>\n",
       "  </thead>\n",
       "  <tbody>\n",
       "    <tr>\n",
       "      <th>0</th>\n",
       "      <td>1210</td>\n",
       "      <td>4.330184</td>\n",
       "      <td>Star Wars: Episode VI - Return of the Jedi</td>\n",
       "      <td>Action,Adventure,Fantasy</td>\n",
       "      <td>1983</td>\n",
       "    </tr>\n",
       "    <tr>\n",
       "      <th>1</th>\n",
       "      <td>3578</td>\n",
       "      <td>4.212930</td>\n",
       "      <td>Gladiator</td>\n",
       "      <td>Action,Adventure,Drama</td>\n",
       "      <td>2000</td>\n",
       "    </tr>\n",
       "    <tr>\n",
       "      <th>2</th>\n",
       "      <td>599</td>\n",
       "      <td>4.181507</td>\n",
       "      <td>The Wild Bunch</td>\n",
       "      <td>Action,Adventure,Drama</td>\n",
       "      <td>1969</td>\n",
       "    </tr>\n",
       "    <tr>\n",
       "      <th>3</th>\n",
       "      <td>7090</td>\n",
       "      <td>4.152732</td>\n",
       "      <td>Ying xiong</td>\n",
       "      <td>Action,Adventure,Drama</td>\n",
       "      <td>2002</td>\n",
       "    </tr>\n",
       "    <tr>\n",
       "      <th>4</th>\n",
       "      <td>4327</td>\n",
       "      <td>4.134179</td>\n",
       "      <td>The Magnificent Seven</td>\n",
       "      <td>Action,Adventure,Drama</td>\n",
       "      <td>1960</td>\n",
       "    </tr>\n",
       "    <tr>\n",
       "      <th>5</th>\n",
       "      <td>72998</td>\n",
       "      <td>4.071927</td>\n",
       "      <td>Avatar</td>\n",
       "      <td>Action,Adventure,Fantasy</td>\n",
       "      <td>2009</td>\n",
       "    </tr>\n",
       "    <tr>\n",
       "      <th>6</th>\n",
       "      <td>59387</td>\n",
       "      <td>4.036791</td>\n",
       "      <td>The Fall</td>\n",
       "      <td>Adventure,Drama,Fantasy</td>\n",
       "      <td>2006</td>\n",
       "    </tr>\n",
       "    <tr>\n",
       "      <th>7</th>\n",
       "      <td>50068</td>\n",
       "      <td>4.022201</td>\n",
       "      <td>Letters from Iwo Jima</td>\n",
       "      <td>Action,Adventure,Drama</td>\n",
       "      <td>2006</td>\n",
       "    </tr>\n",
       "    <tr>\n",
       "      <th>8</th>\n",
       "      <td>3654</td>\n",
       "      <td>4.020911</td>\n",
       "      <td>The Guns of Navarone</td>\n",
       "      <td>Action,Adventure,Drama</td>\n",
       "      <td>1961</td>\n",
       "    </tr>\n",
       "    <tr>\n",
       "      <th>9</th>\n",
       "      <td>5064</td>\n",
       "      <td>4.016949</td>\n",
       "      <td>The Count of Monte Cristo</td>\n",
       "      <td>Action,Adventure,Drama</td>\n",
       "      <td>2002</td>\n",
       "    </tr>\n",
       "  </tbody>\n",
       "</table>\n",
       "</div>"
      ],
      "text/plain": [
       "   movieId  similarity_score                               originalTitle  \\\n",
       "0     1210          4.330184  Star Wars: Episode VI - Return of the Jedi   \n",
       "1     3578          4.212930                                   Gladiator   \n",
       "2      599          4.181507                              The Wild Bunch   \n",
       "3     7090          4.152732                                  Ying xiong   \n",
       "4     4327          4.134179                       The Magnificent Seven   \n",
       "5    72998          4.071927                                      Avatar   \n",
       "6    59387          4.036791                                    The Fall   \n",
       "7    50068          4.022201                       Letters from Iwo Jima   \n",
       "8     3654          4.020911                        The Guns of Navarone   \n",
       "9     5064          4.016949                   The Count of Monte Cristo   \n",
       "\n",
       "                     genres  startYear  \n",
       "0  Action,Adventure,Fantasy       1983  \n",
       "1    Action,Adventure,Drama       2000  \n",
       "2    Action,Adventure,Drama       1969  \n",
       "3    Action,Adventure,Drama       2002  \n",
       "4    Action,Adventure,Drama       1960  \n",
       "5  Action,Adventure,Fantasy       2009  \n",
       "6   Adventure,Drama,Fantasy       2006  \n",
       "7    Action,Adventure,Drama       2006  \n",
       "8    Action,Adventure,Drama       1961  \n",
       "9    Action,Adventure,Drama       2002  "
      ]
     },
     "execution_count": 70,
     "metadata": {},
     "output_type": "execute_result"
    }
   ],
   "source": [
    "reco_Bayesian_user1_Jaccard"
   ]
  },
  {
   "cell_type": "code",
   "execution_count": 71,
   "metadata": {},
   "outputs": [
    {
     "data": {
      "application/vnd.microsoft.datawrangler.viewer.v0+json": {
       "columns": [
        {
         "name": "index",
         "rawType": "int64",
         "type": "integer"
        },
        {
         "name": "movieId",
         "rawType": "int64",
         "type": "integer"
        },
        {
         "name": "similarity_score",
         "rawType": "float64",
         "type": "float"
        },
        {
         "name": "originalTitle",
         "rawType": "object",
         "type": "string"
        },
        {
         "name": "genres",
         "rawType": "object",
         "type": "string"
        },
        {
         "name": "startYear",
         "rawType": "int64",
         "type": "integer"
        }
       ],
       "ref": "21b29fc6-a370-4965-bc9d-58cee3add7b3",
       "rows": [
        [
         "0",
         "3578",
         "5.93464431741",
         "Gladiator",
         "Action,Adventure,Drama",
         "2000"
        ],
        [
         "1",
         "599",
         "5.890379536957777",
         "The Wild Bunch",
         "Action,Adventure,Drama",
         "1969"
        ],
        [
         "2",
         "7090",
         "5.849844445154533",
         "Ying xiong",
         "Action,Adventure,Drama",
         "2002"
        ],
        [
         "3",
         "4327",
         "5.823710123019783",
         "The Magnificent Seven",
         "Action,Adventure,Drama",
         "1960"
        ],
        [
         "4",
         "3629",
         "5.711284951304682",
         "The Gold Rush",
         "Adventure,Comedy,Drama",
         "1925"
        ],
        [
         "5",
         "59387",
         "5.675528947569829",
         "The Fall",
         "Adventure,Drama,Fantasy",
         "2006"
        ],
        [
         "6",
         "50068",
         "5.665969465416718",
         "Letters from Iwo Jima",
         "Action,Adventure,Drama",
         "2006"
        ],
        [
         "7",
         "3654",
         "5.664151943430343",
         "The Guns of Navarone",
         "Action,Adventure,Drama",
         "1961"
        ],
        [
         "8",
         "5064",
         "5.658570949775279",
         "The Count of Monte Cristo",
         "Action,Adventure,Drama",
         "2002"
        ],
        [
         "9",
         "7147",
         "5.643997961986613",
         "Big Fish",
         "Adventure,Drama,Fantasy",
         "2003"
        ]
       ],
       "shape": {
        "columns": 5,
        "rows": 10
       }
      },
      "text/html": [
       "<div>\n",
       "<style scoped>\n",
       "    .dataframe tbody tr th:only-of-type {\n",
       "        vertical-align: middle;\n",
       "    }\n",
       "\n",
       "    .dataframe tbody tr th {\n",
       "        vertical-align: top;\n",
       "    }\n",
       "\n",
       "    .dataframe thead th {\n",
       "        text-align: right;\n",
       "    }\n",
       "</style>\n",
       "<table border=\"1\" class=\"dataframe\">\n",
       "  <thead>\n",
       "    <tr style=\"text-align: right;\">\n",
       "      <th></th>\n",
       "      <th>movieId</th>\n",
       "      <th>similarity_score</th>\n",
       "      <th>originalTitle</th>\n",
       "      <th>genres</th>\n",
       "      <th>startYear</th>\n",
       "    </tr>\n",
       "  </thead>\n",
       "  <tbody>\n",
       "    <tr>\n",
       "      <th>0</th>\n",
       "      <td>3578</td>\n",
       "      <td>5.934644</td>\n",
       "      <td>Gladiator</td>\n",
       "      <td>Action,Adventure,Drama</td>\n",
       "      <td>2000</td>\n",
       "    </tr>\n",
       "    <tr>\n",
       "      <th>1</th>\n",
       "      <td>599</td>\n",
       "      <td>5.890380</td>\n",
       "      <td>The Wild Bunch</td>\n",
       "      <td>Action,Adventure,Drama</td>\n",
       "      <td>1969</td>\n",
       "    </tr>\n",
       "    <tr>\n",
       "      <th>2</th>\n",
       "      <td>7090</td>\n",
       "      <td>5.849844</td>\n",
       "      <td>Ying xiong</td>\n",
       "      <td>Action,Adventure,Drama</td>\n",
       "      <td>2002</td>\n",
       "    </tr>\n",
       "    <tr>\n",
       "      <th>3</th>\n",
       "      <td>4327</td>\n",
       "      <td>5.823710</td>\n",
       "      <td>The Magnificent Seven</td>\n",
       "      <td>Action,Adventure,Drama</td>\n",
       "      <td>1960</td>\n",
       "    </tr>\n",
       "    <tr>\n",
       "      <th>4</th>\n",
       "      <td>3629</td>\n",
       "      <td>5.711285</td>\n",
       "      <td>The Gold Rush</td>\n",
       "      <td>Adventure,Comedy,Drama</td>\n",
       "      <td>1925</td>\n",
       "    </tr>\n",
       "    <tr>\n",
       "      <th>5</th>\n",
       "      <td>59387</td>\n",
       "      <td>5.675529</td>\n",
       "      <td>The Fall</td>\n",
       "      <td>Adventure,Drama,Fantasy</td>\n",
       "      <td>2006</td>\n",
       "    </tr>\n",
       "    <tr>\n",
       "      <th>6</th>\n",
       "      <td>50068</td>\n",
       "      <td>5.665969</td>\n",
       "      <td>Letters from Iwo Jima</td>\n",
       "      <td>Action,Adventure,Drama</td>\n",
       "      <td>2006</td>\n",
       "    </tr>\n",
       "    <tr>\n",
       "      <th>7</th>\n",
       "      <td>3654</td>\n",
       "      <td>5.664152</td>\n",
       "      <td>The Guns of Navarone</td>\n",
       "      <td>Action,Adventure,Drama</td>\n",
       "      <td>1961</td>\n",
       "    </tr>\n",
       "    <tr>\n",
       "      <th>8</th>\n",
       "      <td>5064</td>\n",
       "      <td>5.658571</td>\n",
       "      <td>The Count of Monte Cristo</td>\n",
       "      <td>Action,Adventure,Drama</td>\n",
       "      <td>2002</td>\n",
       "    </tr>\n",
       "    <tr>\n",
       "      <th>9</th>\n",
       "      <td>7147</td>\n",
       "      <td>5.643998</td>\n",
       "      <td>Big Fish</td>\n",
       "      <td>Adventure,Drama,Fantasy</td>\n",
       "      <td>2003</td>\n",
       "    </tr>\n",
       "  </tbody>\n",
       "</table>\n",
       "</div>"
      ],
      "text/plain": [
       "   movieId  similarity_score              originalTitle  \\\n",
       "0     3578          5.934644                  Gladiator   \n",
       "1      599          5.890380             The Wild Bunch   \n",
       "2     7090          5.849844                 Ying xiong   \n",
       "3     4327          5.823710      The Magnificent Seven   \n",
       "4     3629          5.711285              The Gold Rush   \n",
       "5    59387          5.675529                   The Fall   \n",
       "6    50068          5.665969      Letters from Iwo Jima   \n",
       "7     3654          5.664152       The Guns of Navarone   \n",
       "8     5064          5.658571  The Count of Monte Cristo   \n",
       "9     7147          5.643998                   Big Fish   \n",
       "\n",
       "                    genres  startYear  \n",
       "0   Action,Adventure,Drama       2000  \n",
       "1   Action,Adventure,Drama       1969  \n",
       "2   Action,Adventure,Drama       2002  \n",
       "3   Action,Adventure,Drama       1960  \n",
       "4   Adventure,Comedy,Drama       1925  \n",
       "5  Adventure,Drama,Fantasy       2006  \n",
       "6   Action,Adventure,Drama       2006  \n",
       "7   Action,Adventure,Drama       1961  \n",
       "8   Action,Adventure,Drama       2002  \n",
       "9  Adventure,Drama,Fantasy       2003  "
      ]
     },
     "execution_count": 71,
     "metadata": {},
     "output_type": "execute_result"
    }
   ],
   "source": [
    "reco_Bayesian_user1"
   ]
  },
  {
   "cell_type": "code",
   "execution_count": 72,
   "metadata": {},
   "outputs": [
    {
     "data": {
      "application/vnd.microsoft.datawrangler.viewer.v0+json": {
       "columns": [
        {
         "name": "index",
         "rawType": "int64",
         "type": "integer"
        },
        {
         "name": "movieId",
         "rawType": "int64",
         "type": "integer"
        },
        {
         "name": "similarity_score",
         "rawType": "float64",
         "type": "float"
        },
        {
         "name": "originalTitle",
         "rawType": "object",
         "type": "string"
        },
        {
         "name": "genres",
         "rawType": "object",
         "type": "string"
        },
        {
         "name": "startYear",
         "rawType": "int64",
         "type": "integer"
        }
       ],
       "ref": "8f97f5f7-eec5-4947-9b83-05d0405e0553",
       "rows": [
        [
         "0",
         "2019",
         "6.208966594265923",
         "Shichinin no samurai",
         "Drama",
         "1954"
        ],
        [
         "1",
         "2858",
         "6.086732673955713",
         "American Beauty",
         "Drama",
         "1999"
        ],
        [
         "2",
         "1210",
         "6.069314806348243",
         "Star Wars: Episode VI - Return of the Jedi",
         "Action,Adventure,Fantasy",
         "1983"
        ],
        [
         "3",
         "926",
         "6.038916615750505",
         "All About Eve",
         "Drama",
         "1950"
        ],
        [
         "4",
         "3089",
         "5.911240423981576",
         "Ladri di biciclette",
         "Drama",
         "1948"
        ],
        [
         "5",
         "3949",
         "5.885682998607134",
         "Requiem for a Dream",
         "Drama",
         "2000"
        ],
        [
         "6",
         "778",
         "5.86750119588407",
         "Trainspotting",
         "Drama",
         "1996"
        ],
        [
         "7",
         "2360",
         "5.837985836067406",
         "Festen",
         "Drama",
         "1998"
        ],
        [
         "8",
         "1132",
         "5.8334643653503155",
         "Manon des sources",
         "Drama",
         "1986"
        ],
        [
         "9",
         "2357",
         "5.821296290291822",
         "Central do Brasil",
         "Drama",
         "1998"
        ]
       ],
       "shape": {
        "columns": 5,
        "rows": 10
       }
      },
      "text/html": [
       "<div>\n",
       "<style scoped>\n",
       "    .dataframe tbody tr th:only-of-type {\n",
       "        vertical-align: middle;\n",
       "    }\n",
       "\n",
       "    .dataframe tbody tr th {\n",
       "        vertical-align: top;\n",
       "    }\n",
       "\n",
       "    .dataframe thead th {\n",
       "        text-align: right;\n",
       "    }\n",
       "</style>\n",
       "<table border=\"1\" class=\"dataframe\">\n",
       "  <thead>\n",
       "    <tr style=\"text-align: right;\">\n",
       "      <th></th>\n",
       "      <th>movieId</th>\n",
       "      <th>similarity_score</th>\n",
       "      <th>originalTitle</th>\n",
       "      <th>genres</th>\n",
       "      <th>startYear</th>\n",
       "    </tr>\n",
       "  </thead>\n",
       "  <tbody>\n",
       "    <tr>\n",
       "      <th>0</th>\n",
       "      <td>2019</td>\n",
       "      <td>6.208967</td>\n",
       "      <td>Shichinin no samurai</td>\n",
       "      <td>Drama</td>\n",
       "      <td>1954</td>\n",
       "    </tr>\n",
       "    <tr>\n",
       "      <th>1</th>\n",
       "      <td>2858</td>\n",
       "      <td>6.086733</td>\n",
       "      <td>American Beauty</td>\n",
       "      <td>Drama</td>\n",
       "      <td>1999</td>\n",
       "    </tr>\n",
       "    <tr>\n",
       "      <th>2</th>\n",
       "      <td>1210</td>\n",
       "      <td>6.069315</td>\n",
       "      <td>Star Wars: Episode VI - Return of the Jedi</td>\n",
       "      <td>Action,Adventure,Fantasy</td>\n",
       "      <td>1983</td>\n",
       "    </tr>\n",
       "    <tr>\n",
       "      <th>3</th>\n",
       "      <td>926</td>\n",
       "      <td>6.038917</td>\n",
       "      <td>All About Eve</td>\n",
       "      <td>Drama</td>\n",
       "      <td>1950</td>\n",
       "    </tr>\n",
       "    <tr>\n",
       "      <th>4</th>\n",
       "      <td>3089</td>\n",
       "      <td>5.911240</td>\n",
       "      <td>Ladri di biciclette</td>\n",
       "      <td>Drama</td>\n",
       "      <td>1948</td>\n",
       "    </tr>\n",
       "    <tr>\n",
       "      <th>5</th>\n",
       "      <td>3949</td>\n",
       "      <td>5.885683</td>\n",
       "      <td>Requiem for a Dream</td>\n",
       "      <td>Drama</td>\n",
       "      <td>2000</td>\n",
       "    </tr>\n",
       "    <tr>\n",
       "      <th>6</th>\n",
       "      <td>778</td>\n",
       "      <td>5.867501</td>\n",
       "      <td>Trainspotting</td>\n",
       "      <td>Drama</td>\n",
       "      <td>1996</td>\n",
       "    </tr>\n",
       "    <tr>\n",
       "      <th>7</th>\n",
       "      <td>2360</td>\n",
       "      <td>5.837986</td>\n",
       "      <td>Festen</td>\n",
       "      <td>Drama</td>\n",
       "      <td>1998</td>\n",
       "    </tr>\n",
       "    <tr>\n",
       "      <th>8</th>\n",
       "      <td>1132</td>\n",
       "      <td>5.833464</td>\n",
       "      <td>Manon des sources</td>\n",
       "      <td>Drama</td>\n",
       "      <td>1986</td>\n",
       "    </tr>\n",
       "    <tr>\n",
       "      <th>9</th>\n",
       "      <td>2357</td>\n",
       "      <td>5.821296</td>\n",
       "      <td>Central do Brasil</td>\n",
       "      <td>Drama</td>\n",
       "      <td>1998</td>\n",
       "    </tr>\n",
       "  </tbody>\n",
       "</table>\n",
       "</div>"
      ],
      "text/plain": [
       "   movieId  similarity_score                               originalTitle  \\\n",
       "0     2019          6.208967                        Shichinin no samurai   \n",
       "1     2858          6.086733                             American Beauty   \n",
       "2     1210          6.069315  Star Wars: Episode VI - Return of the Jedi   \n",
       "3      926          6.038917                               All About Eve   \n",
       "4     3089          5.911240                         Ladri di biciclette   \n",
       "5     3949          5.885683                         Requiem for a Dream   \n",
       "6      778          5.867501                               Trainspotting   \n",
       "7     2360          5.837986                                      Festen   \n",
       "8     1132          5.833464                           Manon des sources   \n",
       "9     2357          5.821296                           Central do Brasil   \n",
       "\n",
       "                     genres  startYear  \n",
       "0                     Drama       1954  \n",
       "1                     Drama       1999  \n",
       "2  Action,Adventure,Fantasy       1983  \n",
       "3                     Drama       1950  \n",
       "4                     Drama       1948  \n",
       "5                     Drama       2000  \n",
       "6                     Drama       1996  \n",
       "7                     Drama       1998  \n",
       "8                     Drama       1986  \n",
       "9                     Drama       1998  "
      ]
     },
     "execution_count": 72,
     "metadata": {},
     "output_type": "execute_result"
    }
   ],
   "source": [
    "recommended_moviesB_Bayesian_euclidean"
   ]
  },
  {
   "cell_type": "code",
   "execution_count": 73,
   "metadata": {},
   "outputs": [
    {
     "data": {
      "application/vnd.microsoft.datawrangler.viewer.v0+json": {
       "columns": [
        {
         "name": "index",
         "rawType": "int64",
         "type": "integer"
        },
        {
         "name": "userId",
         "rawType": "int64",
         "type": "integer"
        },
        {
         "name": "movieId",
         "rawType": "int64",
         "type": "integer"
        },
        {
         "name": "rating",
         "rawType": "float64",
         "type": "float"
        },
        {
         "name": "timestamp",
         "rawType": "int64",
         "type": "integer"
        },
        {
         "name": "originalTitle",
         "rawType": "object",
         "type": "string"
        },
        {
         "name": "genres",
         "rawType": "object",
         "type": "string"
        },
        {
         "name": "startYear",
         "rawType": "int64",
         "type": "integer"
        }
       ],
       "ref": "9b6f9db8-cbe8-4b6d-8049-5222b5835af3",
       "rows": [
        [
         "131",
         "1",
         "4993",
         "5.0",
         "1112484682",
         "The Lord of the Rings: The Fellowship of the Ring",
         "Adventure,Drama,Fantasy",
         "2001"
        ],
        [
         "170",
         "1",
         "8507",
         "5.0",
         "1094786027",
         "Freaks",
         "Drama,Horror",
         "1932"
        ],
        [
         "158",
         "1",
         "7153",
         "5.0",
         "1112484633",
         "The Lord of the Rings: The Return of the King",
         "Adventure,Drama,Fantasy",
         "2003"
        ],
        [
         "142",
         "1",
         "5952",
         "5.0",
         "1112484619",
         "The Lord of the Rings: The Two Towers",
         "Adventure,Drama,Fantasy",
         "2002"
        ],
        [
         "30",
         "1",
         "1196",
         "4.5",
         "1112484742",
         "Star Wars: Episode V - The Empire Strikes Back",
         "Action,Adventure,Fantasy",
         "1980"
        ],
        [
         "31",
         "1",
         "1198",
         "4.5",
         "1112484624",
         "Raiders of the Lost Ark",
         "Action,Adventure",
         "1981"
        ],
        [
         "171",
         "1",
         "8636",
         "4.5",
         "1112485493",
         "Spider-Man 2",
         "Action,Adventure,Sci-Fi",
         "2004"
        ],
        [
         "22",
         "1",
         "1036",
         "4.0",
         "1112485480",
         "Die Hard",
         "Action,Thriller",
         "1988"
        ],
        [
         "32",
         "1",
         "1200",
         "4.0",
         "1112484560",
         "Aliens",
         "Action,Adventure,Sci-Fi",
         "1986"
        ],
        [
         "27",
         "1",
         "1097",
         "4.0",
         "1112485701",
         "E.T. the Extra-Terrestrial",
         "Adventure,Family,Sci-Fi",
         "1982"
        ],
        [
         "6",
         "1",
         "151",
         "4.0",
         "1094785734",
         "Rob Roy",
         "Adventure,Biography,Drama",
         "1995"
        ],
        [
         "10",
         "1",
         "293",
         "4.0",
         "1112484703",
         "Léon",
         "Action,Crime,Drama",
         "1994"
        ],
        [
         "9",
         "1",
         "260",
         "4.0",
         "1112484826",
         "Star Wars",
         "Action,Adventure,Fantasy",
         "1977"
        ],
        [
         "12",
         "1",
         "318",
         "4.0",
         "1112484798",
         "The Shawshank Redemption",
         "Drama",
         "1994"
        ],
        [
         "11",
         "1",
         "296",
         "4.0",
         "1112484767",
         "Pulp Fiction",
         "Crime,Drama",
         "1994"
        ],
        [
         "40",
         "1",
         "1240",
         "4.0",
         "1112485401",
         "The Terminator",
         "Action,Adventure,Sci-Fi",
         "1984"
        ],
        [
         "45",
         "1",
         "1259",
         "4.0",
         "1112485440",
         "Stand by Me",
         "Adventure,Comedy,Drama",
         "1986"
        ],
        [
         "44",
         "1",
         "1258",
         "4.0",
         "1094785994",
         "The Shining",
         "Drama,Horror",
         "1980"
        ],
        [
         "38",
         "1",
         "1219",
         "4.0",
         "1094785994",
         "Psycho",
         "Horror,Mystery,Thriller",
         "1960"
        ],
        [
         "35",
         "1",
         "1214",
         "4.0",
         "1094785977",
         "Alien",
         "Horror,Sci-Fi",
         "1979"
        ],
        [
         "36",
         "1",
         "1215",
         "4.0",
         "1094786082",
         "Army of Darkness",
         "Comedy,Horror",
         "1992"
        ],
        [
         "43",
         "1",
         "1249",
         "4.0",
         "1112485382",
         "Nikita",
         "Action,Crime,Drama",
         "1990"
        ],
        [
         "96",
         "1",
         "2959",
         "4.0",
         "1094785698",
         "Fight Club",
         "Drama",
         "1999"
        ],
        [
         "106",
         "1",
         "3479",
         "4.0",
         "1112485734",
         "Ladyhawke",
         "Adventure,Comedy,Drama",
         "1985"
        ],
        [
         "109",
         "1",
         "3889",
         "4.0",
         "1112486138",
         "Highlander: Endgame",
         "Action,Adventure,Fantasy",
         "2000"
        ],
        [
         "108",
         "1",
         "3499",
         "4.0",
         "1112484918",
         "Misery",
         "Drama,Thriller",
         "1990"
        ],
        [
         "107",
         "1",
         "3489",
         "4.0",
         "1112486024",
         "Hook",
         "Adventure,Comedy,Family",
         "1991"
        ],
        [
         "102",
         "1",
         "3153",
         "4.0",
         "1112485816",
         "The 7th Voyage of Sinbad",
         "Action,Adventure,Family",
         "1958"
        ],
        [
         "101",
         "1",
         "3081",
         "4.0",
         "1094786143",
         "Sleepy Hollow",
         "Fantasy,Horror,Mystery",
         "1999"
        ],
        [
         "97",
         "1",
         "2968",
         "4.0",
         "1112485825",
         "Time Bandits",
         "Adventure,Comedy,Fantasy",
         "1981"
        ],
        [
         "76",
         "1",
         "2193",
         "4.0",
         "1112485753",
         "Willow",
         "Action,Adventure,Drama",
         "1988"
        ],
        [
         "75",
         "1",
         "2174",
         "4.0",
         "1112485843",
         "Beetlejuice",
         "Comedy,Fantasy",
         "1988"
        ],
        [
         "56",
         "1",
         "1358",
         "4.0",
         "1112485419",
         "Sling Blade",
         "Drama",
         "1996"
        ],
        [
         "59",
         "1",
         "1387",
         "4.0",
         "1112484913",
         "Jaws",
         "Adventure,Drama,Thriller",
         "1975"
        ],
        [
         "58",
         "1",
         "1374",
         "4.0",
         "1094785746",
         "Star Trek II: The Wrath of Khan",
         "Action,Adventure,Sci-Fi",
         "1982"
        ],
        [
         "52",
         "1",
         "1321",
         "4.0",
         "1094786062",
         "An American Werewolf in London",
         "Comedy,Horror",
         "1981"
        ],
        [
         "73",
         "1",
         "2143",
         "4.0",
         "1112485951",
         "Legend",
         "Adventure,Fantasy,Romance",
         "1985"
        ],
        [
         "72",
         "1",
         "2140",
         "4.0",
         "1112485705",
         "The Dark Crystal",
         "Adventure,Family,Fantasy",
         "1982"
        ],
        [
         "71",
         "1",
         "2138",
         "4.0",
         "1112485789",
         "Watership Down",
         "Adventure,Animation,Drama",
         "1978"
        ],
        [
         "49",
         "1",
         "1278",
         "4.0",
         "1094785986",
         "Young Frankenstein",
         "Comedy",
         "1974"
        ],
        [
         "53",
         "1",
         "1333",
         "4.0",
         "1112484990",
         "The Birds",
         "Drama,Horror,Mystery",
         "1963"
        ],
        [
         "48",
         "1",
         "1266",
         "4.0",
         "1112485371",
         "Unforgiven",
         "Drama,Western",
         "1992"
        ],
        [
         "26",
         "1",
         "1090",
         "4.0",
         "1112485453",
         "Platoon",
         "Drama,War",
         "1986"
        ],
        [
         "15",
         "1",
         "541",
         "4.0",
         "1112484603",
         "Blade Runner",
         "Action,Drama,Sci-Fi",
         "1982"
        ],
        [
         "23",
         "1",
         "1079",
         "4.0",
         "1094785665",
         "A Fish Called Wanda",
         "Comedy,Crime",
         "1988"
        ],
        [
         "8",
         "1",
         "253",
         "4.0",
         "1112484940",
         "Interview with the Vampire: The Vampire Chronicles",
         "Drama,Fantasy,Horror",
         "1994"
        ],
        [
         "7",
         "1",
         "223",
         "4.0",
         "1112485573",
         "Clerks",
         "Comedy",
         "1994"
        ],
        [
         "148",
         "1",
         "6539",
         "4.0",
         "1112485508",
         "Pirates of the Caribbean: The Curse of the Black Pearl",
         "Action,Adventure,Fantasy",
         "2003"
        ],
        [
         "173",
         "1",
         "8961",
         "4.0",
         "1112485629",
         "The Incredibles",
         "Action,Adventure,Animation",
         "2004"
        ],
        [
         "132",
         "1",
         "5026",
         "4.0",
         "1112485858",
         "Le pacte des loups",
         "Action,Adventure,Drama",
         "2001"
        ]
       ],
       "shape": {
        "columns": 7,
        "rows": 175
       }
      },
      "text/html": [
       "<div>\n",
       "<style scoped>\n",
       "    .dataframe tbody tr th:only-of-type {\n",
       "        vertical-align: middle;\n",
       "    }\n",
       "\n",
       "    .dataframe tbody tr th {\n",
       "        vertical-align: top;\n",
       "    }\n",
       "\n",
       "    .dataframe thead th {\n",
       "        text-align: right;\n",
       "    }\n",
       "</style>\n",
       "<table border=\"1\" class=\"dataframe\">\n",
       "  <thead>\n",
       "    <tr style=\"text-align: right;\">\n",
       "      <th></th>\n",
       "      <th>userId</th>\n",
       "      <th>movieId</th>\n",
       "      <th>rating</th>\n",
       "      <th>timestamp</th>\n",
       "      <th>originalTitle</th>\n",
       "      <th>genres</th>\n",
       "      <th>startYear</th>\n",
       "    </tr>\n",
       "  </thead>\n",
       "  <tbody>\n",
       "    <tr>\n",
       "      <th>131</th>\n",
       "      <td>1</td>\n",
       "      <td>4993</td>\n",
       "      <td>5.0</td>\n",
       "      <td>1112484682</td>\n",
       "      <td>The Lord of the Rings: The Fellowship of the Ring</td>\n",
       "      <td>Adventure,Drama,Fantasy</td>\n",
       "      <td>2001</td>\n",
       "    </tr>\n",
       "    <tr>\n",
       "      <th>170</th>\n",
       "      <td>1</td>\n",
       "      <td>8507</td>\n",
       "      <td>5.0</td>\n",
       "      <td>1094786027</td>\n",
       "      <td>Freaks</td>\n",
       "      <td>Drama,Horror</td>\n",
       "      <td>1932</td>\n",
       "    </tr>\n",
       "    <tr>\n",
       "      <th>158</th>\n",
       "      <td>1</td>\n",
       "      <td>7153</td>\n",
       "      <td>5.0</td>\n",
       "      <td>1112484633</td>\n",
       "      <td>The Lord of the Rings: The Return of the King</td>\n",
       "      <td>Adventure,Drama,Fantasy</td>\n",
       "      <td>2003</td>\n",
       "    </tr>\n",
       "    <tr>\n",
       "      <th>142</th>\n",
       "      <td>1</td>\n",
       "      <td>5952</td>\n",
       "      <td>5.0</td>\n",
       "      <td>1112484619</td>\n",
       "      <td>The Lord of the Rings: The Two Towers</td>\n",
       "      <td>Adventure,Drama,Fantasy</td>\n",
       "      <td>2002</td>\n",
       "    </tr>\n",
       "    <tr>\n",
       "      <th>30</th>\n",
       "      <td>1</td>\n",
       "      <td>1196</td>\n",
       "      <td>4.5</td>\n",
       "      <td>1112484742</td>\n",
       "      <td>Star Wars: Episode V - The Empire Strikes Back</td>\n",
       "      <td>Action,Adventure,Fantasy</td>\n",
       "      <td>1980</td>\n",
       "    </tr>\n",
       "    <tr>\n",
       "      <th>...</th>\n",
       "      <td>...</td>\n",
       "      <td>...</td>\n",
       "      <td>...</td>\n",
       "      <td>...</td>\n",
       "      <td>...</td>\n",
       "      <td>...</td>\n",
       "      <td>...</td>\n",
       "    </tr>\n",
       "    <tr>\n",
       "      <th>117</th>\n",
       "      <td>1</td>\n",
       "      <td>4133</td>\n",
       "      <td>3.0</td>\n",
       "      <td>1112486169</td>\n",
       "      <td>Masters of the Universe</td>\n",
       "      <td>Action,Adventure,Fantasy</td>\n",
       "      <td>1987</td>\n",
       "    </tr>\n",
       "    <tr>\n",
       "      <th>128</th>\n",
       "      <td>1</td>\n",
       "      <td>4915</td>\n",
       "      <td>3.0</td>\n",
       "      <td>1112486076</td>\n",
       "      <td>The Beastmaster</td>\n",
       "      <td>Action,Adventure,Fantasy</td>\n",
       "      <td>1982</td>\n",
       "    </tr>\n",
       "    <tr>\n",
       "      <th>134</th>\n",
       "      <td>1</td>\n",
       "      <td>5040</td>\n",
       "      <td>3.0</td>\n",
       "      <td>1112486086</td>\n",
       "      <td>Conan the Destroyer</td>\n",
       "      <td>Action,Adventure,Fantasy</td>\n",
       "      <td>1984</td>\n",
       "    </tr>\n",
       "    <tr>\n",
       "      <th>154</th>\n",
       "      <td>1</td>\n",
       "      <td>6888</td>\n",
       "      <td>3.0</td>\n",
       "      <td>1112486127</td>\n",
       "      <td>Scary Movie 3</td>\n",
       "      <td>Comedy</td>\n",
       "      <td>2003</td>\n",
       "    </tr>\n",
       "    <tr>\n",
       "      <th>166</th>\n",
       "      <td>1</td>\n",
       "      <td>7482</td>\n",
       "      <td>3.0</td>\n",
       "      <td>1112484575</td>\n",
       "      <td>Enter the Dragon</td>\n",
       "      <td>Action,Crime,Thriller</td>\n",
       "      <td>1973</td>\n",
       "    </tr>\n",
       "  </tbody>\n",
       "</table>\n",
       "<p>175 rows × 7 columns</p>\n",
       "</div>"
      ],
      "text/plain": [
       "     userId  movieId  rating   timestamp  \\\n",
       "131       1     4993     5.0  1112484682   \n",
       "170       1     8507     5.0  1094786027   \n",
       "158       1     7153     5.0  1112484633   \n",
       "142       1     5952     5.0  1112484619   \n",
       "30        1     1196     4.5  1112484742   \n",
       "..      ...      ...     ...         ...   \n",
       "117       1     4133     3.0  1112486169   \n",
       "128       1     4915     3.0  1112486076   \n",
       "134       1     5040     3.0  1112486086   \n",
       "154       1     6888     3.0  1112486127   \n",
       "166       1     7482     3.0  1112484575   \n",
       "\n",
       "                                         originalTitle  \\\n",
       "131  The Lord of the Rings: The Fellowship of the Ring   \n",
       "170                                             Freaks   \n",
       "158      The Lord of the Rings: The Return of the King   \n",
       "142              The Lord of the Rings: The Two Towers   \n",
       "30      Star Wars: Episode V - The Empire Strikes Back   \n",
       "..                                                 ...   \n",
       "117                            Masters of the Universe   \n",
       "128                                    The Beastmaster   \n",
       "134                                Conan the Destroyer   \n",
       "154                                      Scary Movie 3   \n",
       "166                                   Enter the Dragon   \n",
       "\n",
       "                       genres  startYear  \n",
       "131   Adventure,Drama,Fantasy       2001  \n",
       "170              Drama,Horror       1932  \n",
       "158   Adventure,Drama,Fantasy       2003  \n",
       "142   Adventure,Drama,Fantasy       2002  \n",
       "30   Action,Adventure,Fantasy       1980  \n",
       "..                        ...        ...  \n",
       "117  Action,Adventure,Fantasy       1987  \n",
       "128  Action,Adventure,Fantasy       1982  \n",
       "134  Action,Adventure,Fantasy       1984  \n",
       "154                    Comedy       2003  \n",
       "166     Action,Crime,Thriller       1973  \n",
       "\n",
       "[175 rows x 7 columns]"
      ]
     },
     "execution_count": 73,
     "metadata": {},
     "output_type": "execute_result"
    }
   ],
   "source": [
    "films_user1"
   ]
  },
  {
   "cell_type": "code",
   "execution_count": null,
   "metadata": {},
   "outputs": [],
   "source": [
    "#checking for user_id 32"
   ]
  },
  {
   "cell_type": "code",
   "execution_count": 74,
   "metadata": {},
   "outputs": [],
   "source": [
    "user_id = 32"
   ]
  },
  {
   "cell_type": "code",
   "execution_count": 79,
   "metadata": {},
   "outputs": [],
   "source": [
    "#films prefered by new user_id = 32"
   ]
  },
  {
   "cell_type": "code",
   "execution_count": 75,
   "metadata": {},
   "outputs": [],
   "source": [
    "mv_user32 = mv_ratings.loc[mv_ratings['userId']==32]\n"
   ]
  },
  {
   "cell_type": "code",
   "execution_count": 76,
   "metadata": {},
   "outputs": [],
   "source": [
    "films_user32 = add_columns(mv_user32, df_movieB, columns_to_add)"
   ]
  },
  {
   "cell_type": "code",
   "execution_count": 77,
   "metadata": {},
   "outputs": [],
   "source": [
    "films_user32.sort_values('rating', ascending=False, inplace=True) #to get highest ratings on top"
   ]
  },
  {
   "cell_type": "code",
   "execution_count": 83,
   "metadata": {},
   "outputs": [
    {
     "data": {
      "application/vnd.microsoft.datawrangler.viewer.v0+json": {
       "columns": [
        {
         "name": "index",
         "rawType": "int64",
         "type": "integer"
        },
        {
         "name": "userId",
         "rawType": "int64",
         "type": "integer"
        },
        {
         "name": "movieId",
         "rawType": "int64",
         "type": "integer"
        },
        {
         "name": "rating",
         "rawType": "float64",
         "type": "float"
        },
        {
         "name": "timestamp",
         "rawType": "int64",
         "type": "integer"
        },
        {
         "name": "originalTitle",
         "rawType": "object",
         "type": "unknown"
        },
        {
         "name": "genres",
         "rawType": "object",
         "type": "unknown"
        },
        {
         "name": "startYear",
         "rawType": "float64",
         "type": "float"
        }
       ],
       "conversionMethod": "pd.DataFrame",
       "ref": "9f9dcf63-3bd0-4b3b-9de8-4b7438168254",
       "rows": [
        [
         "13",
         "32",
         "50",
         "5.0",
         "845962438",
         "The Usual Suspects",
         "Crime,Drama,Mystery",
         "1995.0"
        ],
        [
         "44",
         "32",
         "368",
         "5.0",
         "845962888",
         "Maverick",
         "Action,Adventure,Comedy",
         "1994.0"
        ],
        [
         "34",
         "32",
         "318",
         "5.0",
         "845962584",
         "The Shawshank Redemption",
         "Drama",
         "1994.0"
        ],
        [
         "30",
         "32",
         "296",
         "5.0",
         "845962251",
         "Pulp Fiction",
         "Crime,Drama",
         "1994.0"
        ],
        [
         "69",
         "32",
         "778",
         "5.0",
         "845963397",
         "Trainspotting",
         "Drama",
         "1996.0"
        ],
        [
         "8",
         "32",
         "34",
         "4.0",
         "845962682",
         "Babe",
         "Comedy,Drama,Family",
         "1995.0"
        ],
        [
         "6",
         "32",
         "25",
         "4.0",
         "845962869",
         "Leaving Las Vegas",
         "Drama,Romance",
         "1995.0"
        ],
        [
         "29",
         "32",
         "292",
         "4.0",
         "845962584",
         "Outbreak",
         "Action,Drama,Thriller",
         "1995.0"
        ],
        [
         "4",
         "32",
         "17",
         "4.0",
         "845962821",
         "Sense and Sensibility",
         "Drama,Romance",
         "1995.0"
        ],
        [
         "72",
         "32",
         "1047",
         "4.0",
         "845962385",
         "The Long Kiss Goodnight",
         "Action,Crime,Drama",
         "1996.0"
        ],
        [
         "58",
         "32",
         "535",
         "4.0",
         "845963269",
         "Short Cuts",
         "Comedy,Drama",
         "1993.0"
        ],
        [
         "63",
         "32",
         "593",
         "4.0",
         "845962438",
         "The Silence of the Lambs",
         "Crime,Drama,Thriller",
         "1991.0"
        ],
        [
         "60",
         "32",
         "589",
         "4.0",
         "845962438",
         "Terminator 2: Judgment Day",
         "Action,Adventure,Sci-Fi",
         "1991.0"
        ],
        [
         "67",
         "32",
         "736",
         "4.0",
         "845962838",
         "Twister",
         "Action,Adventure,Thriller",
         "1996.0"
        ],
        [
         "68",
         "32",
         "745",
         "4.0",
         "845963582",
         null,
         null,
         null
        ],
        [
         "28",
         "32",
         "260",
         "4.0",
         "845963259",
         "Star Wars",
         "Action,Adventure,Fantasy",
         "1977.0"
        ],
        [
         "14",
         "32",
         "58",
         "4.0",
         "845963068",
         "Il postino",
         "Biography,Comedy,Drama",
         "1994.0"
        ],
        [
         "36",
         "32",
         "337",
         "4.0",
         "845962822",
         "What's Eating Gilbert Grape",
         "Drama",
         "1993.0"
        ],
        [
         "35",
         "32",
         "319",
         "4.0",
         "845963145",
         "Shallow Grave",
         "Crime,Drama,Thriller",
         "1994.0"
        ],
        [
         "56",
         "32",
         "497",
         "4.0",
         "845962944",
         "Much Ado About Nothing",
         "Comedy,Drama,Romance",
         "1993.0"
        ],
        [
         "54",
         "32",
         "474",
         "4.0",
         "845962792",
         "In the Line of Fire",
         "Action,Crime,Drama",
         "1993.0"
        ],
        [
         "43",
         "32",
         "357",
         "4.0",
         "845962749",
         "Four Weddings and a Funeral",
         "Comedy,Drama,Romance",
         "1994.0"
        ],
        [
         "47",
         "32",
         "380",
         "4.0",
         "845962251",
         "True Lies",
         "Action,Comedy,Thriller",
         "1994.0"
        ],
        [
         "16",
         "32",
         "150",
         "4.0",
         "845962251",
         "Apollo 13",
         "Adventure,Drama,History",
         "1995.0"
        ],
        [
         "37",
         "32",
         "342",
         "4.0",
         "845963010",
         "Muriel's Wedding",
         "Comedy,Drama",
         "1994.0"
        ],
        [
         "49",
         "32",
         "434",
         "4.0",
         "845962584",
         "Cliffhanger",
         "Action,Adventure,Thriller",
         "1993.0"
        ],
        [
         "52",
         "32",
         "457",
         "4.0",
         "845962438",
         "The Fugitive",
         "Action,Crime,Drama",
         "1993.0"
        ],
        [
         "70",
         "32",
         "780",
         "4.0",
         "845962869",
         "Independence Day",
         "Action,Adventure,Sci-Fi",
         "1996.0"
        ],
        [
         "62",
         "32",
         "592",
         "4.0",
         "845962251",
         "Batman",
         "Action,Adventure",
         "1989.0"
        ],
        [
         "66",
         "32",
         "708",
         "4.0",
         "845963187",
         "The Truth About Cats & Dogs",
         "Comedy,Romance",
         "1996.0"
        ],
        [
         "0",
         "32",
         "6",
         "3.0",
         "845962911",
         "Heat",
         "Action,Crime,Drama",
         "1995.0"
        ],
        [
         "1",
         "32",
         "10",
         "3.0",
         "845962612",
         "GoldenEye",
         "Action,Adventure,Thriller",
         "1995.0"
        ],
        [
         "3",
         "32",
         "16",
         "3.0",
         "845962969",
         "Casino",
         "Crime,Drama",
         "1995.0"
        ],
        [
         "7",
         "32",
         "31",
         "3.0",
         "845962944",
         "Dangerous Minds",
         "Biography,Drama",
         "1995.0"
        ],
        [
         "5",
         "32",
         "19",
         "3.0",
         "845962706",
         "Ace Ventura: When Nature Calls",
         "Adventure,Comedy,Crime",
         "1995.0"
        ],
        [
         "2",
         "32",
         "14",
         "3.0",
         "845963199",
         "Nixon",
         "Biography,Drama,History",
         "1995.0"
        ],
        [
         "17",
         "32",
         "151",
         "3.0",
         "845962838",
         "Rob Roy",
         "Adventure,Biography,Drama",
         "1995.0"
        ],
        [
         "12",
         "32",
         "47",
         "3.0",
         "845962682",
         "Se7en",
         "Crime,Drama,Mystery",
         "1995.0"
        ],
        [
         "11",
         "32",
         "45",
         "3.0",
         "845963010",
         "To Die For",
         "Comedy,Crime,Drama",
         "1995.0"
        ],
        [
         "10",
         "32",
         "39",
         "3.0",
         "845962749",
         "Clueless",
         "Comedy,Romance",
         "1995.0"
        ],
        [
         "9",
         "32",
         "36",
         "3.0",
         "845962911",
         "Dead Man Walking",
         "Crime,Drama",
         "1995.0"
        ],
        [
         "15",
         "32",
         "110",
         "3.0",
         "845962439",
         "Braveheart",
         "Biography,Drama,War",
         "1995.0"
        ],
        [
         "40",
         "32",
         "350",
         "3.0",
         "845962767",
         "The Client",
         "Crime,Drama,Mystery",
         "1994.0"
        ],
        [
         "38",
         "32",
         "344",
         "3.0",
         "845962538",
         "Ace Ventura: Pet Detective",
         "Comedy",
         "1994.0"
        ],
        [
         "39",
         "32",
         "345",
         "3.0",
         "845963085",
         "The Adventures of Priscilla, Queen of the Desert",
         "Comedy,Music",
         "1994.0"
        ],
        [
         "27",
         "32",
         "247",
         "3.0",
         "845963259",
         "Heavenly Creatures",
         "Biography,Crime,Drama",
         "1994.0"
        ],
        [
         "26",
         "32",
         "235",
         "3.0",
         "845962853",
         "Ed Wood",
         "Biography,Comedy,Drama",
         "1994.0"
        ],
        [
         "31",
         "32",
         "300",
         "3.0",
         "845962707",
         "Quiz Show",
         "Biography,Drama,History",
         "1994.0"
        ],
        [
         "33",
         "32",
         "316",
         "3.0",
         "845962562",
         "Stargate",
         "Action,Adventure,Sci-Fi",
         "1994.0"
        ],
        [
         "25",
         "32",
         "231",
         "3.0",
         "845962562",
         "Dumb and Dumber",
         "Comedy",
         "1994.0"
        ]
       ],
       "shape": {
        "columns": 7,
        "rows": 73
       }
      },
      "text/html": [
       "<div>\n",
       "<style scoped>\n",
       "    .dataframe tbody tr th:only-of-type {\n",
       "        vertical-align: middle;\n",
       "    }\n",
       "\n",
       "    .dataframe tbody tr th {\n",
       "        vertical-align: top;\n",
       "    }\n",
       "\n",
       "    .dataframe thead th {\n",
       "        text-align: right;\n",
       "    }\n",
       "</style>\n",
       "<table border=\"1\" class=\"dataframe\">\n",
       "  <thead>\n",
       "    <tr style=\"text-align: right;\">\n",
       "      <th></th>\n",
       "      <th>userId</th>\n",
       "      <th>movieId</th>\n",
       "      <th>rating</th>\n",
       "      <th>timestamp</th>\n",
       "      <th>originalTitle</th>\n",
       "      <th>genres</th>\n",
       "      <th>startYear</th>\n",
       "    </tr>\n",
       "  </thead>\n",
       "  <tbody>\n",
       "    <tr>\n",
       "      <th>13</th>\n",
       "      <td>32</td>\n",
       "      <td>50</td>\n",
       "      <td>5.0</td>\n",
       "      <td>845962438</td>\n",
       "      <td>The Usual Suspects</td>\n",
       "      <td>Crime,Drama,Mystery</td>\n",
       "      <td>1995.0</td>\n",
       "    </tr>\n",
       "    <tr>\n",
       "      <th>44</th>\n",
       "      <td>32</td>\n",
       "      <td>368</td>\n",
       "      <td>5.0</td>\n",
       "      <td>845962888</td>\n",
       "      <td>Maverick</td>\n",
       "      <td>Action,Adventure,Comedy</td>\n",
       "      <td>1994.0</td>\n",
       "    </tr>\n",
       "    <tr>\n",
       "      <th>34</th>\n",
       "      <td>32</td>\n",
       "      <td>318</td>\n",
       "      <td>5.0</td>\n",
       "      <td>845962584</td>\n",
       "      <td>The Shawshank Redemption</td>\n",
       "      <td>Drama</td>\n",
       "      <td>1994.0</td>\n",
       "    </tr>\n",
       "    <tr>\n",
       "      <th>30</th>\n",
       "      <td>32</td>\n",
       "      <td>296</td>\n",
       "      <td>5.0</td>\n",
       "      <td>845962251</td>\n",
       "      <td>Pulp Fiction</td>\n",
       "      <td>Crime,Drama</td>\n",
       "      <td>1994.0</td>\n",
       "    </tr>\n",
       "    <tr>\n",
       "      <th>69</th>\n",
       "      <td>32</td>\n",
       "      <td>778</td>\n",
       "      <td>5.0</td>\n",
       "      <td>845963397</td>\n",
       "      <td>Trainspotting</td>\n",
       "      <td>Drama</td>\n",
       "      <td>1996.0</td>\n",
       "    </tr>\n",
       "    <tr>\n",
       "      <th>...</th>\n",
       "      <td>...</td>\n",
       "      <td>...</td>\n",
       "      <td>...</td>\n",
       "      <td>...</td>\n",
       "      <td>...</td>\n",
       "      <td>...</td>\n",
       "      <td>...</td>\n",
       "    </tr>\n",
       "    <tr>\n",
       "      <th>59</th>\n",
       "      <td>32</td>\n",
       "      <td>588</td>\n",
       "      <td>3.0</td>\n",
       "      <td>845962538</td>\n",
       "      <td>Aladdin</td>\n",
       "      <td>Adventure,Animation,Comedy</td>\n",
       "      <td>1992.0</td>\n",
       "    </tr>\n",
       "    <tr>\n",
       "      <th>71</th>\n",
       "      <td>32</td>\n",
       "      <td>786</td>\n",
       "      <td>3.0</td>\n",
       "      <td>845963239</td>\n",
       "      <td>Eraser</td>\n",
       "      <td>Action,Crime,Thriller</td>\n",
       "      <td>1996.0</td>\n",
       "    </tr>\n",
       "    <tr>\n",
       "      <th>61</th>\n",
       "      <td>32</td>\n",
       "      <td>590</td>\n",
       "      <td>3.0</td>\n",
       "      <td>845962538</td>\n",
       "      <td>Dances with Wolves</td>\n",
       "      <td>Adventure,Drama,Western</td>\n",
       "      <td>1990.0</td>\n",
       "    </tr>\n",
       "    <tr>\n",
       "      <th>32</th>\n",
       "      <td>32</td>\n",
       "      <td>315</td>\n",
       "      <td>2.0</td>\n",
       "      <td>845962792</td>\n",
       "      <td>The Specialist</td>\n",
       "      <td>Action,Drama,Thriller</td>\n",
       "      <td>1994.0</td>\n",
       "    </tr>\n",
       "    <tr>\n",
       "      <th>41</th>\n",
       "      <td>32</td>\n",
       "      <td>355</td>\n",
       "      <td>2.0</td>\n",
       "      <td>845962944</td>\n",
       "      <td>The Flintstones</td>\n",
       "      <td>Comedy,Family,Fantasy</td>\n",
       "      <td>1994.0</td>\n",
       "    </tr>\n",
       "  </tbody>\n",
       "</table>\n",
       "<p>73 rows × 7 columns</p>\n",
       "</div>"
      ],
      "text/plain": [
       "    userId  movieId  rating  timestamp             originalTitle  \\\n",
       "13      32       50     5.0  845962438        The Usual Suspects   \n",
       "44      32      368     5.0  845962888                  Maverick   \n",
       "34      32      318     5.0  845962584  The Shawshank Redemption   \n",
       "30      32      296     5.0  845962251              Pulp Fiction   \n",
       "69      32      778     5.0  845963397             Trainspotting   \n",
       "..     ...      ...     ...        ...                       ...   \n",
       "59      32      588     3.0  845962538                   Aladdin   \n",
       "71      32      786     3.0  845963239                    Eraser   \n",
       "61      32      590     3.0  845962538        Dances with Wolves   \n",
       "32      32      315     2.0  845962792            The Specialist   \n",
       "41      32      355     2.0  845962944           The Flintstones   \n",
       "\n",
       "                        genres  startYear  \n",
       "13         Crime,Drama,Mystery     1995.0  \n",
       "44     Action,Adventure,Comedy     1994.0  \n",
       "34                       Drama     1994.0  \n",
       "30                 Crime,Drama     1994.0  \n",
       "69                       Drama     1996.0  \n",
       "..                         ...        ...  \n",
       "59  Adventure,Animation,Comedy     1992.0  \n",
       "71       Action,Crime,Thriller     1996.0  \n",
       "61     Adventure,Drama,Western     1990.0  \n",
       "32       Action,Drama,Thriller     1994.0  \n",
       "41       Comedy,Family,Fantasy     1994.0  \n",
       "\n",
       "[73 rows x 7 columns]"
      ]
     },
     "execution_count": 83,
     "metadata": {},
     "output_type": "execute_result"
    }
   ],
   "source": [
    "films_user32"
   ]
  },
  {
   "cell_type": "code",
   "execution_count": 78,
   "metadata": {},
   "outputs": [
    {
     "data": {
      "application/vnd.microsoft.datawrangler.viewer.v0+json": {
       "columns": [
        {
         "name": "index",
         "rawType": "object",
         "type": "string"
        },
        {
         "name": "userId",
         "rawType": "float64",
         "type": "float"
        },
        {
         "name": "movieId",
         "rawType": "float64",
         "type": "float"
        },
        {
         "name": "rating",
         "rawType": "float64",
         "type": "float"
        },
        {
         "name": "timestamp",
         "rawType": "float64",
         "type": "float"
        },
        {
         "name": "startYear",
         "rawType": "float64",
         "type": "float"
        }
       ],
       "ref": "b3aed907-f2d4-4b21-a752-8ad91e014c06",
       "rows": [
        [
         "count",
         "73.0",
         "73.0",
         "73.0",
         "73.0",
         "72.0"
        ],
        [
         "mean",
         "32.0",
         "334.4657534246575",
         "3.452054794520548",
         "845962778.5342466",
         "1993.861111111111"
        ],
        [
         "std",
         "0.0",
         "235.90623621071364",
         "0.6675222819920396",
         "283.6812120336537",
         "2.462710950744537"
        ],
        [
         "min",
         "32.0",
         "6.0",
         "2.0",
         "845962251.0",
         "1977.0"
        ],
        [
         "25%",
         "32.0",
         "153.0",
         "3.0",
         "845962584.0",
         "1993.75"
        ],
        [
         "50%",
         "32.0",
         "337.0",
         "3.0",
         "845962749.0",
         "1994.0"
        ],
        [
         "75%",
         "32.0",
         "474.0",
         "4.0",
         "845962944.0",
         "1995.0"
        ],
        [
         "max",
         "32.0",
         "1047.0",
         "5.0",
         "845963582.0",
         "1996.0"
        ]
       ],
       "shape": {
        "columns": 5,
        "rows": 8
       }
      },
      "text/html": [
       "<div>\n",
       "<style scoped>\n",
       "    .dataframe tbody tr th:only-of-type {\n",
       "        vertical-align: middle;\n",
       "    }\n",
       "\n",
       "    .dataframe tbody tr th {\n",
       "        vertical-align: top;\n",
       "    }\n",
       "\n",
       "    .dataframe thead th {\n",
       "        text-align: right;\n",
       "    }\n",
       "</style>\n",
       "<table border=\"1\" class=\"dataframe\">\n",
       "  <thead>\n",
       "    <tr style=\"text-align: right;\">\n",
       "      <th></th>\n",
       "      <th>userId</th>\n",
       "      <th>movieId</th>\n",
       "      <th>rating</th>\n",
       "      <th>timestamp</th>\n",
       "      <th>startYear</th>\n",
       "    </tr>\n",
       "  </thead>\n",
       "  <tbody>\n",
       "    <tr>\n",
       "      <th>count</th>\n",
       "      <td>73.0</td>\n",
       "      <td>73.000000</td>\n",
       "      <td>73.000000</td>\n",
       "      <td>7.300000e+01</td>\n",
       "      <td>72.000000</td>\n",
       "    </tr>\n",
       "    <tr>\n",
       "      <th>mean</th>\n",
       "      <td>32.0</td>\n",
       "      <td>334.465753</td>\n",
       "      <td>3.452055</td>\n",
       "      <td>8.459628e+08</td>\n",
       "      <td>1993.861111</td>\n",
       "    </tr>\n",
       "    <tr>\n",
       "      <th>std</th>\n",
       "      <td>0.0</td>\n",
       "      <td>235.906236</td>\n",
       "      <td>0.667522</td>\n",
       "      <td>2.836812e+02</td>\n",
       "      <td>2.462711</td>\n",
       "    </tr>\n",
       "    <tr>\n",
       "      <th>min</th>\n",
       "      <td>32.0</td>\n",
       "      <td>6.000000</td>\n",
       "      <td>2.000000</td>\n",
       "      <td>8.459623e+08</td>\n",
       "      <td>1977.000000</td>\n",
       "    </tr>\n",
       "    <tr>\n",
       "      <th>25%</th>\n",
       "      <td>32.0</td>\n",
       "      <td>153.000000</td>\n",
       "      <td>3.000000</td>\n",
       "      <td>8.459626e+08</td>\n",
       "      <td>1993.750000</td>\n",
       "    </tr>\n",
       "    <tr>\n",
       "      <th>50%</th>\n",
       "      <td>32.0</td>\n",
       "      <td>337.000000</td>\n",
       "      <td>3.000000</td>\n",
       "      <td>8.459627e+08</td>\n",
       "      <td>1994.000000</td>\n",
       "    </tr>\n",
       "    <tr>\n",
       "      <th>75%</th>\n",
       "      <td>32.0</td>\n",
       "      <td>474.000000</td>\n",
       "      <td>4.000000</td>\n",
       "      <td>8.459629e+08</td>\n",
       "      <td>1995.000000</td>\n",
       "    </tr>\n",
       "    <tr>\n",
       "      <th>max</th>\n",
       "      <td>32.0</td>\n",
       "      <td>1047.000000</td>\n",
       "      <td>5.000000</td>\n",
       "      <td>8.459636e+08</td>\n",
       "      <td>1996.000000</td>\n",
       "    </tr>\n",
       "  </tbody>\n",
       "</table>\n",
       "</div>"
      ],
      "text/plain": [
       "       userId      movieId     rating     timestamp    startYear\n",
       "count    73.0    73.000000  73.000000  7.300000e+01    72.000000\n",
       "mean     32.0   334.465753   3.452055  8.459628e+08  1993.861111\n",
       "std       0.0   235.906236   0.667522  2.836812e+02     2.462711\n",
       "min      32.0     6.000000   2.000000  8.459623e+08  1977.000000\n",
       "25%      32.0   153.000000   3.000000  8.459626e+08  1993.750000\n",
       "50%      32.0   337.000000   3.000000  8.459627e+08  1994.000000\n",
       "75%      32.0   474.000000   4.000000  8.459629e+08  1995.000000\n",
       "max      32.0  1047.000000   5.000000  8.459636e+08  1996.000000"
      ]
     },
     "execution_count": 78,
     "metadata": {},
     "output_type": "execute_result"
    }
   ],
   "source": [
    "films_user32.describe()"
   ]
  },
  {
   "cell_type": "code",
   "execution_count": null,
   "metadata": {},
   "outputs": [],
   "source": [
    "#cosine similarity"
   ]
  },
  {
   "cell_type": "code",
   "execution_count": 80,
   "metadata": {},
   "outputs": [],
   "source": [
    "def get_recommendations_bayesian(user_id, df_user, df_movie, bayesian_weights, n_recommendations=10):\n",
    "    \"\"\"Get recommendations using pre-calculated Bayesian weights\"\"\"\n",
    "    \n",
    "    genre_cols = df_movie.columns[df_movie.columns != 'movieId']\n",
    "    user_ratings = df_user[df_user['userId'] == user_id]\n",
    "    user_movies = user_ratings.merge(df_movie, on='movieId')\n",
    "    \n",
    "    # Create weights DataFrame\n",
    "    weights_df = pd.DataFrame(index=df_movie['movieId'])\n",
    "    weights_df['bayesian_weight'] = bayesian_weights\n",
    "    weights_df = weights_df.fillna(weights_df['bayesian_weight'].mean())\n",
    "    \n",
    "    # Calculate similarities\n",
    "    all_movies_features = df_movie[genre_cols].values\n",
    "    user_movies_features = user_movies[genre_cols].values\n",
    "    similarities = cosine_similarity(user_movies_features, all_movies_features)\n",
    "    \n",
    "    # Proper reshaping for multiplication\n",
    "    ratings_reshape = user_ratings['rating'].values.reshape(-1, 1)\n",
    "    bayesian_weights_aligned = weights_df.reindex(df_movie['movieId'])['bayesian_weight'].values.reshape(1, -1)\n",
    "    \n",
    "    # Print shapes for debugging\n",
    "    print(\"Similarities shape:\", similarities.shape)\n",
    "    print(\"Ratings shape:\", ratings_reshape.shape)\n",
    "    print(\"Weights shape:\", bayesian_weights_aligned.shape)\n",
    "    \n",
    "    weighted_similarities = (\n",
    "        similarities * \n",
    "        ratings_reshape *\n",
    "        bayesian_weights_aligned\n",
    "    )\n",
    "    \n",
    "    mean_similarities = weighted_similarities.mean(axis=0)\n",
    "    \n",
    "    recommendations = pd.DataFrame({\n",
    "        'movieId': df_movie['movieId'],\n",
    "        'similarity_score': mean_similarities\n",
    "    })\n",
    "    \n",
    "    rated_movies = user_ratings['movieId']\n",
    "    recommendations = recommendations[~recommendations['movieId'].isin(rated_movies)]\n",
    "    \n",
    "    return recommendations.nlargest(n_recommendations, 'similarity_score')"
   ]
  },
  {
   "cell_type": "code",
   "execution_count": 82,
   "metadata": {},
   "outputs": [],
   "source": [
    "def get_recommendations_bayesian(user_id, df_user, df_movie, bayesian_weights, n_recommendations=10):\n",
    "    \"\"\"Get recommendations using pre-calculated Bayesian weights\"\"\"\n",
    "    \n",
    "    genre_cols = df_movie.columns[df_movie.columns != 'movieId']\n",
    "    user_ratings = df_user[df_user['userId'] == user_id]\n",
    "    user_movies = user_ratings.merge(df_movie, on='movieId')\n",
    "    \n",
    "    # Create weights DataFrame\n",
    "    weights_df = pd.DataFrame(index=df_movie['movieId'])\n",
    "    weights_df['bayesian_weight'] = bayesian_weights\n",
    "    weights_df = weights_df.fillna(weights_df['bayesian_weight'].mean())\n",
    "    \n",
    "    # Calculate similarities\n",
    "    all_movies_features = df_movie[genre_cols].values\n",
    "    user_movies_features = user_movies[genre_cols].values\n",
    "    similarities = cosine_similarity(user_movies_features, all_movies_features)\n",
    "    \n",
    "    # Ensure ratings align with similarities\n",
    "    ratings = user_movies['rating'].values  # Use ratings from merged DataFrame\n",
    "    ratings_reshape = ratings.reshape(-1, 1)\n",
    "    bayesian_weights_aligned = weights_df.reindex(df_movie['movieId'])['bayesian_weight'].values.reshape(1, -1)\n",
    "    \n",
    "    # Print shapes for debugging\n",
    "    print(\"Similarities shape:\", similarities.shape)\n",
    "    print(\"Ratings shape:\", ratings_reshape.shape)\n",
    "    print(\"Weights shape:\", bayesian_weights_aligned.shape)\n",
    "    \n",
    "    weighted_similarities = (\n",
    "        similarities * \n",
    "        ratings_reshape *\n",
    "        bayesian_weights_aligned\n",
    "    )\n",
    "    \n",
    "    mean_similarities = weighted_similarities.mean(axis=0)\n",
    "    \n",
    "    recommendations = pd.DataFrame({\n",
    "        'movieId': df_movie['movieId'],\n",
    "        'similarity_score': mean_similarities\n",
    "    })\n",
    "    \n",
    "    rated_movies = user_ratings['movieId']\n",
    "    recommendations = recommendations[~recommendations['movieId'].isin(rated_movies)]\n",
    "    \n",
    "    return recommendations.nlargest(n_recommendations, 'similarity_score')"
   ]
  },
  {
   "cell_type": "code",
   "execution_count": 83,
   "metadata": {},
   "outputs": [
    {
     "name": "stdout",
     "output_type": "stream",
     "text": [
      "Similarities shape: (72, 22645)\n",
      "Ratings shape: (72, 1)\n",
      "Weights shape: (1, 22645)\n"
     ]
    }
   ],
   "source": [
    "recommended_moviesB_Bayesian = get_recommendations_bayesian(user_id, mv_ratings, df_movie_genres, bayesian_weights)"
   ]
  },
  {
   "cell_type": "code",
   "execution_count": 84,
   "metadata": {},
   "outputs": [],
   "source": [
    "recommended_moviesB_Bayesian = add_columns(recommended_moviesB_Bayesian, df_movieB, columns_to_add)"
   ]
  },
  {
   "cell_type": "code",
   "execution_count": 85,
   "metadata": {},
   "outputs": [
    {
     "data": {
      "application/vnd.microsoft.datawrangler.viewer.v0+json": {
       "columns": [
        {
         "name": "index",
         "rawType": "int64",
         "type": "integer"
        },
        {
         "name": "movieId",
         "rawType": "int64",
         "type": "integer"
        },
        {
         "name": "similarity_score",
         "rawType": "float64",
         "type": "float"
        },
        {
         "name": "originalTitle",
         "rawType": "object",
         "type": "string"
        },
        {
         "name": "genres",
         "rawType": "object",
         "type": "string"
        },
        {
         "name": "startYear",
         "rawType": "int64",
         "type": "integer"
        }
       ],
       "ref": "b0bd8c5c-5271-4d68-aab2-41e540426b7e",
       "rows": [
        [
         "0",
         "1234",
         "6.404715816647819",
         "The Sting",
         "Comedy,Crime,Drama",
         "1973"
        ],
        [
         "1",
         "293",
         "6.29767826267046",
         "Léon",
         "Action,Crime,Drama",
         "1994"
        ],
        [
         "2",
         "5782",
         "6.272543808255759",
         "Le professionnel",
         "Action,Crime,Drama",
         "1981"
        ],
        [
         "3",
         "1218",
         "6.169909792604117",
         "Dip huet seung hung",
         "Action,Crime,Drama",
         "1989"
        ],
        [
         "4",
         "858",
         "6.128661215253761",
         "The Godfather",
         "Crime,Drama",
         "1972"
        ],
        [
         "5",
         "1953",
         "6.1270766695823395",
         "The French Connection",
         "Action,Crime,Drama",
         "1971"
        ],
        [
         "6",
         "3334",
         "6.102054569276728",
         "Key Largo",
         "Action,Crime,Drama",
         "1948"
        ],
        [
         "7",
         "3741",
         "6.101976806958525",
         "Badlands",
         "Action,Crime,Drama",
         "1973"
        ],
        [
         "8",
         "1273",
         "6.059413694404605",
         "Down by Law",
         "Comedy,Crime,Drama",
         "1986"
        ],
        [
         "9",
         "2289",
         "6.053614026735644",
         "The Player",
         "Comedy,Crime,Drama",
         "1992"
        ]
       ],
       "shape": {
        "columns": 5,
        "rows": 10
       }
      },
      "text/html": [
       "<div>\n",
       "<style scoped>\n",
       "    .dataframe tbody tr th:only-of-type {\n",
       "        vertical-align: middle;\n",
       "    }\n",
       "\n",
       "    .dataframe tbody tr th {\n",
       "        vertical-align: top;\n",
       "    }\n",
       "\n",
       "    .dataframe thead th {\n",
       "        text-align: right;\n",
       "    }\n",
       "</style>\n",
       "<table border=\"1\" class=\"dataframe\">\n",
       "  <thead>\n",
       "    <tr style=\"text-align: right;\">\n",
       "      <th></th>\n",
       "      <th>movieId</th>\n",
       "      <th>similarity_score</th>\n",
       "      <th>originalTitle</th>\n",
       "      <th>genres</th>\n",
       "      <th>startYear</th>\n",
       "    </tr>\n",
       "  </thead>\n",
       "  <tbody>\n",
       "    <tr>\n",
       "      <th>0</th>\n",
       "      <td>1234</td>\n",
       "      <td>6.404716</td>\n",
       "      <td>The Sting</td>\n",
       "      <td>Comedy,Crime,Drama</td>\n",
       "      <td>1973</td>\n",
       "    </tr>\n",
       "    <tr>\n",
       "      <th>1</th>\n",
       "      <td>293</td>\n",
       "      <td>6.297678</td>\n",
       "      <td>Léon</td>\n",
       "      <td>Action,Crime,Drama</td>\n",
       "      <td>1994</td>\n",
       "    </tr>\n",
       "    <tr>\n",
       "      <th>2</th>\n",
       "      <td>5782</td>\n",
       "      <td>6.272544</td>\n",
       "      <td>Le professionnel</td>\n",
       "      <td>Action,Crime,Drama</td>\n",
       "      <td>1981</td>\n",
       "    </tr>\n",
       "    <tr>\n",
       "      <th>3</th>\n",
       "      <td>1218</td>\n",
       "      <td>6.169910</td>\n",
       "      <td>Dip huet seung hung</td>\n",
       "      <td>Action,Crime,Drama</td>\n",
       "      <td>1989</td>\n",
       "    </tr>\n",
       "    <tr>\n",
       "      <th>4</th>\n",
       "      <td>858</td>\n",
       "      <td>6.128661</td>\n",
       "      <td>The Godfather</td>\n",
       "      <td>Crime,Drama</td>\n",
       "      <td>1972</td>\n",
       "    </tr>\n",
       "    <tr>\n",
       "      <th>5</th>\n",
       "      <td>1953</td>\n",
       "      <td>6.127077</td>\n",
       "      <td>The French Connection</td>\n",
       "      <td>Action,Crime,Drama</td>\n",
       "      <td>1971</td>\n",
       "    </tr>\n",
       "    <tr>\n",
       "      <th>6</th>\n",
       "      <td>3334</td>\n",
       "      <td>6.102055</td>\n",
       "      <td>Key Largo</td>\n",
       "      <td>Action,Crime,Drama</td>\n",
       "      <td>1948</td>\n",
       "    </tr>\n",
       "    <tr>\n",
       "      <th>7</th>\n",
       "      <td>3741</td>\n",
       "      <td>6.101977</td>\n",
       "      <td>Badlands</td>\n",
       "      <td>Action,Crime,Drama</td>\n",
       "      <td>1973</td>\n",
       "    </tr>\n",
       "    <tr>\n",
       "      <th>8</th>\n",
       "      <td>1273</td>\n",
       "      <td>6.059414</td>\n",
       "      <td>Down by Law</td>\n",
       "      <td>Comedy,Crime,Drama</td>\n",
       "      <td>1986</td>\n",
       "    </tr>\n",
       "    <tr>\n",
       "      <th>9</th>\n",
       "      <td>2289</td>\n",
       "      <td>6.053614</td>\n",
       "      <td>The Player</td>\n",
       "      <td>Comedy,Crime,Drama</td>\n",
       "      <td>1992</td>\n",
       "    </tr>\n",
       "  </tbody>\n",
       "</table>\n",
       "</div>"
      ],
      "text/plain": [
       "   movieId  similarity_score          originalTitle              genres  \\\n",
       "0     1234          6.404716              The Sting  Comedy,Crime,Drama   \n",
       "1      293          6.297678                   Léon  Action,Crime,Drama   \n",
       "2     5782          6.272544       Le professionnel  Action,Crime,Drama   \n",
       "3     1218          6.169910    Dip huet seung hung  Action,Crime,Drama   \n",
       "4      858          6.128661          The Godfather         Crime,Drama   \n",
       "5     1953          6.127077  The French Connection  Action,Crime,Drama   \n",
       "6     3334          6.102055              Key Largo  Action,Crime,Drama   \n",
       "7     3741          6.101977               Badlands  Action,Crime,Drama   \n",
       "8     1273          6.059414            Down by Law  Comedy,Crime,Drama   \n",
       "9     2289          6.053614             The Player  Comedy,Crime,Drama   \n",
       "\n",
       "   startYear  \n",
       "0       1973  \n",
       "1       1994  \n",
       "2       1981  \n",
       "3       1989  \n",
       "4       1972  \n",
       "5       1971  \n",
       "6       1948  \n",
       "7       1973  \n",
       "8       1986  \n",
       "9       1992  "
      ]
     },
     "execution_count": 85,
     "metadata": {},
     "output_type": "execute_result"
    }
   ],
   "source": [
    "recommended_moviesB_Bayesian"
   ]
  },
  {
   "cell_type": "code",
   "execution_count": 86,
   "metadata": {},
   "outputs": [],
   "source": [
    "from sklearn.metrics.pairwise import euclidean_distances\n",
    "\n",
    "def get_recommendations_euclidean_bayesian(user_id, df_user, df_movie, bayesian_weights, n_recommendations=10):\n",
    "    \"\"\"Get recommendations using Euclidean distance and Bayesian weights\"\"\"\n",
    "    \n",
    "    # Get genre columns\n",
    "    genre_cols = df_movie.columns[df_movie.columns != 'movieId']\n",
    "    \n",
    "    # Get user's rated movies and merge with features\n",
    "    user_ratings = df_user[df_user['userId'] == user_id]\n",
    "    user_movies = user_ratings.merge(df_movie, on='movieId')\n",
    "    \n",
    "    # Create weights DataFrame\n",
    "    weights_df = pd.DataFrame(index=df_movie['movieId'])\n",
    "    weights_df['bayesian_weight'] = bayesian_weights\n",
    "    weights_df = weights_df.fillna(weights_df['bayesian_weight'].mean())\n",
    "    \n",
    "    # Calculate distances\n",
    "    all_movies_features = df_movie[genre_cols].values\n",
    "    user_movies_features = user_movies[genre_cols].values\n",
    "    \n",
    "    # Convert distances to similarities (1 - normalized distances)\n",
    "    distances = euclidean_distances(user_movies_features, all_movies_features)\n",
    "    max_dist = distances.max()\n",
    "    similarities = 1 - (distances / max_dist)  # Normalize to [0,1]\n",
    "    \n",
    "    # Ensure proper alignment of ratings and weights\n",
    "    ratings = user_movies['rating'].values\n",
    "    ratings_reshape = ratings.reshape(-1, 1)\n",
    "    bayesian_weights_aligned = weights_df.reindex(df_movie['movieId'])['bayesian_weight'].values.reshape(1, -1)\n",
    "    \n",
    "    # Print shapes for debugging\n",
    "    print(\"Similarities shape:\", similarities.shape)\n",
    "    print(\"Ratings shape:\", ratings_reshape.shape)\n",
    "    print(\"Weights shape:\", bayesian_weights_aligned.shape)\n",
    "    \n",
    "    # Calculate weighted similarities\n",
    "    weighted_similarities = (\n",
    "        similarities * \n",
    "        ratings_reshape *\n",
    "        bayesian_weights_aligned\n",
    "    )\n",
    "    \n",
    "    mean_similarities = weighted_similarities.mean(axis=0)\n",
    "    \n",
    "    # Create recommendations dataframe\n",
    "    recommendations = pd.DataFrame({\n",
    "        'movieId': df_movie['movieId'],\n",
    "        'similarity_score': mean_similarities\n",
    "    })\n",
    "    \n",
    "    # Filter out movies user has already rated\n",
    "    rated_movies = user_ratings['movieId']\n",
    "    recommendations = recommendations[~recommendations['movieId'].isin(rated_movies)]\n",
    "    \n",
    "    return recommendations.nlargest(n_recommendations, 'similarity_score')"
   ]
  },
  {
   "cell_type": "code",
   "execution_count": null,
   "metadata": {},
   "outputs": [],
   "source": []
  },
  {
   "cell_type": "code",
   "execution_count": 87,
   "metadata": {},
   "outputs": [
    {
     "name": "stdout",
     "output_type": "stream",
     "text": [
      "Similarities shape: (72, 22645)\n",
      "Ratings shape: (72, 1)\n",
      "Weights shape: (1, 22645)\n"
     ]
    }
   ],
   "source": [
    "recommended_moviesB_Bayesian_euclidean = get_recommendations_euclidean_bayesian(user_id, mv_ratings, df_movie_genres, bayesian_weights)"
   ]
  },
  {
   "cell_type": "code",
   "execution_count": 88,
   "metadata": {},
   "outputs": [],
   "source": [
    "recommended_moviesB_Bayesian_euclidean = add_columns(recommended_moviesB_Bayesian_euclidean, df_movieB, columns_to_add)"
   ]
  },
  {
   "cell_type": "code",
   "execution_count": 89,
   "metadata": {},
   "outputs": [
    {
     "data": {
      "application/vnd.microsoft.datawrangler.viewer.v0+json": {
       "columns": [
        {
         "name": "index",
         "rawType": "int64",
         "type": "integer"
        },
        {
         "name": "movieId",
         "rawType": "int64",
         "type": "integer"
        },
        {
         "name": "similarity_score",
         "rawType": "float64",
         "type": "float"
        },
        {
         "name": "originalTitle",
         "rawType": "object",
         "type": "string"
        },
        {
         "name": "genres",
         "rawType": "object",
         "type": "string"
        },
        {
         "name": "startYear",
         "rawType": "int64",
         "type": "integer"
        }
       ],
       "ref": "8c8b3396-4048-44d6-a0b4-1c09b19c9e0d",
       "rows": [
        [
         "0",
         "1193",
         "5.988618151591741",
         "One Flew Over the Cuckoo's Nest",
         "Drama",
         "1975"
        ],
        [
         "1",
         "2019",
         "5.986370154152734",
         "Shichinin no samurai",
         "Drama",
         "1954"
        ],
        [
         "2",
         "2959",
         "5.965705216187859",
         "Fight Club",
         "Drama",
         "1999"
        ],
        [
         "3",
         "2858",
         "5.868518418077081",
         "American Beauty",
         "Drama",
         "1999"
        ],
        [
         "4",
         "926",
         "5.822416603969512",
         "All About Eve",
         "Drama",
         "1950"
        ],
        [
         "5",
         "3089",
         "5.699317706238734",
         "Ladri di biciclette",
         "Drama",
         "1948"
        ],
        [
         "6",
         "3949",
         "5.674676535094427",
         "Requiem for a Dream",
         "Drama",
         "2000"
        ],
        [
         "7",
         "1358",
         "5.64773308257407",
         "Sling Blade",
         "Drama",
         "1996"
        ],
        [
         "8",
         "2360",
         "5.628689354147217",
         "Festen",
         "Drama",
         "1998"
        ],
        [
         "9",
         "1132",
         "5.624329981787479",
         "Manon des sources",
         "Drama",
         "1986"
        ]
       ],
       "shape": {
        "columns": 5,
        "rows": 10
       }
      },
      "text/html": [
       "<div>\n",
       "<style scoped>\n",
       "    .dataframe tbody tr th:only-of-type {\n",
       "        vertical-align: middle;\n",
       "    }\n",
       "\n",
       "    .dataframe tbody tr th {\n",
       "        vertical-align: top;\n",
       "    }\n",
       "\n",
       "    .dataframe thead th {\n",
       "        text-align: right;\n",
       "    }\n",
       "</style>\n",
       "<table border=\"1\" class=\"dataframe\">\n",
       "  <thead>\n",
       "    <tr style=\"text-align: right;\">\n",
       "      <th></th>\n",
       "      <th>movieId</th>\n",
       "      <th>similarity_score</th>\n",
       "      <th>originalTitle</th>\n",
       "      <th>genres</th>\n",
       "      <th>startYear</th>\n",
       "    </tr>\n",
       "  </thead>\n",
       "  <tbody>\n",
       "    <tr>\n",
       "      <th>0</th>\n",
       "      <td>1193</td>\n",
       "      <td>5.988618</td>\n",
       "      <td>One Flew Over the Cuckoo's Nest</td>\n",
       "      <td>Drama</td>\n",
       "      <td>1975</td>\n",
       "    </tr>\n",
       "    <tr>\n",
       "      <th>1</th>\n",
       "      <td>2019</td>\n",
       "      <td>5.986370</td>\n",
       "      <td>Shichinin no samurai</td>\n",
       "      <td>Drama</td>\n",
       "      <td>1954</td>\n",
       "    </tr>\n",
       "    <tr>\n",
       "      <th>2</th>\n",
       "      <td>2959</td>\n",
       "      <td>5.965705</td>\n",
       "      <td>Fight Club</td>\n",
       "      <td>Drama</td>\n",
       "      <td>1999</td>\n",
       "    </tr>\n",
       "    <tr>\n",
       "      <th>3</th>\n",
       "      <td>2858</td>\n",
       "      <td>5.868518</td>\n",
       "      <td>American Beauty</td>\n",
       "      <td>Drama</td>\n",
       "      <td>1999</td>\n",
       "    </tr>\n",
       "    <tr>\n",
       "      <th>4</th>\n",
       "      <td>926</td>\n",
       "      <td>5.822417</td>\n",
       "      <td>All About Eve</td>\n",
       "      <td>Drama</td>\n",
       "      <td>1950</td>\n",
       "    </tr>\n",
       "    <tr>\n",
       "      <th>5</th>\n",
       "      <td>3089</td>\n",
       "      <td>5.699318</td>\n",
       "      <td>Ladri di biciclette</td>\n",
       "      <td>Drama</td>\n",
       "      <td>1948</td>\n",
       "    </tr>\n",
       "    <tr>\n",
       "      <th>6</th>\n",
       "      <td>3949</td>\n",
       "      <td>5.674677</td>\n",
       "      <td>Requiem for a Dream</td>\n",
       "      <td>Drama</td>\n",
       "      <td>2000</td>\n",
       "    </tr>\n",
       "    <tr>\n",
       "      <th>7</th>\n",
       "      <td>1358</td>\n",
       "      <td>5.647733</td>\n",
       "      <td>Sling Blade</td>\n",
       "      <td>Drama</td>\n",
       "      <td>1996</td>\n",
       "    </tr>\n",
       "    <tr>\n",
       "      <th>8</th>\n",
       "      <td>2360</td>\n",
       "      <td>5.628689</td>\n",
       "      <td>Festen</td>\n",
       "      <td>Drama</td>\n",
       "      <td>1998</td>\n",
       "    </tr>\n",
       "    <tr>\n",
       "      <th>9</th>\n",
       "      <td>1132</td>\n",
       "      <td>5.624330</td>\n",
       "      <td>Manon des sources</td>\n",
       "      <td>Drama</td>\n",
       "      <td>1986</td>\n",
       "    </tr>\n",
       "  </tbody>\n",
       "</table>\n",
       "</div>"
      ],
      "text/plain": [
       "   movieId  similarity_score                    originalTitle genres  \\\n",
       "0     1193          5.988618  One Flew Over the Cuckoo's Nest  Drama   \n",
       "1     2019          5.986370             Shichinin no samurai  Drama   \n",
       "2     2959          5.965705                       Fight Club  Drama   \n",
       "3     2858          5.868518                  American Beauty  Drama   \n",
       "4      926          5.822417                    All About Eve  Drama   \n",
       "5     3089          5.699318              Ladri di biciclette  Drama   \n",
       "6     3949          5.674677              Requiem for a Dream  Drama   \n",
       "7     1358          5.647733                      Sling Blade  Drama   \n",
       "8     2360          5.628689                           Festen  Drama   \n",
       "9     1132          5.624330                Manon des sources  Drama   \n",
       "\n",
       "   startYear  \n",
       "0       1975  \n",
       "1       1954  \n",
       "2       1999  \n",
       "3       1999  \n",
       "4       1950  \n",
       "5       1948  \n",
       "6       2000  \n",
       "7       1996  \n",
       "8       1998  \n",
       "9       1986  "
      ]
     },
     "execution_count": 89,
     "metadata": {},
     "output_type": "execute_result"
    }
   ],
   "source": [
    "recommended_moviesB_Bayesian_euclidean"
   ]
  },
  {
   "cell_type": "code",
   "execution_count": 90,
   "metadata": {},
   "outputs": [],
   "source": [
    "from sklearn.metrics.pairwise import pairwise_distances\n",
    "\n",
    "def get_recommendations_bayesian_jaccard(user_id, df_user, df_movie, bayesian_weights, n_recommendations=10):\n",
    "    \"\"\"Get recommendations using Jaccard similarity and Bayesian weights\"\"\"\n",
    "    \n",
    "    # Get genre columns\n",
    "    genre_cols = df_movie.columns[df_movie.columns != 'movieId']\n",
    "    \n",
    "    # Get user's rated movies and merge with features\n",
    "    user_ratings = df_user[df_user['userId'] == user_id]\n",
    "    user_movies = user_ratings.merge(df_movie, on='movieId')\n",
    "    \n",
    "    # Create weights DataFrame\n",
    "    weights_df = pd.DataFrame(index=df_movie['movieId'])\n",
    "    weights_df['bayesian_weight'] = bayesian_weights\n",
    "    weights_df = weights_df.fillna(weights_df['bayesian_weight'].mean())\n",
    "    \n",
    "    # Calculate Jaccard similarities\n",
    "    all_movies_features = df_movie[genre_cols].values\n",
    "    user_movies_features = user_movies[genre_cols].values\n",
    "    \n",
    "    # Convert distances to similarities (1 - distance)\n",
    "    similarities = 1 - pairwise_distances(\n",
    "        user_movies_features, \n",
    "        all_movies_features, \n",
    "        metric='jaccard'\n",
    "    )\n",
    "    \n",
    "    # Ensure proper alignment of ratings and weights\n",
    "    ratings = user_movies['rating'].values\n",
    "    ratings_reshape = ratings.reshape(-1, 1)\n",
    "    bayesian_weights_aligned = weights_df.reindex(df_movie['movieId'])['bayesian_weight'].values.reshape(1, -1)\n",
    "    \n",
    "    # Print shapes for debugging\n",
    "    print(\"Similarities shape:\", similarities.shape)\n",
    "    print(\"Ratings shape:\", ratings_reshape.shape)\n",
    "    print(\"Weights shape:\", bayesian_weights_aligned.shape)\n",
    "    \n",
    "    # Calculate weighted similarities\n",
    "    weighted_similarities = (\n",
    "        similarities * \n",
    "        ratings_reshape *\n",
    "        bayesian_weights_aligned\n",
    "    )\n",
    "    \n",
    "    mean_similarities = weighted_similarities.mean(axis=0)\n",
    "    \n",
    "    # Create recommendations dataframe\n",
    "    recommendations = pd.DataFrame({\n",
    "        'movieId': df_movie['movieId'],\n",
    "        'similarity_score': mean_similarities\n",
    "    })\n",
    "    \n",
    "    # Filter out movies user has already rated\n",
    "    rated_movies = user_ratings['movieId']\n",
    "    recommendations = recommendations[~recommendations['movieId'].isin(rated_movies)]\n",
    "    \n",
    "    return recommendations.nlargest(n_recommendations, 'similarity_score')"
   ]
  },
  {
   "cell_type": "code",
   "execution_count": 91,
   "metadata": {},
   "outputs": [
    {
     "name": "stdout",
     "output_type": "stream",
     "text": [
      "Similarities shape: (72, 22645)\n",
      "Ratings shape: (72, 1)\n",
      "Weights shape: (1, 22645)\n"
     ]
    },
    {
     "name": "stderr",
     "output_type": "stream",
     "text": [
      "c:\\Users\\EFCA7255\\AppData\\Local\\Programs\\Python\\Python312\\Lib\\site-packages\\sklearn\\metrics\\pairwise.py:2361: DataConversionWarning: Data was converted to boolean for metric jaccard\n",
      "  warnings.warn(msg, DataConversionWarning)\n"
     ]
    }
   ],
   "source": [
    "reco_Bayesian_Jaccard = get_recommendations_bayesian_jaccard(user_id, mv_ratings, df_movie_genres, bayesian_weights)"
   ]
  },
  {
   "cell_type": "code",
   "execution_count": 92,
   "metadata": {},
   "outputs": [],
   "source": [
    "reco_Bayesian_Jaccard = add_columns(reco_Bayesian_Jaccard, df_movieB, columns_to_add)"
   ]
  },
  {
   "cell_type": "code",
   "execution_count": 93,
   "metadata": {},
   "outputs": [
    {
     "data": {
      "application/vnd.microsoft.datawrangler.viewer.v0+json": {
       "columns": [
        {
         "name": "index",
         "rawType": "int64",
         "type": "integer"
        },
        {
         "name": "movieId",
         "rawType": "int64",
         "type": "integer"
        },
        {
         "name": "similarity_score",
         "rawType": "float64",
         "type": "float"
        },
        {
         "name": "originalTitle",
         "rawType": "object",
         "type": "string"
        },
        {
         "name": "genres",
         "rawType": "object",
         "type": "string"
        },
        {
         "name": "startYear",
         "rawType": "int64",
         "type": "integer"
        }
       ],
       "ref": "e8b56145-a50c-4a6d-b613-a08c095c6dfa",
       "rows": [
        [
         "0",
         "858",
         "4.606586619090015",
         "The Godfather",
         "Crime,Drama",
         "1972"
        ],
        [
         "1",
         "293",
         "4.548666567084378",
         "Léon",
         "Action,Crime,Drama",
         "1994"
        ],
        [
         "2",
         "1234",
         "4.538680843702618",
         "The Sting",
         "Comedy,Crime,Drama",
         "1973"
        ],
        [
         "3",
         "5782",
         "4.530512535120614",
         "Le professionnel",
         "Action,Crime,Drama",
         "1981"
        ],
        [
         "4",
         "1221",
         "4.506915018188551",
         "The Godfather Part II",
         "Crime,Drama",
         "1974"
        ],
        [
         "5",
         "1218",
         "4.456382372198906",
         "Dip huet seung hung",
         "Action,Crime,Drama",
         "1989"
        ],
        [
         "6",
         "6016",
         "4.444333847344401",
         "Cidade de Deus",
         "Crime,Drama",
         "2002"
        ],
        [
         "7",
         "1203",
         "4.43303983363354",
         "12 Angry Men",
         "Crime,Drama",
         "1957"
        ],
        [
         "8",
         "1953",
         "4.4254450034533725",
         "The French Connection",
         "Action,Crime,Drama",
         "1971"
        ],
        [
         "9",
         "3334",
         "4.407372122249989",
         "Key Largo",
         "Action,Crime,Drama",
         "1948"
        ]
       ],
       "shape": {
        "columns": 5,
        "rows": 10
       }
      },
      "text/html": [
       "<div>\n",
       "<style scoped>\n",
       "    .dataframe tbody tr th:only-of-type {\n",
       "        vertical-align: middle;\n",
       "    }\n",
       "\n",
       "    .dataframe tbody tr th {\n",
       "        vertical-align: top;\n",
       "    }\n",
       "\n",
       "    .dataframe thead th {\n",
       "        text-align: right;\n",
       "    }\n",
       "</style>\n",
       "<table border=\"1\" class=\"dataframe\">\n",
       "  <thead>\n",
       "    <tr style=\"text-align: right;\">\n",
       "      <th></th>\n",
       "      <th>movieId</th>\n",
       "      <th>similarity_score</th>\n",
       "      <th>originalTitle</th>\n",
       "      <th>genres</th>\n",
       "      <th>startYear</th>\n",
       "    </tr>\n",
       "  </thead>\n",
       "  <tbody>\n",
       "    <tr>\n",
       "      <th>0</th>\n",
       "      <td>858</td>\n",
       "      <td>4.606587</td>\n",
       "      <td>The Godfather</td>\n",
       "      <td>Crime,Drama</td>\n",
       "      <td>1972</td>\n",
       "    </tr>\n",
       "    <tr>\n",
       "      <th>1</th>\n",
       "      <td>293</td>\n",
       "      <td>4.548667</td>\n",
       "      <td>Léon</td>\n",
       "      <td>Action,Crime,Drama</td>\n",
       "      <td>1994</td>\n",
       "    </tr>\n",
       "    <tr>\n",
       "      <th>2</th>\n",
       "      <td>1234</td>\n",
       "      <td>4.538681</td>\n",
       "      <td>The Sting</td>\n",
       "      <td>Comedy,Crime,Drama</td>\n",
       "      <td>1973</td>\n",
       "    </tr>\n",
       "    <tr>\n",
       "      <th>3</th>\n",
       "      <td>5782</td>\n",
       "      <td>4.530513</td>\n",
       "      <td>Le professionnel</td>\n",
       "      <td>Action,Crime,Drama</td>\n",
       "      <td>1981</td>\n",
       "    </tr>\n",
       "    <tr>\n",
       "      <th>4</th>\n",
       "      <td>1221</td>\n",
       "      <td>4.506915</td>\n",
       "      <td>The Godfather Part II</td>\n",
       "      <td>Crime,Drama</td>\n",
       "      <td>1974</td>\n",
       "    </tr>\n",
       "    <tr>\n",
       "      <th>5</th>\n",
       "      <td>1218</td>\n",
       "      <td>4.456382</td>\n",
       "      <td>Dip huet seung hung</td>\n",
       "      <td>Action,Crime,Drama</td>\n",
       "      <td>1989</td>\n",
       "    </tr>\n",
       "    <tr>\n",
       "      <th>6</th>\n",
       "      <td>6016</td>\n",
       "      <td>4.444334</td>\n",
       "      <td>Cidade de Deus</td>\n",
       "      <td>Crime,Drama</td>\n",
       "      <td>2002</td>\n",
       "    </tr>\n",
       "    <tr>\n",
       "      <th>7</th>\n",
       "      <td>1203</td>\n",
       "      <td>4.433040</td>\n",
       "      <td>12 Angry Men</td>\n",
       "      <td>Crime,Drama</td>\n",
       "      <td>1957</td>\n",
       "    </tr>\n",
       "    <tr>\n",
       "      <th>8</th>\n",
       "      <td>1953</td>\n",
       "      <td>4.425445</td>\n",
       "      <td>The French Connection</td>\n",
       "      <td>Action,Crime,Drama</td>\n",
       "      <td>1971</td>\n",
       "    </tr>\n",
       "    <tr>\n",
       "      <th>9</th>\n",
       "      <td>3334</td>\n",
       "      <td>4.407372</td>\n",
       "      <td>Key Largo</td>\n",
       "      <td>Action,Crime,Drama</td>\n",
       "      <td>1948</td>\n",
       "    </tr>\n",
       "  </tbody>\n",
       "</table>\n",
       "</div>"
      ],
      "text/plain": [
       "   movieId  similarity_score          originalTitle              genres  \\\n",
       "0      858          4.606587          The Godfather         Crime,Drama   \n",
       "1      293          4.548667                   Léon  Action,Crime,Drama   \n",
       "2     1234          4.538681              The Sting  Comedy,Crime,Drama   \n",
       "3     5782          4.530513       Le professionnel  Action,Crime,Drama   \n",
       "4     1221          4.506915  The Godfather Part II         Crime,Drama   \n",
       "5     1218          4.456382    Dip huet seung hung  Action,Crime,Drama   \n",
       "6     6016          4.444334         Cidade de Deus         Crime,Drama   \n",
       "7     1203          4.433040           12 Angry Men         Crime,Drama   \n",
       "8     1953          4.425445  The French Connection  Action,Crime,Drama   \n",
       "9     3334          4.407372              Key Largo  Action,Crime,Drama   \n",
       "\n",
       "   startYear  \n",
       "0       1972  \n",
       "1       1994  \n",
       "2       1973  \n",
       "3       1981  \n",
       "4       1974  \n",
       "5       1989  \n",
       "6       2002  \n",
       "7       1957  \n",
       "8       1971  \n",
       "9       1948  "
      ]
     },
     "execution_count": 93,
     "metadata": {},
     "output_type": "execute_result"
    }
   ],
   "source": [
    "reco_Bayesian_Jaccard "
   ]
  },
  {
   "cell_type": "code",
   "execution_count": 94,
   "metadata": {},
   "outputs": [
    {
     "data": {
      "application/vnd.microsoft.datawrangler.viewer.v0+json": {
       "columns": [
        {
         "name": "index",
         "rawType": "int64",
         "type": "integer"
        },
        {
         "name": "movieId",
         "rawType": "int64",
         "type": "integer"
        },
        {
         "name": "similarity_score",
         "rawType": "float64",
         "type": "float"
        },
        {
         "name": "originalTitle",
         "rawType": "object",
         "type": "string"
        },
        {
         "name": "genres",
         "rawType": "object",
         "type": "string"
        },
        {
         "name": "startYear",
         "rawType": "int64",
         "type": "integer"
        }
       ],
       "ref": "d02d8bdc-0162-483f-b9ba-6baa25dbabad",
       "rows": [
        [
         "0",
         "1193",
         "5.988618151591741",
         "One Flew Over the Cuckoo's Nest",
         "Drama",
         "1975"
        ],
        [
         "1",
         "2019",
         "5.986370154152734",
         "Shichinin no samurai",
         "Drama",
         "1954"
        ],
        [
         "2",
         "2959",
         "5.965705216187859",
         "Fight Club",
         "Drama",
         "1999"
        ],
        [
         "3",
         "2858",
         "5.868518418077081",
         "American Beauty",
         "Drama",
         "1999"
        ],
        [
         "4",
         "926",
         "5.822416603969512",
         "All About Eve",
         "Drama",
         "1950"
        ],
        [
         "5",
         "3089",
         "5.699317706238734",
         "Ladri di biciclette",
         "Drama",
         "1948"
        ],
        [
         "6",
         "3949",
         "5.674676535094427",
         "Requiem for a Dream",
         "Drama",
         "2000"
        ],
        [
         "7",
         "1358",
         "5.64773308257407",
         "Sling Blade",
         "Drama",
         "1996"
        ],
        [
         "8",
         "2360",
         "5.628689354147217",
         "Festen",
         "Drama",
         "1998"
        ],
        [
         "9",
         "1132",
         "5.624329981787479",
         "Manon des sources",
         "Drama",
         "1986"
        ]
       ],
       "shape": {
        "columns": 5,
        "rows": 10
       }
      },
      "text/html": [
       "<div>\n",
       "<style scoped>\n",
       "    .dataframe tbody tr th:only-of-type {\n",
       "        vertical-align: middle;\n",
       "    }\n",
       "\n",
       "    .dataframe tbody tr th {\n",
       "        vertical-align: top;\n",
       "    }\n",
       "\n",
       "    .dataframe thead th {\n",
       "        text-align: right;\n",
       "    }\n",
       "</style>\n",
       "<table border=\"1\" class=\"dataframe\">\n",
       "  <thead>\n",
       "    <tr style=\"text-align: right;\">\n",
       "      <th></th>\n",
       "      <th>movieId</th>\n",
       "      <th>similarity_score</th>\n",
       "      <th>originalTitle</th>\n",
       "      <th>genres</th>\n",
       "      <th>startYear</th>\n",
       "    </tr>\n",
       "  </thead>\n",
       "  <tbody>\n",
       "    <tr>\n",
       "      <th>0</th>\n",
       "      <td>1193</td>\n",
       "      <td>5.988618</td>\n",
       "      <td>One Flew Over the Cuckoo's Nest</td>\n",
       "      <td>Drama</td>\n",
       "      <td>1975</td>\n",
       "    </tr>\n",
       "    <tr>\n",
       "      <th>1</th>\n",
       "      <td>2019</td>\n",
       "      <td>5.986370</td>\n",
       "      <td>Shichinin no samurai</td>\n",
       "      <td>Drama</td>\n",
       "      <td>1954</td>\n",
       "    </tr>\n",
       "    <tr>\n",
       "      <th>2</th>\n",
       "      <td>2959</td>\n",
       "      <td>5.965705</td>\n",
       "      <td>Fight Club</td>\n",
       "      <td>Drama</td>\n",
       "      <td>1999</td>\n",
       "    </tr>\n",
       "    <tr>\n",
       "      <th>3</th>\n",
       "      <td>2858</td>\n",
       "      <td>5.868518</td>\n",
       "      <td>American Beauty</td>\n",
       "      <td>Drama</td>\n",
       "      <td>1999</td>\n",
       "    </tr>\n",
       "    <tr>\n",
       "      <th>4</th>\n",
       "      <td>926</td>\n",
       "      <td>5.822417</td>\n",
       "      <td>All About Eve</td>\n",
       "      <td>Drama</td>\n",
       "      <td>1950</td>\n",
       "    </tr>\n",
       "    <tr>\n",
       "      <th>5</th>\n",
       "      <td>3089</td>\n",
       "      <td>5.699318</td>\n",
       "      <td>Ladri di biciclette</td>\n",
       "      <td>Drama</td>\n",
       "      <td>1948</td>\n",
       "    </tr>\n",
       "    <tr>\n",
       "      <th>6</th>\n",
       "      <td>3949</td>\n",
       "      <td>5.674677</td>\n",
       "      <td>Requiem for a Dream</td>\n",
       "      <td>Drama</td>\n",
       "      <td>2000</td>\n",
       "    </tr>\n",
       "    <tr>\n",
       "      <th>7</th>\n",
       "      <td>1358</td>\n",
       "      <td>5.647733</td>\n",
       "      <td>Sling Blade</td>\n",
       "      <td>Drama</td>\n",
       "      <td>1996</td>\n",
       "    </tr>\n",
       "    <tr>\n",
       "      <th>8</th>\n",
       "      <td>2360</td>\n",
       "      <td>5.628689</td>\n",
       "      <td>Festen</td>\n",
       "      <td>Drama</td>\n",
       "      <td>1998</td>\n",
       "    </tr>\n",
       "    <tr>\n",
       "      <th>9</th>\n",
       "      <td>1132</td>\n",
       "      <td>5.624330</td>\n",
       "      <td>Manon des sources</td>\n",
       "      <td>Drama</td>\n",
       "      <td>1986</td>\n",
       "    </tr>\n",
       "  </tbody>\n",
       "</table>\n",
       "</div>"
      ],
      "text/plain": [
       "   movieId  similarity_score                    originalTitle genres  \\\n",
       "0     1193          5.988618  One Flew Over the Cuckoo's Nest  Drama   \n",
       "1     2019          5.986370             Shichinin no samurai  Drama   \n",
       "2     2959          5.965705                       Fight Club  Drama   \n",
       "3     2858          5.868518                  American Beauty  Drama   \n",
       "4      926          5.822417                    All About Eve  Drama   \n",
       "5     3089          5.699318              Ladri di biciclette  Drama   \n",
       "6     3949          5.674677              Requiem for a Dream  Drama   \n",
       "7     1358          5.647733                      Sling Blade  Drama   \n",
       "8     2360          5.628689                           Festen  Drama   \n",
       "9     1132          5.624330                Manon des sources  Drama   \n",
       "\n",
       "   startYear  \n",
       "0       1975  \n",
       "1       1954  \n",
       "2       1999  \n",
       "3       1999  \n",
       "4       1950  \n",
       "5       1948  \n",
       "6       2000  \n",
       "7       1996  \n",
       "8       1998  \n",
       "9       1986  "
      ]
     },
     "execution_count": 94,
     "metadata": {},
     "output_type": "execute_result"
    }
   ],
   "source": [
    "recommended_moviesB_Bayesian_euclidean"
   ]
  },
  {
   "cell_type": "code",
   "execution_count": 95,
   "metadata": {},
   "outputs": [
    {
     "data": {
      "application/vnd.microsoft.datawrangler.viewer.v0+json": {
       "columns": [
        {
         "name": "index",
         "rawType": "int64",
         "type": "integer"
        },
        {
         "name": "movieId",
         "rawType": "int64",
         "type": "integer"
        },
        {
         "name": "similarity_score",
         "rawType": "float64",
         "type": "float"
        },
        {
         "name": "originalTitle",
         "rawType": "object",
         "type": "string"
        },
        {
         "name": "genres",
         "rawType": "object",
         "type": "string"
        },
        {
         "name": "startYear",
         "rawType": "int64",
         "type": "integer"
        }
       ],
       "ref": "b3e49c91-4815-4c1d-bb1a-d62fb96bda18",
       "rows": [
        [
         "0",
         "1234",
         "6.404715816647819",
         "The Sting",
         "Comedy,Crime,Drama",
         "1973"
        ],
        [
         "1",
         "293",
         "6.29767826267046",
         "Léon",
         "Action,Crime,Drama",
         "1994"
        ],
        [
         "2",
         "5782",
         "6.272543808255759",
         "Le professionnel",
         "Action,Crime,Drama",
         "1981"
        ],
        [
         "3",
         "1218",
         "6.169909792604117",
         "Dip huet seung hung",
         "Action,Crime,Drama",
         "1989"
        ],
        [
         "4",
         "858",
         "6.128661215253761",
         "The Godfather",
         "Crime,Drama",
         "1972"
        ],
        [
         "5",
         "1953",
         "6.1270766695823395",
         "The French Connection",
         "Action,Crime,Drama",
         "1971"
        ],
        [
         "6",
         "3334",
         "6.102054569276728",
         "Key Largo",
         "Action,Crime,Drama",
         "1948"
        ],
        [
         "7",
         "3741",
         "6.101976806958525",
         "Badlands",
         "Action,Crime,Drama",
         "1973"
        ],
        [
         "8",
         "1273",
         "6.059413694404605",
         "Down by Law",
         "Comedy,Crime,Drama",
         "1986"
        ],
        [
         "9",
         "2289",
         "6.053614026735644",
         "The Player",
         "Comedy,Crime,Drama",
         "1992"
        ]
       ],
       "shape": {
        "columns": 5,
        "rows": 10
       }
      },
      "text/html": [
       "<div>\n",
       "<style scoped>\n",
       "    .dataframe tbody tr th:only-of-type {\n",
       "        vertical-align: middle;\n",
       "    }\n",
       "\n",
       "    .dataframe tbody tr th {\n",
       "        vertical-align: top;\n",
       "    }\n",
       "\n",
       "    .dataframe thead th {\n",
       "        text-align: right;\n",
       "    }\n",
       "</style>\n",
       "<table border=\"1\" class=\"dataframe\">\n",
       "  <thead>\n",
       "    <tr style=\"text-align: right;\">\n",
       "      <th></th>\n",
       "      <th>movieId</th>\n",
       "      <th>similarity_score</th>\n",
       "      <th>originalTitle</th>\n",
       "      <th>genres</th>\n",
       "      <th>startYear</th>\n",
       "    </tr>\n",
       "  </thead>\n",
       "  <tbody>\n",
       "    <tr>\n",
       "      <th>0</th>\n",
       "      <td>1234</td>\n",
       "      <td>6.404716</td>\n",
       "      <td>The Sting</td>\n",
       "      <td>Comedy,Crime,Drama</td>\n",
       "      <td>1973</td>\n",
       "    </tr>\n",
       "    <tr>\n",
       "      <th>1</th>\n",
       "      <td>293</td>\n",
       "      <td>6.297678</td>\n",
       "      <td>Léon</td>\n",
       "      <td>Action,Crime,Drama</td>\n",
       "      <td>1994</td>\n",
       "    </tr>\n",
       "    <tr>\n",
       "      <th>2</th>\n",
       "      <td>5782</td>\n",
       "      <td>6.272544</td>\n",
       "      <td>Le professionnel</td>\n",
       "      <td>Action,Crime,Drama</td>\n",
       "      <td>1981</td>\n",
       "    </tr>\n",
       "    <tr>\n",
       "      <th>3</th>\n",
       "      <td>1218</td>\n",
       "      <td>6.169910</td>\n",
       "      <td>Dip huet seung hung</td>\n",
       "      <td>Action,Crime,Drama</td>\n",
       "      <td>1989</td>\n",
       "    </tr>\n",
       "    <tr>\n",
       "      <th>4</th>\n",
       "      <td>858</td>\n",
       "      <td>6.128661</td>\n",
       "      <td>The Godfather</td>\n",
       "      <td>Crime,Drama</td>\n",
       "      <td>1972</td>\n",
       "    </tr>\n",
       "    <tr>\n",
       "      <th>5</th>\n",
       "      <td>1953</td>\n",
       "      <td>6.127077</td>\n",
       "      <td>The French Connection</td>\n",
       "      <td>Action,Crime,Drama</td>\n",
       "      <td>1971</td>\n",
       "    </tr>\n",
       "    <tr>\n",
       "      <th>6</th>\n",
       "      <td>3334</td>\n",
       "      <td>6.102055</td>\n",
       "      <td>Key Largo</td>\n",
       "      <td>Action,Crime,Drama</td>\n",
       "      <td>1948</td>\n",
       "    </tr>\n",
       "    <tr>\n",
       "      <th>7</th>\n",
       "      <td>3741</td>\n",
       "      <td>6.101977</td>\n",
       "      <td>Badlands</td>\n",
       "      <td>Action,Crime,Drama</td>\n",
       "      <td>1973</td>\n",
       "    </tr>\n",
       "    <tr>\n",
       "      <th>8</th>\n",
       "      <td>1273</td>\n",
       "      <td>6.059414</td>\n",
       "      <td>Down by Law</td>\n",
       "      <td>Comedy,Crime,Drama</td>\n",
       "      <td>1986</td>\n",
       "    </tr>\n",
       "    <tr>\n",
       "      <th>9</th>\n",
       "      <td>2289</td>\n",
       "      <td>6.053614</td>\n",
       "      <td>The Player</td>\n",
       "      <td>Comedy,Crime,Drama</td>\n",
       "      <td>1992</td>\n",
       "    </tr>\n",
       "  </tbody>\n",
       "</table>\n",
       "</div>"
      ],
      "text/plain": [
       "   movieId  similarity_score          originalTitle              genres  \\\n",
       "0     1234          6.404716              The Sting  Comedy,Crime,Drama   \n",
       "1      293          6.297678                   Léon  Action,Crime,Drama   \n",
       "2     5782          6.272544       Le professionnel  Action,Crime,Drama   \n",
       "3     1218          6.169910    Dip huet seung hung  Action,Crime,Drama   \n",
       "4      858          6.128661          The Godfather         Crime,Drama   \n",
       "5     1953          6.127077  The French Connection  Action,Crime,Drama   \n",
       "6     3334          6.102055              Key Largo  Action,Crime,Drama   \n",
       "7     3741          6.101977               Badlands  Action,Crime,Drama   \n",
       "8     1273          6.059414            Down by Law  Comedy,Crime,Drama   \n",
       "9     2289          6.053614             The Player  Comedy,Crime,Drama   \n",
       "\n",
       "   startYear  \n",
       "0       1973  \n",
       "1       1994  \n",
       "2       1981  \n",
       "3       1989  \n",
       "4       1972  \n",
       "5       1971  \n",
       "6       1948  \n",
       "7       1973  \n",
       "8       1986  \n",
       "9       1992  "
      ]
     },
     "execution_count": 95,
     "metadata": {},
     "output_type": "execute_result"
    }
   ],
   "source": [
    "recommended_moviesB_Bayesian"
   ]
  },
  {
   "cell_type": "code",
   "execution_count": 96,
   "metadata": {},
   "outputs": [
    {
     "data": {
      "application/vnd.microsoft.datawrangler.viewer.v0+json": {
       "columns": [
        {
         "name": "index",
         "rawType": "int64",
         "type": "integer"
        },
        {
         "name": "userId",
         "rawType": "int64",
         "type": "integer"
        },
        {
         "name": "movieId",
         "rawType": "int64",
         "type": "integer"
        },
        {
         "name": "rating",
         "rawType": "float64",
         "type": "float"
        },
        {
         "name": "timestamp",
         "rawType": "int64",
         "type": "integer"
        },
        {
         "name": "originalTitle",
         "rawType": "object",
         "type": "unknown"
        },
        {
         "name": "genres",
         "rawType": "object",
         "type": "unknown"
        },
        {
         "name": "startYear",
         "rawType": "float64",
         "type": "float"
        }
       ],
       "ref": "cb00e81d-3845-4886-b6b7-cc5f53216903",
       "rows": [
        [
         "13",
         "32",
         "50",
         "5.0",
         "845962438",
         "The Usual Suspects",
         "Crime,Drama,Mystery",
         "1995.0"
        ],
        [
         "44",
         "32",
         "368",
         "5.0",
         "845962888",
         "Maverick",
         "Action,Adventure,Comedy",
         "1994.0"
        ],
        [
         "34",
         "32",
         "318",
         "5.0",
         "845962584",
         "The Shawshank Redemption",
         "Drama",
         "1994.0"
        ],
        [
         "30",
         "32",
         "296",
         "5.0",
         "845962251",
         "Pulp Fiction",
         "Crime,Drama",
         "1994.0"
        ],
        [
         "69",
         "32",
         "778",
         "5.0",
         "845963397",
         "Trainspotting",
         "Drama",
         "1996.0"
        ],
        [
         "8",
         "32",
         "34",
         "4.0",
         "845962682",
         "Babe",
         "Comedy,Drama,Family",
         "1995.0"
        ],
        [
         "6",
         "32",
         "25",
         "4.0",
         "845962869",
         "Leaving Las Vegas",
         "Drama,Romance",
         "1995.0"
        ],
        [
         "29",
         "32",
         "292",
         "4.0",
         "845962584",
         "Outbreak",
         "Action,Drama,Thriller",
         "1995.0"
        ],
        [
         "4",
         "32",
         "17",
         "4.0",
         "845962821",
         "Sense and Sensibility",
         "Drama,Romance",
         "1995.0"
        ],
        [
         "72",
         "32",
         "1047",
         "4.0",
         "845962385",
         "The Long Kiss Goodnight",
         "Action,Crime,Drama",
         "1996.0"
        ],
        [
         "58",
         "32",
         "535",
         "4.0",
         "845963269",
         "Short Cuts",
         "Comedy,Drama",
         "1993.0"
        ],
        [
         "63",
         "32",
         "593",
         "4.0",
         "845962438",
         "The Silence of the Lambs",
         "Crime,Drama,Thriller",
         "1991.0"
        ],
        [
         "60",
         "32",
         "589",
         "4.0",
         "845962438",
         "Terminator 2: Judgment Day",
         "Action,Adventure,Sci-Fi",
         "1991.0"
        ],
        [
         "67",
         "32",
         "736",
         "4.0",
         "845962838",
         "Twister",
         "Action,Adventure,Thriller",
         "1996.0"
        ],
        [
         "68",
         "32",
         "745",
         "4.0",
         "845963582",
         null,
         null,
         null
        ],
        [
         "28",
         "32",
         "260",
         "4.0",
         "845963259",
         "Star Wars",
         "Action,Adventure,Fantasy",
         "1977.0"
        ],
        [
         "14",
         "32",
         "58",
         "4.0",
         "845963068",
         "Il postino",
         "Biography,Comedy,Drama",
         "1994.0"
        ],
        [
         "36",
         "32",
         "337",
         "4.0",
         "845962822",
         "What's Eating Gilbert Grape",
         "Drama",
         "1993.0"
        ],
        [
         "35",
         "32",
         "319",
         "4.0",
         "845963145",
         "Shallow Grave",
         "Crime,Drama,Thriller",
         "1994.0"
        ],
        [
         "56",
         "32",
         "497",
         "4.0",
         "845962944",
         "Much Ado About Nothing",
         "Comedy,Drama,Romance",
         "1993.0"
        ],
        [
         "54",
         "32",
         "474",
         "4.0",
         "845962792",
         "In the Line of Fire",
         "Action,Crime,Drama",
         "1993.0"
        ],
        [
         "43",
         "32",
         "357",
         "4.0",
         "845962749",
         "Four Weddings and a Funeral",
         "Comedy,Drama,Romance",
         "1994.0"
        ],
        [
         "47",
         "32",
         "380",
         "4.0",
         "845962251",
         "True Lies",
         "Action,Comedy,Thriller",
         "1994.0"
        ],
        [
         "16",
         "32",
         "150",
         "4.0",
         "845962251",
         "Apollo 13",
         "Adventure,Drama,History",
         "1995.0"
        ],
        [
         "37",
         "32",
         "342",
         "4.0",
         "845963010",
         "Muriel's Wedding",
         "Comedy,Drama",
         "1994.0"
        ],
        [
         "49",
         "32",
         "434",
         "4.0",
         "845962584",
         "Cliffhanger",
         "Action,Adventure,Thriller",
         "1993.0"
        ],
        [
         "52",
         "32",
         "457",
         "4.0",
         "845962438",
         "The Fugitive",
         "Action,Crime,Drama",
         "1993.0"
        ],
        [
         "70",
         "32",
         "780",
         "4.0",
         "845962869",
         "Independence Day",
         "Action,Adventure,Sci-Fi",
         "1996.0"
        ],
        [
         "62",
         "32",
         "592",
         "4.0",
         "845962251",
         "Batman",
         "Action,Adventure",
         "1989.0"
        ],
        [
         "66",
         "32",
         "708",
         "4.0",
         "845963187",
         "The Truth About Cats & Dogs",
         "Comedy,Romance",
         "1996.0"
        ],
        [
         "0",
         "32",
         "6",
         "3.0",
         "845962911",
         "Heat",
         "Action,Crime,Drama",
         "1995.0"
        ],
        [
         "1",
         "32",
         "10",
         "3.0",
         "845962612",
         "GoldenEye",
         "Action,Adventure,Thriller",
         "1995.0"
        ],
        [
         "3",
         "32",
         "16",
         "3.0",
         "845962969",
         "Casino",
         "Crime,Drama",
         "1995.0"
        ],
        [
         "7",
         "32",
         "31",
         "3.0",
         "845962944",
         "Dangerous Minds",
         "Biography,Drama",
         "1995.0"
        ],
        [
         "5",
         "32",
         "19",
         "3.0",
         "845962706",
         "Ace Ventura: When Nature Calls",
         "Adventure,Comedy,Crime",
         "1995.0"
        ],
        [
         "2",
         "32",
         "14",
         "3.0",
         "845963199",
         "Nixon",
         "Biography,Drama,History",
         "1995.0"
        ],
        [
         "17",
         "32",
         "151",
         "3.0",
         "845962838",
         "Rob Roy",
         "Adventure,Biography,Drama",
         "1995.0"
        ],
        [
         "12",
         "32",
         "47",
         "3.0",
         "845962682",
         "Se7en",
         "Crime,Drama,Mystery",
         "1995.0"
        ],
        [
         "11",
         "32",
         "45",
         "3.0",
         "845963010",
         "To Die For",
         "Comedy,Crime,Drama",
         "1995.0"
        ],
        [
         "10",
         "32",
         "39",
         "3.0",
         "845962749",
         "Clueless",
         "Comedy,Romance",
         "1995.0"
        ],
        [
         "9",
         "32",
         "36",
         "3.0",
         "845962911",
         "Dead Man Walking",
         "Crime,Drama",
         "1995.0"
        ],
        [
         "15",
         "32",
         "110",
         "3.0",
         "845962439",
         "Braveheart",
         "Biography,Drama,War",
         "1995.0"
        ],
        [
         "40",
         "32",
         "350",
         "3.0",
         "845962767",
         "The Client",
         "Crime,Drama,Mystery",
         "1994.0"
        ],
        [
         "38",
         "32",
         "344",
         "3.0",
         "845962538",
         "Ace Ventura: Pet Detective",
         "Comedy",
         "1994.0"
        ],
        [
         "39",
         "32",
         "345",
         "3.0",
         "845963085",
         "The Adventures of Priscilla, Queen of the Desert",
         "Comedy,Music",
         "1994.0"
        ],
        [
         "27",
         "32",
         "247",
         "3.0",
         "845963259",
         "Heavenly Creatures",
         "Biography,Crime,Drama",
         "1994.0"
        ],
        [
         "26",
         "32",
         "235",
         "3.0",
         "845962853",
         "Ed Wood",
         "Biography,Comedy,Drama",
         "1994.0"
        ],
        [
         "31",
         "32",
         "300",
         "3.0",
         "845962707",
         "Quiz Show",
         "Biography,Drama,History",
         "1994.0"
        ],
        [
         "33",
         "32",
         "316",
         "3.0",
         "845962562",
         "Stargate",
         "Action,Adventure,Sci-Fi",
         "1994.0"
        ],
        [
         "25",
         "32",
         "231",
         "3.0",
         "845962562",
         "Dumb and Dumber",
         "Comedy",
         "1994.0"
        ]
       ],
       "shape": {
        "columns": 7,
        "rows": 73
       }
      },
      "text/html": [
       "<div>\n",
       "<style scoped>\n",
       "    .dataframe tbody tr th:only-of-type {\n",
       "        vertical-align: middle;\n",
       "    }\n",
       "\n",
       "    .dataframe tbody tr th {\n",
       "        vertical-align: top;\n",
       "    }\n",
       "\n",
       "    .dataframe thead th {\n",
       "        text-align: right;\n",
       "    }\n",
       "</style>\n",
       "<table border=\"1\" class=\"dataframe\">\n",
       "  <thead>\n",
       "    <tr style=\"text-align: right;\">\n",
       "      <th></th>\n",
       "      <th>userId</th>\n",
       "      <th>movieId</th>\n",
       "      <th>rating</th>\n",
       "      <th>timestamp</th>\n",
       "      <th>originalTitle</th>\n",
       "      <th>genres</th>\n",
       "      <th>startYear</th>\n",
       "    </tr>\n",
       "  </thead>\n",
       "  <tbody>\n",
       "    <tr>\n",
       "      <th>13</th>\n",
       "      <td>32</td>\n",
       "      <td>50</td>\n",
       "      <td>5.0</td>\n",
       "      <td>845962438</td>\n",
       "      <td>The Usual Suspects</td>\n",
       "      <td>Crime,Drama,Mystery</td>\n",
       "      <td>1995.0</td>\n",
       "    </tr>\n",
       "    <tr>\n",
       "      <th>44</th>\n",
       "      <td>32</td>\n",
       "      <td>368</td>\n",
       "      <td>5.0</td>\n",
       "      <td>845962888</td>\n",
       "      <td>Maverick</td>\n",
       "      <td>Action,Adventure,Comedy</td>\n",
       "      <td>1994.0</td>\n",
       "    </tr>\n",
       "    <tr>\n",
       "      <th>34</th>\n",
       "      <td>32</td>\n",
       "      <td>318</td>\n",
       "      <td>5.0</td>\n",
       "      <td>845962584</td>\n",
       "      <td>The Shawshank Redemption</td>\n",
       "      <td>Drama</td>\n",
       "      <td>1994.0</td>\n",
       "    </tr>\n",
       "    <tr>\n",
       "      <th>30</th>\n",
       "      <td>32</td>\n",
       "      <td>296</td>\n",
       "      <td>5.0</td>\n",
       "      <td>845962251</td>\n",
       "      <td>Pulp Fiction</td>\n",
       "      <td>Crime,Drama</td>\n",
       "      <td>1994.0</td>\n",
       "    </tr>\n",
       "    <tr>\n",
       "      <th>69</th>\n",
       "      <td>32</td>\n",
       "      <td>778</td>\n",
       "      <td>5.0</td>\n",
       "      <td>845963397</td>\n",
       "      <td>Trainspotting</td>\n",
       "      <td>Drama</td>\n",
       "      <td>1996.0</td>\n",
       "    </tr>\n",
       "    <tr>\n",
       "      <th>...</th>\n",
       "      <td>...</td>\n",
       "      <td>...</td>\n",
       "      <td>...</td>\n",
       "      <td>...</td>\n",
       "      <td>...</td>\n",
       "      <td>...</td>\n",
       "      <td>...</td>\n",
       "    </tr>\n",
       "    <tr>\n",
       "      <th>59</th>\n",
       "      <td>32</td>\n",
       "      <td>588</td>\n",
       "      <td>3.0</td>\n",
       "      <td>845962538</td>\n",
       "      <td>Aladdin</td>\n",
       "      <td>Adventure,Animation,Comedy</td>\n",
       "      <td>1992.0</td>\n",
       "    </tr>\n",
       "    <tr>\n",
       "      <th>71</th>\n",
       "      <td>32</td>\n",
       "      <td>786</td>\n",
       "      <td>3.0</td>\n",
       "      <td>845963239</td>\n",
       "      <td>Eraser</td>\n",
       "      <td>Action,Crime,Thriller</td>\n",
       "      <td>1996.0</td>\n",
       "    </tr>\n",
       "    <tr>\n",
       "      <th>61</th>\n",
       "      <td>32</td>\n",
       "      <td>590</td>\n",
       "      <td>3.0</td>\n",
       "      <td>845962538</td>\n",
       "      <td>Dances with Wolves</td>\n",
       "      <td>Adventure,Drama,Western</td>\n",
       "      <td>1990.0</td>\n",
       "    </tr>\n",
       "    <tr>\n",
       "      <th>32</th>\n",
       "      <td>32</td>\n",
       "      <td>315</td>\n",
       "      <td>2.0</td>\n",
       "      <td>845962792</td>\n",
       "      <td>The Specialist</td>\n",
       "      <td>Action,Drama,Thriller</td>\n",
       "      <td>1994.0</td>\n",
       "    </tr>\n",
       "    <tr>\n",
       "      <th>41</th>\n",
       "      <td>32</td>\n",
       "      <td>355</td>\n",
       "      <td>2.0</td>\n",
       "      <td>845962944</td>\n",
       "      <td>The Flintstones</td>\n",
       "      <td>Comedy,Family,Fantasy</td>\n",
       "      <td>1994.0</td>\n",
       "    </tr>\n",
       "  </tbody>\n",
       "</table>\n",
       "<p>73 rows × 7 columns</p>\n",
       "</div>"
      ],
      "text/plain": [
       "    userId  movieId  rating  timestamp             originalTitle  \\\n",
       "13      32       50     5.0  845962438        The Usual Suspects   \n",
       "44      32      368     5.0  845962888                  Maverick   \n",
       "34      32      318     5.0  845962584  The Shawshank Redemption   \n",
       "30      32      296     5.0  845962251              Pulp Fiction   \n",
       "69      32      778     5.0  845963397             Trainspotting   \n",
       "..     ...      ...     ...        ...                       ...   \n",
       "59      32      588     3.0  845962538                   Aladdin   \n",
       "71      32      786     3.0  845963239                    Eraser   \n",
       "61      32      590     3.0  845962538        Dances with Wolves   \n",
       "32      32      315     2.0  845962792            The Specialist   \n",
       "41      32      355     2.0  845962944           The Flintstones   \n",
       "\n",
       "                        genres  startYear  \n",
       "13         Crime,Drama,Mystery     1995.0  \n",
       "44     Action,Adventure,Comedy     1994.0  \n",
       "34                       Drama     1994.0  \n",
       "30                 Crime,Drama     1994.0  \n",
       "69                       Drama     1996.0  \n",
       "..                         ...        ...  \n",
       "59  Adventure,Animation,Comedy     1992.0  \n",
       "71       Action,Crime,Thriller     1996.0  \n",
       "61     Adventure,Drama,Western     1990.0  \n",
       "32       Action,Drama,Thriller     1994.0  \n",
       "41       Comedy,Family,Fantasy     1994.0  \n",
       "\n",
       "[73 rows x 7 columns]"
      ]
     },
     "execution_count": 96,
     "metadata": {},
     "output_type": "execute_result"
    }
   ],
   "source": [
    "films_user32"
   ]
  },
  {
   "cell_type": "code",
   "execution_count": null,
   "metadata": {},
   "outputs": [],
   "source": [
    "#User1 once agagin"
   ]
  },
  {
   "cell_type": "code",
   "execution_count": null,
   "metadata": {},
   "outputs": [],
   "source": []
  },
  {
   "cell_type": "code",
   "execution_count": null,
   "metadata": {},
   "outputs": [],
   "source": []
  },
  {
   "cell_type": "code",
   "execution_count": 106,
   "metadata": {},
   "outputs": [],
   "source": [
    "user_id = 73"
   ]
  },
  {
   "cell_type": "code",
   "execution_count": 97,
   "metadata": {},
   "outputs": [
    {
     "name": "stdout",
     "output_type": "stream",
     "text": [
      "Similarities shape: (72, 22645)\n",
      "Ratings shape: (72, 1)\n",
      "Weights shape: (1, 22645)\n"
     ]
    }
   ],
   "source": [
    "recommended_moviesB_Bayesian = get_recommendations_bayesian(user_id, mv_ratings, df_movie_genres, bayesian_weights)"
   ]
  },
  {
   "cell_type": "code",
   "execution_count": 98,
   "metadata": {},
   "outputs": [],
   "source": [
    "recommended_moviesB_Bayesian = add_columns(recommended_moviesB_Bayesian, df_movieB, columns_to_add)"
   ]
  },
  {
   "cell_type": "code",
   "execution_count": 99,
   "metadata": {},
   "outputs": [
    {
     "name": "stdout",
     "output_type": "stream",
     "text": [
      "Similarities shape: (72, 22645)\n",
      "Ratings shape: (72, 1)\n",
      "Weights shape: (1, 22645)\n"
     ]
    }
   ],
   "source": [
    "recommended_moviesB_Bayesian_euclidean = get_recommendations_euclidean_bayesian(user_id, mv_ratings, df_movie_genres, bayesian_weights)"
   ]
  },
  {
   "cell_type": "code",
   "execution_count": 100,
   "metadata": {},
   "outputs": [],
   "source": [
    "recommended_moviesB_Bayesian_euclidean = add_columns(recommended_moviesB_Bayesian_euclidean, df_movieB, columns_to_add)"
   ]
  },
  {
   "cell_type": "code",
   "execution_count": 101,
   "metadata": {},
   "outputs": [
    {
     "name": "stdout",
     "output_type": "stream",
     "text": [
      "Similarities shape: (72, 22645)\n",
      "Ratings shape: (72, 1)\n",
      "Weights shape: (1, 22645)\n"
     ]
    },
    {
     "name": "stderr",
     "output_type": "stream",
     "text": [
      "c:\\Users\\EFCA7255\\AppData\\Local\\Programs\\Python\\Python312\\Lib\\site-packages\\sklearn\\metrics\\pairwise.py:2361: DataConversionWarning: Data was converted to boolean for metric jaccard\n",
      "  warnings.warn(msg, DataConversionWarning)\n"
     ]
    }
   ],
   "source": [
    "reco_Bayesian_Jaccard = get_recommendations_bayesian_jaccard(user_id, mv_ratings, df_movie_genres, bayesian_weights)"
   ]
  },
  {
   "cell_type": "code",
   "execution_count": 102,
   "metadata": {},
   "outputs": [],
   "source": [
    "reco_Bayesian_Jaccard = add_columns(reco_Bayesian_Jaccard, df_movieB, columns_to_add)"
   ]
  },
  {
   "cell_type": "code",
   "execution_count": 113,
   "metadata": {},
   "outputs": [],
   "source": [
    "mv_user73 = mv_ratings.loc[mv_ratings['userId']==73]"
   ]
  },
  {
   "cell_type": "code",
   "execution_count": 114,
   "metadata": {},
   "outputs": [],
   "source": [
    "films_user73 = add_columns(mv_user73, df_movieB, columns_to_add)"
   ]
  },
  {
   "cell_type": "code",
   "execution_count": 115,
   "metadata": {},
   "outputs": [],
   "source": [
    "films_user73.sort_values('rating', ascending=False, inplace=True)"
   ]
  },
  {
   "cell_type": "code",
   "execution_count": 116,
   "metadata": {},
   "outputs": [
    {
     "data": {
      "application/vnd.microsoft.datawrangler.viewer.v0+json": {
       "columns": [
        {
         "name": "index",
         "rawType": "object",
         "type": "string"
        },
        {
         "name": "userId",
         "rawType": "float64",
         "type": "float"
        },
        {
         "name": "movieId",
         "rawType": "float64",
         "type": "float"
        },
        {
         "name": "rating",
         "rawType": "float64",
         "type": "float"
        },
        {
         "name": "timestamp",
         "rawType": "float64",
         "type": "float"
        },
        {
         "name": "startYear",
         "rawType": "float64",
         "type": "float"
        }
       ],
       "conversionMethod": "pd.DataFrame",
       "ref": "886b33b1-2f3c-46dd-ace0-118d104d6d8b",
       "rows": [
        [
         "count",
         "187.0",
         "187.0",
         "187.0",
         "187.0",
         "184.0"
        ],
        [
         "mean",
         "73.0",
         "1862.2566844919786",
         "3.556149732620321",
         "963031851.5240642",
         "1984.0326086956522"
        ],
        [
         "std",
         "0.0",
         "1020.1270258220808",
         "1.1220191759604852",
         "1114.6137829627312",
         "13.209080406272706"
        ],
        [
         "min",
         "73.0",
         "17.0",
         "1.0",
         "963029852.0",
         "1939.0"
        ],
        [
         "25%",
         "73.0",
         "1158.0",
         "3.0",
         "963031020.0",
         "1980.0"
        ],
        [
         "50%",
         "73.0",
         "1625.0",
         "4.0",
         "963031793.0",
         "1986.0"
        ],
        [
         "75%",
         "73.0",
         "2831.0",
         "4.0",
         "963032785.0",
         "1994.25"
        ],
        [
         "max",
         "73.0",
         "3741.0",
         "5.0",
         "963033557.0",
         "1999.0"
        ]
       ],
       "shape": {
        "columns": 5,
        "rows": 8
       }
      },
      "text/html": [
       "<div>\n",
       "<style scoped>\n",
       "    .dataframe tbody tr th:only-of-type {\n",
       "        vertical-align: middle;\n",
       "    }\n",
       "\n",
       "    .dataframe tbody tr th {\n",
       "        vertical-align: top;\n",
       "    }\n",
       "\n",
       "    .dataframe thead th {\n",
       "        text-align: right;\n",
       "    }\n",
       "</style>\n",
       "<table border=\"1\" class=\"dataframe\">\n",
       "  <thead>\n",
       "    <tr style=\"text-align: right;\">\n",
       "      <th></th>\n",
       "      <th>userId</th>\n",
       "      <th>movieId</th>\n",
       "      <th>rating</th>\n",
       "      <th>timestamp</th>\n",
       "      <th>startYear</th>\n",
       "    </tr>\n",
       "  </thead>\n",
       "  <tbody>\n",
       "    <tr>\n",
       "      <th>count</th>\n",
       "      <td>187.0</td>\n",
       "      <td>187.000000</td>\n",
       "      <td>187.000000</td>\n",
       "      <td>1.870000e+02</td>\n",
       "      <td>184.000000</td>\n",
       "    </tr>\n",
       "    <tr>\n",
       "      <th>mean</th>\n",
       "      <td>73.0</td>\n",
       "      <td>1862.256684</td>\n",
       "      <td>3.556150</td>\n",
       "      <td>9.630319e+08</td>\n",
       "      <td>1984.032609</td>\n",
       "    </tr>\n",
       "    <tr>\n",
       "      <th>std</th>\n",
       "      <td>0.0</td>\n",
       "      <td>1020.127026</td>\n",
       "      <td>1.122019</td>\n",
       "      <td>1.114614e+03</td>\n",
       "      <td>13.209080</td>\n",
       "    </tr>\n",
       "    <tr>\n",
       "      <th>min</th>\n",
       "      <td>73.0</td>\n",
       "      <td>17.000000</td>\n",
       "      <td>1.000000</td>\n",
       "      <td>9.630299e+08</td>\n",
       "      <td>1939.000000</td>\n",
       "    </tr>\n",
       "    <tr>\n",
       "      <th>25%</th>\n",
       "      <td>73.0</td>\n",
       "      <td>1158.000000</td>\n",
       "      <td>3.000000</td>\n",
       "      <td>9.630310e+08</td>\n",
       "      <td>1980.000000</td>\n",
       "    </tr>\n",
       "    <tr>\n",
       "      <th>50%</th>\n",
       "      <td>73.0</td>\n",
       "      <td>1625.000000</td>\n",
       "      <td>4.000000</td>\n",
       "      <td>9.630318e+08</td>\n",
       "      <td>1986.000000</td>\n",
       "    </tr>\n",
       "    <tr>\n",
       "      <th>75%</th>\n",
       "      <td>73.0</td>\n",
       "      <td>2831.000000</td>\n",
       "      <td>4.000000</td>\n",
       "      <td>9.630328e+08</td>\n",
       "      <td>1994.250000</td>\n",
       "    </tr>\n",
       "    <tr>\n",
       "      <th>max</th>\n",
       "      <td>73.0</td>\n",
       "      <td>3741.000000</td>\n",
       "      <td>5.000000</td>\n",
       "      <td>9.630336e+08</td>\n",
       "      <td>1999.000000</td>\n",
       "    </tr>\n",
       "  </tbody>\n",
       "</table>\n",
       "</div>"
      ],
      "text/plain": [
       "       userId      movieId      rating     timestamp    startYear\n",
       "count   187.0   187.000000  187.000000  1.870000e+02   184.000000\n",
       "mean     73.0  1862.256684    3.556150  9.630319e+08  1984.032609\n",
       "std       0.0  1020.127026    1.122019  1.114614e+03    13.209080\n",
       "min      73.0    17.000000    1.000000  9.630299e+08  1939.000000\n",
       "25%      73.0  1158.000000    3.000000  9.630310e+08  1980.000000\n",
       "50%      73.0  1625.000000    4.000000  9.630318e+08  1986.000000\n",
       "75%      73.0  2831.000000    4.000000  9.630328e+08  1994.250000\n",
       "max      73.0  3741.000000    5.000000  9.630336e+08  1999.000000"
      ]
     },
     "execution_count": 116,
     "metadata": {},
     "output_type": "execute_result"
    }
   ],
   "source": [
    "films_user73.describe()"
   ]
  },
  {
   "cell_type": "code",
   "execution_count": 117,
   "metadata": {},
   "outputs": [
    {
     "data": {
      "application/vnd.microsoft.datawrangler.viewer.v0+json": {
       "columns": [
        {
         "name": "index",
         "rawType": "int64",
         "type": "integer"
        },
        {
         "name": "userId",
         "rawType": "int64",
         "type": "integer"
        },
        {
         "name": "movieId",
         "rawType": "int64",
         "type": "integer"
        },
        {
         "name": "rating",
         "rawType": "float64",
         "type": "float"
        },
        {
         "name": "timestamp",
         "rawType": "int64",
         "type": "integer"
        },
        {
         "name": "originalTitle",
         "rawType": "object",
         "type": "unknown"
        },
        {
         "name": "genres",
         "rawType": "object",
         "type": "unknown"
        },
        {
         "name": "startYear",
         "rawType": "float64",
         "type": "float"
        }
       ],
       "conversionMethod": "pd.DataFrame",
       "ref": "45941792-5d86-480f-baca-c8de3da27196",
       "rows": [
        [
         "1",
         "73",
         "34",
         "5.0",
         "963031470",
         "Babe",
         "Comedy,Drama,Family",
         "1995.0"
        ],
        [
         "4",
         "73",
         "110",
         "5.0",
         "963029978",
         "Braveheart",
         "Biography,Drama,War",
         "1995.0"
        ],
        [
         "3",
         "73",
         "55",
         "5.0",
         "963031872",
         "Georgia",
         "Drama,Music",
         "1995.0"
        ],
        [
         "6",
         "73",
         "150",
         "5.0",
         "963030463",
         "Apollo 13",
         "Adventure,Drama,History",
         "1995.0"
        ],
        [
         "10",
         "73",
         "296",
         "5.0",
         "963030359",
         "Pulp Fiction",
         "Crime,Drama",
         "1994.0"
        ],
        [
         "18",
         "73",
         "590",
         "5.0",
         "963032040",
         "Dances with Wolves",
         "Adventure,Drama,Western",
         "1990.0"
        ],
        [
         "21",
         "73",
         "608",
         "5.0",
         "963030359",
         "Fargo",
         "Crime,Drama,Thriller",
         "1996.0"
        ],
        [
         "16",
         "73",
         "527",
         "5.0",
         "963030359",
         "Schindler's List",
         "Biography,Drama,History",
         "1993.0"
        ],
        [
         "17",
         "73",
         "529",
         "5.0",
         "963030445",
         "Searching for Bobby Fischer",
         "Biography,Drama,Sport",
         "1993.0"
        ],
        [
         "12",
         "73",
         "318",
         "5.0",
         "963030316",
         "The Shawshank Redemption",
         "Drama",
         "1994.0"
        ],
        [
         "39",
         "73",
         "1041",
         "5.0",
         "963030359",
         "Secrets & Lies",
         "Comedy,Drama",
         "1996.0"
        ],
        [
         "43",
         "73",
         "1090",
         "5.0",
         "963033430",
         "Platoon",
         "Drama,War",
         "1986.0"
        ],
        [
         "48",
         "73",
         "1187",
         "5.0",
         "963030530",
         "Passion Fish",
         "Drama",
         "1992.0"
        ],
        [
         "50",
         "73",
         "1193",
         "5.0",
         "963031260",
         "One Flew Over the Cuckoo's Nest",
         "Drama",
         "1975.0"
        ],
        [
         "52",
         "73",
         "1197",
         "5.0",
         "963031749",
         "The Princess Bride",
         "Adventure,Comedy,Family",
         "1987.0"
        ],
        [
         "56",
         "73",
         "1207",
         "5.0",
         "963030929",
         "To Kill a Mockingbird",
         "Crime,Drama",
         "1962.0"
        ],
        [
         "58",
         "73",
         "1213",
         "5.0",
         "963030316",
         "Goodfellas",
         "Biography,Crime,Drama",
         "1990.0"
        ],
        [
         "42",
         "73",
         "1084",
         "5.0",
         "963031425",
         "Bonnie and Clyde",
         "Action,Biography,Crime",
         "1967.0"
        ],
        [
         "80",
         "73",
         "1307",
         "5.0",
         "963032890",
         "When Harry Met Sally...",
         "Comedy,Drama,Romance",
         "1989.0"
        ],
        [
         "77",
         "73",
         "1302",
         "5.0",
         "963033404",
         "Field of Dreams",
         "Drama,Family,Fantasy",
         "1989.0"
        ],
        [
         "79",
         "73",
         "1304",
         "5.0",
         "963030088",
         "Butch Cassidy and the Sundance Kid",
         "Biography,Crime,Drama",
         "1969.0"
        ],
        [
         "74",
         "73",
         "1293",
         "5.0",
         "963033244",
         "Gandhi",
         "Biography,Drama,History",
         "1982.0"
        ],
        [
         "71",
         "73",
         "1276",
         "5.0",
         "963031160",
         "Cool Hand Luke",
         "Crime,Drama",
         "1967.0"
        ],
        [
         "63",
         "73",
         "1234",
         "5.0",
         "963031020",
         "The Sting",
         "Comedy,Crime,Drama",
         "1973.0"
        ],
        [
         "65",
         "73",
         "1258",
         "5.0",
         "963031398",
         "The Shining",
         "Drama,Horror",
         "1980.0"
        ],
        [
         "60",
         "73",
         "1228",
         "5.0",
         "963031658",
         "Raging Bull",
         "Biography,Drama,Sport",
         "1980.0"
        ],
        [
         "59",
         "73",
         "1225",
         "5.0",
         "963031260",
         "Amadeus",
         "Biography,Drama,Music",
         "1984.0"
        ],
        [
         "124",
         "73",
         "2359",
         "5.0",
         "963032915",
         "Waking Ned",
         "Comedy",
         "1998.0"
        ],
        [
         "130",
         "73",
         "2565",
         "5.0",
         "963031705",
         "The King and I",
         "Biography,Drama,Musical",
         "1956.0"
        ],
        [
         "98",
         "73",
         "1956",
         "5.0",
         "963033380",
         "Ordinary People",
         "Drama",
         "1980.0"
        ],
        [
         "121",
         "73",
         "2352",
         "5.0",
         "963032804",
         "The Big Chill",
         "Comedy,Drama",
         "1983.0"
        ],
        [
         "118",
         "73",
         "2313",
         "5.0",
         "963033244",
         "The Elephant Man",
         "Biography,Drama",
         "1980.0"
        ],
        [
         "104",
         "73",
         "2028",
         "5.0",
         "963032487",
         "Saving Private Ryan",
         "Drama,War",
         "1998.0"
        ],
        [
         "129",
         "73",
         "2501",
         "5.0",
         "963031842",
         "October Sky",
         "Biography,Drama,Family",
         "1999.0"
        ],
        [
         "138",
         "73",
         "2762",
         "5.0",
         "963030113",
         "The Sixth Sense",
         "Drama,Mystery,Thriller",
         "1999.0"
        ],
        [
         "172",
         "73",
         "3363",
         "5.0",
         "963032040",
         "American Graffiti",
         "Comedy,Drama",
         "1973.0"
        ],
        [
         "178",
         "73",
         "3499",
         "5.0",
         "963031793",
         "Misery",
         "Drama,Thriller",
         "1990.0"
        ],
        [
         "183",
         "73",
         "3684",
         "5.0",
         "963033557",
         "The Fabulous Baker Boys",
         "Comedy,Drama,Music",
         "1989.0"
        ],
        [
         "182",
         "73",
         "3668",
         "5.0",
         "963032101",
         "Romeo and Juliet",
         "Drama,Romance",
         "1968.0"
        ],
        [
         "144",
         "73",
         "2917",
         "5.0",
         "963033308",
         "Body Heat",
         "Crime,Drama,Romance",
         "1981.0"
        ],
        [
         "146",
         "73",
         "2929",
         "5.0",
         "963032674",
         "Reds",
         "Biography,Drama,History",
         "1981.0"
        ],
        [
         "169",
         "73",
         "3360",
         "5.0",
         "963033221",
         "Hoosiers",
         "Drama,Sport",
         "1986.0"
        ],
        [
         "159",
         "73",
         "3112",
         "5.0",
         "963031911",
         "'night, Mother",
         "Drama",
         "1986.0"
        ],
        [
         "103",
         "73",
         "1968",
         "5.0",
         "963033404",
         "The Breakfast Club",
         "Comedy,Drama",
         "1985.0"
        ],
        [
         "36",
         "73",
         "926",
         "4.0",
         "963031939",
         "All About Eve",
         "Drama",
         "1950.0"
        ],
        [
         "55",
         "73",
         "1203",
         "4.0",
         "963031353",
         "12 Angry Men",
         "Crime,Drama",
         "1957.0"
        ],
        [
         "31",
         "73",
         "920",
         "4.0",
         "963031523",
         "Gone with the Wind",
         "Drama,Romance,War",
         "1939.0"
        ],
        [
         "37",
         "73",
         "954",
         "4.0",
         "963031816",
         "Mr. Smith Goes to Washington",
         "Comedy,Drama",
         "1939.0"
        ],
        [
         "40",
         "73",
         "1060",
         "4.0",
         "963031793",
         "Swingers",
         "Comedy,Drama",
         "1996.0"
        ],
        [
         "38",
         "73",
         "1036",
         "4.0",
         "963033281",
         "Die Hard",
         "Action,Thriller",
         "1988.0"
        ]
       ],
       "shape": {
        "columns": 7,
        "rows": 187
       }
      },
      "text/html": [
       "<div>\n",
       "<style scoped>\n",
       "    .dataframe tbody tr th:only-of-type {\n",
       "        vertical-align: middle;\n",
       "    }\n",
       "\n",
       "    .dataframe tbody tr th {\n",
       "        vertical-align: top;\n",
       "    }\n",
       "\n",
       "    .dataframe thead th {\n",
       "        text-align: right;\n",
       "    }\n",
       "</style>\n",
       "<table border=\"1\" class=\"dataframe\">\n",
       "  <thead>\n",
       "    <tr style=\"text-align: right;\">\n",
       "      <th></th>\n",
       "      <th>userId</th>\n",
       "      <th>movieId</th>\n",
       "      <th>rating</th>\n",
       "      <th>timestamp</th>\n",
       "      <th>originalTitle</th>\n",
       "      <th>genres</th>\n",
       "      <th>startYear</th>\n",
       "    </tr>\n",
       "  </thead>\n",
       "  <tbody>\n",
       "    <tr>\n",
       "      <th>1</th>\n",
       "      <td>73</td>\n",
       "      <td>34</td>\n",
       "      <td>5.0</td>\n",
       "      <td>963031470</td>\n",
       "      <td>Babe</td>\n",
       "      <td>Comedy,Drama,Family</td>\n",
       "      <td>1995.0</td>\n",
       "    </tr>\n",
       "    <tr>\n",
       "      <th>4</th>\n",
       "      <td>73</td>\n",
       "      <td>110</td>\n",
       "      <td>5.0</td>\n",
       "      <td>963029978</td>\n",
       "      <td>Braveheart</td>\n",
       "      <td>Biography,Drama,War</td>\n",
       "      <td>1995.0</td>\n",
       "    </tr>\n",
       "    <tr>\n",
       "      <th>3</th>\n",
       "      <td>73</td>\n",
       "      <td>55</td>\n",
       "      <td>5.0</td>\n",
       "      <td>963031872</td>\n",
       "      <td>Georgia</td>\n",
       "      <td>Drama,Music</td>\n",
       "      <td>1995.0</td>\n",
       "    </tr>\n",
       "    <tr>\n",
       "      <th>6</th>\n",
       "      <td>73</td>\n",
       "      <td>150</td>\n",
       "      <td>5.0</td>\n",
       "      <td>963030463</td>\n",
       "      <td>Apollo 13</td>\n",
       "      <td>Adventure,Drama,History</td>\n",
       "      <td>1995.0</td>\n",
       "    </tr>\n",
       "    <tr>\n",
       "      <th>10</th>\n",
       "      <td>73</td>\n",
       "      <td>296</td>\n",
       "      <td>5.0</td>\n",
       "      <td>963030359</td>\n",
       "      <td>Pulp Fiction</td>\n",
       "      <td>Crime,Drama</td>\n",
       "      <td>1994.0</td>\n",
       "    </tr>\n",
       "    <tr>\n",
       "      <th>...</th>\n",
       "      <td>...</td>\n",
       "      <td>...</td>\n",
       "      <td>...</td>\n",
       "      <td>...</td>\n",
       "      <td>...</td>\n",
       "      <td>...</td>\n",
       "      <td>...</td>\n",
       "    </tr>\n",
       "    <tr>\n",
       "      <th>84</th>\n",
       "      <td>73</td>\n",
       "      <td>1372</td>\n",
       "      <td>1.0</td>\n",
       "      <td>963032742</td>\n",
       "      <td>Star Trek VI: The Undiscovered Country</td>\n",
       "      <td>Action,Adventure,Sci-Fi</td>\n",
       "      <td>1991.0</td>\n",
       "    </tr>\n",
       "    <tr>\n",
       "      <th>86</th>\n",
       "      <td>73</td>\n",
       "      <td>1374</td>\n",
       "      <td>1.0</td>\n",
       "      <td>963032742</td>\n",
       "      <td>Star Trek II: The Wrath of Khan</td>\n",
       "      <td>Action,Adventure,Sci-Fi</td>\n",
       "      <td>1982.0</td>\n",
       "    </tr>\n",
       "    <tr>\n",
       "      <th>85</th>\n",
       "      <td>73</td>\n",
       "      <td>1373</td>\n",
       "      <td>1.0</td>\n",
       "      <td>963032742</td>\n",
       "      <td>Star Trek V: The Final Frontier</td>\n",
       "      <td>Action,Adventure,Fantasy</td>\n",
       "      <td>1989.0</td>\n",
       "    </tr>\n",
       "    <tr>\n",
       "      <th>88</th>\n",
       "      <td>73</td>\n",
       "      <td>1376</td>\n",
       "      <td>1.0</td>\n",
       "      <td>963032742</td>\n",
       "      <td>Star Trek IV: The Voyage Home</td>\n",
       "      <td>Adventure,Comedy,Sci-Fi</td>\n",
       "      <td>1986.0</td>\n",
       "    </tr>\n",
       "    <tr>\n",
       "      <th>127</th>\n",
       "      <td>73</td>\n",
       "      <td>2393</td>\n",
       "      <td>1.0</td>\n",
       "      <td>963032742</td>\n",
       "      <td>Star Trek: Insurrection</td>\n",
       "      <td>Action,Adventure,Sci-Fi</td>\n",
       "      <td>1998.0</td>\n",
       "    </tr>\n",
       "  </tbody>\n",
       "</table>\n",
       "<p>187 rows × 7 columns</p>\n",
       "</div>"
      ],
      "text/plain": [
       "     userId  movieId  rating  timestamp  \\\n",
       "1        73       34     5.0  963031470   \n",
       "4        73      110     5.0  963029978   \n",
       "3        73       55     5.0  963031872   \n",
       "6        73      150     5.0  963030463   \n",
       "10       73      296     5.0  963030359   \n",
       "..      ...      ...     ...        ...   \n",
       "84       73     1372     1.0  963032742   \n",
       "86       73     1374     1.0  963032742   \n",
       "85       73     1373     1.0  963032742   \n",
       "88       73     1376     1.0  963032742   \n",
       "127      73     2393     1.0  963032742   \n",
       "\n",
       "                              originalTitle                    genres  \\\n",
       "1                                      Babe       Comedy,Drama,Family   \n",
       "4                                Braveheart       Biography,Drama,War   \n",
       "3                                   Georgia               Drama,Music   \n",
       "6                                 Apollo 13   Adventure,Drama,History   \n",
       "10                             Pulp Fiction               Crime,Drama   \n",
       "..                                      ...                       ...   \n",
       "84   Star Trek VI: The Undiscovered Country   Action,Adventure,Sci-Fi   \n",
       "86          Star Trek II: The Wrath of Khan   Action,Adventure,Sci-Fi   \n",
       "85          Star Trek V: The Final Frontier  Action,Adventure,Fantasy   \n",
       "88            Star Trek IV: The Voyage Home   Adventure,Comedy,Sci-Fi   \n",
       "127                 Star Trek: Insurrection   Action,Adventure,Sci-Fi   \n",
       "\n",
       "     startYear  \n",
       "1       1995.0  \n",
       "4       1995.0  \n",
       "3       1995.0  \n",
       "6       1995.0  \n",
       "10      1994.0  \n",
       "..         ...  \n",
       "84      1991.0  \n",
       "86      1982.0  \n",
       "85      1989.0  \n",
       "88      1986.0  \n",
       "127     1998.0  \n",
       "\n",
       "[187 rows x 7 columns]"
      ]
     },
     "execution_count": 117,
     "metadata": {},
     "output_type": "execute_result"
    }
   ],
   "source": [
    "films_user73"
   ]
  },
  {
   "cell_type": "code",
   "execution_count": 118,
   "metadata": {},
   "outputs": [
    {
     "data": {
      "application/vnd.microsoft.datawrangler.viewer.v0+json": {
       "columns": [
        {
         "name": "index",
         "rawType": "int64",
         "type": "integer"
        },
        {
         "name": "movieId",
         "rawType": "int64",
         "type": "integer"
        },
        {
         "name": "similarity_score",
         "rawType": "float64",
         "type": "float"
        },
        {
         "name": "originalTitle",
         "rawType": "object",
         "type": "string"
        },
        {
         "name": "genres",
         "rawType": "object",
         "type": "string"
        },
        {
         "name": "startYear",
         "rawType": "int64",
         "type": "integer"
        }
       ],
       "conversionMethod": "pd.DataFrame",
       "ref": "ad0d2041-1d31-4a72-8513-4eeef8dd8136",
       "rows": [
        [
         "0",
         "2019",
         "8.087811400005565",
         "Shichinin no samurai",
         "Drama",
         "1954"
        ],
        [
         "1",
         "2959",
         "8.059892291004802",
         "Fight Club",
         "Drama",
         "1999"
        ],
        [
         "2",
         "3089",
         "7.699992738470271",
         "Ladri di biciclette",
         "Drama",
         "1948"
        ],
        [
         "3",
         "3949",
         "7.666701588782151",
         "Requiem for a Dream",
         "Drama",
         "2000"
        ],
        [
         "4",
         "92259",
         "7.625070197954184",
         "Intouchables",
         "Comedy,Drama",
         "2011"
        ],
        [
         "5",
         "2360",
         "7.604571176405133",
         "Festen",
         "Drama",
         "1998"
        ],
        [
         "6",
         "1132",
         "7.598681500264166",
         "Manon des sources",
         "Drama",
         "1986"
        ],
        [
         "7",
         "1952",
         "7.554902332151748",
         "Midnight Cowboy",
         "Drama",
         "1969"
        ],
        [
         "8",
         "2132",
         "7.552310886672466",
         "Who's Afraid of Virginia Woolf?",
         "Drama",
         "1966"
        ],
        [
         "9",
         "1251",
         "7.550900095936575",
         "8½",
         "Drama",
         "1963"
        ]
       ],
       "shape": {
        "columns": 5,
        "rows": 10
       }
      },
      "text/html": [
       "<div>\n",
       "<style scoped>\n",
       "    .dataframe tbody tr th:only-of-type {\n",
       "        vertical-align: middle;\n",
       "    }\n",
       "\n",
       "    .dataframe tbody tr th {\n",
       "        vertical-align: top;\n",
       "    }\n",
       "\n",
       "    .dataframe thead th {\n",
       "        text-align: right;\n",
       "    }\n",
       "</style>\n",
       "<table border=\"1\" class=\"dataframe\">\n",
       "  <thead>\n",
       "    <tr style=\"text-align: right;\">\n",
       "      <th></th>\n",
       "      <th>movieId</th>\n",
       "      <th>similarity_score</th>\n",
       "      <th>originalTitle</th>\n",
       "      <th>genres</th>\n",
       "      <th>startYear</th>\n",
       "    </tr>\n",
       "  </thead>\n",
       "  <tbody>\n",
       "    <tr>\n",
       "      <th>0</th>\n",
       "      <td>2019</td>\n",
       "      <td>8.087811</td>\n",
       "      <td>Shichinin no samurai</td>\n",
       "      <td>Drama</td>\n",
       "      <td>1954</td>\n",
       "    </tr>\n",
       "    <tr>\n",
       "      <th>1</th>\n",
       "      <td>2959</td>\n",
       "      <td>8.059892</td>\n",
       "      <td>Fight Club</td>\n",
       "      <td>Drama</td>\n",
       "      <td>1999</td>\n",
       "    </tr>\n",
       "    <tr>\n",
       "      <th>2</th>\n",
       "      <td>3089</td>\n",
       "      <td>7.699993</td>\n",
       "      <td>Ladri di biciclette</td>\n",
       "      <td>Drama</td>\n",
       "      <td>1948</td>\n",
       "    </tr>\n",
       "    <tr>\n",
       "      <th>3</th>\n",
       "      <td>3949</td>\n",
       "      <td>7.666702</td>\n",
       "      <td>Requiem for a Dream</td>\n",
       "      <td>Drama</td>\n",
       "      <td>2000</td>\n",
       "    </tr>\n",
       "    <tr>\n",
       "      <th>4</th>\n",
       "      <td>92259</td>\n",
       "      <td>7.625070</td>\n",
       "      <td>Intouchables</td>\n",
       "      <td>Comedy,Drama</td>\n",
       "      <td>2011</td>\n",
       "    </tr>\n",
       "    <tr>\n",
       "      <th>5</th>\n",
       "      <td>2360</td>\n",
       "      <td>7.604571</td>\n",
       "      <td>Festen</td>\n",
       "      <td>Drama</td>\n",
       "      <td>1998</td>\n",
       "    </tr>\n",
       "    <tr>\n",
       "      <th>6</th>\n",
       "      <td>1132</td>\n",
       "      <td>7.598682</td>\n",
       "      <td>Manon des sources</td>\n",
       "      <td>Drama</td>\n",
       "      <td>1986</td>\n",
       "    </tr>\n",
       "    <tr>\n",
       "      <th>7</th>\n",
       "      <td>1952</td>\n",
       "      <td>7.554902</td>\n",
       "      <td>Midnight Cowboy</td>\n",
       "      <td>Drama</td>\n",
       "      <td>1969</td>\n",
       "    </tr>\n",
       "    <tr>\n",
       "      <th>8</th>\n",
       "      <td>2132</td>\n",
       "      <td>7.552311</td>\n",
       "      <td>Who's Afraid of Virginia Woolf?</td>\n",
       "      <td>Drama</td>\n",
       "      <td>1966</td>\n",
       "    </tr>\n",
       "    <tr>\n",
       "      <th>9</th>\n",
       "      <td>1251</td>\n",
       "      <td>7.550900</td>\n",
       "      <td>8½</td>\n",
       "      <td>Drama</td>\n",
       "      <td>1963</td>\n",
       "    </tr>\n",
       "  </tbody>\n",
       "</table>\n",
       "</div>"
      ],
      "text/plain": [
       "   movieId  similarity_score                    originalTitle        genres  \\\n",
       "0     2019          8.087811             Shichinin no samurai         Drama   \n",
       "1     2959          8.059892                       Fight Club         Drama   \n",
       "2     3089          7.699993              Ladri di biciclette         Drama   \n",
       "3     3949          7.666702              Requiem for a Dream         Drama   \n",
       "4    92259          7.625070                     Intouchables  Comedy,Drama   \n",
       "5     2360          7.604571                           Festen         Drama   \n",
       "6     1132          7.598682                Manon des sources         Drama   \n",
       "7     1952          7.554902                  Midnight Cowboy         Drama   \n",
       "8     2132          7.552311  Who's Afraid of Virginia Woolf?         Drama   \n",
       "9     1251          7.550900                               8½         Drama   \n",
       "\n",
       "   startYear  \n",
       "0       1954  \n",
       "1       1999  \n",
       "2       1948  \n",
       "3       2000  \n",
       "4       2011  \n",
       "5       1998  \n",
       "6       1986  \n",
       "7       1969  \n",
       "8       1966  \n",
       "9       1963  "
      ]
     },
     "execution_count": 118,
     "metadata": {},
     "output_type": "execute_result"
    }
   ],
   "source": [
    "recommended_moviesB_Bayesian #cosine sim"
   ]
  },
  {
   "cell_type": "code",
   "execution_count": 119,
   "metadata": {},
   "outputs": [
    {
     "data": {
      "application/vnd.microsoft.datawrangler.viewer.v0+json": {
       "columns": [
        {
         "name": "index",
         "rawType": "int64",
         "type": "integer"
        },
        {
         "name": "movieId",
         "rawType": "int64",
         "type": "integer"
        },
        {
         "name": "similarity_score",
         "rawType": "float64",
         "type": "float"
        },
        {
         "name": "originalTitle",
         "rawType": "object",
         "type": "string"
        },
        {
         "name": "genres",
         "rawType": "object",
         "type": "string"
        },
        {
         "name": "startYear",
         "rawType": "int64",
         "type": "integer"
        }
       ],
       "conversionMethod": "pd.DataFrame",
       "ref": "7dd6ad89-cc14-4c87-94ee-e55be88cc274",
       "rows": [
        [
         "0",
         "2019",
         "7.3089025233295",
         "Shichinin no samurai",
         "Drama",
         "1954"
        ],
        [
         "1",
         "2959",
         "7.283672206234728",
         "Fight Club",
         "Drama",
         "1999"
        ],
        [
         "2",
         "3089",
         "6.958433322985943",
         "Ladri di biciclette",
         "Drama",
         "1948"
        ],
        [
         "3",
         "3949",
         "6.928348327685487",
         "Requiem for a Dream",
         "Drama",
         "2000"
        ],
        [
         "4",
         "2360",
         "6.872201478391054",
         "Festen",
         "Drama",
         "1998"
        ],
        [
         "5",
         "1132",
         "6.866879016394926",
         "Manon des sources",
         "Drama",
         "1986"
        ],
        [
         "6",
         "1952",
         "6.827316067104858",
         "Midnight Cowboy",
         "Drama",
         "1969"
        ],
        [
         "7",
         "2132",
         "6.824974194691441",
         "Who's Afraid of Virginia Woolf?",
         "Drama",
         "1966"
        ],
        [
         "8",
         "1251",
         "6.823699272285429",
         "8½",
         "Drama",
         "1963"
        ],
        [
         "9",
         "3983",
         "6.82061817358522",
         "You Can Count on Me",
         "Drama",
         "2000"
        ]
       ],
       "shape": {
        "columns": 5,
        "rows": 10
       }
      },
      "text/html": [
       "<div>\n",
       "<style scoped>\n",
       "    .dataframe tbody tr th:only-of-type {\n",
       "        vertical-align: middle;\n",
       "    }\n",
       "\n",
       "    .dataframe tbody tr th {\n",
       "        vertical-align: top;\n",
       "    }\n",
       "\n",
       "    .dataframe thead th {\n",
       "        text-align: right;\n",
       "    }\n",
       "</style>\n",
       "<table border=\"1\" class=\"dataframe\">\n",
       "  <thead>\n",
       "    <tr style=\"text-align: right;\">\n",
       "      <th></th>\n",
       "      <th>movieId</th>\n",
       "      <th>similarity_score</th>\n",
       "      <th>originalTitle</th>\n",
       "      <th>genres</th>\n",
       "      <th>startYear</th>\n",
       "    </tr>\n",
       "  </thead>\n",
       "  <tbody>\n",
       "    <tr>\n",
       "      <th>0</th>\n",
       "      <td>2019</td>\n",
       "      <td>7.308903</td>\n",
       "      <td>Shichinin no samurai</td>\n",
       "      <td>Drama</td>\n",
       "      <td>1954</td>\n",
       "    </tr>\n",
       "    <tr>\n",
       "      <th>1</th>\n",
       "      <td>2959</td>\n",
       "      <td>7.283672</td>\n",
       "      <td>Fight Club</td>\n",
       "      <td>Drama</td>\n",
       "      <td>1999</td>\n",
       "    </tr>\n",
       "    <tr>\n",
       "      <th>2</th>\n",
       "      <td>3089</td>\n",
       "      <td>6.958433</td>\n",
       "      <td>Ladri di biciclette</td>\n",
       "      <td>Drama</td>\n",
       "      <td>1948</td>\n",
       "    </tr>\n",
       "    <tr>\n",
       "      <th>3</th>\n",
       "      <td>3949</td>\n",
       "      <td>6.928348</td>\n",
       "      <td>Requiem for a Dream</td>\n",
       "      <td>Drama</td>\n",
       "      <td>2000</td>\n",
       "    </tr>\n",
       "    <tr>\n",
       "      <th>4</th>\n",
       "      <td>2360</td>\n",
       "      <td>6.872201</td>\n",
       "      <td>Festen</td>\n",
       "      <td>Drama</td>\n",
       "      <td>1998</td>\n",
       "    </tr>\n",
       "    <tr>\n",
       "      <th>5</th>\n",
       "      <td>1132</td>\n",
       "      <td>6.866879</td>\n",
       "      <td>Manon des sources</td>\n",
       "      <td>Drama</td>\n",
       "      <td>1986</td>\n",
       "    </tr>\n",
       "    <tr>\n",
       "      <th>6</th>\n",
       "      <td>1952</td>\n",
       "      <td>6.827316</td>\n",
       "      <td>Midnight Cowboy</td>\n",
       "      <td>Drama</td>\n",
       "      <td>1969</td>\n",
       "    </tr>\n",
       "    <tr>\n",
       "      <th>7</th>\n",
       "      <td>2132</td>\n",
       "      <td>6.824974</td>\n",
       "      <td>Who's Afraid of Virginia Woolf?</td>\n",
       "      <td>Drama</td>\n",
       "      <td>1966</td>\n",
       "    </tr>\n",
       "    <tr>\n",
       "      <th>8</th>\n",
       "      <td>1251</td>\n",
       "      <td>6.823699</td>\n",
       "      <td>8½</td>\n",
       "      <td>Drama</td>\n",
       "      <td>1963</td>\n",
       "    </tr>\n",
       "    <tr>\n",
       "      <th>9</th>\n",
       "      <td>3983</td>\n",
       "      <td>6.820618</td>\n",
       "      <td>You Can Count on Me</td>\n",
       "      <td>Drama</td>\n",
       "      <td>2000</td>\n",
       "    </tr>\n",
       "  </tbody>\n",
       "</table>\n",
       "</div>"
      ],
      "text/plain": [
       "   movieId  similarity_score                    originalTitle genres  \\\n",
       "0     2019          7.308903             Shichinin no samurai  Drama   \n",
       "1     2959          7.283672                       Fight Club  Drama   \n",
       "2     3089          6.958433              Ladri di biciclette  Drama   \n",
       "3     3949          6.928348              Requiem for a Dream  Drama   \n",
       "4     2360          6.872201                           Festen  Drama   \n",
       "5     1132          6.866879                Manon des sources  Drama   \n",
       "6     1952          6.827316                  Midnight Cowboy  Drama   \n",
       "7     2132          6.824974  Who's Afraid of Virginia Woolf?  Drama   \n",
       "8     1251          6.823699                               8½  Drama   \n",
       "9     3983          6.820618              You Can Count on Me  Drama   \n",
       "\n",
       "   startYear  \n",
       "0       1954  \n",
       "1       1999  \n",
       "2       1948  \n",
       "3       2000  \n",
       "4       1998  \n",
       "5       1986  \n",
       "6       1969  \n",
       "7       1966  \n",
       "8       1963  \n",
       "9       2000  "
      ]
     },
     "execution_count": 119,
     "metadata": {},
     "output_type": "execute_result"
    }
   ],
   "source": [
    "recommended_moviesB_Bayesian_euclidean"
   ]
  },
  {
   "cell_type": "code",
   "execution_count": 120,
   "metadata": {},
   "outputs": [
    {
     "data": {
      "application/vnd.microsoft.datawrangler.viewer.v0+json": {
       "columns": [
        {
         "name": "index",
         "rawType": "int64",
         "type": "integer"
        },
        {
         "name": "movieId",
         "rawType": "int64",
         "type": "integer"
        },
        {
         "name": "similarity_score",
         "rawType": "float64",
         "type": "float"
        },
        {
         "name": "originalTitle",
         "rawType": "object",
         "type": "string"
        },
        {
         "name": "genres",
         "rawType": "object",
         "type": "string"
        },
        {
         "name": "startYear",
         "rawType": "int64",
         "type": "integer"
        }
       ],
       "conversionMethod": "pd.DataFrame",
       "ref": "fe9bc0e3-252c-4dc3-a67b-f433678851fb",
       "rows": [
        [
         "0",
         "92259",
         "5.711473693741179",
         "Intouchables",
         "Comedy,Drama",
         "2011"
        ],
        [
         "1",
         "2973",
         "5.627664443482425",
         "Crimes and Misdemeanors",
         "Comedy,Drama",
         "1989"
        ],
        [
         "2",
         "2019",
         "5.600199364613927",
         "Shichinin no samurai",
         "Drama",
         "1954"
        ],
        [
         "3",
         "2959",
         "5.5808674874528625",
         "Fight Club",
         "Drama",
         "1999"
        ],
        [
         "4",
         "46578",
         "5.563619288696867",
         "Little Miss Sunshine",
         "Comedy,Drama",
         "2006"
        ],
        [
         "5",
         "82",
         "5.559655308166639",
         "Antonia",
         "Comedy,Drama",
         "1995"
        ],
        [
         "6",
         "1238",
         "5.541316128606345",
         "Local Hero",
         "Comedy,Drama",
         "1983"
        ],
        [
         "7",
         "1246",
         "5.538321744882163",
         "Dead Poets Society",
         "Comedy,Drama",
         "1989"
        ],
        [
         "8",
         "1243",
         "5.522676361999031",
         "Rosencrantz & Guildenstern Are Dead",
         "Comedy,Drama",
         "1990"
        ],
        [
         "9",
         "6867",
         "5.504290910840416",
         "The Station Agent",
         "Comedy,Drama",
         "2003"
        ]
       ],
       "shape": {
        "columns": 5,
        "rows": 10
       }
      },
      "text/html": [
       "<div>\n",
       "<style scoped>\n",
       "    .dataframe tbody tr th:only-of-type {\n",
       "        vertical-align: middle;\n",
       "    }\n",
       "\n",
       "    .dataframe tbody tr th {\n",
       "        vertical-align: top;\n",
       "    }\n",
       "\n",
       "    .dataframe thead th {\n",
       "        text-align: right;\n",
       "    }\n",
       "</style>\n",
       "<table border=\"1\" class=\"dataframe\">\n",
       "  <thead>\n",
       "    <tr style=\"text-align: right;\">\n",
       "      <th></th>\n",
       "      <th>movieId</th>\n",
       "      <th>similarity_score</th>\n",
       "      <th>originalTitle</th>\n",
       "      <th>genres</th>\n",
       "      <th>startYear</th>\n",
       "    </tr>\n",
       "  </thead>\n",
       "  <tbody>\n",
       "    <tr>\n",
       "      <th>0</th>\n",
       "      <td>92259</td>\n",
       "      <td>5.711474</td>\n",
       "      <td>Intouchables</td>\n",
       "      <td>Comedy,Drama</td>\n",
       "      <td>2011</td>\n",
       "    </tr>\n",
       "    <tr>\n",
       "      <th>1</th>\n",
       "      <td>2973</td>\n",
       "      <td>5.627664</td>\n",
       "      <td>Crimes and Misdemeanors</td>\n",
       "      <td>Comedy,Drama</td>\n",
       "      <td>1989</td>\n",
       "    </tr>\n",
       "    <tr>\n",
       "      <th>2</th>\n",
       "      <td>2019</td>\n",
       "      <td>5.600199</td>\n",
       "      <td>Shichinin no samurai</td>\n",
       "      <td>Drama</td>\n",
       "      <td>1954</td>\n",
       "    </tr>\n",
       "    <tr>\n",
       "      <th>3</th>\n",
       "      <td>2959</td>\n",
       "      <td>5.580867</td>\n",
       "      <td>Fight Club</td>\n",
       "      <td>Drama</td>\n",
       "      <td>1999</td>\n",
       "    </tr>\n",
       "    <tr>\n",
       "      <th>4</th>\n",
       "      <td>46578</td>\n",
       "      <td>5.563619</td>\n",
       "      <td>Little Miss Sunshine</td>\n",
       "      <td>Comedy,Drama</td>\n",
       "      <td>2006</td>\n",
       "    </tr>\n",
       "    <tr>\n",
       "      <th>5</th>\n",
       "      <td>82</td>\n",
       "      <td>5.559655</td>\n",
       "      <td>Antonia</td>\n",
       "      <td>Comedy,Drama</td>\n",
       "      <td>1995</td>\n",
       "    </tr>\n",
       "    <tr>\n",
       "      <th>6</th>\n",
       "      <td>1238</td>\n",
       "      <td>5.541316</td>\n",
       "      <td>Local Hero</td>\n",
       "      <td>Comedy,Drama</td>\n",
       "      <td>1983</td>\n",
       "    </tr>\n",
       "    <tr>\n",
       "      <th>7</th>\n",
       "      <td>1246</td>\n",
       "      <td>5.538322</td>\n",
       "      <td>Dead Poets Society</td>\n",
       "      <td>Comedy,Drama</td>\n",
       "      <td>1989</td>\n",
       "    </tr>\n",
       "    <tr>\n",
       "      <th>8</th>\n",
       "      <td>1243</td>\n",
       "      <td>5.522676</td>\n",
       "      <td>Rosencrantz &amp; Guildenstern Are Dead</td>\n",
       "      <td>Comedy,Drama</td>\n",
       "      <td>1990</td>\n",
       "    </tr>\n",
       "    <tr>\n",
       "      <th>9</th>\n",
       "      <td>6867</td>\n",
       "      <td>5.504291</td>\n",
       "      <td>The Station Agent</td>\n",
       "      <td>Comedy,Drama</td>\n",
       "      <td>2003</td>\n",
       "    </tr>\n",
       "  </tbody>\n",
       "</table>\n",
       "</div>"
      ],
      "text/plain": [
       "   movieId  similarity_score                        originalTitle  \\\n",
       "0    92259          5.711474                         Intouchables   \n",
       "1     2973          5.627664              Crimes and Misdemeanors   \n",
       "2     2019          5.600199                 Shichinin no samurai   \n",
       "3     2959          5.580867                           Fight Club   \n",
       "4    46578          5.563619                 Little Miss Sunshine   \n",
       "5       82          5.559655                              Antonia   \n",
       "6     1238          5.541316                           Local Hero   \n",
       "7     1246          5.538322                   Dead Poets Society   \n",
       "8     1243          5.522676  Rosencrantz & Guildenstern Are Dead   \n",
       "9     6867          5.504291                    The Station Agent   \n",
       "\n",
       "         genres  startYear  \n",
       "0  Comedy,Drama       2011  \n",
       "1  Comedy,Drama       1989  \n",
       "2         Drama       1954  \n",
       "3         Drama       1999  \n",
       "4  Comedy,Drama       2006  \n",
       "5  Comedy,Drama       1995  \n",
       "6  Comedy,Drama       1983  \n",
       "7  Comedy,Drama       1989  \n",
       "8  Comedy,Drama       1990  \n",
       "9  Comedy,Drama       2003  "
      ]
     },
     "execution_count": 120,
     "metadata": {},
     "output_type": "execute_result"
    }
   ],
   "source": [
    "reco_Bayesian_Jaccard"
   ]
  }
 ],
 "metadata": {
  "kernelspec": {
   "display_name": "Python 3",
   "language": "python",
   "name": "python3"
  },
  "language_info": {
   "codemirror_mode": {
    "name": "ipython",
    "version": 3
   },
   "file_extension": ".py",
   "mimetype": "text/x-python",
   "name": "python",
   "nbconvert_exporter": "python",
   "pygments_lexer": "ipython3",
   "version": "3.12.1"
  }
 },
 "nbformat": 4,
 "nbformat_minor": 2
}
