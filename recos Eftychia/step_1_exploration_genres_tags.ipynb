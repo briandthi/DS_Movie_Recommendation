{
 "cells": [
  {
   "cell_type": "markdown",
   "metadata": {
    "id": "7UVtGpJnEV4L"
   },
   "source": [
    "# Étape 1/ Exploration des données + DataViz’"
   ]
  },
  {
   "cell_type": "code",
   "execution_count": 1,
   "metadata": {
    "id": "UVeNFx18Evgf"
   },
   "outputs": [],
   "source": [
    "import pandas as pd\n",
    "import matplotlib.pyplot as plt\n",
    "import seaborn as sns\n",
    "\n",
    "def read_file(nom_fichier):\n",
    "    \"\"\"\n",
    "    nom_fichier (str): path du fichier\n",
    "    exemple: read_file('./data/ratings.csv')\n",
    "    \"\"\"\n",
    "    if nom_fichier.endswith('.csv'):\n",
    "        df = pd.read_csv(nom_fichier)\n",
    "    elif nom_fichier.endswith('.tsv.gz'):\n",
    "        df = pd.read_csv(nom_fichier, compression='gzip', sep='\\t')\n",
    "    else:\n",
    "        print(\"Format de fichier non supporté.\")\n",
    "        return\n",
    "    return df\n",
    "\n"
   ]
  },
  {
   "cell_type": "markdown",
   "metadata": {
    "id": "afAR3wpYEa8E"
   },
   "source": [
    "## Genre"
   ]
  },
  {
   "cell_type": "code",
   "execution_count": 2,
   "metadata": {
    "id": "StQGZAu2EqMg"
   },
   "outputs": [],
   "source": [
    "# There are separate genre categories in IMDB and in MovieLens databases. We examine similarities and differences\n",
    "#In IMDB genres related to each film are provided in title.basics.tsv file. Genres are a pipe-separated list provided in column 'genres'\n",
    "# in MovieLens,\n",
    "# we examine silimarities between the two genres classifications"
   ]
  },
  {
   "cell_type": "code",
   "execution_count": 3,
   "metadata": {
    "id": "BBq93nmj2pMK"
   },
   "outputs": [],
   "source": [
    "#genres in IMDB"
   ]
  },
  {
   "cell_type": "code",
   "execution_count": 4,
   "metadata": {
    "colab": {
     "base_uri": "https://localhost:8080/",
     "height": 287
    },
    "id": "cMhR9srU2sIz",
    "outputId": "6efb5e8b-0c5c-4d9c-d1ce-4aa821fd4aee"
   },
   "outputs": [
    {
     "name": "stderr",
     "output_type": "stream",
     "text": [
      "C:\\Users\\EFCA7255\\AppData\\Local\\Temp\\1\\ipykernel_3360\\1298128005.py:2: DtypeWarning: Columns (4) have mixed types. Specify dtype option on import or set low_memory=False.\n",
      "  df_titleBasics = pd.read_csv('title.basics.tsv', sep=\"\\t\")\n"
     ]
    }
   ],
   "source": [
    "#df_titleBasics = read_file(\"./data/title.basics.tsv.gz\")\n",
    "df_titleBasics = pd.read_csv('title.basics.tsv', sep=\"\\t\")"
   ]
  },
  {
   "cell_type": "code",
   "execution_count": 6,
   "metadata": {
    "id": "HLs95x2O3Rck"
   },
   "outputs": [],
   "source": [
    "def stack_unique_imdb(df, column_name):\n",
    "    all_values = set()\n",
    "    result = []\n",
    "\n",
    "    for index, cell in df[column_name].items():\n",
    "        values = cell.split(',') if cell else []\n",
    "        for value in values:\n",
    "            if value not in all_values:\n",
    "                result.append([index, value])\n",
    "                all_values.add(value)\n",
    "\n",
    "    return pd.DataFrame(result, columns=['index', 'value']).set_index('index')['value']"
   ]
  },
  {
   "cell_type": "code",
   "execution_count": 7,
   "metadata": {
    "id": "1wi4tbXN5C_h"
   },
   "outputs": [
    {
     "name": "stdout",
     "output_type": "stream",
     "text": [
      "<class 'pandas.core.frame.DataFrame'>\n",
      "RangeIndex: 11266641 entries, 0 to 11266640\n",
      "Data columns (total 9 columns):\n",
      " #   Column          Dtype \n",
      "---  ------          ----- \n",
      " 0   tconst          object\n",
      " 1   titleType       object\n",
      " 2   primaryTitle    object\n",
      " 3   originalTitle   object\n",
      " 4   isAdult         object\n",
      " 5   startYear       object\n",
      " 6   endYear         object\n",
      " 7   runtimeMinutes  object\n",
      " 8   genres          object\n",
      "dtypes: object(9)\n",
      "memory usage: 773.6+ MB\n"
     ]
    }
   ],
   "source": [
    "df_titleBasics.info()"
   ]
  },
  {
   "cell_type": "code",
   "execution_count": 8,
   "metadata": {
    "id": "qqfWRQpC5UsA"
   },
   "outputs": [
    {
     "data": {
      "application/vnd.microsoft.datawrangler.viewer.v0+json": {
       "columns": [
        {
         "name": "index",
         "rawType": "int64",
         "type": "integer"
        },
        {
         "name": "tconst",
         "rawType": "object",
         "type": "string"
        },
        {
         "name": "titleType",
         "rawType": "object",
         "type": "string"
        },
        {
         "name": "primaryTitle",
         "rawType": "object",
         "type": "string"
        },
        {
         "name": "originalTitle",
         "rawType": "object",
         "type": "string"
        },
        {
         "name": "isAdult",
         "rawType": "object",
         "type": "unknown"
        },
        {
         "name": "startYear",
         "rawType": "object",
         "type": "string"
        },
        {
         "name": "endYear",
         "rawType": "object",
         "type": "string"
        },
        {
         "name": "runtimeMinutes",
         "rawType": "object",
         "type": "string"
        },
        {
         "name": "genres",
         "rawType": "object",
         "type": "string"
        }
       ],
       "ref": "3e2d55eb-b20d-4f4c-a3ac-69b0f0daf435",
       "rows": [
        [
         "0",
         "tt0000001",
         "short",
         "Carmencita",
         "Carmencita",
         "0",
         "1894",
         "\\N",
         "1",
         "Documentary,Short"
        ],
        [
         "1",
         "tt0000002",
         "short",
         "Le clown et ses chiens",
         "Le clown et ses chiens",
         "0",
         "1892",
         "\\N",
         "5",
         "Animation,Short"
        ],
        [
         "2",
         "tt0000003",
         "short",
         "Poor Pierrot",
         "Pauvre Pierrot",
         "0",
         "1892",
         "\\N",
         "5",
         "Animation,Comedy,Romance"
        ],
        [
         "3",
         "tt0000004",
         "short",
         "Un bon bock",
         "Un bon bock",
         "0",
         "1892",
         "\\N",
         "12",
         "Animation,Short"
        ],
        [
         "4",
         "tt0000005",
         "short",
         "Blacksmith Scene",
         "Blacksmith Scene",
         "0",
         "1893",
         "\\N",
         "1",
         "Comedy,Short"
        ]
       ],
       "shape": {
        "columns": 9,
        "rows": 5
       }
      },
      "text/html": [
       "<div>\n",
       "<style scoped>\n",
       "    .dataframe tbody tr th:only-of-type {\n",
       "        vertical-align: middle;\n",
       "    }\n",
       "\n",
       "    .dataframe tbody tr th {\n",
       "        vertical-align: top;\n",
       "    }\n",
       "\n",
       "    .dataframe thead th {\n",
       "        text-align: right;\n",
       "    }\n",
       "</style>\n",
       "<table border=\"1\" class=\"dataframe\">\n",
       "  <thead>\n",
       "    <tr style=\"text-align: right;\">\n",
       "      <th></th>\n",
       "      <th>tconst</th>\n",
       "      <th>titleType</th>\n",
       "      <th>primaryTitle</th>\n",
       "      <th>originalTitle</th>\n",
       "      <th>isAdult</th>\n",
       "      <th>startYear</th>\n",
       "      <th>endYear</th>\n",
       "      <th>runtimeMinutes</th>\n",
       "      <th>genres</th>\n",
       "    </tr>\n",
       "  </thead>\n",
       "  <tbody>\n",
       "    <tr>\n",
       "      <th>0</th>\n",
       "      <td>tt0000001</td>\n",
       "      <td>short</td>\n",
       "      <td>Carmencita</td>\n",
       "      <td>Carmencita</td>\n",
       "      <td>0</td>\n",
       "      <td>1894</td>\n",
       "      <td>\\N</td>\n",
       "      <td>1</td>\n",
       "      <td>Documentary,Short</td>\n",
       "    </tr>\n",
       "    <tr>\n",
       "      <th>1</th>\n",
       "      <td>tt0000002</td>\n",
       "      <td>short</td>\n",
       "      <td>Le clown et ses chiens</td>\n",
       "      <td>Le clown et ses chiens</td>\n",
       "      <td>0</td>\n",
       "      <td>1892</td>\n",
       "      <td>\\N</td>\n",
       "      <td>5</td>\n",
       "      <td>Animation,Short</td>\n",
       "    </tr>\n",
       "    <tr>\n",
       "      <th>2</th>\n",
       "      <td>tt0000003</td>\n",
       "      <td>short</td>\n",
       "      <td>Poor Pierrot</td>\n",
       "      <td>Pauvre Pierrot</td>\n",
       "      <td>0</td>\n",
       "      <td>1892</td>\n",
       "      <td>\\N</td>\n",
       "      <td>5</td>\n",
       "      <td>Animation,Comedy,Romance</td>\n",
       "    </tr>\n",
       "    <tr>\n",
       "      <th>3</th>\n",
       "      <td>tt0000004</td>\n",
       "      <td>short</td>\n",
       "      <td>Un bon bock</td>\n",
       "      <td>Un bon bock</td>\n",
       "      <td>0</td>\n",
       "      <td>1892</td>\n",
       "      <td>\\N</td>\n",
       "      <td>12</td>\n",
       "      <td>Animation,Short</td>\n",
       "    </tr>\n",
       "    <tr>\n",
       "      <th>4</th>\n",
       "      <td>tt0000005</td>\n",
       "      <td>short</td>\n",
       "      <td>Blacksmith Scene</td>\n",
       "      <td>Blacksmith Scene</td>\n",
       "      <td>0</td>\n",
       "      <td>1893</td>\n",
       "      <td>\\N</td>\n",
       "      <td>1</td>\n",
       "      <td>Comedy,Short</td>\n",
       "    </tr>\n",
       "  </tbody>\n",
       "</table>\n",
       "</div>"
      ],
      "text/plain": [
       "      tconst titleType            primaryTitle           originalTitle  \\\n",
       "0  tt0000001     short              Carmencita              Carmencita   \n",
       "1  tt0000002     short  Le clown et ses chiens  Le clown et ses chiens   \n",
       "2  tt0000003     short            Poor Pierrot          Pauvre Pierrot   \n",
       "3  tt0000004     short             Un bon bock             Un bon bock   \n",
       "4  tt0000005     short        Blacksmith Scene        Blacksmith Scene   \n",
       "\n",
       "  isAdult startYear endYear runtimeMinutes                    genres  \n",
       "0       0      1894      \\N              1         Documentary,Short  \n",
       "1       0      1892      \\N              5           Animation,Short  \n",
       "2       0      1892      \\N              5  Animation,Comedy,Romance  \n",
       "3       0      1892      \\N             12           Animation,Short  \n",
       "4       0      1893      \\N              1              Comedy,Short  "
      ]
     },
     "execution_count": 8,
     "metadata": {},
     "output_type": "execute_result"
    }
   ],
   "source": [
    "df_titleBasics.head()"
   ]
  },
  {
   "cell_type": "code",
   "execution_count": 9,
   "metadata": {
    "id": "-XjmEnpz5DJ5"
   },
   "outputs": [],
   "source": [
    "#'genres' column in df_titleBasics (title.basics database in imdb) is object type, should cast into string before further analysis"
   ]
  },
  {
   "cell_type": "code",
   "execution_count": 10,
   "metadata": {
    "id": "jEjoyD2y5FUI"
   },
   "outputs": [],
   "source": [
    "df_titleBasics['genres'] = df_titleBasics['genres'].astype('string')"
   ]
  },
  {
   "cell_type": "code",
   "execution_count": 11,
   "metadata": {
    "id": "D_IFgL1k5Fcx"
   },
   "outputs": [],
   "source": [
    "#checking for missing values"
   ]
  },
  {
   "cell_type": "code",
   "execution_count": 12,
   "metadata": {
    "id": "D3nPKeRa5fYZ"
   },
   "outputs": [
    {
     "name": "stdout",
     "output_type": "stream",
     "text": [
      "633 \n",
      "\n"
     ]
    }
   ],
   "source": [
    "print(df_titleBasics['genres'].isna().sum(), '\\n')"
   ]
  },
  {
   "cell_type": "code",
   "execution_count": 13,
   "metadata": {
    "id": "XpOJytmn5fhb"
   },
   "outputs": [],
   "source": [
    "#remove the rows with missing values in the  column 'genres' as it creates problems when checking for unique values in genres column\n",
    "df_titleBasics2 = df_titleBasics.dropna(axis = 0, how = 'all', subset = ['genres'])"
   ]
  },
  {
   "cell_type": "code",
   "execution_count": 14,
   "metadata": {
    "id": "KnA-t6105prJ"
   },
   "outputs": [
    {
     "name": "stdout",
     "output_type": "stream",
     "text": [
      "index\n",
      "0        Documentary\n",
      "0              Short\n",
      "1          Animation\n",
      "2             Comedy\n",
      "2            Romance\n",
      "6              Sport\n",
      "22              News\n",
      "34             Drama\n",
      "65           Fantasy\n",
      "73            Horror\n",
      "130        Biography\n",
      "132            Music\n",
      "170              War\n",
      "174            Crime\n",
      "181          Western\n",
      "222           Family\n",
      "232        Adventure\n",
      "270           Action\n",
      "349          History\n",
      "497          Mystery\n",
      "498               \\N\n",
      "512           Sci-Fi\n",
      "596          Musical\n",
      "1245        Thriller\n",
      "18250      Film-Noir\n",
      "37597      Talk-Show\n",
      "38431      Game-Show\n",
      "39334     Reality-TV\n",
      "61489          Adult\n",
      "Name: value, dtype: object\n"
     ]
    }
   ],
   "source": [
    "# Specify the column you want to extract unique values from\n",
    "imdb_genres = 'genres'  # Change to the desired column name\n",
    "stacked_series_genres_imdb = stack_unique_imdb(df_titleBasics2, imdb_genres)\n",
    "\n",
    "print(stacked_series_genres_imdb)"
   ]
  },
  {
   "cell_type": "code",
   "execution_count": 15,
   "metadata": {
    "id": "U_ABBt-m6All"
   },
   "outputs": [
    {
     "data": {
      "application/vnd.microsoft.datawrangler.viewer.v0+json": {
       "columns": [
        {
         "name": "index",
         "rawType": "int64",
         "type": "integer"
        },
        {
         "name": "value",
         "rawType": "object",
         "type": "string"
        }
       ],
       "ref": "521c5f22-240a-4e07-a212-4769bf0c0a76",
       "rows": [
        [
         "0",
         "Documentary"
        ],
        [
         "0",
         "Short"
        ],
        [
         "1",
         "Animation"
        ],
        [
         "2",
         "Comedy"
        ],
        [
         "2",
         "Romance"
        ],
        [
         "6",
         "Sport"
        ],
        [
         "22",
         "News"
        ],
        [
         "34",
         "Drama"
        ],
        [
         "65",
         "Fantasy"
        ],
        [
         "73",
         "Horror"
        ],
        [
         "130",
         "Biography"
        ],
        [
         "132",
         "Music"
        ],
        [
         "170",
         "War"
        ],
        [
         "174",
         "Crime"
        ],
        [
         "181",
         "Western"
        ],
        [
         "222",
         "Family"
        ],
        [
         "232",
         "Adventure"
        ],
        [
         "270",
         "Action"
        ],
        [
         "349",
         "History"
        ],
        [
         "497",
         "Mystery"
        ],
        [
         "498",
         "\\N"
        ],
        [
         "512",
         "Sci-Fi"
        ],
        [
         "596",
         "Musical"
        ],
        [
         "1245",
         "Thriller"
        ],
        [
         "18250",
         "Film-Noir"
        ],
        [
         "37597",
         "Talk-Show"
        ],
        [
         "38431",
         "Game-Show"
        ],
        [
         "39334",
         "Reality-TV"
        ],
        [
         "61489",
         "Adult"
        ]
       ],
       "shape": {
        "columns": 1,
        "rows": 29
       }
      },
      "text/plain": [
       "index\n",
       "0        Documentary\n",
       "0              Short\n",
       "1          Animation\n",
       "2             Comedy\n",
       "2            Romance\n",
       "6              Sport\n",
       "22              News\n",
       "34             Drama\n",
       "65           Fantasy\n",
       "73            Horror\n",
       "130        Biography\n",
       "132            Music\n",
       "170              War\n",
       "174            Crime\n",
       "181          Western\n",
       "222           Family\n",
       "232        Adventure\n",
       "270           Action\n",
       "349          History\n",
       "497          Mystery\n",
       "498               \\N\n",
       "512           Sci-Fi\n",
       "596          Musical\n",
       "1245        Thriller\n",
       "18250      Film-Noir\n",
       "37597      Talk-Show\n",
       "38431      Game-Show\n",
       "39334     Reality-TV\n",
       "61489          Adult\n",
       "Name: value, dtype: object"
      ]
     },
     "execution_count": 15,
     "metadata": {},
     "output_type": "execute_result"
    }
   ],
   "source": [
    "stacked_series_genres_imdb"
   ]
  },
  {
   "cell_type": "code",
   "execution_count": 16,
   "metadata": {
    "id": "zh0LpL3e5fqk"
   },
   "outputs": [],
   "source": [
    "#previous list of genres is to be compared with one in movielens\n",
    "# we remark some categories are only related to TV shows: these are categories such as:\n",
    "# Talk-Show, Game-Show, Reality-TV\n",
    "# category short seems to be duration-related (probably relates to older, 19th century or ealry 20th century productions? to verify)\n",
    "# Adult is a specific category"
   ]
  },
  {
   "cell_type": "code",
   "execution_count": 17,
   "metadata": {
    "id": "blPUFhjU3Rli"
   },
   "outputs": [],
   "source": [
    "#genres in MovieLens"
   ]
  },
  {
   "cell_type": "code",
   "execution_count": 18,
   "metadata": {
    "id": "JtmdFUVm3RvA"
   },
   "outputs": [],
   "source": [
    "#n MovieLens database, genre related information is provided in movies.csv file"
   ]
  },
  {
   "cell_type": "code",
   "execution_count": 19,
   "metadata": {
    "colab": {
     "base_uri": "https://localhost:8080/",
     "height": 304
    },
    "id": "N_H5WQcK6pA9",
    "outputId": "da531f23-5c09-4696-cef4-9181bb66b091"
   },
   "outputs": [],
   "source": [
    "#mv_movies = pd.read_csv('movies.csv')\n",
    "mv_movies = read_file(\"./data/movies.csv\")"
   ]
  },
  {
   "cell_type": "code",
   "execution_count": 20,
   "metadata": {
    "id": "XFQkmEA66pKy"
   },
   "outputs": [
    {
     "name": "stdout",
     "output_type": "stream",
     "text": [
      "<class 'pandas.core.frame.DataFrame'>\n",
      "RangeIndex: 27278 entries, 0 to 27277\n",
      "Data columns (total 3 columns):\n",
      " #   Column   Non-Null Count  Dtype \n",
      "---  ------   --------------  ----- \n",
      " 0   movieId  27278 non-null  int64 \n",
      " 1   title    27278 non-null  object\n",
      " 2   genres   27278 non-null  object\n",
      "dtypes: int64(1), object(2)\n",
      "memory usage: 639.5+ KB\n"
     ]
    }
   ],
   "source": [
    "mv_movies.info()"
   ]
  },
  {
   "cell_type": "code",
   "execution_count": null,
   "metadata": {
    "id": "57EFKIKI64i2"
   },
   "outputs": [],
   "source": []
  },
  {
   "cell_type": "code",
   "execution_count": 21,
   "metadata": {
    "id": "wixXFpla64q-"
   },
   "outputs": [],
   "source": [
    "# identify the different genres in movies.csv , mv_movies['genres'] column :"
   ]
  },
  {
   "cell_type": "code",
   "execution_count": null,
   "metadata": {},
   "outputs": [],
   "source": []
  },
  {
   "cell_type": "code",
   "execution_count": 22,
   "metadata": {
    "id": "cz-1eUf27RNW"
   },
   "outputs": [],
   "source": [
    "genres_mvl = mv_movies['genres'].str.split('|', expand=True).stack().reset_index(drop=True)"
   ]
  },
  {
   "cell_type": "code",
   "execution_count": 18,
   "metadata": {
    "id": "NPzc-4of7UGV"
   },
   "outputs": [
    {
     "data": {
      "text/plain": [
       "0                 Adventure\n",
       "1                 Animation\n",
       "2                  Children\n",
       "3                    Comedy\n",
       "4                   Fantasy\n",
       "                ...        \n",
       "54401             Adventure\n",
       "54402    (no genres listed)\n",
       "54403             Adventure\n",
       "54404               Fantasy\n",
       "54405                Horror\n",
       "Length: 54406, dtype: object"
      ]
     },
     "execution_count": 18,
     "metadata": {},
     "output_type": "execute_result"
    }
   ],
   "source": [
    "genres_mvl"
   ]
  },
  {
   "cell_type": "code",
   "execution_count": 23,
   "metadata": {
    "id": "-MrDZSDX7V_m"
   },
   "outputs": [],
   "source": [
    "# need to avoid duplicated genres by using set in order to obtain unique values of genre film categorisation in movielens:"
   ]
  },
  {
   "cell_type": "code",
   "execution_count": 24,
   "metadata": {
    "id": "5ArtlaZo7Z_l"
   },
   "outputs": [],
   "source": [
    "def stack_unique(df, column_name):\n",
    "    all_values = set()\n",
    "    result = []\n",
    "\n",
    "    for index, cell in df[column_name].items():\n",
    "        values = cell.split('|') if cell else []\n",
    "        for value in values:\n",
    "            if value not in all_values:\n",
    "                result.append([index, value])\n",
    "                all_values.add(value)\n",
    "\n",
    "    return pd.DataFrame(result, columns=['index', 'value']).set_index('index')['value']\n"
   ]
  },
  {
   "cell_type": "code",
   "execution_count": 25,
   "metadata": {
    "id": "zZkfiw4T7RT9"
   },
   "outputs": [
    {
     "name": "stdout",
     "output_type": "stream",
     "text": [
      "index\n",
      "0                 Adventure\n",
      "0                 Animation\n",
      "0                  Children\n",
      "0                    Comedy\n",
      "0                   Fantasy\n",
      "2                   Romance\n",
      "3                     Drama\n",
      "5                    Action\n",
      "5                     Crime\n",
      "5                  Thriller\n",
      "11                   Horror\n",
      "21                  Mystery\n",
      "23                   Sci-Fi\n",
      "32                     IMAX\n",
      "36              Documentary\n",
      "40                      War\n",
      "47                  Musical\n",
      "161                 Western\n",
      "162               Film-Noir\n",
      "16574    (no genres listed)\n",
      "Name: value, dtype: object\n"
     ]
    }
   ],
   "source": [
    "# Specify the column you want to extract unique values from\n",
    "target_column = 'genres'  # Change to the desired column name\n",
    "stacked_series_genres_mvl = stack_unique(mv_movies, target_column)\n",
    "\n",
    "print(stacked_series_genres_mvl)"
   ]
  },
  {
   "cell_type": "code",
   "execution_count": 26,
   "metadata": {
    "id": "I8s6b4S56pSR"
   },
   "outputs": [],
   "source": [
    "#from previous list, 19 different genres are used to categorise movies in movielens. Some movies are attached to more than one genres\n",
    "# there exist movies that are not associated to no particular genre whatsoever (no genres listed)"
   ]
  },
  {
   "cell_type": "code",
   "execution_count": 27,
   "metadata": {
    "id": "usGAEwUH7p4T"
   },
   "outputs": [],
   "source": [
    "#display the distribution of genres in movielens"
   ]
  },
  {
   "cell_type": "code",
   "execution_count": 28,
   "metadata": {
    "id": "mttR3v8C7rRe"
   },
   "outputs": [],
   "source": [
    "# 1. Split the pipe-separated values into individual categories for genres\n",
    "all_categories = []\n",
    "for index in mv_movies.index:\n",
    "    categories = mv_movies.loc[index, 'genres'].split('|')\n",
    "    all_categories.extend(categories)"
   ]
  },
  {
   "cell_type": "code",
   "execution_count": 29,
   "metadata": {
    "id": "2xhBDFSI7t6M"
   },
   "outputs": [],
   "source": [
    "# 2. Count the occurrences of each category\n",
    "category_counts = pd.Series(all_categories).value_counts()"
   ]
  },
  {
   "cell_type": "code",
   "execution_count": null,
   "metadata": {},
   "outputs": [],
   "source": []
  },
  {
   "cell_type": "code",
   "execution_count": 30,
   "metadata": {
    "id": "TKH9qJCQ7wbI"
   },
   "outputs": [
    {
     "name": "stdout",
     "output_type": "stream",
     "text": [
      "Drama                 13344\n",
      "Comedy                 8374\n",
      "Thriller               4178\n",
      "Romance                4127\n",
      "Action                 3520\n",
      "Crime                  2939\n",
      "Horror                 2611\n",
      "Documentary            2471\n",
      "Adventure              2329\n",
      "Sci-Fi                 1743\n",
      "Mystery                1514\n",
      "Fantasy                1412\n",
      "War                    1194\n",
      "Children               1139\n",
      "Musical                1036\n",
      "Animation              1027\n",
      "Western                 676\n",
      "Film-Noir               330\n",
      "(no genres listed)      246\n",
      "IMAX                    196\n",
      "Name: count, dtype: int64\n"
     ]
    }
   ],
   "source": [
    "# 3. Display the distribution (counts)\n",
    "print(category_counts)"
   ]
  },
  {
   "cell_type": "code",
   "execution_count": 31,
   "metadata": {
    "id": "RR2R8xKO7ykP"
   },
   "outputs": [
    {
     "data": {
      "image/png": "[encoded data removed]",
      "text/plain": [
       "<Figure size 1200x800 with 1 Axes>"
      ]
     },
     "metadata": {},
     "output_type": "display_data"
    }
   ],
   "source": [
    "# 4. Plot the distribution\n",
    "plt.figure(figsize=(12, 8))\n",
    "sns.barplot(x=category_counts.index, y=category_counts.values)\n",
    "plt.xlabel(\"Genres\")\n",
    "plt.ylabel(\"Count\")\n",
    "plt.title(\"Distribution of Non-Mutually Exclusive Genres Categories in MovieLens\")\n",
    "plt.xticks(rotation=90, fontsize=8)\n",
    "plt.show()"
   ]
  },
  {
   "cell_type": "code",
   "execution_count": 32,
   "metadata": {
    "id": "lRG2vPjO7qDB"
   },
   "outputs": [],
   "source": [
    "# in previous figure, showing distribution of genres categories in MovieLens databases,\n",
    "# we observe that most represented genres are drama, followed in distance by comedy, followed by distance by thriller"
   ]
  },
  {
   "cell_type": "code",
   "execution_count": 33,
   "metadata": {
    "id": "_PTaNai574To"
   },
   "outputs": [],
   "source": [
    "#In separate XL file, when comparing genres among movielens and imdb, we observe that almost all genres in Movielens are also present in imdb,\n",
    "# with the exception of IMAX and Children (there is no equivalent of IMAX in IMDB, while in imdb there is a separate category called Family that could be close to the Children category?)\n",
    "# other genre categories available only in imdb seem more related to TV (these are Sport, News, Music, Talk-show, Game-Show, Reality-TV)\n",
    "# other genre only available in imbd (not in movielens) include Biography, History, Adult, Short)\n",
    "# there are some films with no genre information available, in movielens it is noted as (no genres listed), while in imdb it is noted as  \\N"
   ]
  },
  {
   "cell_type": "code",
   "execution_count": 34,
   "metadata": {
    "id": "-e2aWZY077Tq"
   },
   "outputs": [],
   "source": [
    "# HOW 'genres' categories in movies.csv relate to existing 'tags' in genome-tags.csv ? to further investigate"
   ]
  },
  {
   "cell_type": "code",
   "execution_count": 35,
   "metadata": {},
   "outputs": [],
   "source": [
    "# JAN 2025\n",
    "# checking relation of genres with notes"
   ]
  },
  {
   "cell_type": "code",
   "execution_count": 36,
   "metadata": {},
   "outputs": [
    {
     "data": {
      "application/vnd.microsoft.datawrangler.viewer.v0+json": {
       "columns": [
        {
         "name": "index",
         "rawType": "object",
         "type": "string"
        },
        {
         "name": "count",
         "rawType": "int64",
         "type": "integer"
        }
       ],
       "ref": "69cb21fe-2066-4e40-b326-93529b31708c",
       "rows": [
        [
         "Drama",
         "13344"
        ],
        [
         "Comedy",
         "8374"
        ],
        [
         "Thriller",
         "4178"
        ],
        [
         "Romance",
         "4127"
        ],
        [
         "Action",
         "3520"
        ],
        [
         "Crime",
         "2939"
        ],
        [
         "Horror",
         "2611"
        ],
        [
         "Documentary",
         "2471"
        ],
        [
         "Adventure",
         "2329"
        ],
        [
         "Sci-Fi",
         "1743"
        ],
        [
         "Mystery",
         "1514"
        ],
        [
         "Fantasy",
         "1412"
        ],
        [
         "War",
         "1194"
        ],
        [
         "Children",
         "1139"
        ],
        [
         "Musical",
         "1036"
        ],
        [
         "Animation",
         "1027"
        ],
        [
         "Western",
         "676"
        ],
        [
         "Film-Noir",
         "330"
        ],
        [
         "(no genres listed)",
         "246"
        ],
        [
         "IMAX",
         "196"
        ]
       ],
       "shape": {
        "columns": 1,
        "rows": 20
       }
      },
      "text/plain": [
       "Drama                 13344\n",
       "Comedy                 8374\n",
       "Thriller               4178\n",
       "Romance                4127\n",
       "Action                 3520\n",
       "Crime                  2939\n",
       "Horror                 2611\n",
       "Documentary            2471\n",
       "Adventure              2329\n",
       "Sci-Fi                 1743\n",
       "Mystery                1514\n",
       "Fantasy                1412\n",
       "War                    1194\n",
       "Children               1139\n",
       "Musical                1036\n",
       "Animation              1027\n",
       "Western                 676\n",
       "Film-Noir               330\n",
       "(no genres listed)      246\n",
       "IMAX                    196\n",
       "Name: count, dtype: int64"
      ]
     },
     "execution_count": 36,
     "metadata": {},
     "output_type": "execute_result"
    }
   ],
   "source": [
    "category_counts"
   ]
  },
  {
   "cell_type": "code",
   "execution_count": 37,
   "metadata": {},
   "outputs": [
    {
     "data": {
      "text/plain": [
       "pandas.core.series.Series"
      ]
     },
     "execution_count": 37,
     "metadata": {},
     "output_type": "execute_result"
    }
   ],
   "source": [
    "type(category_counts)"
   ]
  },
  {
   "cell_type": "code",
   "execution_count": 38,
   "metadata": {},
   "outputs": [
    {
     "data": {
      "text/plain": [
       "list"
      ]
     },
     "execution_count": 38,
     "metadata": {},
     "output_type": "execute_result"
    }
   ],
   "source": [
    "type(all_categories)"
   ]
  },
  {
   "cell_type": "markdown",
   "metadata": {
    "id": "gEzSGT2REnKz"
   },
   "source": [
    "## TAGS"
   ]
  },
  {
   "cell_type": "code",
   "execution_count": 39,
   "metadata": {
    "id": "Et6tXJNLEqwa"
   },
   "outputs": [],
   "source": [
    "#Tags are user generated short descriptions associated with each movie\n",
    "# each tag with its tagId is provided in file genome_tags.csv\n",
    "#b"
   ]
  },
  {
   "cell_type": "code",
   "execution_count": 40,
   "metadata": {
    "colab": {
     "base_uri": "https://localhost:8080/",
     "height": 304
    },
    "id": "XEhv34o9cCav",
    "outputId": "a9338b40-d424-4677-f097-8a41d95b34b8"
   },
   "outputs": [],
   "source": [
    "mv_gen_tags = pd.read_csv('genome-tags.csv')"
   ]
  },
  {
   "cell_type": "code",
   "execution_count": 41,
   "metadata": {
    "id": "kjs6Rc7TcL7v"
   },
   "outputs": [
    {
     "name": "stdout",
     "output_type": "stream",
     "text": [
      "<class 'pandas.core.frame.DataFrame'>\n",
      "RangeIndex: 1128 entries, 0 to 1127\n",
      "Data columns (total 2 columns):\n",
      " #   Column  Non-Null Count  Dtype \n",
      "---  ------  --------------  ----- \n",
      " 0   tagId   1128 non-null   int64 \n",
      " 1   tag     1128 non-null   object\n",
      "dtypes: int64(1), object(1)\n",
      "memory usage: 17.8+ KB\n"
     ]
    }
   ],
   "source": [
    "mv_gen_tags.info()"
   ]
  },
  {
   "cell_type": "code",
   "execution_count": 42,
   "metadata": {
    "id": "ydued2fhcOtz"
   },
   "outputs": [
    {
     "data": {
      "application/vnd.microsoft.datawrangler.viewer.v0+json": {
       "columns": [
        {
         "name": "index",
         "rawType": "int64",
         "type": "integer"
        },
        {
         "name": "tagId",
         "rawType": "int64",
         "type": "integer"
        },
        {
         "name": "tag",
         "rawType": "object",
         "type": "string"
        }
       ],
       "ref": "933b7233-a718-4c06-ada8-d49336b254e0",
       "rows": [
        [
         "0",
         "1",
         "007"
        ],
        [
         "1",
         "2",
         "007 (series)"
        ],
        [
         "2",
         "3",
         "18th century"
        ],
        [
         "3",
         "4",
         "1920s"
        ],
        [
         "4",
         "5",
         "1930s"
        ]
       ],
       "shape": {
        "columns": 2,
        "rows": 5
       }
      },
      "text/html": [
       "<div>\n",
       "<style scoped>\n",
       "    .dataframe tbody tr th:only-of-type {\n",
       "        vertical-align: middle;\n",
       "    }\n",
       "\n",
       "    .dataframe tbody tr th {\n",
       "        vertical-align: top;\n",
       "    }\n",
       "\n",
       "    .dataframe thead th {\n",
       "        text-align: right;\n",
       "    }\n",
       "</style>\n",
       "<table border=\"1\" class=\"dataframe\">\n",
       "  <thead>\n",
       "    <tr style=\"text-align: right;\">\n",
       "      <th></th>\n",
       "      <th>tagId</th>\n",
       "      <th>tag</th>\n",
       "    </tr>\n",
       "  </thead>\n",
       "  <tbody>\n",
       "    <tr>\n",
       "      <th>0</th>\n",
       "      <td>1</td>\n",
       "      <td>007</td>\n",
       "    </tr>\n",
       "    <tr>\n",
       "      <th>1</th>\n",
       "      <td>2</td>\n",
       "      <td>007 (series)</td>\n",
       "    </tr>\n",
       "    <tr>\n",
       "      <th>2</th>\n",
       "      <td>3</td>\n",
       "      <td>18th century</td>\n",
       "    </tr>\n",
       "    <tr>\n",
       "      <th>3</th>\n",
       "      <td>4</td>\n",
       "      <td>1920s</td>\n",
       "    </tr>\n",
       "    <tr>\n",
       "      <th>4</th>\n",
       "      <td>5</td>\n",
       "      <td>1930s</td>\n",
       "    </tr>\n",
       "  </tbody>\n",
       "</table>\n",
       "</div>"
      ],
      "text/plain": [
       "   tagId           tag\n",
       "0      1           007\n",
       "1      2  007 (series)\n",
       "2      3  18th century\n",
       "3      4         1920s\n",
       "4      5         1930s"
      ]
     },
     "execution_count": 42,
     "metadata": {},
     "output_type": "execute_result"
    }
   ],
   "source": [
    "mv_gen_tags.head()"
   ]
  },
  {
   "cell_type": "code",
   "execution_count": 43,
   "metadata": {
    "id": "Kb6vI_8gcChe"
   },
   "outputs": [
    {
     "data": {
      "text/plain": [
       "1128"
      ]
     },
     "execution_count": 43,
     "metadata": {},
     "output_type": "execute_result"
    }
   ],
   "source": [
    "mv_gen_tags['tag'].nunique()"
   ]
  },
  {
   "cell_type": "code",
   "execution_count": 44,
   "metadata": {
    "id": "RU0NiaN-cYYU"
   },
   "outputs": [],
   "source": [
    "# There are 1128 different tags in MovieLens"
   ]
  },
  {
   "cell_type": "code",
   "execution_count": 45,
   "metadata": {},
   "outputs": [],
   "source": [
    "pd.set_option('display.max_rows', None)  # Show all rows"
   ]
  },
  {
   "cell_type": "code",
   "execution_count": 46,
   "metadata": {},
   "outputs": [
    {
     "data": {
      "application/vnd.microsoft.datawrangler.viewer.v0+json": {
       "columns": [
        {
         "name": "index",
         "rawType": "int64",
         "type": "integer"
        },
        {
         "name": "tag",
         "rawType": "object",
         "type": "string"
        }
       ],
       "ref": "ea30530c-9112-48ea-83cc-bf5651ef8b71",
       "rows": [
        [
         "0",
         "007"
        ],
        [
         "1",
         "007 (series)"
        ],
        [
         "2",
         "18th century"
        ],
        [
         "3",
         "1920s"
        ],
        [
         "4",
         "1930s"
        ],
        [
         "5",
         "1950s"
        ],
        [
         "6",
         "1960s"
        ],
        [
         "7",
         "1970s"
        ],
        [
         "8",
         "1980s"
        ],
        [
         "9",
         "19th century"
        ],
        [
         "10",
         "3d"
        ],
        [
         "11",
         "70mm"
        ],
        [
         "12",
         "80s"
        ],
        [
         "13",
         "9/11"
        ],
        [
         "14",
         "aardman"
        ],
        [
         "15",
         "aardman studios"
        ],
        [
         "16",
         "abortion"
        ],
        [
         "17",
         "absurd"
        ],
        [
         "18",
         "action"
        ],
        [
         "19",
         "action packed"
        ],
        [
         "20",
         "adaptation"
        ],
        [
         "21",
         "adapted from:book"
        ],
        [
         "22",
         "adapted from:comic"
        ],
        [
         "23",
         "adapted from:game"
        ],
        [
         "24",
         "addiction"
        ],
        [
         "25",
         "adolescence"
        ],
        [
         "26",
         "adoption"
        ],
        [
         "27",
         "adultery"
        ],
        [
         "28",
         "adventure"
        ],
        [
         "29",
         "affectionate"
        ],
        [
         "30",
         "afi 100"
        ],
        [
         "31",
         "afi 100 (laughs)"
        ],
        [
         "32",
         "afi 100 (movie quotes)"
        ],
        [
         "33",
         "africa"
        ],
        [
         "34",
         "afterlife"
        ],
        [
         "35",
         "aging"
        ],
        [
         "36",
         "aids"
        ],
        [
         "37",
         "airplane"
        ],
        [
         "38",
         "airport"
        ],
        [
         "39",
         "alaska"
        ],
        [
         "40",
         "alcatraz"
        ],
        [
         "41",
         "alcoholism"
        ],
        [
         "42",
         "alien"
        ],
        [
         "43",
         "alien invasion"
        ],
        [
         "44",
         "aliens"
        ],
        [
         "45",
         "allegory"
        ],
        [
         "46",
         "almodovar"
        ],
        [
         "47",
         "alone in the world"
        ],
        [
         "48",
         "alter ego"
        ],
        [
         "49",
         "alternate endings"
        ]
       ],
       "shape": {
        "columns": 1,
        "rows": 600
       }
      },
      "text/plain": [
       "0                                              007\n",
       "1                                     007 (series)\n",
       "2                                     18th century\n",
       "3                                            1920s\n",
       "4                                            1930s\n",
       "5                                            1950s\n",
       "6                                            1960s\n",
       "7                                            1970s\n",
       "8                                            1980s\n",
       "9                                     19th century\n",
       "10                                              3d\n",
       "11                                            70mm\n",
       "12                                             80s\n",
       "13                                            9/11\n",
       "14                                         aardman\n",
       "15                                 aardman studios\n",
       "16                                        abortion\n",
       "17                                          absurd\n",
       "18                                          action\n",
       "19                                   action packed\n",
       "20                                      adaptation\n",
       "21                               adapted from:book\n",
       "22                              adapted from:comic\n",
       "23                               adapted from:game\n",
       "24                                       addiction\n",
       "25                                     adolescence\n",
       "26                                        adoption\n",
       "27                                        adultery\n",
       "28                                       adventure\n",
       "29                                    affectionate\n",
       "30                                         afi 100\n",
       "31                                afi 100 (laughs)\n",
       "32                          afi 100 (movie quotes)\n",
       "33                                          africa\n",
       "34                                       afterlife\n",
       "35                                           aging\n",
       "36                                            aids\n",
       "37                                        airplane\n",
       "38                                         airport\n",
       "39                                          alaska\n",
       "40                                        alcatraz\n",
       "41                                      alcoholism\n",
       "42                                           alien\n",
       "43                                  alien invasion\n",
       "44                                          aliens\n",
       "45                                        allegory\n",
       "46                                       almodovar\n",
       "47                              alone in the world\n",
       "48                                       alter ego\n",
       "49                               alternate endings\n",
       "50                               alternate history\n",
       "51                               alternate reality\n",
       "52                              alternate universe\n",
       "53                          amazing cinematography\n",
       "54                             amazing photography\n",
       "55                              american civil war\n",
       "56                                         amnesia\n",
       "57                                       amy smart\n",
       "58                            android(s)/cyborg(s)\n",
       "59                                        androids\n",
       "60                                    animal movie\n",
       "61                                         animals\n",
       "62                                        animated\n",
       "63                                       animation\n",
       "64                                           anime\n",
       "65                                      antarctica\n",
       "66                                       anti-hero\n",
       "67                                   anti-semitism\n",
       "68                                        anti-war\n",
       "69                                      apocalypse\n",
       "70                                     archaeology\n",
       "71                                       argentina\n",
       "72                                     arms dealer\n",
       "73                                          arnold\n",
       "74                                             art\n",
       "75                                       art house\n",
       "76                         artificial intelligence\n",
       "77                                          artist\n",
       "78                                        artistic\n",
       "79                                           artsy\n",
       "80                                        assassin\n",
       "81                                   assassination\n",
       "82                                       assassins\n",
       "83                                      astronauts\n",
       "84                                         atheism\n",
       "85                                     atmospheric\n",
       "86                                       australia\n",
       "87                                      australian\n",
       "88                               author:alan moore\n",
       "89                              author:neil gaiman\n",
       "90                                          autism\n",
       "91                                        aviation\n",
       "92                                         awesome\n",
       "93                              awesome soundtrack\n",
       "94                                           awful\n",
       "95                                             bad\n",
       "96                                      bad acting\n",
       "97                                         bad cgi\n",
       "98                                      bad ending\n",
       "99                                        bad plot\n",
       "100                                    bad science\n",
       "101                                     bad script\n",
       "102                                     bad sequel\n",
       "103                                         ballet\n",
       "104                                   bank robbery\n",
       "105                                       baseball\n",
       "106                                based on a book\n",
       "107                               based on a comic\n",
       "108                                based on a play\n",
       "109                          based on a true story\n",
       "110                             based on a tv show\n",
       "111                          based on a video game\n",
       "112                                  based on book\n",
       "113                                 based on comic\n",
       "114                            based on true story\n",
       "115                                     basketball\n",
       "116                                         batman\n",
       "117                                           bdsm\n",
       "118                                        beatles\n",
       "119                                      beautiful\n",
       "120                              beautiful scenery\n",
       "121                             beautifully filmed\n",
       "122                                 beauty pageant\n",
       "123                                           beer\n",
       "124                                         berlin\n",
       "125                                   best of 2005\n",
       "126                                 best war films\n",
       "127                                       betrayal\n",
       "128                           better than expected\n",
       "129               better than the american version\n",
       "130                                       biblical\n",
       "131                                     big budget\n",
       "132                                   biographical\n",
       "133                                      biography\n",
       "134                                         biopic\n",
       "135                                          birds\n",
       "136                                         biting\n",
       "137                                    bittersweet\n",
       "138                                        bizarre\n",
       "139                                black and white\n",
       "140                                   black comedy\n",
       "141                                 blaxploitation\n",
       "142                                          bleak\n",
       "143                                      blindness\n",
       "144                                          blood\n",
       "145                                         bloody\n",
       "146                                boarding school\n",
       "147                                           boat\n",
       "148                                      bollywood\n",
       "149                                          bombs\n",
       "150                                           bond\n",
       "151                                           book\n",
       "152                                book was better\n",
       "153                                          books\n",
       "154                                         boring\n",
       "155                                        boring!\n",
       "156                                         boston\n",
       "157                                        bowling\n",
       "158                                         boxing\n",
       "159                                   brainwashing\n",
       "160                                         brazil\n",
       "161                                   breathtaking\n",
       "162                                      brilliant\n",
       "163                                        british\n",
       "164                                 british comedy\n",
       "165                                       broadway\n",
       "166                                       brothers\n",
       "167                                         brutal\n",
       "168                                      brutality\n",
       "169                                    buddy movie\n",
       "170                               bullshit history\n",
       "171                                       bullying\n",
       "172                                       business\n",
       "173                                     c.s. lewis\n",
       "174                                     california\n",
       "175                                           camp\n",
       "176                                          campy\n",
       "177                                         canada\n",
       "178                                         cancer\n",
       "179                                    cannibalism\n",
       "180                                          caper\n",
       "181                                     capitalism\n",
       "182                                      car chase\n",
       "183                               carrie-anne moss\n",
       "184                                           cars\n",
       "185                                        cartoon\n",
       "186                                         casino\n",
       "187                                    catastrophe\n",
       "188                                      cathartic\n",
       "189                                    catholicism\n",
       "190                                     censorship\n",
       "191                                       cerebral\n",
       "192                                            cgi\n",
       "193                                character study\n",
       "194                                          chase\n",
       "195                                       cheating\n",
       "196                                   cheerleading\n",
       "197                                         cheesy\n",
       "198                                          chess\n",
       "199                                        chicago\n",
       "200                                    chick flick\n",
       "201                                    child abuse\n",
       "202                                      childhood\n",
       "203                                       children\n",
       "204                                          china\n",
       "205                                      chocolate\n",
       "206                                   chris tucker\n",
       "207                                      christian\n",
       "208                                   christianity\n",
       "209                                      christmas\n",
       "210                                            cia\n",
       "211                                 cinematography\n",
       "212                                         circus\n",
       "213                                      civil war\n",
       "214                                        classic\n",
       "215                                    classic car\n",
       "216                                classical music\n",
       "217                                 claustrophobic\n",
       "218                                     claymation\n",
       "219                                         clever\n",
       "220                                         clones\n",
       "221                                        cloning\n",
       "222                                         clowns\n",
       "223                                      coen bros\n",
       "224                                  coen brothers\n",
       "225                                       cold war\n",
       "226                                        college\n",
       "227                                    colonialism\n",
       "228                                      colourful\n",
       "229                                         comedy\n",
       "230                                          comic\n",
       "231                                     comic book\n",
       "232                            comic book adaption\n",
       "233                                         comics\n",
       "234                                  coming of age\n",
       "235                                  coming-of-age\n",
       "236                                      communism\n",
       "237                                  compassionate\n",
       "238                                    competition\n",
       "239                                        complex\n",
       "240                             complex characters\n",
       "241                                    complicated\n",
       "242                               complicated plot\n",
       "243                             computer animation\n",
       "244                                  computer game\n",
       "245                                      computers\n",
       "246                                    con artists\n",
       "247                                        con men\n",
       "248                                confrontational\n",
       "249                                      confusing\n",
       "250                                     conspiracy\n",
       "251                              conspiracy theory\n",
       "252                                  controversial\n",
       "253                                        cooking\n",
       "254                                           cool\n",
       "255                                          corny\n",
       "256                              corporate america\n",
       "257                                     corruption\n",
       "258                                  costume drama\n",
       "259                                        courage\n",
       "260                                          court\n",
       "261                                      courtroom\n",
       "262                                courtroom drama\n",
       "263                                  crappy sequel\n",
       "264                                          crazy\n",
       "265                                     creativity\n",
       "266                                         creepy\n",
       "267                                          crime\n",
       "268                                crime gone awry\n",
       "269                                      criterion\n",
       "270                                 cross dressing\n",
       "271                                    crude humor\n",
       "272                                           cuba\n",
       "273                                           cult\n",
       "274                                   cult classic\n",
       "275                                      cult film\n",
       "276                                  culture clash\n",
       "277                                           cute\n",
       "278                                          cute!\n",
       "279                                      cyberpunk\n",
       "280                                        cyborgs\n",
       "281                                        cynical\n",
       "282                                          dance\n",
       "283                                        dancing\n",
       "284                                           dark\n",
       "285                                    dark comedy\n",
       "286                                   dark fantasy\n",
       "287                                      dark hero\n",
       "288                                     dark humor\n",
       "289                                      dc comics\n",
       "290                                        deadpan\n",
       "291                                          death\n",
       "292                                  death penalty\n",
       "293                                         demons\n",
       "294                                  depp & burton\n",
       "295                                     depressing\n",
       "296                                     depression\n",
       "297                                         desert\n",
       "298                                        destiny\n",
       "299                                      detective\n",
       "300                                          devil\n",
       "301                                       dialogue\n",
       "302                                dialogue driven\n",
       "303                                      dinosaurs\n",
       "304                              directorial debut\n",
       "305                                     disability\n",
       "306                                  disappointing\n",
       "307                                       disaster\n",
       "308                                         disney\n",
       "309                        disney animated feature\n",
       "310                                       distopia\n",
       "311                                     disturbing\n",
       "312                                        divorce\n",
       "313                                        doctors\n",
       "314                                    documentary\n",
       "315                                            dog\n",
       "316                                           dogs\n",
       "317                                       dolphins\n",
       "318                                       downbeat\n",
       "319                                      dr. seuss\n",
       "320                                         dragon\n",
       "321                                        dragons\n",
       "322                                          drama\n",
       "323                                       dramatic\n",
       "324                                      dreamlike\n",
       "325                                         dreams\n",
       "326                                     dreamworks\n",
       "327                                       drinking\n",
       "328                                     drug abuse\n",
       "329                                 drug addiction\n",
       "330                                          drugs\n",
       "331                                           dumb\n",
       "332                                 dumb but funny\n",
       "333                             dynamic cgi action\n",
       "334                           dysfunctional family\n",
       "335                                       dystopia\n",
       "336                                dystopic future\n",
       "337                                        earnest\n",
       "338    easily confused with other movie(s) (title)\n",
       "339                                   east germany\n",
       "340                                   eccentricity\n",
       "341                                        ecology\n",
       "342                                    educational\n",
       "343                                          eerie\n",
       "344                                        effects\n",
       "345                                          egypt\n",
       "346                                    emma watson\n",
       "347                                      emotional\n",
       "348                               end of the world\n",
       "349                                        england\n",
       "350                                      enigmatic\n",
       "351                                ennio morricone\n",
       "352                   enormously long battle scene\n",
       "353                                  ensemble cast\n",
       "354                                   entertaining\n",
       "355                              entirely dialogue\n",
       "356                                    environment\n",
       "357                                  environmental\n",
       "358                                           epic\n",
       "359                                         erotic\n",
       "360                                      espionage\n",
       "361                                ethnic conflict\n",
       "362                                      evolution\n",
       "363                                      excellent\n",
       "364                               excellent script\n",
       "365                             exceptional acting\n",
       "366                                       exciting\n",
       "367                                 existentialism\n",
       "368                                     explosions\n",
       "369                                        factual\n",
       "370                                     fairy tale\n",
       "371                                    fairy tales\n",
       "372                               fake documentary\n",
       "373                                         family\n",
       "374                                   family bonds\n",
       "375                                   family drama\n",
       "376                                        fantasy\n",
       "377                                  fantasy world\n",
       "378                                          farce\n",
       "379                                        fascism\n",
       "380                                        fashion\n",
       "381                                     fast paced\n",
       "382                   father daughter relationship\n",
       "383                        father son relationship\n",
       "384                        father-son relationship\n",
       "385                                            fbi\n",
       "386                                feel good movie\n",
       "387                                      feel-good\n",
       "388                                   fight scenes\n",
       "389                                       fighting\n",
       "390                            fighting the system\n",
       "391                                 figure skating\n",
       "392                                      film noir\n",
       "393                                        finnish\n",
       "394                                        firefly\n",
       "395                                  first contact\n",
       "396                                           fish\n",
       "397                                     flashbacks\n",
       "398                                           food\n",
       "399                                       football\n",
       "400                                       forceful\n",
       "401                                        foreign\n",
       "402                                  foul language\n",
       "403                              fountain of youth\n",
       "404                                         france\n",
       "405                                      franchise\n",
       "406                           francis ford copolla\n",
       "407                                    free speech\n",
       "408                               free to download\n",
       "409                                        freedom\n",
       "410                                         french\n",
       "411                                     friendship\n",
       "412                                    frightening\n",
       "413                                            fun\n",
       "414                                      fun movie\n",
       "415                                funniest movies\n",
       "416                                          funny\n",
       "417                                  funny as hell\n",
       "418                                         future\n",
       "419                                     futuristic\n",
       "420                                       gambling\n",
       "421                                          gangs\n",
       "422                                       gangster\n",
       "423                                      gangsters\n",
       "424                                            gay\n",
       "425                                  gay character\n",
       "426                                           geek\n",
       "427                                          geeks\n",
       "428                                       genetics\n",
       "429                                         genius\n",
       "430                                       genocide\n",
       "431                                  george orwell\n",
       "432                                         german\n",
       "433                                        germany\n",
       "434                                         ghosts\n",
       "435                               ghosts/afterlife\n",
       "436                                   giant robots\n",
       "437                                        gilliam\n",
       "438                                   girlie movie\n",
       "439                                           glbt\n",
       "440                                 global warming\n",
       "441                                            god\n",
       "442                                    golden palm\n",
       "443                                           golf\n",
       "444                                           good\n",
       "445                                    good acting\n",
       "446                                    good action\n",
       "447                                  good dialogue\n",
       "448                                     good music\n",
       "449                         good romantic comedies\n",
       "450                                    good sequel\n",
       "451                                good soundtrack\n",
       "452                                     good story\n",
       "453                               good versus evil\n",
       "454                                          goofy\n",
       "455                                           gore\n",
       "456                                     goretastic\n",
       "457                                           gory\n",
       "458                                           goth\n",
       "459                                         gothic\n",
       "460                                 graphic design\n",
       "461                                  graphic novel\n",
       "462                            gratuitous violence\n",
       "463                                          great\n",
       "464                                   great acting\n",
       "465                           great cinematography\n",
       "466                                 great dialogue\n",
       "467                                   great ending\n",
       "468                                    great movie\n",
       "469                                    great music\n",
       "470                               great soundtrack\n",
       "471                                          greed\n",
       "472                                           grim\n",
       "473                                     grindhouse\n",
       "474                                         gritty\n",
       "475                                      gross-out\n",
       "476                                       gruesome\n",
       "477                                          guilt\n",
       "478                                guilty pleasure\n",
       "479                                       gulf war\n",
       "480                                       gunfight\n",
       "481                                           guns\n",
       "482                                   gypsy accent\n",
       "483                                        hackers\n",
       "484                                        hacking\n",
       "485                                      halloween\n",
       "486                                  hallucinatory\n",
       "487                                       handycam\n",
       "488                                hannibal lecter\n",
       "489                                   happy ending\n",
       "490                                  hard to watch\n",
       "491                                   harry potter\n",
       "492                                          harsh\n",
       "493                                  haunted house\n",
       "494                                         hawaii\n",
       "495                                  heartbreaking\n",
       "496                                   heartwarming\n",
       "497                                          heist\n",
       "498                                         heroin\n",
       "499                                        heroine\n",
       "500                          heroine in tight suit\n",
       "501                                   high fantasy\n",
       "502                                    high school\n",
       "503                                highly quotable\n",
       "504                                      hilarious\n",
       "505                                     hillarious\n",
       "506                                        hip hop\n",
       "507                                     historical\n",
       "508                                        history\n",
       "509                                        hit men\n",
       "510                                      hitchcock\n",
       "511                                         hitman\n",
       "512                                        holiday\n",
       "513                                      hollywood\n",
       "514                                      holocaust\n",
       "515                                       homeless\n",
       "516                                     homophobia\n",
       "517                                  homosexuality\n",
       "518                                         honest\n",
       "519                                      hong kong\n",
       "520                                       horrible\n",
       "521                                         horror\n",
       "522                                         horses\n",
       "523                                       hospital\n",
       "524                                        hostage\n",
       "525                                          hotel\n",
       "526                                       humanity\n",
       "527                                          humor\n",
       "528                                       humorous\n",
       "529                                        hunting\n",
       "530                                       idealism\n",
       "531                                       identity\n",
       "532                                        idiotic\n",
       "533                               imaginary friend\n",
       "534                                    imagination\n",
       "535                                   imdb top 250\n",
       "536                                     immigrants\n",
       "537                                    immortality\n",
       "538                                         incest\n",
       "539                               independent film\n",
       "540                                          india\n",
       "541                                  indiana jones\n",
       "542                                        indians\n",
       "543                                          indie\n",
       "544                                     infidelity\n",
       "545                                 innocence lost\n",
       "546                                       insanity\n",
       "547                                  inspirational\n",
       "548                                      inspiring\n",
       "549                                   intellectual\n",
       "550                                    intelligent\n",
       "551                             intelligent sci-fi\n",
       "552                                        intense\n",
       "553                                    interesting\n",
       "554                                       internet\n",
       "555                            interracial romance\n",
       "556                                       intimate\n",
       "557                                  investigation\n",
       "558                                           iran\n",
       "559                                           iraq\n",
       "560                                       iraq war\n",
       "561                                        ireland\n",
       "562                                          irish\n",
       "563                                   irish accent\n",
       "564                                         ironic\n",
       "565                                     irreverent\n",
       "566                                          islam\n",
       "567                                         island\n",
       "568                                      isolation\n",
       "569                                         israel\n",
       "570                                        italian\n",
       "571                                          italy\n",
       "572                                     james bond\n",
       "573                                    jane austen\n",
       "574                                          japan\n",
       "575                                       japanese\n",
       "576                             jay and silent bob\n",
       "577                                           jazz\n",
       "578                                          jesus\n",
       "579                                         jewish\n",
       "580                                           jews\n",
       "581                                     journalism\n",
       "582                                        judaism\n",
       "583                                         jungle\n",
       "584                                        justice\n",
       "585                                kick-butt women\n",
       "586                                     kidnapping\n",
       "587                                           kids\n",
       "588                                kids and family\n",
       "589                                    king arthur\n",
       "590                                        kubrick\n",
       "591                                        kung fu\n",
       "592                                       kurosawa\n",
       "593                                           lame\n",
       "594                                      las vegas\n",
       "595                                  latin america\n",
       "596                                         lawyer\n",
       "597                                        lawyers\n",
       "598                                        lesbian\n",
       "599                                           life\n",
       "Name: tag, dtype: object"
      ]
     },
     "execution_count": 46,
     "metadata": {},
     "output_type": "execute_result"
    }
   ],
   "source": [
    "mv_gen_tags['tag'].head(600)"
   ]
  },
  {
   "cell_type": "code",
   "execution_count": 47,
   "metadata": {},
   "outputs": [
    {
     "data": {
      "application/vnd.microsoft.datawrangler.viewer.v0+json": {
       "columns": [
        {
         "name": "index",
         "rawType": "int64",
         "type": "integer"
        },
        {
         "name": "tag",
         "rawType": "object",
         "type": "string"
        }
       ],
       "ref": "bc82520e-081d-4b8b-b0be-7d1a48d6e964",
       "rows": [
        [
         "528",
         "humorous"
        ],
        [
         "529",
         "hunting"
        ],
        [
         "530",
         "idealism"
        ],
        [
         "531",
         "identity"
        ],
        [
         "532",
         "idiotic"
        ],
        [
         "533",
         "imaginary friend"
        ],
        [
         "534",
         "imagination"
        ],
        [
         "535",
         "imdb top 250"
        ],
        [
         "536",
         "immigrants"
        ],
        [
         "537",
         "immortality"
        ],
        [
         "538",
         "incest"
        ],
        [
         "539",
         "independent film"
        ],
        [
         "540",
         "india"
        ],
        [
         "541",
         "indiana jones"
        ],
        [
         "542",
         "indians"
        ],
        [
         "543",
         "indie"
        ],
        [
         "544",
         "infidelity"
        ],
        [
         "545",
         "innocence lost"
        ],
        [
         "546",
         "insanity"
        ],
        [
         "547",
         "inspirational"
        ],
        [
         "548",
         "inspiring"
        ],
        [
         "549",
         "intellectual"
        ],
        [
         "550",
         "intelligent"
        ],
        [
         "551",
         "intelligent sci-fi"
        ],
        [
         "552",
         "intense"
        ],
        [
         "553",
         "interesting"
        ],
        [
         "554",
         "internet"
        ],
        [
         "555",
         "interracial romance"
        ],
        [
         "556",
         "intimate"
        ],
        [
         "557",
         "investigation"
        ],
        [
         "558",
         "iran"
        ],
        [
         "559",
         "iraq"
        ],
        [
         "560",
         "iraq war"
        ],
        [
         "561",
         "ireland"
        ],
        [
         "562",
         "irish"
        ],
        [
         "563",
         "irish accent"
        ],
        [
         "564",
         "ironic"
        ],
        [
         "565",
         "irreverent"
        ],
        [
         "566",
         "islam"
        ],
        [
         "567",
         "island"
        ],
        [
         "568",
         "isolation"
        ],
        [
         "569",
         "israel"
        ],
        [
         "570",
         "italian"
        ],
        [
         "571",
         "italy"
        ],
        [
         "572",
         "james bond"
        ],
        [
         "573",
         "jane austen"
        ],
        [
         "574",
         "japan"
        ],
        [
         "575",
         "japanese"
        ],
        [
         "576",
         "jay and silent bob"
        ],
        [
         "577",
         "jazz"
        ]
       ],
       "shape": {
        "columns": 1,
        "rows": 600
       }
      },
      "text/plain": [
       "528                                              humorous\n",
       "529                                               hunting\n",
       "530                                              idealism\n",
       "531                                              identity\n",
       "532                                               idiotic\n",
       "533                                      imaginary friend\n",
       "534                                           imagination\n",
       "535                                          imdb top 250\n",
       "536                                            immigrants\n",
       "537                                           immortality\n",
       "538                                                incest\n",
       "539                                      independent film\n",
       "540                                                 india\n",
       "541                                         indiana jones\n",
       "542                                               indians\n",
       "543                                                 indie\n",
       "544                                            infidelity\n",
       "545                                        innocence lost\n",
       "546                                              insanity\n",
       "547                                         inspirational\n",
       "548                                             inspiring\n",
       "549                                          intellectual\n",
       "550                                           intelligent\n",
       "551                                    intelligent sci-fi\n",
       "552                                               intense\n",
       "553                                           interesting\n",
       "554                                              internet\n",
       "555                                   interracial romance\n",
       "556                                              intimate\n",
       "557                                         investigation\n",
       "558                                                  iran\n",
       "559                                                  iraq\n",
       "560                                              iraq war\n",
       "561                                               ireland\n",
       "562                                                 irish\n",
       "563                                          irish accent\n",
       "564                                                ironic\n",
       "565                                            irreverent\n",
       "566                                                 islam\n",
       "567                                                island\n",
       "568                                             isolation\n",
       "569                                                israel\n",
       "570                                               italian\n",
       "571                                                 italy\n",
       "572                                            james bond\n",
       "573                                           jane austen\n",
       "574                                                 japan\n",
       "575                                              japanese\n",
       "576                                    jay and silent bob\n",
       "577                                                  jazz\n",
       "578                                                 jesus\n",
       "579                                                jewish\n",
       "580                                                  jews\n",
       "581                                            journalism\n",
       "582                                               judaism\n",
       "583                                                jungle\n",
       "584                                               justice\n",
       "585                                       kick-butt women\n",
       "586                                            kidnapping\n",
       "587                                                  kids\n",
       "588                                       kids and family\n",
       "589                                           king arthur\n",
       "590                                               kubrick\n",
       "591                                               kung fu\n",
       "592                                              kurosawa\n",
       "593                                                  lame\n",
       "594                                             las vegas\n",
       "595                                         latin america\n",
       "596                                                lawyer\n",
       "597                                               lawyers\n",
       "598                                               lesbian\n",
       "599                                                  life\n",
       "600                                          life & death\n",
       "601                                       life philosophy\n",
       "602                                                 light\n",
       "603                                                 lions\n",
       "604                                   literary adaptation\n",
       "605                                            literature\n",
       "606                                             liv tyler\n",
       "607                                                london\n",
       "608                                             lone hero\n",
       "609                                            loneliness\n",
       "610                                                  long\n",
       "611                                           los angeles\n",
       "612                                                  love\n",
       "613                                            love story\n",
       "614                                        love triangles\n",
       "615                                            low budget\n",
       "616                                                 lynch\n",
       "617                                               lyrical\n",
       "618                                               macabre\n",
       "619                                         mad scientist\n",
       "620                                           made for tv\n",
       "621                                                 mafia\n",
       "622                                                 magic\n",
       "623                                         magic realism\n",
       "624                                           male nudity\n",
       "625                                    man versus machine\n",
       "626                                          manipulation\n",
       "627                                             marijuana\n",
       "628                                              marriage\n",
       "629                                                  mars\n",
       "630                                          martial arts\n",
       "631                                                marvel\n",
       "632                                         marx brothers\n",
       "633                                           masterpiece\n",
       "634                                                  math\n",
       "635                                           mathematics\n",
       "636                                                  maze\n",
       "637                                              medieval\n",
       "638                                            meditative\n",
       "639                                           melancholic\n",
       "640                                            melancholy\n",
       "641                                                memory\n",
       "642                                           memory loss\n",
       "643                                       mental hospital\n",
       "644                                        mental illness\n",
       "645                                                mentor\n",
       "646                                           metaphysics\n",
       "647                                                mexico\n",
       "648                                           middle east\n",
       "649                                        midlife crisis\n",
       "650                                              military\n",
       "651                                              mindfuck\n",
       "652                                                mining\n",
       "653                                             minnesota\n",
       "654                                      mission from god\n",
       "655                                     mistaken identity\n",
       "656                                              miyazaki\n",
       "657                                                   mob\n",
       "658                                          mockumentary\n",
       "659                                        modern fantasy\n",
       "660                                                 money\n",
       "661                                                monkey\n",
       "662                                               monster\n",
       "663                                              monsters\n",
       "664                                          monty python\n",
       "665                                                 moody\n",
       "666                                                  moon\n",
       "667                                       moral ambiguity\n",
       "668                                              morality\n",
       "669                          mother daughter relationship\n",
       "670                               mother-son relationship\n",
       "671                                            motorcycle\n",
       "672                                     mountain climbing\n",
       "673                                        movie business\n",
       "674                                    movielens top pick\n",
       "675                                                moving\n",
       "676                                                mozart\n",
       "677                                                   mtv\n",
       "678                                   multiple storylines\n",
       "679                                                 mummy\n",
       "680                                               muppets\n",
       "681                                                murder\n",
       "682                                        murder mystery\n",
       "683                                                 music\n",
       "684                                        music business\n",
       "685                                               musical\n",
       "686                                             musicians\n",
       "687                                               mutants\n",
       "688                                               mystery\n",
       "689                                             mythology\n",
       "690                                              narrated\n",
       "691                                                  nasa\n",
       "692                                      native americans\n",
       "693                                      natural disaster\n",
       "694                                                nature\n",
       "695                                                  nazi\n",
       "696                                                 nazis\n",
       "697                                           neil gaiman\n",
       "698                                             neo-nazis\n",
       "699                                              neo-noir\n",
       "700                                                 nerds\n",
       "701                                            new jersey\n",
       "702                                           new orleans\n",
       "703                                              new york\n",
       "704                                         new york city\n",
       "705                                           new zealand\n",
       "706                                                 ninja\n",
       "707                                           no dialogue\n",
       "708                                               no plot\n",
       "709                                             nocturnal\n",
       "710                                                  noir\n",
       "711                                         noir thriller\n",
       "712                                  non-hollywood ending\n",
       "713                                            non-linear\n",
       "714                                             nonlinear\n",
       "715                                             nostalgia\n",
       "716                                             nostalgic\n",
       "717                              not as good as the first\n",
       "718                                             not funny\n",
       "719                                        notable nudity\n",
       "720                                    notable soundtrack\n",
       "721                                               nuclear\n",
       "722                                          nuclear bomb\n",
       "723                                           nuclear war\n",
       "724                                                nudity\n",
       "725                         nudity (full frontal - brief)\n",
       "726                       nudity (full frontal - notable)\n",
       "727                                 nudity (full frontal)\n",
       "728                                         nudity (rear)\n",
       "729                              nudity (topless - brief)\n",
       "730                            nudity (topless - notable)\n",
       "731                                      nudity (topless)\n",
       "732                                             obsession\n",
       "733                                                 ocean\n",
       "734                                       off-beat comedy\n",
       "735                                                office\n",
       "736                                                   oil\n",
       "737                                              olympics\n",
       "738                                               ominous\n",
       "739                                                 opera\n",
       "740                                       organized crime\n",
       "741                                              original\n",
       "742                                         original plot\n",
       "743                                               orphans\n",
       "744                                                 oscar\n",
       "745                                    oscar (best actor)\n",
       "746                                  oscar (best actress)\n",
       "747                         oscar (best animated feature)\n",
       "748                           oscar (best cinematography)\n",
       "749                                oscar (best directing)\n",
       "750                                  oscar (best editing)\n",
       "751                 oscar (best effects - visual effects)\n",
       "752                    oscar (best foreign language film)\n",
       "753                   oscar (best music - original score)\n",
       "754                    oscar (best music - original song)\n",
       "755                                  oscar (best picture)\n",
       "756                                    oscar (best sound)\n",
       "757                         oscar (best supporting actor)\n",
       "758                       oscar (best supporting actress)\n",
       "759     oscar (best writing - screenplay written direc...\n",
       "760                                          oscar winner\n",
       "761                                          over the top\n",
       "762                                             overrated\n",
       "763                                             palestine\n",
       "764                                     parallel universe\n",
       "765                                              paranoia\n",
       "766                                              paranoid\n",
       "767                                            parenthood\n",
       "768                                                 paris\n",
       "769                                                parody\n",
       "770                                            passionate\n",
       "771                                              penguins\n",
       "772                                               perfect\n",
       "773                                          period piece\n",
       "774                                             peter pan\n",
       "775                                                    pg\n",
       "776                                                 pg-13\n",
       "777                                        philip k. dick\n",
       "778                                         philosophical\n",
       "779                                            philosophy\n",
       "780                                          photographer\n",
       "781                                           photography\n",
       "782                                                  pigs\n",
       "783                                               pirates\n",
       "784                                                 pixar\n",
       "785                                       pixar animation\n",
       "786                                                  plot\n",
       "787                                            plot holes\n",
       "788                                            plot twist\n",
       "789                                                poetry\n",
       "790                                              poignant\n",
       "791                                             pointless\n",
       "792                                                 poker\n",
       "793                                                poland\n",
       "794                                                police\n",
       "795                                     police corruption\n",
       "796                                  police investigation\n",
       "797                                             political\n",
       "798                                  political corruption\n",
       "799                                              politics\n",
       "800                                           pornography\n",
       "801                                      post apocalyptic\n",
       "802                                      post-apocalyptic\n",
       "803                                   potential oscar nom\n",
       "804                                               poverty\n",
       "805                                       powerful ending\n",
       "806                                           predictable\n",
       "807                                             pregnancy\n",
       "808                                             prejudice\n",
       "809                                               prequel\n",
       "810                                             president\n",
       "811                                           pretentious\n",
       "812                                                prison\n",
       "813                                         prison escape\n",
       "814                                     private detective\n",
       "815                                     product placement\n",
       "816                                           prohibition\n",
       "817                                            propaganda\n",
       "818                                          prostitution\n",
       "819                                           psychedelic\n",
       "820                                          psychiatrist\n",
       "821                                            psychiatry\n",
       "822                                         psychological\n",
       "823                                            psychology\n",
       "824                                                  pulp\n",
       "825                                                  punk\n",
       "826                                               puppets\n",
       "827                                                 queer\n",
       "828                                                quirky\n",
       "829                                              quotable\n",
       "830                                               rabbits\n",
       "831                                                  race\n",
       "832                                           race issues\n",
       "833                                                racing\n",
       "834                                                racism\n",
       "835                                                 radio\n",
       "836                                        rags to riches\n",
       "837                                                  rape\n",
       "838                                                  rats\n",
       "839                                             realistic\n",
       "840                                      realistic action\n",
       "841                                            reality tv\n",
       "842                                             rebellion\n",
       "843                                            redemption\n",
       "844                                            reflective\n",
       "845                                         relationships\n",
       "846                                              religion\n",
       "847                                                remade\n",
       "848                                                remake\n",
       "849                                               revenge\n",
       "850                                            revolution\n",
       "851                                            ridiculous\n",
       "852                                        rio de janeiro\n",
       "853                                            road movie\n",
       "854                                             road trip\n",
       "855                                            roald dahl\n",
       "856                                               robbery\n",
       "857                                      robert downey jr\n",
       "858                                         robert ludlum\n",
       "859                                                 robot\n",
       "860                                                robots\n",
       "861                                         rock and roll\n",
       "862                                               romance\n",
       "863                                              romantic\n",
       "864                                       romantic comedy\n",
       "865                                                  rome\n",
       "866                                               runaway\n",
       "867                                                russia\n",
       "868                                               russian\n",
       "869                                             sacrifice\n",
       "870                                                   sad\n",
       "871                                          sad but good\n",
       "872                                               samurai\n",
       "873                                         san francisco\n",
       "874                                                 sappy\n",
       "875                                               sarcasm\n",
       "876                                                satire\n",
       "877                                             satirical\n",
       "878                                   saturday night live\n",
       "879              saturn award (best science fiction film)\n",
       "880                   saturn award (best special effects)\n",
       "881                                                 scary\n",
       "882                                                scenic\n",
       "883                                         schizophrenia\n",
       "884                                                school\n",
       "885                                                sci fi\n",
       "886                                                sci-fi\n",
       "887                                               science\n",
       "888                                       science fiction\n",
       "889                                                 scifi\n",
       "890                                            scifi cult\n",
       "891                                              scotland\n",
       "892                                             screwball\n",
       "893                                      screwball comedy\n",
       "894                                                script\n",
       "895                                        secret service\n",
       "896                                               secrets\n",
       "897                                           segregation\n",
       "898                                        self discovery\n",
       "899                                           sentimental\n",
       "900                                                sequel\n",
       "901                                               sequels\n",
       "902                                         serial killer\n",
       "903                                                series\n",
       "904                                                   sex\n",
       "905                                            sex comedy\n",
       "906                                                sexual\n",
       "907                                          sexual abuse\n",
       "908                                             sexuality\n",
       "909                                   sexualized violence\n",
       "910                                                  sexy\n",
       "911                                           shakespeare\n",
       "912                                               shallow\n",
       "913                                                 shark\n",
       "914                                              shopping\n",
       "915                                                 short\n",
       "916                                short-term memory loss\n",
       "917                                                silent\n",
       "918                                                 silly\n",
       "919                                             silly fun\n",
       "920                                                simple\n",
       "921                                         single father\n",
       "922                                               sisters\n",
       "923                                              skinhead\n",
       "924                                              slackers\n",
       "925                                             slapstick\n",
       "926                                               slasher\n",
       "927                                               slavery\n",
       "928                                                  slow\n",
       "929                                            slow paced\n",
       "930                                            small town\n",
       "931                                                snakes\n",
       "932                                     so bad it's funny\n",
       "933                                      so bad it's good\n",
       "934                                                soccer\n",
       "935                                     social commentary\n",
       "936                                              solitude\n",
       "937                                        sophia coppola\n",
       "938                                          south africa\n",
       "939                                         south america\n",
       "940                                        southern theme\n",
       "941                                                 space\n",
       "942                                           space opera\n",
       "943                                         space program\n",
       "944                                          space travel\n",
       "945                                     spaghetti western\n",
       "946                                                 spain\n",
       "947                                               spanish\n",
       "948                                     spanish civil war\n",
       "949                                               special\n",
       "950                                       special effects\n",
       "951                                          spelling bee\n",
       "952                                               spiders\n",
       "953                                             spielberg\n",
       "954                                                 spies\n",
       "955                                              splatter\n",
       "956                                                 spock\n",
       "957                                                 spoof\n",
       "958                                                sports\n",
       "959                                                   spy\n",
       "960                                                spying\n",
       "961                                           stage magic\n",
       "962                                       stand-up comedy\n",
       "963                                             star trek\n",
       "964                                             star wars\n",
       "965                                             steampunk\n",
       "966                                           stereotypes\n",
       "967                                          stoner movie\n",
       "968                                           stop motion\n",
       "969                                           stop-motion\n",
       "970                                                 story\n",
       "971                                          storytelling\n",
       "972                                              stranded\n",
       "973                                               strange\n",
       "974                                             strippers\n",
       "975                                         studio ghibli\n",
       "976                                              stunning\n",
       "977                                                stupid\n",
       "978                                        stupid as hell\n",
       "979                                             stupidity\n",
       "980                                               stylish\n",
       "981                                              stylized\n",
       "982                                             submarine\n",
       "983                                              suburbia\n",
       "984                                               suicide\n",
       "985                                       suicide attempt\n",
       "986                                            super hero\n",
       "987                                            super-hero\n",
       "988                                             superhero\n",
       "989                                           superheroes\n",
       "990                                          supernatural\n",
       "991                                    suprisingly clever\n",
       "992                                               surfing\n",
       "993                                       surprise ending\n",
       "994                                               surreal\n",
       "995                                            surrealism\n",
       "996                                          surveillance\n",
       "997                                              survival\n",
       "998                                              suspense\n",
       "999                                           suspenseful\n",
       "1000                                         swashbuckler\n",
       "1001                                              swedish\n",
       "1002                                                sweet\n",
       "1003                                     switching places\n",
       "1004                                          sword fight\n",
       "1005                                       sword fighting\n",
       "1006                                      talking animals\n",
       "1007                                                talky\n",
       "1008                                            tarantino\n",
       "1009                                              teacher\n",
       "1010                                          tear jerker\n",
       "1011                                           technology\n",
       "1012                                                 teen\n",
       "1013                                           teen movie\n",
       "1014                                             teenager\n",
       "1015                                            teenagers\n",
       "1016                                                teens\n",
       "1017                                        teleportation\n",
       "1018                                           television\n",
       "1019                                                tense\n",
       "1020                                     terminal illness\n",
       "1021                                            terrorism\n",
       "1022                                                texas\n",
       "1023                                    thought-provoking\n",
       "1024                                             thriller\n",
       "1025                                                 time\n",
       "1026                                            time loop\n",
       "1027                                          time travel\n",
       "1028                                                tokyo\n",
       "1029                                              tolkien\n",
       "1030                                           tom clancy\n",
       "1031                                             too long\n",
       "1032                                            too short\n",
       "1033                                              torture\n",
       "1034                                             touching\n",
       "1035                                                 toys\n",
       "1036                                              tragedy\n",
       "1037                                                train\n",
       "1038                                               trains\n",
       "1039                                       transformation\n",
       "1040                                          transgender\n",
       "1041                                               travel\n",
       "1042                                             treasure\n",
       "1043                                        treasure hunt\n",
       "1044                                               tricky\n",
       "1045                                              trilogy\n",
       "1046                                           true story\n",
       "1047                                        truman capote\n",
       "1048                                                twist\n",
       "1049                                         twist ending\n",
       "1050                                       twists & turns\n",
       "1051                                       undercover cop\n",
       "1052                                             underdog\n",
       "1053                                           underrated\n",
       "1054                                          understated\n",
       "1055                                           underwater\n",
       "1056                                              unfunny\n",
       "1057                                unintentionally funny\n",
       "1058                                               unique\n",
       "1059                                       united nations\n",
       "1060                                unlikeable characters\n",
       "1061                                 unlikely friendships\n",
       "1062                                          unrealistic\n",
       "1063                               unusual plot structure\n",
       "1064                                           us history\n",
       "1065                                               utopia\n",
       "1066                                              vampire\n",
       "1067                                   vampire human love\n",
       "1068                                             vampires\n",
       "1069                                            vengeance\n",
       "1070                                           very funny\n",
       "1071                                            very good\n",
       "1072                                     very interesting\n",
       "1073                                           video game\n",
       "1074                                video game adaptation\n",
       "1075                                          video games\n",
       "1076                                            videogame\n",
       "1077                                               vienna\n",
       "1078                                              vietnam\n",
       "1079                                          vietnam war\n",
       "1080                                           view askew\n",
       "1081                                            vigilante\n",
       "1082                                          vigilantism\n",
       "1083                                             violence\n",
       "1084                                              violent\n",
       "1085                                            virginity\n",
       "1086                                      virtual reality\n",
       "1087                                                virus\n",
       "1088                                             visceral\n",
       "1089                                               visual\n",
       "1090                                   visually appealing\n",
       "1091                                    visually stunning\n",
       "1092                                              visuals\n",
       "1093                                               voodoo\n",
       "1094                                            voyeurism\n",
       "1095                                                  war\n",
       "1096                                            war movie\n",
       "1097                                              wartime\n",
       "1098                                        waste of time\n",
       "1099                                    watch the credits\n",
       "1100                                              weapons\n",
       "1101                                              wedding\n",
       "1102                                                 weed\n",
       "1103                                                weird\n",
       "1104                                             werewolf\n",
       "1105                                           werewolves\n",
       "1106                                              western\n",
       "1107                                            whimsical\n",
       "1108                                           wilderness\n",
       "1109                                                 wine\n",
       "1110                                              wistful\n",
       "1111                                                witch\n",
       "1112                                              witches\n",
       "1113                                                witty\n",
       "1114                                              wizards\n",
       "1115                                                women\n",
       "1116                                        working class\n",
       "1117                                            workplace\n",
       "1118                                       world politics\n",
       "1119                                          world war i\n",
       "1120                                         world war ii\n",
       "1121                                        writer's life\n",
       "1122                                              writers\n",
       "1123                                              writing\n",
       "1124                                                wuxia\n",
       "1125                                                 wwii\n",
       "1126                                               zombie\n",
       "1127                                              zombies\n",
       "Name: tag, dtype: object"
      ]
     },
     "execution_count": 47,
     "metadata": {},
     "output_type": "execute_result"
    }
   ],
   "source": [
    "mv_gen_tags['tag'].tail(600)"
   ]
  },
  {
   "cell_type": "code",
   "execution_count": 48,
   "metadata": {
    "id": "uVX_k3gYcCoP"
   },
   "outputs": [],
   "source": [
    "#1128 different tags available in genome_scores.csv, with ids from 1 up to 1128\n",
    "# no capital letters in the tags in movielens\n",
    "# tags in movielens include various categories, spaning time period of the movie (century, decade), places (las vegas, italy, hawai), appreciation (great, great acting, good sequel, funny, hard to watch, too long, too short), creators (francis ford copolla, hollywood, studio ghibli)\n",
    "# film genre (murder, musical, mystery, slapstick) etc. situations dealt with in the film (mother daughter relationship, mother-son relationship, parenthood, religion) elements (penguins, poker) social analysis (racism, propaganda, slavery)\n",
    "# atmosphere (nostalgic, nocturnal), prizes (oscar, oscar (best supporting actress), saturn award (best special effects))\n",
    "# situations (survival, switching places, terminal illness, teleportation)\n",
    "# gender related (gay, homophobia) employment (lawyer, lawyers)\n",
    "# tips for spectators (watch the credits)\n",
    "# redundancy included in the tags (german, germany; gangster, gangsters; monster, monsters, stop motion, stop-motion )\n",
    "# (super hero, super-hero, superhero, superheroes)\n",
    "# 007, 007 (series), james bond\n",
    "# other redundancies as well ++\n",
    "\n"
   ]
  },
  {
   "cell_type": "markdown",
   "metadata": {
    "id": "qk_ESSfuc6sI"
   },
   "source": []
  },
  {
   "cell_type": "code",
   "execution_count": 49,
   "metadata": {
    "id": "joXibMvUcquu"
   },
   "outputs": [],
   "source": [
    "# BEST To REgroup these terms that are COmpletely REDUNTANT ?? (regroup to same tag? other tagID to introduce?)\n",
    "# should also consider tags /genres catagorisation in imdb before any such actions\n"
   ]
  },
  {
   "cell_type": "code",
   "execution_count": 50,
   "metadata": {
    "id": "OjDkZmsccra6"
   },
   "outputs": [],
   "source": [
    "#TAGS and RELEVANCE"
   ]
  },
  {
   "cell_type": "code",
   "execution_count": 51,
   "metadata": {
    "id": "-WEMDZy1dZZc"
   },
   "outputs": [],
   "source": [
    "mv_gen_scores = pd.read_csv('genome-scores.csv')"
   ]
  },
  {
   "cell_type": "markdown",
   "metadata": {},
   "source": []
  },
  {
   "cell_type": "code",
   "execution_count": null,
   "metadata": {
    "id": "Q7n3EWgqdeTq"
   },
   "outputs": [],
   "source": [
    "mv_gen_scores.info()"
   ]
  },
  {
   "cell_type": "code",
   "execution_count": 52,
   "metadata": {
    "id": "pEyzdCD2dhJ-"
   },
   "outputs": [],
   "source": [
    "#explore distribution of relevance of tags in genome-scores.csv (mv_gen_scores dataframe)"
   ]
  },
  {
   "cell_type": "code",
   "execution_count": 53,
   "metadata": {
    "id": "6kCYM0oQdk9D"
   },
   "outputs": [
    {
     "data": {
      "image/png": "[encoded data removed]",
      "text/plain": [
       "<Figure size 500x500 with 1 Axes>"
      ]
     },
     "metadata": {},
     "output_type": "display_data"
    }
   ],
   "source": [
    "sns.displot(mv_gen_scores.relevance, kind='hist', kde=True)\n",
    "plt. show()"
   ]
  },
  {
   "cell_type": "code",
   "execution_count": 54,
   "metadata": {
    "id": "pjdFHM6ydm2f"
   },
   "outputs": [],
   "source": [
    "# Relevance notes are provided per tag and per movie (dense matrix in genome-scores.csv (mv_gen_scores dataframe)), lower value is 0 highest is 1.\n",
    "# as explained in pdf article, tags are introduced by users, and relevance (float number from 0.0 to 1.0) is machine learning calculated\n",
    "# genome_scores.csv is a dense matrix where for each movie in this file there is a relevance value for each tag in the genome. Each line provides movieId, tagId and relevance note for this tagId for that movieId (there are multiple rows for each movie, so that all tags are associated for each movie)\n",
    "# we observe in previous graph that most relevance notes are closer to 0 than to 1. This shows that most tags are not so relevant to any particular movie, as expected from the creation of dense matrix.\n",
    "# there are  11709768 lines (rows) for genome_scores.csv\n"
   ]
  },
  {
   "cell_type": "code",
   "execution_count": 55,
   "metadata": {
    "id": "LoRMfebldwTM"
   },
   "outputs": [],
   "source": [
    "# HOW TO STUDY/EXPLORE RELATION BETWEEN TAG and GENRE?"
   ]
  },
  {
   "cell_type": "markdown",
   "metadata": {
    "id": "B6Ou16VoEjiV"
   },
   "source": [
    "## Ratings"
   ]
  },
  {
   "cell_type": "code",
   "execution_count": 56,
   "metadata": {
    "id": "JNiByLopGdmL"
   },
   "outputs": [],
   "source": [
    "df_ml = read_file(\"./data/ratings.csv\")"
   ]
  },
  {
   "cell_type": "code",
   "execution_count": 57,
   "metadata": {},
   "outputs": [],
   "source": [
    "# JAN 2025 EA\n",
    "# checking relation between genres and notes/ratings from users\n",
    "# In MOvielens, information on ratings is provided in database/file ratings.csv, available in our notebook as df_ml \n",
    "# In MOvielens, information on genres is provided in database/file movies.csv, available in our notebook as mv_movies"
   ]
  },
  {
   "cell_type": "code",
   "execution_count": 58,
   "metadata": {},
   "outputs": [],
   "source": [
    "# should merge info between ratings.csv (userId,movieId,rating,timestamp) and movies.csv (movieId,title,genres)"
   ]
  },
  {
   "cell_type": "code",
   "execution_count": 59,
   "metadata": {},
   "outputs": [
    {
     "name": "stdout",
     "output_type": "stream",
     "text": [
      "<class 'pandas.core.frame.DataFrame'>\n",
      "RangeIndex: 20000263 entries, 0 to 20000262\n",
      "Data columns (total 4 columns):\n",
      " #   Column     Dtype  \n",
      "---  ------     -----  \n",
      " 0   userId     int64  \n",
      " 1   movieId    int64  \n",
      " 2   rating     float64\n",
      " 3   timestamp  int64  \n",
      "dtypes: float64(1), int64(3)\n",
      "memory usage: 610.4 MB\n"
     ]
    }
   ],
   "source": [
    "df_ml.info()"
   ]
  },
  {
   "cell_type": "code",
   "execution_count": 60,
   "metadata": {},
   "outputs": [
    {
     "name": "stdout",
     "output_type": "stream",
     "text": [
      "<class 'pandas.core.frame.DataFrame'>\n",
      "RangeIndex: 27278 entries, 0 to 27277\n",
      "Data columns (total 3 columns):\n",
      " #   Column   Non-Null Count  Dtype \n",
      "---  ------   --------------  ----- \n",
      " 0   movieId  27278 non-null  int64 \n",
      " 1   title    27278 non-null  object\n",
      " 2   genres   27278 non-null  object\n",
      "dtypes: int64(1), object(2)\n",
      "memory usage: 639.5+ KB\n"
     ]
    }
   ],
   "source": [
    "mv_movies.info()"
   ]
  },
  {
   "cell_type": "code",
   "execution_count": 61,
   "metadata": {},
   "outputs": [],
   "source": [
    "df_mvl_genre_ratings = pd.merge(df_ml, mv_movies, left_on='movieId', right_on='movieId')"
   ]
  },
  {
   "cell_type": "code",
   "execution_count": 62,
   "metadata": {},
   "outputs": [
    {
     "data": {
      "application/vnd.microsoft.datawrangler.viewer.v0+json": {
       "columns": [
        {
         "name": "index",
         "rawType": "int64",
         "type": "integer"
        },
        {
         "name": "userId",
         "rawType": "int64",
         "type": "integer"
        },
        {
         "name": "movieId",
         "rawType": "int64",
         "type": "integer"
        },
        {
         "name": "rating",
         "rawType": "float64",
         "type": "float"
        },
        {
         "name": "timestamp",
         "rawType": "int64",
         "type": "integer"
        },
        {
         "name": "title",
         "rawType": "object",
         "type": "string"
        },
        {
         "name": "genres",
         "rawType": "object",
         "type": "string"
        }
       ],
       "ref": "c02f9119-b679-4199-b130-a2e1d6da912e",
       "rows": [
        [
         "0",
         "1",
         "2",
         "3.5",
         "1112486027",
         "Jumanji (1995)",
         "Adventure|Children|Fantasy"
        ],
        [
         "1",
         "1",
         "29",
         "3.5",
         "1112484676",
         "City of Lost Children, The (Cité des enfants perdus, La) (1995)",
         "Adventure|Drama|Fantasy|Mystery|Sci-Fi"
        ],
        [
         "2",
         "1",
         "32",
         "3.5",
         "1112484819",
         "Twelve Monkeys (a.k.a. 12 Monkeys) (1995)",
         "Mystery|Sci-Fi|Thriller"
        ],
        [
         "3",
         "1",
         "47",
         "3.5",
         "1112484727",
         "Seven (a.k.a. Se7en) (1995)",
         "Mystery|Thriller"
        ],
        [
         "4",
         "1",
         "50",
         "3.5",
         "1112484580",
         "Usual Suspects, The (1995)",
         "Crime|Mystery|Thriller"
        ]
       ],
       "shape": {
        "columns": 6,
        "rows": 5
       }
      },
      "text/html": [
       "<div>\n",
       "<style scoped>\n",
       "    .dataframe tbody tr th:only-of-type {\n",
       "        vertical-align: middle;\n",
       "    }\n",
       "\n",
       "    .dataframe tbody tr th {\n",
       "        vertical-align: top;\n",
       "    }\n",
       "\n",
       "    .dataframe thead th {\n",
       "        text-align: right;\n",
       "    }\n",
       "</style>\n",
       "<table border=\"1\" class=\"dataframe\">\n",
       "  <thead>\n",
       "    <tr style=\"text-align: right;\">\n",
       "      <th></th>\n",
       "      <th>userId</th>\n",
       "      <th>movieId</th>\n",
       "      <th>rating</th>\n",
       "      <th>timestamp</th>\n",
       "      <th>title</th>\n",
       "      <th>genres</th>\n",
       "    </tr>\n",
       "  </thead>\n",
       "  <tbody>\n",
       "    <tr>\n",
       "      <th>0</th>\n",
       "      <td>1</td>\n",
       "      <td>2</td>\n",
       "      <td>3.5</td>\n",
       "      <td>1112486027</td>\n",
       "      <td>Jumanji (1995)</td>\n",
       "      <td>Adventure|Children|Fantasy</td>\n",
       "    </tr>\n",
       "    <tr>\n",
       "      <th>1</th>\n",
       "      <td>1</td>\n",
       "      <td>29</td>\n",
       "      <td>3.5</td>\n",
       "      <td>1112484676</td>\n",
       "      <td>City of Lost Children, The (Cité des enfants p...</td>\n",
       "      <td>Adventure|Drama|Fantasy|Mystery|Sci-Fi</td>\n",
       "    </tr>\n",
       "    <tr>\n",
       "      <th>2</th>\n",
       "      <td>1</td>\n",
       "      <td>32</td>\n",
       "      <td>3.5</td>\n",
       "      <td>1112484819</td>\n",
       "      <td>Twelve Monkeys (a.k.a. 12 Monkeys) (1995)</td>\n",
       "      <td>Mystery|Sci-Fi|Thriller</td>\n",
       "    </tr>\n",
       "    <tr>\n",
       "      <th>3</th>\n",
       "      <td>1</td>\n",
       "      <td>47</td>\n",
       "      <td>3.5</td>\n",
       "      <td>1112484727</td>\n",
       "      <td>Seven (a.k.a. Se7en) (1995)</td>\n",
       "      <td>Mystery|Thriller</td>\n",
       "    </tr>\n",
       "    <tr>\n",
       "      <th>4</th>\n",
       "      <td>1</td>\n",
       "      <td>50</td>\n",
       "      <td>3.5</td>\n",
       "      <td>1112484580</td>\n",
       "      <td>Usual Suspects, The (1995)</td>\n",
       "      <td>Crime|Mystery|Thriller</td>\n",
       "    </tr>\n",
       "  </tbody>\n",
       "</table>\n",
       "</div>"
      ],
      "text/plain": [
       "   userId  movieId  rating   timestamp  \\\n",
       "0       1        2     3.5  1112486027   \n",
       "1       1       29     3.5  1112484676   \n",
       "2       1       32     3.5  1112484819   \n",
       "3       1       47     3.5  1112484727   \n",
       "4       1       50     3.5  1112484580   \n",
       "\n",
       "                                               title  \\\n",
       "0                                     Jumanji (1995)   \n",
       "1  City of Lost Children, The (Cité des enfants p...   \n",
       "2          Twelve Monkeys (a.k.a. 12 Monkeys) (1995)   \n",
       "3                        Seven (a.k.a. Se7en) (1995)   \n",
       "4                         Usual Suspects, The (1995)   \n",
       "\n",
       "                                   genres  \n",
       "0              Adventure|Children|Fantasy  \n",
       "1  Adventure|Drama|Fantasy|Mystery|Sci-Fi  \n",
       "2                 Mystery|Sci-Fi|Thriller  \n",
       "3                        Mystery|Thriller  \n",
       "4                  Crime|Mystery|Thriller  "
      ]
     },
     "execution_count": 62,
     "metadata": {},
     "output_type": "execute_result"
    }
   ],
   "source": [
    "df_mvl_genre_ratings.head()\n"
   ]
  },
  {
   "cell_type": "code",
   "execution_count": 63,
   "metadata": {},
   "outputs": [
    {
     "name": "stdout",
     "output_type": "stream",
     "text": [
      "<class 'pandas.core.frame.DataFrame'>\n",
      "RangeIndex: 20000263 entries, 0 to 20000262\n",
      "Data columns (total 6 columns):\n",
      " #   Column     Dtype  \n",
      "---  ------     -----  \n",
      " 0   userId     int64  \n",
      " 1   movieId    int64  \n",
      " 2   rating     float64\n",
      " 3   timestamp  int64  \n",
      " 4   title      object \n",
      " 5   genres     object \n",
      "dtypes: float64(1), int64(3), object(2)\n",
      "memory usage: 915.5+ MB\n"
     ]
    }
   ],
   "source": [
    "df_mvl_genre_ratings.info()"
   ]
  },
  {
   "cell_type": "code",
   "execution_count": 64,
   "metadata": {},
   "outputs": [],
   "source": [
    "# Explode column genres so as to have one genre entry per row for further statistics\n",
    "df_exploded_genre_ratings_mvl = df_mvl_genre_ratings.assign(genres=df_mvl_genre_ratings['genres'].str.split('|')).explode('genres')"
   ]
  },
  {
   "cell_type": "markdown",
   "metadata": {},
   "source": []
  },
  {
   "cell_type": "code",
   "execution_count": 65,
   "metadata": {},
   "outputs": [
    {
     "data": {
      "application/vnd.microsoft.datawrangler.viewer.v0+json": {
       "columns": [
        {
         "name": "index",
         "rawType": "int64",
         "type": "integer"
        },
        {
         "name": "userId",
         "rawType": "int64",
         "type": "integer"
        },
        {
         "name": "movieId",
         "rawType": "int64",
         "type": "integer"
        },
        {
         "name": "rating",
         "rawType": "float64",
         "type": "float"
        },
        {
         "name": "timestamp",
         "rawType": "int64",
         "type": "integer"
        },
        {
         "name": "title",
         "rawType": "object",
         "type": "string"
        },
        {
         "name": "genres",
         "rawType": "object",
         "type": "string"
        }
       ],
       "ref": "4c4fc9c9-aed7-49a1-9069-e6f1b3f682f1",
       "rows": [
        [
         "0",
         "1",
         "2",
         "3.5",
         "1112486027",
         "Jumanji (1995)",
         "Adventure"
        ],
        [
         "0",
         "1",
         "2",
         "3.5",
         "1112486027",
         "Jumanji (1995)",
         "Children"
        ],
        [
         "0",
         "1",
         "2",
         "3.5",
         "1112486027",
         "Jumanji (1995)",
         "Fantasy"
        ],
        [
         "1",
         "1",
         "29",
         "3.5",
         "1112484676",
         "City of Lost Children, The (Cité des enfants perdus, La) (1995)",
         "Adventure"
        ],
        [
         "1",
         "1",
         "29",
         "3.5",
         "1112484676",
         "City of Lost Children, The (Cité des enfants perdus, La) (1995)",
         "Drama"
        ],
        [
         "1",
         "1",
         "29",
         "3.5",
         "1112484676",
         "City of Lost Children, The (Cité des enfants perdus, La) (1995)",
         "Fantasy"
        ],
        [
         "1",
         "1",
         "29",
         "3.5",
         "1112484676",
         "City of Lost Children, The (Cité des enfants perdus, La) (1995)",
         "Mystery"
        ],
        [
         "1",
         "1",
         "29",
         "3.5",
         "1112484676",
         "City of Lost Children, The (Cité des enfants perdus, La) (1995)",
         "Sci-Fi"
        ],
        [
         "2",
         "1",
         "32",
         "3.5",
         "1112484819",
         "Twelve Monkeys (a.k.a. 12 Monkeys) (1995)",
         "Mystery"
        ],
        [
         "2",
         "1",
         "32",
         "3.5",
         "1112484819",
         "Twelve Monkeys (a.k.a. 12 Monkeys) (1995)",
         "Sci-Fi"
        ]
       ],
       "shape": {
        "columns": 6,
        "rows": 10
       }
      },
      "text/html": [
       "<div>\n",
       "<style scoped>\n",
       "    .dataframe tbody tr th:only-of-type {\n",
       "        vertical-align: middle;\n",
       "    }\n",
       "\n",
       "    .dataframe tbody tr th {\n",
       "        vertical-align: top;\n",
       "    }\n",
       "\n",
       "    .dataframe thead th {\n",
       "        text-align: right;\n",
       "    }\n",
       "</style>\n",
       "<table border=\"1\" class=\"dataframe\">\n",
       "  <thead>\n",
       "    <tr style=\"text-align: right;\">\n",
       "      <th></th>\n",
       "      <th>userId</th>\n",
       "      <th>movieId</th>\n",
       "      <th>rating</th>\n",
       "      <th>timestamp</th>\n",
       "      <th>title</th>\n",
       "      <th>genres</th>\n",
       "    </tr>\n",
       "  </thead>\n",
       "  <tbody>\n",
       "    <tr>\n",
       "      <th>0</th>\n",
       "      <td>1</td>\n",
       "      <td>2</td>\n",
       "      <td>3.5</td>\n",
       "      <td>1112486027</td>\n",
       "      <td>Jumanji (1995)</td>\n",
       "      <td>Adventure</td>\n",
       "    </tr>\n",
       "    <tr>\n",
       "      <th>0</th>\n",
       "      <td>1</td>\n",
       "      <td>2</td>\n",
       "      <td>3.5</td>\n",
       "      <td>1112486027</td>\n",
       "      <td>Jumanji (1995)</td>\n",
       "      <td>Children</td>\n",
       "    </tr>\n",
       "    <tr>\n",
       "      <th>0</th>\n",
       "      <td>1</td>\n",
       "      <td>2</td>\n",
       "      <td>3.5</td>\n",
       "      <td>1112486027</td>\n",
       "      <td>Jumanji (1995)</td>\n",
       "      <td>Fantasy</td>\n",
       "    </tr>\n",
       "    <tr>\n",
       "      <th>1</th>\n",
       "      <td>1</td>\n",
       "      <td>29</td>\n",
       "      <td>3.5</td>\n",
       "      <td>1112484676</td>\n",
       "      <td>City of Lost Children, The (Cité des enfants p...</td>\n",
       "      <td>Adventure</td>\n",
       "    </tr>\n",
       "    <tr>\n",
       "      <th>1</th>\n",
       "      <td>1</td>\n",
       "      <td>29</td>\n",
       "      <td>3.5</td>\n",
       "      <td>1112484676</td>\n",
       "      <td>City of Lost Children, The (Cité des enfants p...</td>\n",
       "      <td>Drama</td>\n",
       "    </tr>\n",
       "    <tr>\n",
       "      <th>1</th>\n",
       "      <td>1</td>\n",
       "      <td>29</td>\n",
       "      <td>3.5</td>\n",
       "      <td>1112484676</td>\n",
       "      <td>City of Lost Children, The (Cité des enfants p...</td>\n",
       "      <td>Fantasy</td>\n",
       "    </tr>\n",
       "    <tr>\n",
       "      <th>1</th>\n",
       "      <td>1</td>\n",
       "      <td>29</td>\n",
       "      <td>3.5</td>\n",
       "      <td>1112484676</td>\n",
       "      <td>City of Lost Children, The (Cité des enfants p...</td>\n",
       "      <td>Mystery</td>\n",
       "    </tr>\n",
       "    <tr>\n",
       "      <th>1</th>\n",
       "      <td>1</td>\n",
       "      <td>29</td>\n",
       "      <td>3.5</td>\n",
       "      <td>1112484676</td>\n",
       "      <td>City of Lost Children, The (Cité des enfants p...</td>\n",
       "      <td>Sci-Fi</td>\n",
       "    </tr>\n",
       "    <tr>\n",
       "      <th>2</th>\n",
       "      <td>1</td>\n",
       "      <td>32</td>\n",
       "      <td>3.5</td>\n",
       "      <td>1112484819</td>\n",
       "      <td>Twelve Monkeys (a.k.a. 12 Monkeys) (1995)</td>\n",
       "      <td>Mystery</td>\n",
       "    </tr>\n",
       "    <tr>\n",
       "      <th>2</th>\n",
       "      <td>1</td>\n",
       "      <td>32</td>\n",
       "      <td>3.5</td>\n",
       "      <td>1112484819</td>\n",
       "      <td>Twelve Monkeys (a.k.a. 12 Monkeys) (1995)</td>\n",
       "      <td>Sci-Fi</td>\n",
       "    </tr>\n",
       "  </tbody>\n",
       "</table>\n",
       "</div>"
      ],
      "text/plain": [
       "   userId  movieId  rating   timestamp  \\\n",
       "0       1        2     3.5  1112486027   \n",
       "0       1        2     3.5  1112486027   \n",
       "0       1        2     3.5  1112486027   \n",
       "1       1       29     3.5  1112484676   \n",
       "1       1       29     3.5  1112484676   \n",
       "1       1       29     3.5  1112484676   \n",
       "1       1       29     3.5  1112484676   \n",
       "1       1       29     3.5  1112484676   \n",
       "2       1       32     3.5  1112484819   \n",
       "2       1       32     3.5  1112484819   \n",
       "\n",
       "                                               title     genres  \n",
       "0                                     Jumanji (1995)  Adventure  \n",
       "0                                     Jumanji (1995)   Children  \n",
       "0                                     Jumanji (1995)    Fantasy  \n",
       "1  City of Lost Children, The (Cité des enfants p...  Adventure  \n",
       "1  City of Lost Children, The (Cité des enfants p...      Drama  \n",
       "1  City of Lost Children, The (Cité des enfants p...    Fantasy  \n",
       "1  City of Lost Children, The (Cité des enfants p...    Mystery  \n",
       "1  City of Lost Children, The (Cité des enfants p...     Sci-Fi  \n",
       "2          Twelve Monkeys (a.k.a. 12 Monkeys) (1995)    Mystery  \n",
       "2          Twelve Monkeys (a.k.a. 12 Monkeys) (1995)     Sci-Fi  "
      ]
     },
     "execution_count": 65,
     "metadata": {},
     "output_type": "execute_result"
    }
   ],
   "source": [
    "df_exploded_genre_ratings_mvl.head(10)"
   ]
  },
  {
   "cell_type": "code",
   "execution_count": 9,
   "metadata": {},
   "outputs": [],
   "source": [
    "result_Genre_Ratings_mvl = df_exploded_genre_ratings_mvl.groupby('genres')['rating']"
   ]
  },
  {
   "cell_type": "code",
   "execution_count": 45,
   "metadata": {},
   "outputs": [
    {
     "data": {
      "image/png": "[encoded data removed]",
      "text/plain": [
       "<Figure size 1000x500 with 1 Axes>"
      ]
     },
     "metadata": {},
     "output_type": "display_data"
    }
   ],
   "source": [
    "plt.figure(figsize=(10, 5))\n",
    "for name in result_Genre_Ratings_mvl.groups.keys():  # Iterate through group names\n",
    "    sns.histplot(result_Genre_Ratings_mvl.get_group(name), label=name, kde=True)\n",
    "plt.xlabel('User Notes (colC)')\n",
    "plt.ylabel('Frequency')\n",
    "plt.title('Distribution of User Notes per Category (Histogram)')\n",
    "plt.legend()\n",
    "plt.show()"
   ]
  },
  {
   "cell_type": "code",
   "execution_count": 11,
   "metadata": {},
   "outputs": [
    {
     "data": {
      "image/png": "[encoded data removed]",
      "text/plain": [
       "<Figure size 1000x500 with 1 Axes>"
      ]
     },
     "metadata": {},
     "output_type": "display_data"
    }
   ],
   "source": [
    "# Box Plots\n",
    "plt.figure(figsize=(10, 5))\n",
    "sns.boxplot(x='genres', y='rating', data=df_exploded_genre_ratings_mvl)\n",
    "plt.xlabel('Category (genres)')\n",
    "plt.xticks(rotation=45, ha='right') # Rotate labels 45 degrees\n",
    "plt.ylabel('User Notes (rating)')\n",
    "plt.title('Distribution of User Notes per Category Genre (Box Plot)')\n",
    "plt.show()"
   ]
  },
  {
   "cell_type": "code",
   "execution_count": null,
   "metadata": {},
   "outputs": [],
   "source": []
  },
  {
   "cell_type": "code",
   "execution_count": null,
   "metadata": {
    "id": "okdnUhwxIGdI"
   },
   "outputs": [],
   "source": []
  }
 ],
 "metadata": {
  "colab": {
   "provenance": []
  },
  "kernelspec": {
   "display_name": "Python 3",
   "name": "python3"
  },
  "language_info": {
   "codemirror_mode": {
    "name": "ipython",
    "version": 3
   },
   "file_extension": ".py",
   "mimetype": "text/x-python",
   "name": "python",
   "nbconvert_exporter": "python",
   "pygments_lexer": "ipython3",
   "version": "3.12.1"
  }
 },
 "nbformat": 4,
 "nbformat_minor": 0
}
